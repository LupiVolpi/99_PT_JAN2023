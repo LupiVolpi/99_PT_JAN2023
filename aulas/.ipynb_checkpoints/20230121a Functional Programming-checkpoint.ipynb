{
 "cells": [
  {
   "cell_type": "markdown",
   "metadata": {},
   "source": [
    "# Aula V - Funções no Python"
   ]
  },
  {
   "cell_type": "markdown",
   "metadata": {},
   "source": [
    "## Porque usar Funções?\n",
    "\n",
    "- Funções nos ajudam a:\n",
    "    - <u>re-utilizar código: </u>\n",
    "        - **Rule of three**: https://en.wikipedia.org/wiki/Rule_of_three_(computer_programming)\n",
    "        - **DRY principle**: https://en.wikipedia.org/wiki/Don%27t_repeat_yourself\n",
    "    - <u> documentar etapas</u>\n",
    "        - **docstrings**: https://www.python.org/dev/peps/pep-0257/\n",
    "    - <u> organizar nossas idéias</u>\n",
    "\n",
    "## Function Syntax: \n",
    "\n",
    "Example function: \n",
    "\n",
    "```python\n",
    "def function_name(x,y,z):\n",
    "    \"\"\"Documentation comes here\"\"\"\n",
    "    k = x + y + z\n",
    "    \n",
    "    return k\n",
    "```\n",
    "\n",
    "### Passo à passo\n",
    "Utilizamos a palavra-chave `def` seguida do `function_name` para iniciar a declaração de uma função.\n",
    "```python\n",
    "def function_name\n",
    "```\n",
    "---\n",
    "Seguimos com parênteses `():` onde especificamos, opcinalmente, os argumentos a serem passados para a função.\n",
    "```python\n",
    "def function_name(x,y,z)\n",
    "```\n",
    "Uma função não precisa ter argumentos! Neste caso utilizamos os parênteses vazios: `def function_name()`.\n",
    "\n",
    "---\n",
    "Seguimos na próxima linha com o **corpo da função**, um bloco identado de código que define o que a função faz.\n",
    "```python\n",
    "def function_name(x,y,z):\n",
    "    k = x + y + z\n",
    "    \n",
    "```\n",
    "---\n",
    "Sempre que construímos uma função é importante documentar o seu funcionamento através de um `docstring`\n",
    "```python\n",
    "def function_name(x,y,z):\n",
    "    \"\"\"Documentation comes here\"\"\"\n",
    "    k = x + y + z\n",
    "    \n",
    "```\n",
    "---\n",
    "\n",
    "Por fim, caso nossa função deva retornar algo, utilizamos a palavra chave `return` seguida da variável ou valor que a função deve retornar.\n",
    "```python\n",
    "def function_name(x,y,z):\n",
    "    \"\"\"Documentation comes here\"\"\"\n",
    "    k = x + y + z\n",
    "    \n",
    "    return k\n",
    "    \n",
    "```"
   ]
  },
  {
   "cell_type": "code",
   "execution_count": 2,
   "metadata": {
    "ExecuteTime": {
     "end_time": "2020-07-22T00:23:47.224974Z",
     "start_time": "2020-07-22T00:23:47.222006Z"
    }
   },
   "outputs": [],
   "source": [
    "def grite():\n",
    "    \"\"\"Essa função grita!!\"\"\"\n",
    "    print('GRITO!!')"
   ]
  },
  {
   "cell_type": "code",
   "execution_count": 4,
   "metadata": {},
   "outputs": [
    {
     "name": "stdout",
     "output_type": "stream",
     "text": [
      "GRITO!!\n"
     ]
    }
   ],
   "source": [
    "grite()"
   ]
  },
  {
   "cell_type": "code",
   "execution_count": 5,
   "metadata": {
    "ExecuteTime": {
     "end_time": "2020-07-22T00:23:13.408173Z",
     "start_time": "2020-07-22T00:23:13.405172Z"
    }
   },
   "outputs": [
    {
     "name": "stdout",
     "output_type": "stream",
     "text": [
      "GRITO!!\n",
      "GRITO!!\n",
      "GRITO!!\n",
      "GRITO!!\n"
     ]
    }
   ],
   "source": [
    "grite()\n",
    "grite()\n",
    "grite()\n",
    "grite()"
   ]
  },
  {
   "cell_type": "markdown",
   "metadata": {},
   "source": [
    "# Funções no Python"
   ]
  },
  {
   "cell_type": "markdown",
   "metadata": {
    "ExecuteTime": {
     "end_time": "2020-07-21T21:28:50.118075Z",
     "start_time": "2020-07-21T21:28:50.115102Z"
    }
   },
   "source": [
    "Imagine que temos um jogo com algumas regras inventadas. Existem essas duas opções, se a pessoa ganhar, aparece `'Legal! Muito bom'` na tela, mas se ela perder aparecerá `'Ih, você perdeu'`."
   ]
  },
  {
   "cell_type": "code",
   "execution_count": 7,
   "metadata": {
    "ExecuteTime": {
     "end_time": "2020-07-22T00:37:35.573429Z",
     "start_time": "2020-07-22T00:37:34.687274Z"
    }
   },
   "outputs": [
    {
     "name": "stdout",
     "output_type": "stream",
     "text": [
      "Escolha um número:4\n",
      "Ih, você perdeu\n"
     ]
    }
   ],
   "source": [
    "# jogo completamente aleatório:\n",
    "\n",
    "x = int(input('Escolha um número:'))\n",
    "\n",
    "if x < 3:\n",
    "    print('Legal! Muito bom')\n",
    "elif x < 5:\n",
    "    print('Que pena! Você perdeu')\n",
    "elif x < 7:\n",
    "    print('Legal! Muito bom')\n",
    "elif x < 9:\n",
    "    print('Ih, você perdeu')\n",
    "elif x < 15:\n",
    "    print('Legal! Muito bom')\n",
    "elif x < 25:\n",
    "    print('Ih, você perdeu')\n",
    "elif x < 37:\n",
    "    print('Legal! Muito bom')"
   ]
  },
  {
   "cell_type": "markdown",
   "metadata": {},
   "source": [
    "E se quisessemos, por exemplo, mudar o código para mostrar outro string no momento em que ela perde?"
   ]
  },
  {
   "cell_type": "code",
   "execution_count": 8,
   "metadata": {
    "ExecuteTime": {
     "end_time": "2020-07-21T21:31:38.971726Z",
     "start_time": "2020-07-21T21:31:38.134079Z"
    }
   },
   "outputs": [
    {
     "name": "stdout",
     "output_type": "stream",
     "text": [
      "Escolha um número:3\n",
      "Que pena! Você perdeu\n"
     ]
    }
   ],
   "source": [
    "# jogo completamente aleatório:\n",
    "\n",
    "x = int(input('Escolha um número:'))\n",
    "\n",
    "if x < 3:\n",
    "    print('Legal! Muito bom')\n",
    "elif x < 5:\n",
    "    print('Que pena! Você perdeu')\n",
    "elif x < 7:\n",
    "    print('Legal! Muito bom')\n",
    "elif x < 9:\n",
    "    print('Que pena! Você perdeu')\n",
    "elif x < 15:\n",
    "    print('Legal! Muito bom')\n",
    "elif x < 25:\n",
    "    print('Que pena! Você perdeu')\n",
    "elif x < 37:\n",
    "    print('Legal! Muito bom')"
   ]
  },
  {
   "cell_type": "markdown",
   "metadata": {},
   "source": [
    "Se este código tivesse sido escrito em funções, veja qual o processo para modificar o código:"
   ]
  },
  {
   "cell_type": "code",
   "execution_count": 10,
   "metadata": {
    "ExecuteTime": {
     "end_time": "2020-07-22T00:38:17.375025Z",
     "start_time": "2020-07-22T00:38:17.371028Z"
    }
   },
   "outputs": [
    {
     "name": "stdout",
     "output_type": "stream",
     "text": [
      "Escolha um número:5\n",
      "Legal! Muito bom, você ganhou!\n"
     ]
    }
   ],
   "source": [
    "def say_congrats():\n",
    "    '''\n",
    "    This function says you won the game.\n",
    "    '''\n",
    "    \n",
    "    print('Legal! Muito bom, você ganhou!')\n",
    "    \n",
    "def say_condolence():\n",
    "    '''\n",
    "    This function says you lost the game and prints your number choice.\n",
    "    '''\n",
    "    print('Que pena! Você perdeu')\n",
    "    \n",
    "# jogo completamente aleatório:\n",
    "\n",
    "x = int(input('Escolha um número:'))\n",
    "ganhei = 'Legal! Muito bom, você ganhou!'\n",
    "perdeu = 'QUe pena! Você Perdeu!\n",
    "if x < 3:\n",
    "    say_congrats()\n",
    "elif x < 5:\n",
    "    say_condolence()\n",
    "elif x < 7:\n",
    "    say_congrats()\n",
    "elif x < 9:\n",
    "    say_condolence()\n",
    "elif x < 15:\n",
    "    say_congrats()\n",
    "elif x < 25:\n",
    "    say_condolence()\n",
    "elif x < 37:\n",
    "    say_congrats()"
   ]
  },
  {
   "cell_type": "code",
   "execution_count": 11,
   "metadata": {},
   "outputs": [
    {
     "name": "stdout",
     "output_type": "stream",
     "text": [
      "Escolha um número:2\n",
      "Legal! Muito bom, você ganhou!\n"
     ]
    }
   ],
   "source": [
    "x = int(input('Escolha um número:'))\n",
    "ganhei = 'Legal! Muito bom, você ganhou!'\n",
    "perdeu = 'Que pena! Você Perdeu!'\n",
    "if x < 3:\n",
    "    print(ganhei)\n",
    "elif x < 5:\n",
    "    print(perdeu)\n",
    "elif x < 7:\n",
    "    say_congrats()\n",
    "elif x < 9:\n",
    "    say_condolence()\n",
    "elif x < 15:\n",
    "    say_congrats()\n",
    "elif x < 25:\n",
    "    say_condolence()\n",
    "elif x < 37:\n",
    "    say_congrats()"
   ]
  },
  {
   "cell_type": "code",
   "execution_count": 12,
   "metadata": {},
   "outputs": [
    {
     "data": {
      "text/plain": [
       "[0, 1, 2, 3, 4, 5, 6, 7, 8, 9]"
      ]
     },
     "execution_count": 12,
     "metadata": {},
     "output_type": "execute_result"
    }
   ],
   "source": [
    "list(range(10))"
   ]
  },
  {
   "cell_type": "code",
   "execution_count": 13,
   "metadata": {},
   "outputs": [
    {
     "name": "stdout",
     "output_type": "stream",
     "text": [
      "[0, 1, 2, 3, 4, 5, 6, 7, 8, 9]\n"
     ]
    }
   ],
   "source": [
    "x = 10\n",
    "i = 0\n",
    "lista_range = []\n",
    "while i < x:\n",
    "    lista_range.append(i)\n",
    "    i += 1\n",
    "print(lista_range)"
   ]
  },
  {
   "cell_type": "code",
   "execution_count": 14,
   "metadata": {},
   "outputs": [
    {
     "data": {
      "text/plain": [
       "3"
      ]
     },
     "execution_count": 14,
     "metadata": {},
     "output_type": "execute_result"
    }
   ],
   "source": [
    "len([1,2,3])"
   ]
  },
  {
   "cell_type": "markdown",
   "metadata": {},
   "source": [
    "## Funções são `callables` (invocáveis)"
   ]
  },
  {
   "cell_type": "code",
   "execution_count": 20,
   "metadata": {
    "ExecuteTime": {
     "end_time": "2020-07-22T00:44:34.904390Z",
     "start_time": "2020-07-22T00:44:34.901390Z"
    }
   },
   "outputs": [],
   "source": [
    "def funcao_banal():\n",
    "    print('Não sirvo pra nada')"
   ]
  },
  {
   "cell_type": "markdown",
   "metadata": {},
   "source": [
    "Para **chamar** a função, tenho que colocar `()`"
   ]
  },
  {
   "cell_type": "code",
   "execution_count": 21,
   "metadata": {
    "ExecuteTime": {
     "end_time": "2020-07-21T21:34:21.116416Z",
     "start_time": "2020-07-21T21:34:21.113417Z"
    }
   },
   "outputs": [
    {
     "data": {
      "text/plain": [
       "<function __main__.funcao_banal()>"
      ]
     },
     "execution_count": 21,
     "metadata": {},
     "output_type": "execute_result"
    }
   ],
   "source": [
    "funcao_banal"
   ]
  },
  {
   "cell_type": "code",
   "execution_count": 17,
   "metadata": {},
   "outputs": [
    {
     "name": "stdout",
     "output_type": "stream",
     "text": [
      "<function funcao_banal at 0x7fcf0108a8b0>\n"
     ]
    }
   ],
   "source": [
    "print(funcao_banal)"
   ]
  },
  {
   "cell_type": "code",
   "execution_count": 18,
   "metadata": {
    "ExecuteTime": {
     "end_time": "2020-07-21T21:34:21.116416Z",
     "start_time": "2020-07-21T21:34:21.113417Z"
    }
   },
   "outputs": [
    {
     "name": "stdout",
     "output_type": "stream",
     "text": [
      "Não sirvo pra nada\n"
     ]
    }
   ],
   "source": [
    "funcao_banal()"
   ]
  },
  {
   "cell_type": "markdown",
   "metadata": {},
   "source": [
    "Se eu tentar chamar algo que **não é uma função**, recebo o seguinte erro:"
   ]
  },
  {
   "cell_type": "code",
   "execution_count": 22,
   "metadata": {
    "ExecuteTime": {
     "end_time": "2020-07-22T00:47:38.304842Z",
     "start_time": "2020-07-22T00:47:38.301841Z"
    }
   },
   "outputs": [
    {
     "ename": "TypeError",
     "evalue": "'int' object is not callable",
     "output_type": "error",
     "traceback": [
      "\u001b[0;31m---------------------------------------------------------------------------\u001b[0m",
      "\u001b[0;31mTypeError\u001b[0m                                 Traceback (most recent call last)",
      "Input \u001b[0;32mIn [22]\u001b[0m, in \u001b[0;36m<cell line: 2>\u001b[0;34m()\u001b[0m\n\u001b[1;32m      1\u001b[0m a \u001b[38;5;241m=\u001b[39m \u001b[38;5;241m1\u001b[39m\n\u001b[0;32m----> 2\u001b[0m \u001b[43ma\u001b[49m\u001b[43m(\u001b[49m\u001b[43m)\u001b[49m\n",
      "\u001b[0;31mTypeError\u001b[0m: 'int' object is not callable"
     ]
    }
   ],
   "source": [
    "a = 1\n",
    "a()"
   ]
  },
  {
   "cell_type": "markdown",
   "metadata": {},
   "source": [
    "# Funções podem retornar valores\n",
    "Se você não especificar um '`return` statement', a função retornará `vazio` (`None`)."
   ]
  },
  {
   "cell_type": "code",
   "execution_count": 23,
   "metadata": {},
   "outputs": [
    {
     "name": "stdout",
     "output_type": "stream",
     "text": [
      "3\n"
     ]
    }
   ],
   "source": [
    "lista_exemplo = [1,2,3]\n",
    "comprimento = len(lista_exemplo)\n",
    "print(comprimento)"
   ]
  },
  {
   "cell_type": "code",
   "execution_count": 24,
   "metadata": {},
   "outputs": [
    {
     "name": "stdout",
     "output_type": "stream",
     "text": [
      "3\n"
     ]
    }
   ],
   "source": [
    "print(len(lista_exemplo))"
   ]
  },
  {
   "cell_type": "markdown",
   "metadata": {},
   "source": [
    "Vamos ver como uma função sem `return` se comporta:"
   ]
  },
  {
   "cell_type": "code",
   "execution_count": 25,
   "metadata": {},
   "outputs": [
    {
     "name": "stdout",
     "output_type": "stream",
     "text": [
      "Eu também não sirvo pra nada :(\n"
     ]
    }
   ],
   "source": [
    "def funcao_besta():\n",
    "    print('Eu também não sirvo pra nada :(')\n",
    "    \n",
    "teste = funcao_besta()"
   ]
  },
  {
   "cell_type": "code",
   "execution_count": 26,
   "metadata": {},
   "outputs": [
    {
     "name": "stdout",
     "output_type": "stream",
     "text": [
      "None\n"
     ]
    }
   ],
   "source": [
    "print(teste)"
   ]
  },
  {
   "cell_type": "markdown",
   "metadata": {},
   "source": [
    "Vamos utilizar o `return` para retornar o string que estamos imprimindo:"
   ]
  },
  {
   "cell_type": "code",
   "execution_count": 31,
   "metadata": {},
   "outputs": [],
   "source": [
    "def funcao_retorna():\n",
    "    x = 'Eu também não sirvo pra nada, mas pelo menos retorno algo :)'\n",
    "    print(x)\n",
    "    return x"
   ]
  },
  {
   "cell_type": "code",
   "execution_count": 32,
   "metadata": {},
   "outputs": [
    {
     "name": "stdout",
     "output_type": "stream",
     "text": [
      "Eu também não sirvo pra nada, mas pelo menos retorno algo :)\n"
     ]
    }
   ],
   "source": [
    "teste = funcao_retorna()"
   ]
  },
  {
   "cell_type": "code",
   "execution_count": 33,
   "metadata": {},
   "outputs": [
    {
     "name": "stdout",
     "output_type": "stream",
     "text": [
      "<class 'str'>\n"
     ]
    }
   ],
   "source": [
    "print(type(teste))"
   ]
  },
  {
   "cell_type": "code",
   "execution_count": 34,
   "metadata": {},
   "outputs": [
    {
     "name": "stdout",
     "output_type": "stream",
     "text": [
      "Eu também não sirvo pra nada, mas pelo menos retorno algo :)\n"
     ]
    }
   ],
   "source": [
    "print(teste)"
   ]
  },
  {
   "cell_type": "markdown",
   "metadata": {},
   "source": [
    "Podemos retornar mais que um valor utilizando uma `tupla`:"
   ]
  },
  {
   "cell_type": "code",
   "execution_count": 35,
   "metadata": {},
   "outputs": [],
   "source": [
    "def funcao_retorna_2():\n",
    "    return 'Eu também não sirvo pra nada', 1"
   ]
  },
  {
   "cell_type": "code",
   "execution_count": 36,
   "metadata": {},
   "outputs": [],
   "source": [
    "teste = funcao_retorna_2()"
   ]
  },
  {
   "cell_type": "code",
   "execution_count": 37,
   "metadata": {},
   "outputs": [
    {
     "name": "stdout",
     "output_type": "stream",
     "text": [
      "('Eu também não sirvo pra nada', 1)\n"
     ]
    }
   ],
   "source": [
    "print(teste)"
   ]
  },
  {
   "cell_type": "code",
   "execution_count": 38,
   "metadata": {},
   "outputs": [],
   "source": [
    "parte_1, parte_2 = funcao_retorna_2()"
   ]
  },
  {
   "cell_type": "code",
   "execution_count": 39,
   "metadata": {},
   "outputs": [
    {
     "name": "stdout",
     "output_type": "stream",
     "text": [
      "Eu também não sirvo pra nada\n"
     ]
    }
   ],
   "source": [
    "print(parte_1)"
   ]
  },
  {
   "cell_type": "code",
   "execution_count": 40,
   "metadata": {},
   "outputs": [
    {
     "name": "stdout",
     "output_type": "stream",
     "text": [
      "1\n"
     ]
    }
   ],
   "source": [
    "print(parte_2)"
   ]
  },
  {
   "cell_type": "markdown",
   "metadata": {},
   "source": [
    "Funções podem retornar qualquer tipo de objeto:"
   ]
  },
  {
   "cell_type": "code",
   "execution_count": 41,
   "metadata": {},
   "outputs": [
    {
     "name": "stdout",
     "output_type": "stream",
     "text": [
      "[1, 2, 3]\n"
     ]
    }
   ],
   "source": [
    "def retorna_lista():\n",
    "    return [1,2,3]\n",
    "\n",
    "teste = retorna_lista()\n",
    "print(teste)"
   ]
  },
  {
   "cell_type": "markdown",
   "metadata": {},
   "source": [
    "# Funções podem receber argumentos\n",
    "Vimos que o `return` nos permite retornar valores de dentro da função para o nosso programa. Para fazer o caminho inverso, passar objetos do nosso programa para dentro da função, utilizamos **argumentos**:"
   ]
  },
  {
   "cell_type": "code",
   "execution_count": 42,
   "metadata": {
    "ExecuteTime": {
     "end_time": "2020-07-22T00:49:13.565422Z",
     "start_time": "2020-07-22T00:49:13.563422Z"
    }
   },
   "outputs": [],
   "source": [
    "def funcao_com_argumento(x, y):\n",
    "    '''\n",
    "    Retorna a soma dos números x e y.\n",
    "\n",
    "            Parameters:\n",
    "                    x (numeric): um número float ou inteiro.\n",
    "                    y (numeric): outro número float ou inteiro.\n",
    "\n",
    "            Returns:\n",
    "                    soma (numeric): soma dos números x e y.\n",
    "    '''\n",
    "    soma = x + y\n",
    "    return soma"
   ]
  },
  {
   "cell_type": "code",
   "execution_count": 43,
   "metadata": {},
   "outputs": [
    {
     "name": "stdout",
     "output_type": "stream",
     "text": [
      "5\n"
     ]
    }
   ],
   "source": [
    "teste_com_argumento = funcao_com_argumento(2, 3)\n",
    "print(teste_com_argumento)"
   ]
  },
  {
   "cell_type": "code",
   "execution_count": 44,
   "metadata": {},
   "outputs": [
    {
     "name": "stdout",
     "output_type": "stream",
     "text": [
      "5\n"
     ]
    }
   ],
   "source": [
    "def funcao_com_argumento(x, y):\n",
    "    soma = x + y\n",
    "    return soma\n",
    "\n",
    "# funcao_com_argumento(2, 3)\n",
    "x = 2\n",
    "y = 3\n",
    "soma = x + y\n",
    "print(soma)"
   ]
  },
  {
   "cell_type": "markdown",
   "metadata": {},
   "source": [
    "Argumentos são variáveis criadas quando invocamos a função. O exemplo acima cria as variáveis `x` e `y`, guardando nelas os objetos (valorer ou outras variáveis) entre `()` no momento que invocamos a função."
   ]
  },
  {
   "cell_type": "code",
   "execution_count": 46,
   "metadata": {},
   "outputs": [
    {
     "name": "stdout",
     "output_type": "stream",
     "text": [
      "5\n",
      "3\n",
      "5\n",
      "7\n"
     ]
    }
   ],
   "source": [
    "lista_num = [1,2,3,4]\n",
    "\n",
    "for i in range(len(lista_num)):\n",
    "    soma = funcao_com_argumento(lista_num[i], lista_num[i-1])\n",
    "    print(soma)"
   ]
  },
  {
   "cell_type": "code",
   "execution_count": 47,
   "metadata": {},
   "outputs": [
    {
     "name": "stdout",
     "output_type": "stream",
     "text": [
      "5\n"
     ]
    }
   ],
   "source": [
    "# Primeira iteração\n",
    "# i = 0\n",
    "soma = funcao_com_argumento(lista_num[0], lista_num[-1])\n",
    "print(soma)"
   ]
  },
  {
   "cell_type": "code",
   "execution_count": 48,
   "metadata": {},
   "outputs": [
    {
     "name": "stdout",
     "output_type": "stream",
     "text": [
      "3\n"
     ]
    }
   ],
   "source": [
    "# Primeira iteração\n",
    "# i = 1\n",
    "soma = funcao_com_argumento(lista_num[1], lista_num[0])\n",
    "print(soma)"
   ]
  },
  {
   "cell_type": "markdown",
   "metadata": {},
   "source": [
    "A ordem dos argumentos importa! Vamos construir uma função para realizar subtração entre dois números:"
   ]
  },
  {
   "cell_type": "code",
   "execution_count": 49,
   "metadata": {},
   "outputs": [],
   "source": [
    "def subtracao(x, y):\n",
    "    '''\n",
    "    Retorna x-y.\n",
    "\n",
    "            Parameters:\n",
    "                    x (numeric): um número float ou inteiro.\n",
    "                    y (numeric): outro número float ou inteiro.\n",
    "\n",
    "            Returns:\n",
    "                    subt (numeric): x - y\n",
    "    '''\n",
    "    return x - y"
   ]
  },
  {
   "cell_type": "code",
   "execution_count": 50,
   "metadata": {},
   "outputs": [
    {
     "data": {
      "text/plain": [
       "9"
      ]
     },
     "execution_count": 50,
     "metadata": {},
     "output_type": "execute_result"
    }
   ],
   "source": [
    "subtracao(10, 1)"
   ]
  },
  {
   "cell_type": "code",
   "execution_count": 51,
   "metadata": {},
   "outputs": [
    {
     "name": "stdout",
     "output_type": "stream",
     "text": [
      "9\n"
     ]
    }
   ],
   "source": [
    "print(subtracao(10, 1))"
   ]
  },
  {
   "cell_type": "code",
   "execution_count": 52,
   "metadata": {},
   "outputs": [
    {
     "name": "stdout",
     "output_type": "stream",
     "text": [
      "-9\n"
     ]
    }
   ],
   "source": [
    "print(subtracao(1, 10))"
   ]
  },
  {
   "cell_type": "markdown",
   "metadata": {},
   "source": [
    "A não ser que os argumentos sejam explicitamente nomeados"
   ]
  },
  {
   "cell_type": "code",
   "execution_count": 53,
   "metadata": {},
   "outputs": [
    {
     "name": "stdout",
     "output_type": "stream",
     "text": [
      "9\n"
     ]
    }
   ],
   "source": [
    "print(subtracao(y = 1, x = 10))"
   ]
  },
  {
   "cell_type": "code",
   "execution_count": 55,
   "metadata": {},
   "outputs": [
    {
     "data": {
      "text/plain": [
       "9"
      ]
     },
     "execution_count": 55,
     "metadata": {},
     "output_type": "execute_result"
    }
   ],
   "source": [
    "subtracao(y = 1, x = 10)"
   ]
  },
  {
   "cell_type": "markdown",
   "metadata": {},
   "source": [
    "## Latitudes e Longitudes\n",
    "\n",
    "Vamos construir uma função que recebe uma **dupla** `(lat, long)` e retorna uma **dupla** com os hemisférios aos quais essa coordenada pertence. Lembrando que:\n",
    "\n",
    "* Se a Latitude < 0, o hemisfério é `'S'`, se não é `'N'`\n",
    "* Se a Longitude < 0, o hemisfério é `'O'`, se não é `'L'`\n",
    "\n",
    "Por exemplo, caso a função receba a upla `(-20, -30)` como argumentos, ela deverá retornar `('S', 'O')`."
   ]
  },
  {
   "cell_type": "code",
   "execution_count": 60,
   "metadata": {},
   "outputs": [],
   "source": [
    "def latlong_to_hemi(lat_long):\n",
    "    lat, long = lat_long\n",
    "    \n",
    "    if lat < 0:\n",
    "        hemi_lat = 'S'\n",
    "    else:\n",
    "        hemi_lat = 'N'\n",
    "    \n",
    "    if long < 0:\n",
    "        hemi_long = 'O'\n",
    "    else:\n",
    "        hemi_long = 'L'\n",
    "        \n",
    "    return (hemi_lat, hemi_long)"
   ]
  },
  {
   "cell_type": "code",
   "execution_count": 61,
   "metadata": {},
   "outputs": [
    {
     "data": {
      "text/plain": [
       "('S', 'O')"
      ]
     },
     "execution_count": 61,
     "metadata": {},
     "output_type": "execute_result"
    }
   ],
   "source": [
    "latlong_to_hemi((-10, -30))"
   ]
  },
  {
   "cell_type": "code",
   "execution_count": 62,
   "metadata": {},
   "outputs": [
    {
     "name": "stdout",
     "output_type": "stream",
     "text": [
      "[('S', 'L'), ('S', 'L'), ('N', 'L')]\n"
     ]
    }
   ],
   "source": [
    "lista_coords = [(-10, 30), (-20, 45), (60, 54)]\n",
    "lista_hemi = []\n",
    "\n",
    "for coord in lista_coords:\n",
    "    lista_hemi.append(latlong_to_hemi(coord))\n",
    "    \n",
    "print(lista_hemi)"
   ]
  },
  {
   "cell_type": "markdown",
   "metadata": {},
   "source": [
    "# Funções podem receber argumentos opcionais (`OPTIONALS`)"
   ]
  },
  {
   "cell_type": "markdown",
   "metadata": {},
   "source": [
    "Argumentos opcionais são aqueles que você pode ou não `passar`. Se você não passar o argumento para a função, ela utilizará um valor DEFAULT"
   ]
  },
  {
   "cell_type": "code",
   "execution_count": 64,
   "metadata": {
    "ExecuteTime": {
     "end_time": "2020-07-22T01:16:21.080074Z",
     "start_time": "2020-07-22T01:16:21.073076Z"
    }
   },
   "outputs": [],
   "source": [
    "def soma_lista(lista_numeros, C = 1):\n",
    "    '''\n",
    "    Retorna a soma dos números de uma lista vezes uma constante.\n",
    "\n",
    "            Parameters:\n",
    "                    lista_numeros (lista): lista de números (floats ou ints).\n",
    "                    C (numeric): outro número float ou inteiro.\n",
    "\n",
    "            Returns:\n",
    "                    total_lista (numeric): soma dos números na lista_numeros vezes C.\n",
    "    '''\n",
    "    \n",
    "    total_lista = 0\n",
    "    for elemento in lista_numeros:\n",
    "        # total_lista += elemento * C\n",
    "        total_lista = total_lista + elemento * C\n",
    "        \n",
    "    return total_lista"
   ]
  },
  {
   "cell_type": "markdown",
   "metadata": {},
   "source": [
    "A função acima soma o resultado da multiplicação de cada elemento em uma lista, `lista_numeros` nos argumentos, por uma constante,  `C` nos argumentos. Se não passaramos nenhum valor para `C` ele terá o valor padrão de 1."
   ]
  },
  {
   "cell_type": "code",
   "execution_count": 66,
   "metadata": {},
   "outputs": [
    {
     "name": "stdout",
     "output_type": "stream",
     "text": [
      "20.4\n"
     ]
    }
   ],
   "source": [
    "ex = [1, 2, 3, 4.2]\n",
    "const = 2\n",
    "\n",
    "teste = soma_lista(ex, const)\n",
    "print(teste)"
   ]
  },
  {
   "cell_type": "code",
   "execution_count": 69,
   "metadata": {},
   "outputs": [
    {
     "name": "stdout",
     "output_type": "stream",
     "text": [
      "10.2\n"
     ]
    }
   ],
   "source": [
    "teste = soma_lista(ex)\n",
    "print(teste)"
   ]
  },
  {
   "cell_type": "code",
   "execution_count": null,
   "metadata": {},
   "outputs": [],
   "source": [
    "teste = soma_lista(ex, 10)\n",
    "print(teste)"
   ]
  },
  {
   "cell_type": "markdown",
   "metadata": {},
   "source": [
    "Apenas os argumentos com valores padrão são opcionais!"
   ]
  },
  {
   "cell_type": "code",
   "execution_count": 70,
   "metadata": {},
   "outputs": [
    {
     "ename": "TypeError",
     "evalue": "soma_lista() missing 1 required positional argument: 'lista_numeros'",
     "output_type": "error",
     "traceback": [
      "\u001b[0;31m---------------------------------------------------------------------------\u001b[0m",
      "\u001b[0;31mTypeError\u001b[0m                                 Traceback (most recent call last)",
      "Input \u001b[0;32mIn [70]\u001b[0m, in \u001b[0;36m<cell line: 1>\u001b[0;34m()\u001b[0m\n\u001b[0;32m----> 1\u001b[0m teste \u001b[38;5;241m=\u001b[39m \u001b[43msoma_lista\u001b[49m\u001b[43m(\u001b[49m\u001b[43mC\u001b[49m\u001b[43m \u001b[49m\u001b[38;5;241;43m=\u001b[39;49m\u001b[43m \u001b[49m\u001b[38;5;241;43m10\u001b[39;49m\u001b[43m)\u001b[49m\n",
      "\u001b[0;31mTypeError\u001b[0m: soma_lista() missing 1 required positional argument: 'lista_numeros'"
     ]
    }
   ],
   "source": [
    "teste = soma_lista(C = 10)"
   ]
  },
  {
   "cell_type": "markdown",
   "metadata": {},
   "source": [
    "## Palavras reservadas\n",
    "\n",
    "Não podemos utilizar qualquer palavra como nome de função: as palavras chaves (como `for`, `while`, `if`, etc...) não podem ser utilizadas!"
   ]
  },
  {
   "cell_type": "code",
   "execution_count": null,
   "metadata": {},
   "outputs": [],
   "source": [
    "#def for():\n",
    "#    print('O que será que acontecerá?')"
   ]
  },
  {
   "cell_type": "code",
   "execution_count": 84,
   "metadata": {},
   "outputs": [],
   "source": [
    "def len(x):\n",
    "    return 'alo'"
   ]
  },
  {
   "cell_type": "code",
   "execution_count": 85,
   "metadata": {},
   "outputs": [
    {
     "data": {
      "text/plain": [
       "'alo'"
      ]
     },
     "execution_count": 85,
     "metadata": {},
     "output_type": "execute_result"
    }
   ],
   "source": [
    "len([1,2,3])"
   ]
  },
  {
   "cell_type": "code",
   "execution_count": 86,
   "metadata": {},
   "outputs": [
    {
     "data": {
      "text/plain": [
       "'alo'"
      ]
     },
     "execution_count": 86,
     "metadata": {},
     "output_type": "execute_result"
    }
   ],
   "source": [
    "len([1,2,3,4])"
   ]
  },
  {
   "cell_type": "code",
   "execution_count": 87,
   "metadata": {},
   "outputs": [],
   "source": [
    "def print(x):\n",
    "    return 'xiiiii'"
   ]
  },
  {
   "cell_type": "code",
   "execution_count": 90,
   "metadata": {},
   "outputs": [
    {
     "name": "stdout",
     "output_type": "stream",
     "text": [
      "1\n"
     ]
    }
   ],
   "source": [
    "print(1)"
   ]
  },
  {
   "cell_type": "code",
   "execution_count": 89,
   "metadata": {},
   "outputs": [],
   "source": [
    "del print"
   ]
  },
  {
   "cell_type": "markdown",
   "metadata": {
    "ExecuteTime": {
     "end_time": "2020-07-22T22:42:17.746072Z",
     "start_time": "2020-07-22T22:42:17.742072Z"
    }
   },
   "source": [
    "As palavras reservadas, em geral, tem uma formatação distinta nas IDEs (no Jupyter vemos acima o _for_ em negrito e verde)"
   ]
  },
  {
   "cell_type": "markdown",
   "metadata": {},
   "source": [
    "# Escopo de Variáveis\n",
    "O escopo de uma variável é a definição de onde cada variável existe em seu programa.\n",
    "\n",
    "## Escopo Local\n",
    "Todas as variáveis criadas dentro de uma função **só existem dentro da função**! É por isso que o `return` é tão importante!"
   ]
  },
  {
   "cell_type": "code",
   "execution_count": 91,
   "metadata": {},
   "outputs": [],
   "source": [
    "def soma_lista(lista_numeros, C = 1):\n",
    "    '''\n",
    "    Retorna a soma dos números de uma lista vezes uma constante.\n",
    "\n",
    "            Parameters:\n",
    "                    lista_numeros (lista): lista de números (floats ou ints).\n",
    "                    C (numeric): outro número float ou inteiro.\n",
    "\n",
    "            Returns:\n",
    "                    total_lista (numeric): soma dos números na lista_numeros vezes C.\n",
    "    '''\n",
    "    \n",
    "    total_lista = 0\n",
    "    for elemento in lista_numeros:\n",
    "        total_lista += elemento * C\n",
    "    return total_lista"
   ]
  },
  {
   "cell_type": "code",
   "execution_count": 94,
   "metadata": {},
   "outputs": [],
   "source": [
    "total_lista = 'Ola'"
   ]
  },
  {
   "cell_type": "code",
   "execution_count": 95,
   "metadata": {
    "ExecuteTime": {
     "end_time": "2020-10-30T22:45:48.418880Z",
     "start_time": "2020-10-30T22:45:48.406885Z"
    }
   },
   "outputs": [
    {
     "data": {
      "text/plain": [
       "30"
      ]
     },
     "execution_count": 95,
     "metadata": {},
     "output_type": "execute_result"
    }
   ],
   "source": [
    "soma_lista([1, 2, 3], 5)"
   ]
  },
  {
   "cell_type": "code",
   "execution_count": 96,
   "metadata": {},
   "outputs": [
    {
     "data": {
      "text/plain": [
       "'Ola'"
      ]
     },
     "execution_count": 96,
     "metadata": {},
     "output_type": "execute_result"
    }
   ],
   "source": [
    "total_lista"
   ]
  },
  {
   "cell_type": "code",
   "execution_count": null,
   "metadata": {},
   "outputs": [],
   "source": [
    "lista_numeros"
   ]
  },
  {
   "cell_type": "markdown",
   "metadata": {},
   "source": [
    "## Escopo Global\n",
    "\n",
    "Variáveis criadas no corpo do nosso programa e acessadas pelas nossas funções existem no escopo global. Nossas funções conseguem acessar variáveis nesse escopo mas não conseguem altera-lás."
   ]
  },
  {
   "cell_type": "code",
   "execution_count": 97,
   "metadata": {},
   "outputs": [],
   "source": [
    "def soma():\n",
    "    '''\n",
    "    Retorna a soma x e y\n",
    "    '''\n",
    "    print(x + y)\n",
    "    return(x + y)"
   ]
  },
  {
   "cell_type": "code",
   "execution_count": 99,
   "metadata": {},
   "outputs": [
    {
     "name": "stdout",
     "output_type": "stream",
     "text": [
      "11\n"
     ]
    }
   ],
   "source": [
    "y = 10\n",
    "x = 1\n",
    "teste = soma()"
   ]
  },
  {
   "cell_type": "code",
   "execution_count": 101,
   "metadata": {},
   "outputs": [],
   "source": [
    "y = 12"
   ]
  },
  {
   "cell_type": "code",
   "execution_count": 102,
   "metadata": {},
   "outputs": [
    {
     "name": "stdout",
     "output_type": "stream",
     "text": [
      "13\n"
     ]
    },
    {
     "data": {
      "text/plain": [
       "13"
      ]
     },
     "execution_count": 102,
     "metadata": {},
     "output_type": "execute_result"
    }
   ],
   "source": [
    "soma()"
   ]
  },
  {
   "cell_type": "markdown",
   "metadata": {},
   "source": [
    "Essas variáveis não podem ser alteradas dentro do corpo de uma função diretamente:"
   ]
  },
  {
   "cell_type": "code",
   "execution_count": 105,
   "metadata": {},
   "outputs": [],
   "source": [
    "def nova_soma():\n",
    "    '''\n",
    "    Retorna a soma x e y, guardando o resultado em x\n",
    "    '''\n",
    "    x = 20\n",
    "    a = x+y\n",
    "    return(a)"
   ]
  },
  {
   "cell_type": "code",
   "execution_count": 106,
   "metadata": {},
   "outputs": [
    {
     "data": {
      "text/plain": [
       "21"
      ]
     },
     "execution_count": 106,
     "metadata": {},
     "output_type": "execute_result"
    }
   ],
   "source": [
    "x = 10\n",
    "y = 1\n",
    "nova_soma()"
   ]
  },
  {
   "cell_type": "code",
   "execution_count": 107,
   "metadata": {},
   "outputs": [
    {
     "data": {
      "text/plain": [
       "10"
      ]
     },
     "execution_count": 107,
     "metadata": {},
     "output_type": "execute_result"
    }
   ],
   "source": [
    "x"
   ]
  },
  {
   "cell_type": "markdown",
   "metadata": {},
   "source": [
    "É normal utilizar variáveis globais para representar constantes (Pi, diametro da Terra, número de regiões do Brasil, etc...). Neste caso utilizamos uma convenção de nomeamento de variáveis: nomes de variáveis globais são escritos em maiúsculas."
   ]
  },
  {
   "cell_type": "code",
   "execution_count": 109,
   "metadata": {},
   "outputs": [],
   "source": [
    "PI = 3.14\n",
    "DIAMETRO_TERRA = 4000\n",
    "\n",
    "def circ_area(diametro):\n",
    "    '''\n",
    "    Calcula a area de um circulo.\n",
    "        Parameters:\n",
    "            diametro Float: diametro do círculo\n",
    "        \n",
    "        Returns:\n",
    "            float: area\n",
    "    '''\n",
    "    raio = diametro/2\n",
    "    area = PI * raio ** 2\n",
    "    return area\n",
    "\n",
    "def circ_circum(diametro):\n",
    "    '''\n",
    "    Calcula a circumferencia de um circulo.\n",
    "        Parameters:\n",
    "            diametro Float: diametro do círculo\n",
    "        \n",
    "        Returns:\n",
    "            float: circumferencia\n",
    "    '''\n",
    "    circ = PI * diametro\n",
    "    return circ"
   ]
  },
  {
   "cell_type": "code",
   "execution_count": null,
   "metadata": {},
   "outputs": [],
   "source": [
    "print(circ_area(5))\n",
    "print(circ_circum(5))"
   ]
  },
  {
   "cell_type": "code",
   "execution_count": 113,
   "metadata": {},
   "outputs": [],
   "source": [
    "def potencia(x, y):\n",
    "    return x ** y\n",
    "\n",
    "def elevar_lista_potencia(lista_num, pot):\n",
    "    total = 0\n",
    "    for elem in lista_num:\n",
    "        total += potencia(lista_num, pot)\n",
    "    return total"
   ]
  },
  {
   "cell_type": "code",
   "execution_count": 117,
   "metadata": {},
   "outputs": [
    {
     "data": {
      "text/plain": [
       "10000"
      ]
     },
     "execution_count": 117,
     "metadata": {},
     "output_type": "execute_result"
    }
   ],
   "source": [
    "comp = len([1, 2, 3, 4])\n",
    "potencia(10, comp)"
   ]
  },
  {
   "cell_type": "code",
   "execution_count": 116,
   "metadata": {},
   "outputs": [],
   "source": [
    "del len"
   ]
  },
  {
   "cell_type": "markdown",
   "metadata": {},
   "source": [
    "# *Bonus I* - Funções podem criar funções!\n",
    "\n",
    "Uma função pode retornar qualquer tipo de objeto - incluindo outra função!"
   ]
  },
  {
   "cell_type": "code",
   "execution_count": null,
   "metadata": {},
   "outputs": [],
   "source": [
    "def criar_print_educado(prefixo):\n",
    "    '''\n",
    "    Cria um novo print, mais educado (ou não...)\n",
    "        Parameters:\n",
    "            prefixo String: prefixo que será prefixado no novo print\n",
    "        Returns:\n",
    "            function: nova função print, que imprime o prefixo antes de qualquer valor \n",
    "    '''\n",
    "    def print_prefixo(x = ''):\n",
    "        print(prefixo + ' ' + str(x))\n",
    "        \n",
    "    return print_prefixo"
   ]
  },
  {
   "cell_type": "markdown",
   "metadata": {},
   "source": [
    "A função criada acima recebe um prefixo e retorna uma função que imprime este prefixo seguido de um argumento."
   ]
  },
  {
   "cell_type": "code",
   "execution_count": null,
   "metadata": {},
   "outputs": [],
   "source": [
    "print_educado = criar_print_educado('Bom dia usuário!')"
   ]
  },
  {
   "cell_type": "markdown",
   "metadata": {},
   "source": [
    "Vamos ver o tipo do objeto `print_educado`:"
   ]
  },
  {
   "cell_type": "code",
   "execution_count": null,
   "metadata": {},
   "outputs": [],
   "source": [
    "type(print_educado)"
   ]
  },
  {
   "cell_type": "code",
   "execution_count": null,
   "metadata": {},
   "outputs": [],
   "source": [
    "print_educado(10)"
   ]
  },
  {
   "cell_type": "markdown",
   "metadata": {},
   "source": [
    "# *Bonus II* - Funções podem ser recursivas!\n",
    "\n",
    "Uma função recursiva retorna sua propria execução (quase como um loop while). Devemos tomar cuidado para que as funções recursivas sejam **finitas**."
   ]
  },
  {
   "cell_type": "code",
   "execution_count": null,
   "metadata": {},
   "outputs": [],
   "source": [
    "def multiplicador_inteligente():\n",
    "    '''\n",
    "    Recebe entradas do usuário para X e Y e tenta retornar o resultado de X * Y.\n",
    "    Caso um dos dois valores não seja numérico, se retorna recursivamente.\n",
    "    '''\n",
    "    x = input('Qual o valor de X?')\n",
    "    y = input('Qual o valor de Y?')\n",
    "    if x.isnumeric() and y.isnumeric():\n",
    "        return float(x) * float(y)\n",
    "    else:\n",
    "        print('Por favor, digite apenas números!')\n",
    "        return multiplicador_inteligente()"
   ]
  },
  {
   "cell_type": "code",
   "execution_count": null,
   "metadata": {},
   "outputs": [],
   "source": [
    "multiplicador_inteligente()"
   ]
  },
  {
   "cell_type": "markdown",
   "metadata": {},
   "source": [
    "Um uso clássico de funções recurssivas é percorrer árvores: estruturas de dados parecidas com a rede de seguidores em uma rede social."
   ]
  },
  {
   "cell_type": "markdown",
   "metadata": {},
   "source": [
    "# *Desafio* - Calculando Graus de Separação\n",
    "\n",
    "Em uma rede social, o **grau de separação** é o **menor número de conexões** que temos que percorrer entre duas pessoas. Vamos criar um exemplo simples de uma rede com 4 usuários:\n",
    "\n",
    "* João - amigo de Maria e José;\n",
    "* Maria - amiga de João e Marcia;\n",
    "* José - amigo de João e Marcia;\n",
    "* Marcia - amiga de Maria, José e Jonas;\n",
    "* Jonas - amigo de Marcia;\n",
    "\n",
    "Podemos representar esta rede social utilizando um dicionário:"
   ]
  },
  {
   "cell_type": "code",
   "execution_count": 1,
   "metadata": {},
   "outputs": [],
   "source": [
    "rede_social = {\n",
    "    \"João\" : [\"Maria\", \"José\"],\n",
    "    \"Maria\" : [\"João\", \"Marcia\"],\n",
    "    \"José\" : [\"João\", \"Marcia\"],\n",
    "    \"Marcia\" : [\"Maria\", \"José\", \"Jonas\"],\n",
    "    \"Jonas\" : [\"Marcia\"]\n",
    "}"
   ]
  },
  {
   "cell_type": "markdown",
   "metadata": {},
   "source": [
    "O **grau de separação** entre João e Maria é **1** - eles se conectam diretamente. Já o **grau de separação** entre João e Marcia é **2** - para chegar de João à Marcia precisamos passar por Maria ou José antes.\n",
    "\n",
    "Crie uma função que receba como argumento o dicionário da rede social e retorne uma lista de uplas `('Nome 1', 'Nome 2', Grau_de_Separacao)` - no exemplo acima, a função deveria retornar:\n",
    "\n",
    "```python\n",
    "[\n",
    "    (\"João\", \"Maria\", 1)\n",
    "    (\"João\", \"José\", 1)\n",
    "    (\"João\", \"Marcia\", 2)\n",
    "    (\"João\", \"Jonas\", 3)\n",
    "    (\"Maria\", \"João\", 1)\n",
    "    (\"Maria\", \"Marcia\", 1)\n",
    "    (\"Maria\", \"José\", 2)\n",
    "    (\"Maria\", \"Jonas\", 2)\n",
    "    (\"José\", \"João\", 1)\n",
    "    (\"José\", \"Marcia\", 1)\n",
    "    (\"José\", \"Maria\", 2)\n",
    "    (\"José\", \"Jonas\", 2)\n",
    "    (\"Marcia\", \"Maria\", 1)\n",
    "    (\"Marcia\", \"José\", 1)\n",
    "    (\"Marcia\", \"Jonas\", 1)\n",
    "    (\"Marcia\", \"João\", 2)\n",
    "    (\"Jonas\", \"Marcia\", 1)\n",
    "    (\"Jonas\", \"Maria\", 2)\n",
    "    (\"Jonas\", \"José\", 2)\n",
    "    (\"Jonas\", \"João\", 3)\n",
    "]\n",
    "```\n",
    "\n",
    "Utilize as ferramentas que vimos em aula hoje para resolver este exercício - existem diversas maneiras de fazê-lo (incluindo utilizando recursões!)."
   ]
  },
  {
   "cell_type": "code",
   "execution_count": null,
   "metadata": {},
   "outputs": [],
   "source": []
  }
 ],
 "metadata": {
  "kernelspec": {
   "display_name": "Python 3 (ipykernel)",
   "language": "python",
   "name": "python3"
  },
  "language_info": {
   "codemirror_mode": {
    "name": "ipython",
    "version": 3
   },
   "file_extension": ".py",
   "mimetype": "text/x-python",
   "name": "python",
   "nbconvert_exporter": "python",
   "pygments_lexer": "ipython3",
   "version": "3.9.11"
  },
  "toc": {
   "base_numbering": 1,
   "nav_menu": {},
   "number_sections": true,
   "sideBar": true,
   "skip_h1_title": false,
   "title_cell": "Table of Contents",
   "title_sidebar": "Contents",
   "toc_cell": false,
   "toc_position": {},
   "toc_section_display": true,
   "toc_window_display": false
  },
  "varInspector": {
   "cols": {
    "lenName": 16,
    "lenType": 16,
    "lenVar": 40
   },
   "kernels_config": {
    "python": {
     "delete_cmd_postfix": "",
     "delete_cmd_prefix": "del ",
     "library": "var_list.py",
     "varRefreshCmd": "print(var_dic_list())"
    },
    "r": {
     "delete_cmd_postfix": ") ",
     "delete_cmd_prefix": "rm(",
     "library": "var_list.r",
     "varRefreshCmd": "cat(var_dic_list()) "
    }
   },
   "types_to_exclude": [
    "module",
    "function",
    "builtin_function_or_method",
    "instance",
    "_Feature"
   ],
   "window_display": false
  }
 },
 "nbformat": 4,
 "nbformat_minor": 4
}
