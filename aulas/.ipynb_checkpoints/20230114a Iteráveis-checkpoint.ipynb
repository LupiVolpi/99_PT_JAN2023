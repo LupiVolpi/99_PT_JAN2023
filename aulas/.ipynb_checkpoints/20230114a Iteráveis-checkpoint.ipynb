{
 "cells": [
  {
   "cell_type": "markdown",
   "metadata": {},
   "source": [
    "# Aula III - Iteráveis\n",
    "## Algumas `estruturas de dados` inerentes ao Python\n",
    "- Lists (recap)\n",
    "- Tuples\n",
    "- Dicts\n",
    "- Sets"
   ]
  },
  {
   "cell_type": "markdown",
   "metadata": {},
   "source": [
    "## Lists\n",
    "- Listas são sequências **ordenadas** de elementos\n",
    "\n",
    "- Listas são **mutáveis**"
   ]
  },
  {
   "cell_type": "code",
   "execution_count": null,
   "metadata": {},
   "outputs": [],
   "source": [
    "list_ex = [10, 20, 30]\n",
    "print(list_ex)"
   ]
  },
  {
   "cell_type": "code",
   "execution_count": null,
   "metadata": {},
   "outputs": [],
   "source": [
    "print(list_ex[0])\n",
    "print(list_ex[1])\n",
    "print(list_ex[2])"
   ]
  },
  {
   "cell_type": "markdown",
   "metadata": {},
   "source": [
    "Listas são mutáveis, ou seja, os seus elementos, acessandos através de um indice, podem ser alterados."
   ]
  },
  {
   "cell_type": "code",
   "execution_count": null,
   "metadata": {},
   "outputs": [],
   "source": [
    "list_ex[0] = 'Zero'\n",
    "print(list_ex)\n",
    "print(list_ex[0])\n",
    "print(list_ex[1])\n",
    "print(list_ex[2])"
   ]
  },
  {
   "cell_type": "markdown",
   "metadata": {},
   "source": [
    "### Métodos\n",
    "Além de substituir elementos existentes através de indices, podemos utilizar os **métodos** `append` e `extend` para incluir **novos elementos** em uma lista:\n",
    "\n",
    "- `append` adiciona elementos ao final de uma lista\n",
    "- `extend` adiciona elementos ao final de uma lista a partir de outra lista (ou outro iterável)"
   ]
  },
  {
   "cell_type": "code",
   "execution_count": null,
   "metadata": {},
   "outputs": [],
   "source": [
    "list_ex.append(40)\n",
    "print(list_ex)"
   ]
  },
  {
   "cell_type": "code",
   "execution_count": null,
   "metadata": {},
   "outputs": [],
   "source": [
    "list_ex.extend([50, 60, 60])\n",
    "print(list_ex)"
   ]
  },
  {
   "cell_type": "markdown",
   "metadata": {},
   "source": [
    "O método `extend` não é *desempacota* listas."
   ]
  },
  {
   "cell_type": "code",
   "execution_count": null,
   "metadata": {},
   "outputs": [],
   "source": [
    "minha_extensao = [70, [80, 90]]\n",
    "list_ex.extend(minha_extensao)\n",
    "print(list_ex)"
   ]
  },
  {
   "cell_type": "markdown",
   "metadata": {},
   "source": [
    "Além dos métodos `extend` e `append` podemos excluir elementos de uma lista através dos métodos `pop` e `remove`"
   ]
  },
  {
   "cell_type": "code",
   "execution_count": null,
   "metadata": {},
   "outputs": [],
   "source": [
    "ultimo_elemento = list_ex.pop()\n",
    "print(ultimo_elemento)\n",
    "print(list_ex)"
   ]
  },
  {
   "cell_type": "code",
   "execution_count": null,
   "metadata": {},
   "outputs": [],
   "source": [
    "primeiro_elemento = list_ex.pop(0)\n",
    "print(primeiro_elemento)\n",
    "print(list_ex)"
   ]
  },
  {
   "cell_type": "code",
   "execution_count": null,
   "metadata": {},
   "outputs": [],
   "source": [
    "list_ex.remove(30)\n",
    "print(list_ex)"
   ]
  },
  {
   "cell_type": "code",
   "execution_count": null,
   "metadata": {},
   "outputs": [],
   "source": [
    "list_ex.remove(60)\n",
    "print(list_ex)"
   ]
  },
  {
   "cell_type": "markdown",
   "metadata": {},
   "source": [
    "### Slices\n",
    "\n",
    "Além de usar `int`s como indices podemos acessar elementos de uma lista através de `slices` através da notação `[:]`.\n",
    "\n",
    "A sintaxe de um *slice* é `[indice_comeco:indice_fim]`\n",
    "\n",
    "* `a[start:stop]` -> todos os items de start até stop-1\n",
    "* `a[start:]` -> todos os items de start até o fim de a\n",
    "* `a[:stop]` -> todos os items do começo da lista até stop-1\n",
    "* `a[:]` -> uma cópia da lista inteira"
   ]
  },
  {
   "cell_type": "code",
   "execution_count": null,
   "metadata": {},
   "outputs": [],
   "source": [
    "print(list_ex[:])"
   ]
  },
  {
   "cell_type": "code",
   "execution_count": null,
   "metadata": {},
   "outputs": [],
   "source": [
    "print(list_ex[2:4])"
   ]
  },
  {
   "cell_type": "code",
   "execution_count": null,
   "metadata": {},
   "outputs": [],
   "source": [
    "print(list_ex[:4])"
   ]
  },
  {
   "cell_type": "code",
   "execution_count": null,
   "metadata": {},
   "outputs": [],
   "source": [
    "print(list_ex[1:])"
   ]
  },
  {
   "cell_type": "markdown",
   "metadata": {},
   "source": [
    "Também podemos utilizar índices negativos: desta forma estaremos *contando* de trás pra frente na lista, de forma que `[-1]` é o último elemento da lista, `[-2]` o penúltimo, etc..."
   ]
  },
  {
   "cell_type": "code",
   "execution_count": null,
   "metadata": {},
   "outputs": [],
   "source": [
    "list_ex[-1]"
   ]
  },
  {
   "cell_type": "code",
   "execution_count": null,
   "metadata": {},
   "outputs": [],
   "source": [
    "list_ex[-3:-1]"
   ]
  },
  {
   "cell_type": "markdown",
   "metadata": {},
   "source": [
    "### Revisatando o desafio da última aula\n",
    "Podemos utilizar os métodos `pop`, `extend` e `append` para resolver de uma forma mais *elegante* o problema de achatamento de listas."
   ]
  },
  {
   "cell_type": "code",
   "execution_count": null,
   "metadata": {},
   "outputs": [],
   "source": [
    "# Um jeito mais bonito de achatar listas\n",
    "list_ex = [1, [2, [3, [4]]]]\n",
    "print(list_ex)\n",
    "\n",
    "chata = []\n",
    "while list_ex:\n",
    "    elemento = list_ex.pop()\n",
    "    if type(elemento) == list:\n",
    "        list_ex.extend(elemento)\n",
    "    else:\n",
    "        chata.append(elemento)\n",
    "\n",
    "print(chata)"
   ]
  },
  {
   "cell_type": "markdown",
   "metadata": {},
   "source": [
    "## Tuples\n",
    "- Tuplas são sequências ordenandas de elementos (como listas)\n",
    "\n",
    "- Tuplas são **imútaveis**\n",
    "\n",
    "### Criando uma tupla"
   ]
  },
  {
   "cell_type": "code",
   "execution_count": null,
   "metadata": {
    "ExecuteTime": {
     "end_time": "2020-07-09T22:45:47.947147Z",
     "start_time": "2020-07-09T22:45:47.939168Z"
    }
   },
   "outputs": [],
   "source": [
    "tupla = (10,)\n",
    "type(tupla)"
   ]
  },
  {
   "cell_type": "code",
   "execution_count": null,
   "metadata": {},
   "outputs": [],
   "source": [
    "tuple_ex = (10, 20, 30)\n",
    "print(tuple_ex)"
   ]
  },
  {
   "cell_type": "markdown",
   "metadata": {},
   "source": [
    "Podemos utilizar a atribuição múltipla para desempacotar tuplas (e listas):"
   ]
  },
  {
   "cell_type": "code",
   "execution_count": null,
   "metadata": {},
   "outputs": [],
   "source": [
    "a, b, c = tuple_ex\n",
    "print(a)\n",
    "print(b)\n",
    "print(c)"
   ]
  },
  {
   "cell_type": "markdown",
   "metadata": {},
   "source": [
    "Também podemos converter uma lista em uma tupla e vice-versa:"
   ]
  },
  {
   "cell_type": "code",
   "execution_count": null,
   "metadata": {
    "ExecuteTime": {
     "end_time": "2020-07-09T22:53:37.037379Z",
     "start_time": "2020-07-09T22:53:37.033390Z"
    }
   },
   "outputs": [],
   "source": [
    "minha_lista = [10, 20, 30]\n",
    "minha_upla = tuple(minha_lista)\n",
    "print(minha_lista)\n",
    "print(minha_upla)\n",
    "print(type(minha_upla))"
   ]
  },
  {
   "cell_type": "code",
   "execution_count": null,
   "metadata": {},
   "outputs": [],
   "source": [
    "tuple_ex = tuple([10, 20, 30])\n",
    "print(type(tuple_ex))"
   ]
  },
  {
   "cell_type": "markdown",
   "metadata": {},
   "source": [
    "Assim como as listas, podemos percorrer uma tupla através de um loop:"
   ]
  },
  {
   "cell_type": "code",
   "execution_count": null,
   "metadata": {},
   "outputs": [],
   "source": [
    "minha_tupla = (0, 1, 2, 3, 4, 5)\n",
    "for i in minha_tupla:\n",
    "    print(i)"
   ]
  },
  {
   "cell_type": "markdown",
   "metadata": {},
   "source": [
    "## Métodos de Tuplas\n",
    "\n",
    "- `count`: conta o # de vezes que um valor ocorre na tupla\n",
    "- `index`: retorna o indice da primeira ocorrência de um valor"
   ]
  },
  {
   "cell_type": "code",
   "execution_count": null,
   "metadata": {
    "ExecuteTime": {
     "end_time": "2020-07-09T23:32:03.570210Z",
     "start_time": "2020-07-09T23:32:03.566220Z"
    }
   },
   "outputs": [],
   "source": [
    "y = (1, 3, 7, 4, 6, 3, 8, 8, 'Pedro')\n",
    "y.count(8)"
   ]
  },
  {
   "cell_type": "code",
   "execution_count": null,
   "metadata": {},
   "outputs": [],
   "source": [
    "y.index(8)"
   ]
  },
  {
   "cell_type": "markdown",
   "metadata": {},
   "source": [
    "Esses métodos também existem em listas:"
   ]
  },
  {
   "cell_type": "code",
   "execution_count": null,
   "metadata": {},
   "outputs": [],
   "source": [
    "y_list = list(y)"
   ]
  },
  {
   "cell_type": "code",
   "execution_count": null,
   "metadata": {},
   "outputs": [],
   "source": [
    "y_list"
   ]
  },
  {
   "cell_type": "code",
   "execution_count": null,
   "metadata": {},
   "outputs": [],
   "source": [
    "y.index(8)"
   ]
  },
  {
   "cell_type": "markdown",
   "metadata": {},
   "source": [
    "## Funções nativas - `sorted()`, `range()` e `len()`\n",
    "\n",
    "- `sorted()`: Ordenar uma tupla (ou qualquer **iterável**)\n",
    "- `range()`: cria um iterável a partir de dois inteiros"
   ]
  },
  {
   "cell_type": "code",
   "execution_count": null,
   "metadata": {},
   "outputs": [],
   "source": [
    "y = (1, 3, 7, 4, 6, 3, 8, 8)"
   ]
  },
  {
   "cell_type": "code",
   "execution_count": null,
   "metadata": {},
   "outputs": [],
   "source": [
    "print(sorted(y, reverse=True))"
   ]
  },
  {
   "cell_type": "markdown",
   "metadata": {},
   "source": [
    "A função sorted não modifica a lista (ou tupla) original - se quisermos guardar o resultado precisamos utilizar uma variável."
   ]
  },
  {
   "cell_type": "code",
   "execution_count": null,
   "metadata": {},
   "outputs": [],
   "source": [
    "y"
   ]
  },
  {
   "cell_type": "code",
   "execution_count": null,
   "metadata": {},
   "outputs": [],
   "source": [
    "meu_range = range(10)\n",
    "print(meu_range)"
   ]
  },
  {
   "cell_type": "markdown",
   "metadata": {},
   "source": [
    "A função `range()` cria um iterável *preguiçoso* (`lazy`): se quisermos ver todos os seus elementos precisamos percorre-lo por um loop ou converte-lo em uma lista."
   ]
  },
  {
   "cell_type": "code",
   "execution_count": null,
   "metadata": {},
   "outputs": [],
   "source": [
    "for i in range(10):\n",
    "    print(i)"
   ]
  },
  {
   "cell_type": "code",
   "execution_count": null,
   "metadata": {},
   "outputs": [],
   "source": [
    "list(meu_range)"
   ]
  },
  {
   "cell_type": "markdown",
   "metadata": {},
   "source": [
    "A função `len()` retorna o comprimento de um iterável (o seu número de elementos):"
   ]
  },
  {
   "cell_type": "code",
   "execution_count": null,
   "metadata": {},
   "outputs": [],
   "source": [
    "len([1, 2, 3])"
   ]
  },
  {
   "cell_type": "code",
   "execution_count": null,
   "metadata": {},
   "outputs": [],
   "source": [
    "len(meu_range)"
   ]
  },
  {
   "cell_type": "markdown",
   "metadata": {},
   "source": [
    "# DICT's\n",
    "## O que é um dicionário?\n",
    "\n",
    "Na vida real, um livro que tem palavras e o sentido dessa palavra. No Python dicionários são pares de **chaves** e **valores**.\n",
    "\n",
    "### O que são chaves e valores?\n",
    "\n",
    "chaves, ou `keys`: são as palavras\n",
    "\n",
    "valores, ou `values`: são os sentidos.\n",
    "\n",
    "## Criando um Dicionário\n",
    "\n",
    "- Sintáxe `{key: value}`"
   ]
  },
  {
   "cell_type": "code",
   "execution_count": null,
   "metadata": {},
   "outputs": [],
   "source": [
    "my_dict={}"
   ]
  },
  {
   "cell_type": "code",
   "execution_count": null,
   "metadata": {},
   "outputs": [],
   "source": [
    "my_dict=dict()"
   ]
  },
  {
   "cell_type": "code",
   "execution_count": null,
   "metadata": {},
   "outputs": [],
   "source": [
    "type(my_dict)"
   ]
  },
  {
   "cell_type": "code",
   "execution_count": null,
   "metadata": {
    "ExecuteTime": {
     "end_time": "2020-07-10T00:09:37.869696Z",
     "start_time": "2020-07-10T00:09:37.865676Z"
    }
   },
   "outputs": [],
   "source": [
    "my_dict = {\n",
    "            'Grão de Bico': 10,\n",
    "            'Feijão': 8,\n",
    "            'Lentilha': 1\n",
    "          }\n",
    "print(my_dict)"
   ]
  },
  {
   "cell_type": "markdown",
   "metadata": {},
   "source": [
    "Podemos adicionar novas chaves ao dicionário utilizando a notação de indice:"
   ]
  },
  {
   "cell_type": "code",
   "execution_count": null,
   "metadata": {},
   "outputs": [],
   "source": [
    "my_dict['Soja'] = 9\n",
    "print(my_dict)"
   ]
  },
  {
   "cell_type": "markdown",
   "metadata": {},
   "source": [
    "Cada `key` deve ser única em um dicionário - se tentarmos inserir diferentes `values` para uma mesma `key`."
   ]
  },
  {
   "cell_type": "code",
   "execution_count": null,
   "metadata": {},
   "outputs": [],
   "source": [
    "my_dict = {\n",
    "            'Grão de Bico': 10,\n",
    "            'Grão de Bico': 8,\n",
    "            'Grão de Bico': 1\n",
    "          }\n",
    "my_dict['Grão de Bico'] = 9\n",
    "print(my_dict)"
   ]
  },
  {
   "cell_type": "markdown",
   "metadata": {},
   "source": [
    "Podemos utilizar esse mecânismo para atualizar os valores em um dicionário:"
   ]
  },
  {
   "cell_type": "code",
   "execution_count": null,
   "metadata": {},
   "outputs": [],
   "source": [
    "my_dict = {\n",
    "            'Grão de Bico': 10,\n",
    "            'Feijão': 8,\n",
    "            'Lentilha': 1\n",
    "          }"
   ]
  },
  {
   "cell_type": "code",
   "execution_count": null,
   "metadata": {},
   "outputs": [],
   "source": [
    "my_dict['Grão de Bico'] = 15\n",
    "print(my_dict)"
   ]
  },
  {
   "cell_type": "markdown",
   "metadata": {},
   "source": [
    "Também podemos guardar e utilizar os valores de um dicionário em variáveis:"
   ]
  },
  {
   "cell_type": "code",
   "execution_count": null,
   "metadata": {
    "ExecuteTime": {
     "end_time": "2020-07-10T00:10:26.565681Z",
     "start_time": "2020-07-10T00:10:26.560695Z"
    }
   },
   "outputs": [],
   "source": [
    "preco_10kg_gb = my_dict['Grão de Bico']*10\n",
    "print(preco_10kg_gb)"
   ]
  },
  {
   "cell_type": "markdown",
   "metadata": {},
   "source": [
    "## Métodos de Dicionários\n",
    "\n",
    "Embora um dicionário não seja diretamente iterável, podemos acessar os iteráveis que compõe um dicionário através de três métodos:\n",
    "\n",
    "- `.values` nos permite acessar os valores em um dicionário.\n",
    "\n",
    "- `.keys` nos permite acessar as chaves de um dicionário.\n",
    "\n",
    "- `.items` nos permite acessar os pares `key:value` como duplas `(key, value)`"
   ]
  },
  {
   "cell_type": "code",
   "execution_count": null,
   "metadata": {},
   "outputs": [],
   "source": [
    "my_dict.values()"
   ]
  },
  {
   "cell_type": "code",
   "execution_count": null,
   "metadata": {},
   "outputs": [],
   "source": [
    "my_dict.keys()"
   ]
  },
  {
   "cell_type": "code",
   "execution_count": null,
   "metadata": {},
   "outputs": [],
   "source": [
    "my_dict.items()"
   ]
  },
  {
   "cell_type": "code",
   "execution_count": null,
   "metadata": {},
   "outputs": [],
   "source": [
    "print(my_dict)"
   ]
  },
  {
   "cell_type": "code",
   "execution_count": null,
   "metadata": {},
   "outputs": [],
   "source": [
    "my_dict['Lentilha'] = 15\n",
    "print(my_dict)"
   ]
  },
  {
   "cell_type": "markdown",
   "metadata": {},
   "source": [
    "## Adicionando items ao dicionário\n",
    "\n",
    "Podemos criar novos itens utilizando a indexação, cuidando para que a `key` especificada não seja parte do dicionário."
   ]
  },
  {
   "cell_type": "code",
   "execution_count": null,
   "metadata": {},
   "outputs": [],
   "source": [
    "my_dict['Ervilha Partida'] = 9"
   ]
  },
  {
   "cell_type": "code",
   "execution_count": null,
   "metadata": {},
   "outputs": [],
   "source": [
    "my_dict.keys()"
   ]
  },
  {
   "cell_type": "code",
   "execution_count": null,
   "metadata": {},
   "outputs": [],
   "source": [
    "my_dict"
   ]
  },
  {
   "cell_type": "markdown",
   "metadata": {},
   "source": [
    "Também podemos adicionar/atualizar chaves e valores em um dicionário a partir de outros dicionários:"
   ]
  },
  {
   "cell_type": "code",
   "execution_count": null,
   "metadata": {},
   "outputs": [],
   "source": [
    "# using `.update()` function containing a new dict inside\n",
    "new_dict = dict()\n",
    "new_dict['Lentilha'] = 5\n",
    "new_dict['Arroz Integral'] = 8.5\n",
    "print(new_dict)"
   ]
  },
  {
   "cell_type": "markdown",
   "metadata": {},
   "source": [
    "Para tanto utilizaremos o método `.update`"
   ]
  },
  {
   "cell_type": "code",
   "execution_count": null,
   "metadata": {},
   "outputs": [],
   "source": [
    "my_dict.update(new_dict)\n",
    "print(my_dict)"
   ]
  },
  {
   "cell_type": "code",
   "execution_count": null,
   "metadata": {},
   "outputs": [],
   "source": [
    "print(my_dict)"
   ]
  },
  {
   "cell_type": "markdown",
   "metadata": {},
   "source": [
    "Além disso podemos utilizar outros iteráveis para criar dicionários:"
   ]
  },
  {
   "cell_type": "code",
   "execution_count": null,
   "metadata": {},
   "outputs": [],
   "source": [
    "graos = ['Feijão Branco', 'Lentilha Síria', 'Feijão Branco']\n",
    "valores = [9.50, 13, 8.50]"
   ]
  },
  {
   "cell_type": "code",
   "execution_count": null,
   "metadata": {},
   "outputs": [],
   "source": [
    "for i in range(len(graos)):\n",
    "    print(graos[i], valores[i])\n",
    "    my_dict[graos[i]] = valores[i]"
   ]
  },
  {
   "cell_type": "code",
   "execution_count": null,
   "metadata": {},
   "outputs": [],
   "source": [
    "print(my_dict)"
   ]
  },
  {
   "cell_type": "markdown",
   "metadata": {},
   "source": [
    "Também podemos utilizar uma lista de duplas para criar ou atualizar um dicionário:"
   ]
  },
  {
   "cell_type": "code",
   "execution_count": null,
   "metadata": {},
   "outputs": [],
   "source": [
    "novos_precos = [('Lentilha Verde', 9), ('Abobrinha', 3), ('Beringela', 8)]"
   ]
  },
  {
   "cell_type": "markdown",
   "metadata": {},
   "source": [
    "Ao invés de indexar as tuplas dentro da lista, utilizaremos o desempacotamento dentro do loop:"
   ]
  },
  {
   "cell_type": "code",
   "execution_count": null,
   "metadata": {},
   "outputs": [],
   "source": [
    "for produto, preco in novos_precos:\n",
    "    my_dict[produto] = preco\n",
    "print(my_dict)"
   ]
  },
  {
   "cell_type": "markdown",
   "metadata": {},
   "source": [
    "## Um valor pode ser qualquer coisa (até outros dicionários!)\n",
    "\n",
    "Vamos construir um exemplo mais complexo de um dicionário com múltiplos tipos de valores."
   ]
  },
  {
   "cell_type": "code",
   "execution_count": null,
   "metadata": {},
   "outputs": [],
   "source": [
    "casa = dict()\n",
    "casa['id'] = 1\n",
    "casa['tamanho'] = 80\n",
    "casa['dim_terreno'] = (20, 30)\n",
    "casa['endereco'] = dict()\n",
    "casa['endereco']['rua'] = 'Al. das Maritacas'\n",
    "casa['endereco']['numero'] = 1637\n",
    "casa['endereco']['bairro'] = 'Cidade Jardim'\n",
    "casa['endereco']['cep'] = 39272440\n",
    "print(casa)"
   ]
  },
  {
   "cell_type": "code",
   "execution_count": null,
   "metadata": {},
   "outputs": [],
   "source": [
    "print(type(casa))\n",
    "print(type(casa['dim_terreno']))\n",
    "print(type(casa['endereco']))"
   ]
  },
  {
   "cell_type": "code",
   "execution_count": null,
   "metadata": {},
   "outputs": [],
   "source": [
    "print(casa['endereco']['rua'])"
   ]
  },
  {
   "cell_type": "markdown",
   "metadata": {},
   "source": [
    "## Um exemplo real\n",
    "Vamos analisar um exemplo comumente encontrado em análise de dados: extração de dados de uma API. Para este exemplo usaremos a API do Ambee (https://www.getambee.com/) para extrair dados de qualidade do ar em três cidades (São Paulo, Belo Horizonte e a pujante métropole de Pirassununga). Veremos formas de entender o que uma API retorna utilizando os métodos de dicionários"
   ]
  },
  {
   "cell_type": "code",
   "execution_count": 3,
   "metadata": {},
   "outputs": [],
   "source": [
    "import requests\n",
    "TOKEN = '4a22655cd1da7765d31813e29eee29709ad9be4aa572e9a673d54226dd94ab6f'\n",
    "url = \"https://api.ambeedata.com/latest/by-city\"\n",
    "headers = {\n",
    "    'x-api-key': TOKEN,\n",
    "    'Content-type': \"application/json\"\n",
    "    }"
   ]
  },
  {
   "cell_type": "code",
   "execution_count": 4,
   "metadata": {},
   "outputs": [],
   "source": [
    "querystring = {\"city\":\"Sao Paulo\"}\n",
    "response = requests.request(\"GET\", url, headers=headers, params=querystring)\n",
    "ql_ar_sp = response.json()"
   ]
  },
  {
   "cell_type": "code",
   "execution_count": 5,
   "metadata": {},
   "outputs": [],
   "source": [
    "querystring = {\"city\":\"Belo Horizonte\"}\n",
    "response = requests.request(\"GET\", url, headers=headers, params=querystring)\n",
    "ql_ar_bh = response.json()"
   ]
  },
  {
   "cell_type": "code",
   "execution_count": 6,
   "metadata": {},
   "outputs": [],
   "source": [
    "querystring = {\"city\":\"Pirassununga\"}\n",
    "response = requests.request(\"GET\", url, headers=headers, params=querystring)\n",
    "ql_ar_pira = response.json()"
   ]
  },
  {
   "cell_type": "code",
   "execution_count": 7,
   "metadata": {},
   "outputs": [
    {
     "name": "stdout",
     "output_type": "stream",
     "text": [
      "{'message': 'success', 'stations': [{'CO': 0.709, 'NO2': 7.994, 'OZONE': 26.411, 'PM10': 61.681, 'PM25': 43.146, 'SO2': 3.978, 'city': None, 'countryCode': 'BR', 'division': None, 'lat': -23.627, 'lng': -46.635, 'placeName': 'São Paulo', 'postalCode': '01000-000', 'state': 'Sao Paulo', 'updatedAt': '2023-01-14T10:00:00.000Z', 'aqiInfo': {'pollutant': 'PM2.5', 'concentration': 43.146, 'category': 'Unhealthy for Sensitive Groups'}, 'AQI': 120}]}\n"
     ]
    }
   ],
   "source": [
    "print(ql_ar_sp)"
   ]
  },
  {
   "cell_type": "markdown",
   "metadata": {},
   "source": [
    "## Iterando por um dicionário\n",
    "\n",
    "Ao contrário de listas e tuplas, dicionários não podem ser iterados diretamente. Para tanto precisamos usar os métodos `.keys()`, `.items()` ou `.items()`"
   ]
  },
  {
   "cell_type": "code",
   "execution_count": null,
   "metadata": {},
   "outputs": [],
   "source": [
    "for chave in casa:\n",
    "    print(chave)"
   ]
  },
  {
   "cell_type": "code",
   "execution_count": null,
   "metadata": {
    "ExecuteTime": {
     "end_time": "2020-07-10T00:32:18.522307Z",
     "start_time": "2020-07-10T00:32:18.518319Z"
    }
   },
   "outputs": [],
   "source": [
    "for chave in casa.keys():\n",
    "    print(f'{chave}: {casa[chave]}')"
   ]
  },
  {
   "cell_type": "code",
   "execution_count": null,
   "metadata": {},
   "outputs": [],
   "source": [
    "for atributo in casa.items():\n",
    "    print(atributo)"
   ]
  },
  {
   "cell_type": "code",
   "execution_count": null,
   "metadata": {},
   "outputs": [],
   "source": [
    "for valor in casa.values():\n",
    "    print(valor)"
   ]
  },
  {
   "cell_type": "markdown",
   "metadata": {},
   "source": [
    "## Percorrendo os itens de um dicionário\n",
    "\n",
    "Podemos utilizar o desempacotamento de valores para converter o resultado do método `.items()` e variáveis distintas dentro de um loop:"
   ]
  },
  {
   "cell_type": "code",
   "execution_count": null,
   "metadata": {},
   "outputs": [],
   "source": [
    "my_dict = {\n",
    "            'Grão de Bico': 10,\n",
    "            'Feijão': 8,\n",
    "            'Lentilha': 1\n",
    "          }"
   ]
  },
  {
   "cell_type": "code",
   "execution_count": null,
   "metadata": {},
   "outputs": [],
   "source": [
    "print(my_dict.items())"
   ]
  },
  {
   "cell_type": "code",
   "execution_count": null,
   "metadata": {},
   "outputs": [],
   "source": [
    "for grao, preco in my_dict.items():\n",
    "    if grao == 'Feijão' or grao == 'Lentilha':\n",
    "        print(preco)"
   ]
  },
  {
   "cell_type": "markdown",
   "metadata": {},
   "source": [
    "## O Operador `in`"
   ]
  },
  {
   "cell_type": "code",
   "execution_count": null,
   "metadata": {
    "ExecuteTime": {
     "end_time": "2020-07-10T00:35:27.646645Z",
     "start_time": "2020-07-10T00:35:27.642656Z"
    }
   },
   "outputs": [],
   "source": [
    "1 in [1, 2, 3]"
   ]
  },
  {
   "cell_type": "code",
   "execution_count": null,
   "metadata": {},
   "outputs": [],
   "source": [
    "8 in my_dict.values()"
   ]
  },
  {
   "cell_type": "markdown",
   "metadata": {},
   "source": [
    "este operador funciona em qualquer iterável:"
   ]
  },
  {
   "cell_type": "code",
   "execution_count": null,
   "metadata": {},
   "outputs": [],
   "source": [
    "'abcd' in 'abc'"
   ]
  },
  {
   "cell_type": "code",
   "execution_count": null,
   "metadata": {},
   "outputs": [],
   "source": [
    "'abc' in 'abcd'"
   ]
  },
  {
   "cell_type": "code",
   "execution_count": null,
   "metadata": {
    "ExecuteTime": {
     "end_time": "2020-07-10T00:35:58.854050Z",
     "start_time": "2020-07-10T00:35:58.851057Z"
    }
   },
   "outputs": [],
   "source": [
    "1 in (1, 2, 3)"
   ]
  },
  {
   "cell_type": "markdown",
   "metadata": {},
   "source": [
    "# Conjuntos (`sets`)\n",
    "\n",
    "Os conjuntos são como dicionários - no entanto contém apenas chaves. Isso significa que um conjunto só pode ter elementos únicos."
   ]
  },
  {
   "cell_type": "code",
   "execution_count": null,
   "metadata": {},
   "outputs": [],
   "source": [
    "my_list = ['Pedro', 'Adriano', 'Pedro', 'Adriano', 'Pedro', 'Adriano']"
   ]
  },
  {
   "cell_type": "code",
   "execution_count": null,
   "metadata": {},
   "outputs": [],
   "source": [
    "my_list"
   ]
  },
  {
   "cell_type": "code",
   "execution_count": null,
   "metadata": {},
   "outputs": [],
   "source": [
    "set(my_list)"
   ]
  },
  {
   "cell_type": "markdown",
   "metadata": {},
   "source": [
    "Se precisamos encontrar o número de elementos únicos em uma lista, podemos converte-la em um conjunto:"
   ]
  },
  {
   "cell_type": "code",
   "execution_count": null,
   "metadata": {
    "ExecuteTime": {
     "end_time": "2020-07-10T00:41:55.690528Z",
     "start_time": "2020-07-10T00:41:55.686511Z"
    }
   },
   "outputs": [],
   "source": [
    "list_x = [1,2,3,4,4,4,4,4,5,6,6,6,7,7,8]\n",
    "set_x = set(list_x)\n",
    "print(f'Tamanho da lista: {len(list_x)}, tamanho do set: {len(set_x)}')"
   ]
  },
  {
   "cell_type": "markdown",
   "metadata": {},
   "source": [
    "## Métodos de `sets`\n",
    "\n",
    "- `.intersection()` retorna os elementos em comum em 2 conjuntos;\n",
    "- `.difference()` retorna os elementos do conjunto que não são comuns à outro conjunto;\n",
    "- `.union()` retorna a combinação dos elementos de 2 conjuntos;\n"
   ]
  },
  {
   "cell_type": "code",
   "execution_count": null,
   "metadata": {},
   "outputs": [],
   "source": [
    "x = {1, 2, 3, 4, 5, 6, 7, 8}"
   ]
  },
  {
   "cell_type": "code",
   "execution_count": null,
   "metadata": {},
   "outputs": [],
   "source": [
    "y = {6, 7, 8, 9, 10, 11, 12}"
   ]
  },
  {
   "cell_type": "code",
   "execution_count": null,
   "metadata": {
    "ExecuteTime": {
     "end_time": "2020-07-10T00:44:50.502397Z",
     "start_time": "2020-07-10T00:44:50.498409Z"
    }
   },
   "outputs": [],
   "source": [
    "x.intersection(y)"
   ]
  },
  {
   "cell_type": "code",
   "execution_count": null,
   "metadata": {},
   "outputs": [],
   "source": [
    "y.intersection(x)"
   ]
  },
  {
   "cell_type": "code",
   "execution_count": null,
   "metadata": {},
   "outputs": [],
   "source": [
    "x.difference(y)"
   ]
  },
  {
   "cell_type": "code",
   "execution_count": null,
   "metadata": {},
   "outputs": [],
   "source": [
    "y.difference(x)"
   ]
  },
  {
   "cell_type": "code",
   "execution_count": null,
   "metadata": {},
   "outputs": [],
   "source": [
    "x-y # x.difference(y)"
   ]
  },
  {
   "cell_type": "code",
   "execution_count": null,
   "metadata": {},
   "outputs": [],
   "source": [
    "y-x # y.difference(y)"
   ]
  },
  {
   "cell_type": "code",
   "execution_count": null,
   "metadata": {},
   "outputs": [],
   "source": [
    "x.union(y)"
   ]
  },
  {
   "cell_type": "code",
   "execution_count": null,
   "metadata": {},
   "outputs": [],
   "source": [
    "(x-y).union(y-x)"
   ]
  },
  {
   "cell_type": "code",
   "execution_count": null,
   "metadata": {},
   "outputs": [],
   "source": [
    "x.symmetric_difference(y)"
   ]
  },
  {
   "cell_type": "code",
   "execution_count": null,
   "metadata": {},
   "outputs": [],
   "source": [
    "x = set([1,2,3])"
   ]
  },
  {
   "cell_type": "code",
   "execution_count": null,
   "metadata": {},
   "outputs": [],
   "source": [
    "set([1,2,3, 25]).issubset(x)"
   ]
  },
  {
   "cell_type": "code",
   "execution_count": null,
   "metadata": {
    "ExecuteTime": {
     "end_time": "2020-07-10T00:47:18.291003Z",
     "start_time": "2020-07-10T00:47:18.286016Z"
    }
   },
   "outputs": [],
   "source": [
    "# Exemplo prático\n",
    "col_names = set(['qtd_cartoes', 'vlr_cartao','qtd_cheques','vlr_cheques'])\n",
    "\n",
    "incoming_col_names = set(['qtd_cartoes', 'vlr_cartao','qtd_cheques','vlr_cheques'])\n",
    "\n",
    "missing_columns = col_names.difference(incoming_col_names)\n",
    "print(f'Missing columns: {missing_columns}')"
   ]
  },
  {
   "cell_type": "code",
   "execution_count": null,
   "metadata": {},
   "outputs": [],
   "source": [
    "print(f'Missing columns: {set(col_names) - set(incoming_col_names)}')"
   ]
  },
  {
   "cell_type": "code",
   "execution_count": null,
   "metadata": {},
   "outputs": [],
   "source": [
    "my_dict.values()"
   ]
  }
 ],
 "metadata": {
  "kernelspec": {
   "display_name": "Python 3 (ipykernel)",
   "language": "python",
   "name": "python3"
  },
  "language_info": {
   "codemirror_mode": {
    "name": "ipython",
    "version": 3
   },
   "file_extension": ".py",
   "mimetype": "text/x-python",
   "name": "python",
   "nbconvert_exporter": "python",
   "pygments_lexer": "ipython3",
   "version": "3.9.11"
  },
  "toc": {
   "base_numbering": 1,
   "nav_menu": {},
   "number_sections": true,
   "sideBar": true,
   "skip_h1_title": false,
   "title_cell": "Table of Contents",
   "title_sidebar": "Contents",
   "toc_cell": false,
   "toc_position": {},
   "toc_section_display": true,
   "toc_window_display": false
  },
  "varInspector": {
   "cols": {
    "lenName": 16,
    "lenType": 16,
    "lenVar": 40
   },
   "kernels_config": {
    "python": {
     "delete_cmd_postfix": "",
     "delete_cmd_prefix": "del ",
     "library": "var_list.py",
     "varRefreshCmd": "print(var_dic_list())"
    },
    "r": {
     "delete_cmd_postfix": ") ",
     "delete_cmd_prefix": "rm(",
     "library": "var_list.r",
     "varRefreshCmd": "cat(var_dic_list()) "
    }
   },
   "types_to_exclude": [
    "module",
    "function",
    "builtin_function_or_method",
    "instance",
    "_Feature"
   ],
   "window_display": false
  }
 },
 "nbformat": 4,
 "nbformat_minor": 4
}
