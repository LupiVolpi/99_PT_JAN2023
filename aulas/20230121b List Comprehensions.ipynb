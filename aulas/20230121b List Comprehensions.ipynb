{
 "cells": [
  {
   "cell_type": "markdown",
   "metadata": {},
   "source": [
    "# Aula VI - List Comprehensions\n",
    "\n",
    "O paradigma de programação funcional trata loops como a aplicação de uma função (o corpo do loop) à uma coleção de objetos (o iterável do loop). Hoje veremos como utilizar uma das ferramentas de programação funcional, as list comprehensions, para simplificar a execução de um padrão comum.\n",
    "\n",
    "## Criando listas com loops\n",
    "\n",
    "Vimos um padrão ocorer algumas vezes tanto em aula quanto nos labs: criamos uma lista vazia, utilizamos um loop para percorrer um iterável e guardamos o resultado deste loop em nossa lista vazia. Vamos ver um exemplo simples desse padrão:"
   ]
  },
  {
   "cell_type": "code",
   "execution_count": null,
   "metadata": {},
   "outputs": [],
   "source": [
    "# crie uma lista que tenha os número de outra lista ao quadrado\n",
    "lista_orig = [1, 2, 6, 10, 24, 42]"
   ]
  },
  {
   "cell_type": "code",
   "execution_count": 6,
   "metadata": {},
   "outputs": [
    {
     "name": "stdout",
     "output_type": "stream",
     "text": [
      "[1, 4, 36, 100, 576, 1764]\n"
     ]
    }
   ],
   "source": [
    "lista_vazia = []\n",
    "for item in lista_orig:\n",
    "    lista_vazia.append(item ** 2)"
   ]
  },
  {
   "cell_type": "code",
   "execution_count": null,
   "metadata": {},
   "outputs": [],
   "source": [
    "print(lista_vazia)"
   ]
  },
  {
   "cell_type": "markdown",
   "metadata": {},
   "source": [
    "## Comprehensions\n",
    "\n",
    "As `list comprehensions` existem para simplificar a construção deste padrão! Ao invés de criar uma lista e fazer um loop, criaremos a `lista_vazia` de forma que ela já execute este loop."
   ]
  },
  {
   "cell_type": "code",
   "execution_count": 8,
   "metadata": {},
   "outputs": [],
   "source": [
    "lista_orig = [1, 2, 6, 10, 24, 42]"
   ]
  },
  {
   "cell_type": "code",
   "execution_count": 7,
   "metadata": {
    "ExecuteTime": {
     "end_time": "2020-06-03T14:42:07.887522Z",
     "start_time": "2020-06-03T14:42:07.883533Z"
    }
   },
   "outputs": [
    {
     "name": "stdout",
     "output_type": "stream",
     "text": [
      "[1, 4, 36, 100, 576, 1764]\n"
     ]
    }
   ],
   "source": [
    "# lista_vazia = []\n",
    "# for item in lista_orig\n",
    "new_lc = [item**2 for item in lista_orig]"
   ]
  },
  {
   "cell_type": "code",
   "execution_count": 10,
   "metadata": {},
   "outputs": [
    {
     "data": {
      "text/plain": [
       "[1, 4, 36, 100, 576, 1764]"
      ]
     },
     "execution_count": 10,
     "metadata": {},
     "output_type": "execute_result"
    }
   ],
   "source": [
    "[item**2 for item in lista_orig]"
   ]
  },
  {
   "cell_type": "code",
   "execution_count": 9,
   "metadata": {},
   "outputs": [
    {
     "name": "stdout",
     "output_type": "stream",
     "text": [
      "[1, 4, 36, 100, 576, 1764]\n"
     ]
    }
   ],
   "source": [
    "print(new_lc)"
   ]
  },
  {
   "cell_type": "code",
   "execution_count": 12,
   "metadata": {},
   "outputs": [
    {
     "data": {
      "text/plain": [
       "[1, 2, 3, 4, 5, 6, 7, 8, 9, 10]"
      ]
     },
     "execution_count": 12,
     "metadata": {},
     "output_type": "execute_result"
    }
   ],
   "source": [
    "[item+1 for item in range(10)]"
   ]
  },
  {
   "cell_type": "code",
   "execution_count": 13,
   "metadata": {},
   "outputs": [],
   "source": [
    "lista_vazia = []\n",
    "for item in range(10):\n",
    "    lista_vazia.append(item + 1)\n",
    "lista_vazia"
   ]
  },
  {
   "cell_type": "markdown",
   "metadata": {},
   "source": [
    "## Funções em `list comprehensions`\n",
    "\n",
    "Vimos na introdução que o paradigma funcional é pensado a partir da aplicação de funções à conjuntos. Sendo assim, é natural que podemos aplciar funções dentro de uma `list comprehension`!"
   ]
  },
  {
   "cell_type": "code",
   "execution_count": 15,
   "metadata": {},
   "outputs": [],
   "source": [
    "def quadrado(x):\n",
    "    '''\n",
    "    Retorna o quadrado de um número.\n",
    "    Parameters:\n",
    "        x Float: número a ser elevado ao quadrado\n",
    "    Returns:\n",
    "        Float: x ao quadrado\n",
    "    '''\n",
    "    return x ** 2"
   ]
  },
  {
   "cell_type": "code",
   "execution_count": 16,
   "metadata": {},
   "outputs": [],
   "source": [
    "new_lc = [quadrado(item) for item in range(10)]"
   ]
  },
  {
   "cell_type": "code",
   "execution_count": 17,
   "metadata": {},
   "outputs": [
    {
     "name": "stdout",
     "output_type": "stream",
     "text": [
      "[0, 1, 4, 9, 16, 25, 36, 49, 64, 81]\n"
     ]
    }
   ],
   "source": [
    "print(new_lc)"
   ]
  },
  {
   "cell_type": "code",
   "execution_count": 18,
   "metadata": {},
   "outputs": [
    {
     "data": {
      "text/plain": [
       "[0, 1, 16, 81, 256, 625, 1296, 2401, 4096, 6561]"
      ]
     },
     "execution_count": 18,
     "metadata": {},
     "output_type": "execute_result"
    }
   ],
   "source": [
    "[quadrado(item) for item in [quadrado(novo_item) for novo_item in range(10)]]"
   ]
  },
  {
   "cell_type": "markdown",
   "metadata": {
    "ExecuteTime": {
     "end_time": "2020-07-16T22:46:10.223420Z",
     "start_time": "2020-07-16T22:46:10.219430Z"
    }
   },
   "source": [
    "## Filtros em `list comprehension`\n",
    "\n",
    "Vimos até agora formas de aplicar funções (definidas explicitamente ou implicitamente) aos elementos de um iterável utilizando `list comprehension`. No entanto, muitos loops que seguem este padrão não são tão simples. Vamos ver um destes casos: a aplicação de um filtro sobre os elementos do iterável."
   ]
  },
  {
   "cell_type": "code",
   "execution_count": 20,
   "metadata": {},
   "outputs": [
    {
     "data": {
      "text/plain": [
       "[0, 1, 2, 3, 4, 5, 6, 7, 8, 9]"
      ]
     },
     "execution_count": 20,
     "metadata": {},
     "output_type": "execute_result"
    }
   ],
   "source": [
    "list_numeros = list(range(10))\n",
    "list_numeros"
   ]
  },
  {
   "cell_type": "code",
   "execution_count": 22,
   "metadata": {
    "ExecuteTime": {
     "end_time": "2020-06-03T14:49:13.891051Z",
     "start_time": "2020-06-03T14:49:13.887055Z"
    }
   },
   "outputs": [
    {
     "name": "stdout",
     "output_type": "stream",
     "text": [
      "[0, 2, 4, 6, 8]\n"
     ]
    }
   ],
   "source": [
    "new_list = []\n",
    "\n",
    "for item in list_numeros:\n",
    "    if item % 2 == 0:\n",
    "        new_list.append(item)\n",
    "        \n",
    "print(new_list)"
   ]
  },
  {
   "cell_type": "markdown",
   "metadata": {},
   "source": [
    "O loop acima utiliza o operador `%` para verificar se um número é par ou impar, e guarda em nossa lista vazia apenas os números pares.\n",
    "\n",
    "Para conseguir replica-lo em uma `list comprehension` precisamos aprender uma nova forma de sintáxe:"
   ]
  },
  {
   "cell_type": "code",
   "execution_count": 24,
   "metadata": {
    "ExecuteTime": {
     "end_time": "2020-06-03T14:51:30.490979Z",
     "start_time": "2020-06-03T14:51:30.487961Z"
    }
   },
   "outputs": [
    {
     "name": "stdout",
     "output_type": "stream",
     "text": [
      "[0, 2, 4, 6, 8]\n"
     ]
    }
   ],
   "source": [
    "new_lc = [x for x in list_numeros if x % 2 == 0]\n",
    "print(new_lc)"
   ]
  },
  {
   "cell_type": "markdown",
   "metadata": {},
   "source": [
    "As `list comprehension` condicionais tem todas as funcionalidades: podemos realizar operações com os elementos do iterável e podemos aplicar funções."
   ]
  },
  {
   "cell_type": "code",
   "execution_count": 25,
   "metadata": {
    "ExecuteTime": {
     "end_time": "2020-06-03T14:52:05.976206Z",
     "start_time": "2020-06-03T14:52:05.971216Z"
    }
   },
   "outputs": [
    {
     "name": "stdout",
     "output_type": "stream",
     "text": [
      "[0, 4, 16, 36, 64]\n"
     ]
    }
   ],
   "source": [
    "new_list = []\n",
    "\n",
    "for item in range(10):\n",
    "    if item % 2 == 0:\n",
    "        new_list.append(item ** 2)\n",
    "        \n",
    "print(new_list)"
   ]
  },
  {
   "cell_type": "code",
   "execution_count": 26,
   "metadata": {
    "ExecuteTime": {
     "end_time": "2020-06-03T14:53:07.801931Z",
     "start_time": "2020-06-03T14:53:07.796944Z"
    }
   },
   "outputs": [
    {
     "name": "stdout",
     "output_type": "stream",
     "text": [
      "[0, 4, 16, 36, 64]\n"
     ]
    }
   ],
   "source": [
    "new_lc = [x ** 2 for x in range(10) if x % 2 == 0]\n",
    "print(new_lc)"
   ]
  },
  {
   "cell_type": "code",
   "execution_count": 27,
   "metadata": {},
   "outputs": [],
   "source": [
    "def gosto_de_pares(x):\n",
    "    '''\n",
    "    Retorna o string 'Woop!' quando um número é par e o\n",
    "    string 'BOOOO!' quando o número é impar.\n",
    "    Parameters:\n",
    "        x Integer: número a ser analisado\n",
    "    Returns:\n",
    "        string: Woop! ou BOOOO!\n",
    "    '''\n",
    "    if x % 2 == 0:\n",
    "        return 'Woop!'\n",
    "    else:\n",
    "        return 'BOOOO!'"
   ]
  },
  {
   "cell_type": "code",
   "execution_count": 29,
   "metadata": {},
   "outputs": [
    {
     "name": "stdout",
     "output_type": "stream",
     "text": [
      "['BOOOO!', 'BOOOO!', 'BOOOO!', 'BOOOO!', 'BOOOO!']\n"
     ]
    }
   ],
   "source": [
    "new_lc = []\n",
    "\n",
    "for i in range(10):\n",
    "    if i % 2 != 0:\n",
    "        new_lc.append(gosto_de_pares(i))\n",
    "\n",
    "print(new_lc)"
   ]
  },
  {
   "cell_type": "code",
   "execution_count": 30,
   "metadata": {},
   "outputs": [
    {
     "name": "stdout",
     "output_type": "stream",
     "text": [
      "['Woop!', 'Woop!', 'Woop!', 'Woop!', 'Woop!']\n"
     ]
    }
   ],
   "source": [
    "new_lc = [gosto_de_pares(x) for x in range(10) if x % 2 == 0]\n",
    "print(new_lc)"
   ]
  },
  {
   "cell_type": "markdown",
   "metadata": {},
   "source": [
    "## Dois loops `for`\n",
    "\n",
    "Até agora utilizamos as `comprehensions` para percorrer listas simples (o equivalente de **um** loop `for`). Mas, como vimos no pré-work e nas primeiras aulas, podemos executar loops dentro de loops. Um exemplo simples é percorrendo listas de listas (ou listas de tuplas).\n",
    "\n",
    "Vamos ver um caso dessa aplicação e como resolver o mesmo problema através de `list comprehensions`. Temos uma lista de listas e precisamos guardar, em uma lista chata, os elementos das listas internas que forem maior que 5."
   ]
  },
  {
   "cell_type": "code",
   "execution_count": 31,
   "metadata": {
    "ExecuteTime": {
     "end_time": "2020-06-03T15:09:43.009113Z",
     "start_time": "2020-06-03T15:09:43.005124Z"
    }
   },
   "outputs": [
    {
     "name": "stdout",
     "output_type": "stream",
     "text": [
      "[6, 7, 8, 6, 8]\n"
     ]
    }
   ],
   "source": [
    "list_of_lists = [[1,2,3,4], [5,6,7,8], [1,3,6,8]]\n",
    "my_results = []\n",
    "\n",
    "for lista in list_of_lists:\n",
    "    for item in lista:\n",
    "        if item > 5:    \n",
    "            my_results.append(item)\n",
    "#\n",
    "print(my_results)"
   ]
  },
  {
   "cell_type": "code",
   "execution_count": null,
   "metadata": {},
   "outputs": [],
   "source": [
    "# 1a iteração do loop externo\n",
    "lista = [1,2,3,4]\n",
    "## 1a iteração do loop interno\n",
    "item = 1\n",
    "## 2a iteração do loop interno\n",
    "item = 2\n",
    "...\n",
    "# 2a iteração do loop externo\n",
    "lista = [5,6,7,8]"
   ]
  },
  {
   "cell_type": "markdown",
   "metadata": {},
   "source": [
    "A sintáxe do loop duplo é um pouco complexa nas `comprehensions` então precisamos prestar atenção na ordem dos elementos:\n",
    "\n",
    "- **O QUE VAMOS FAZER** a função que vamos aplicar\n",
    "\n",
    "- **for lista in list_of_lists** percorre a lista de listas, extraindo cada lista\n",
    "\n",
    "- **for item in lista** percorre os items de cada lista\n",
    "\n",
    "- **CONDICIONAL** quando aplicamos a função e guardamos o resultado\n"
   ]
  },
  {
   "cell_type": "code",
   "execution_count": 32,
   "metadata": {},
   "outputs": [],
   "source": [
    "new_lc = [\n",
    "    item\n",
    "    for lista in list_of_lists\n",
    "    for item in lista \n",
    "    if item > 5\n",
    "    ]"
   ]
  },
  {
   "cell_type": "code",
   "execution_count": 33,
   "metadata": {},
   "outputs": [
    {
     "name": "stdout",
     "output_type": "stream",
     "text": [
      "[6, 7, 8, 6, 8]\n"
     ]
    }
   ],
   "source": [
    "print(new_lc)"
   ]
  },
  {
   "cell_type": "markdown",
   "metadata": {},
   "source": [
    "A forma mais comum de escrever esse tipo de operação é em uma linha só:"
   ]
  },
  {
   "cell_type": "code",
   "execution_count": null,
   "metadata": {},
   "outputs": [],
   "source": [
    "new_lc = [item for lista in list_of_lists for item in lista  if item > 5]"
   ]
  },
  {
   "cell_type": "markdown",
   "metadata": {},
   "source": [
    "## Aplicação condicional de Funções\n",
    "\n",
    "Além de poder filtrar os elementos sobre o qual aplicamos uma função, podemos utilizar condicionais em um loop para aplicar funções diferentes."
   ]
  },
  {
   "cell_type": "code",
   "execution_count": 35,
   "metadata": {},
   "outputs": [
    {
     "name": "stdout",
     "output_type": "stream",
     "text": [
      "[0, 1, 2, 3, 4, 5, 6, 7, 8, 9]\n"
     ]
    }
   ],
   "source": [
    "lista_numeros = list(range(10))\n",
    "print(lista_numeros)"
   ]
  },
  {
   "cell_type": "code",
   "execution_count": 36,
   "metadata": {
    "ExecuteTime": {
     "end_time": "2020-06-03T15:11:55.148634Z",
     "start_time": "2020-06-03T15:11:55.142650Z"
    }
   },
   "outputs": [],
   "source": [
    "resultado = []\n",
    "for item in lista_numeros:\n",
    "    if item < 5:\n",
    "        resultado.append(0)\n",
    "    else:\n",
    "        resultado.append(1)"
   ]
  },
  {
   "cell_type": "code",
   "execution_count": 37,
   "metadata": {},
   "outputs": [
    {
     "name": "stdout",
     "output_type": "stream",
     "text": [
      "[0, 1, 2, 3, 4, 5, 6, 7, 8, 9]\n",
      "[0, 0, 0, 0, 0, 1, 1, 1, 1, 1]\n"
     ]
    }
   ],
   "source": [
    "print(lista_numeros)\n",
    "print(resultado)"
   ]
  },
  {
   "cell_type": "code",
   "execution_count": 38,
   "metadata": {
    "ExecuteTime": {
     "end_time": "2020-06-03T15:12:45.198991Z",
     "start_time": "2020-06-03T15:12:45.194006Z"
    }
   },
   "outputs": [],
   "source": [
    "new_lc = [\n",
    "    0 if i < 5 \n",
    "    else 1 \n",
    "    for i in range(10)\n",
    "    ]"
   ]
  },
  {
   "cell_type": "code",
   "execution_count": 39,
   "metadata": {},
   "outputs": [
    {
     "name": "stdout",
     "output_type": "stream",
     "text": [
      "[0, 1, 2, 3, 4, 5, 6, 7, 8, 9]\n",
      "[0, 0, 0, 0, 0, 1, 1, 1, 1, 1]\n"
     ]
    }
   ],
   "source": [
    "print(list(range(10)))\n",
    "print(new_lc)"
   ]
  },
  {
   "cell_type": "code",
   "execution_count": 40,
   "metadata": {},
   "outputs": [],
   "source": [
    "new_lc = [\n",
    "    i ** 2 if i < 5 \n",
    "    else i/2 \n",
    "    for i in range(10)\n",
    "    if i < 7\n",
    "    ]"
   ]
  },
  {
   "cell_type": "code",
   "execution_count": 42,
   "metadata": {},
   "outputs": [
    {
     "name": "stdout",
     "output_type": "stream",
     "text": [
      "[0, 1, 2, 3, 4, 5, 6, 7, 8, 9]\n",
      "[0, 1, 4, 9, 16, 2.5, 3.0]\n"
     ]
    }
   ],
   "source": [
    "print(list(range(10)))\n",
    "print(new_lc)"
   ]
  },
  {
   "cell_type": "markdown",
   "metadata": {},
   "source": [
    "## Iteração dupla\n",
    "\n",
    "Vimos que podemos 'desempacotar' valores na declaração de um loop - podemos fazer o mesmo em `comprehensions`."
   ]
  },
  {
   "cell_type": "code",
   "execution_count": 45,
   "metadata": {},
   "outputs": [
    {
     "name": "stdout",
     "output_type": "stream",
     "text": [
      "[361, 1728, 20736, 225]\n"
     ]
    }
   ],
   "source": [
    "lista_uplas = [(19, 2), (12, 3), (12, 4), (15, 2)]\n",
    "lista_vazia = []\n",
    "\n",
    "for x, y in lista_uplas:\n",
    "    lista_vazia.append(x ** y)\n",
    "\n",
    "print(lista_vazia)"
   ]
  },
  {
   "cell_type": "code",
   "execution_count": 46,
   "metadata": {},
   "outputs": [
    {
     "name": "stdout",
     "output_type": "stream",
     "text": [
      "361\n",
      "1728\n"
     ]
    }
   ],
   "source": [
    "# 1a Iteração\n",
    "x = 19\n",
    "y = 2\n",
    "print(x ** y)\n",
    "# 1a Iteração\n",
    "x = 12\n",
    "y = 3\n",
    "print(x ** y)"
   ]
  },
  {
   "cell_type": "markdown",
   "metadata": {},
   "source": [
    "Vejamos a sintaxe em `comprehensions`:"
   ]
  },
  {
   "cell_type": "code",
   "execution_count": 47,
   "metadata": {},
   "outputs": [
    {
     "name": "stdout",
     "output_type": "stream",
     "text": [
      "[361, 1728, 20736, 225]\n"
     ]
    }
   ],
   "source": [
    "lista_uplas = [(19, 2), (12, 3), (12, 4), (15, 2)]\n",
    "\n",
    "new_lc = [x ** y for x, y in lista_uplas]\n",
    "print(new_lc)"
   ]
  },
  {
   "cell_type": "markdown",
   "metadata": {},
   "source": [
    "# Aplicações\n",
    "Vamos ver como podemos utilizar programação funcional para simplificar nosso código em situções práticas."
   ]
  },
  {
   "cell_type": "markdown",
   "metadata": {},
   "source": [
    "## Aplicação - Filtrando Arquivos pela Extensão\n",
    "\n",
    "Vamos utilizar a função `os.listdir()` para construir uma lista com o nome de todos os arquivos em uma pasta. Precisamos filtrar esses nomes a partir da extensão de cada arquivo, mantendo apenas os arquivos `.csv`"
   ]
  },
  {
   "cell_type": "code",
   "execution_count": 51,
   "metadata": {
    "ExecuteTime": {
     "end_time": "2020-06-03T15:13:51.770836Z",
     "start_time": "2020-06-03T15:13:51.765850Z"
    }
   },
   "outputs": [
    {
     "name": "stdout",
     "output_type": "stream",
     "text": [
      "['.DS_Store', 'knn.png', 'PLS.png', 'boosting.png', 'sample_1.csv', 'sample_2.csv', 'ensemble.png', 'sample_3.csv', 'sample_2.txt', 'sample_3.txt', 'sample_1.txt']\n"
     ]
    }
   ],
   "source": [
    "import os\n",
    "lista_arquivos = os.listdir('data/arquivos/')\n",
    "print(lista_arquivos)"
   ]
  },
  {
   "cell_type": "code",
   "execution_count": 53,
   "metadata": {},
   "outputs": [
    {
     "data": {
      "text/plain": [
       "str"
      ]
     },
     "execution_count": 53,
     "metadata": {},
     "output_type": "execute_result"
    }
   ],
   "source": [
    "type(lista_arquivos[0])"
   ]
  },
  {
   "cell_type": "code",
   "execution_count": 55,
   "metadata": {},
   "outputs": [
    {
     "data": {
      "text/plain": [
       "True"
      ]
     },
     "execution_count": 55,
     "metadata": {},
     "output_type": "execute_result"
    }
   ],
   "source": [
    "lista_arquivos[4].endswith('csv')"
   ]
  },
  {
   "cell_type": "markdown",
   "metadata": {},
   "source": [
    "### Solução Tradicional"
   ]
  },
  {
   "cell_type": "code",
   "execution_count": 56,
   "metadata": {},
   "outputs": [
    {
     "name": "stdout",
     "output_type": "stream",
     "text": [
      "['sample_1.csv', 'sample_2.csv', 'sample_3.csv']\n"
     ]
    }
   ],
   "source": [
    "lista_csv = []\n",
    "for file in lista_arquivos:\n",
    "    if file.lower().endswith('csv'):\n",
    "        lista_csv.append(file)\n",
    "\n",
    "print(lista_csv)"
   ]
  },
  {
   "cell_type": "markdown",
   "metadata": {},
   "source": [
    "### Solução Funcional"
   ]
  },
  {
   "cell_type": "code",
   "execution_count": 57,
   "metadata": {},
   "outputs": [
    {
     "data": {
      "text/plain": [
       "['sample_1.csv', 'sample_2.csv', 'sample_3.csv']"
      ]
     },
     "execution_count": 57,
     "metadata": {},
     "output_type": "execute_result"
    }
   ],
   "source": [
    "[file for file in lista_arquivos if file.lower().endswith('csv')]"
   ]
  },
  {
   "cell_type": "markdown",
   "metadata": {},
   "source": [
    "## Aplicação - Dados Geográficos\n",
    "\n",
    "Temos uma lista de pontos Lat/Long que precisamos percorrer, processando apenas os pontos que estejam no hemisfério Sul ou no hemisfério Oeste. Precisamos guardar uma dupla representando os hemisférios desses pontos: ('S', 'O') por exemplo.\n",
    "\n",
    "### Solução Tradicional"
   ]
  },
  {
   "cell_type": "code",
   "execution_count": 58,
   "metadata": {},
   "outputs": [],
   "source": [
    "def latlong_to_hemi(lat_long):\n",
    "    '''\n",
    "    Recebe uma upla de latitude e longitude e retorna uma upla de hemisférios\n",
    "    Argumentos:\n",
    "        lat_long: upla de dois floats\n",
    "    Retorna:\n",
    "        upla de dois strings\n",
    "    '''\n",
    "    lat, long = lat_long\n",
    "    if lat < 0:\n",
    "        hem_lat = 'S'\n",
    "    else:\n",
    "        hem_lat = 'N'\n",
    "    \n",
    "    if long < 0:\n",
    "        hem_long = 'O'\n",
    "    else:\n",
    "        hem_long = 'L'\n",
    "    \n",
    "    return (hem_lat, hem_long)"
   ]
  },
  {
   "cell_type": "code",
   "execution_count": 59,
   "metadata": {},
   "outputs": [],
   "source": [
    "lista_coords = [(-19, -36), (-37, 40), (22, -37), (51, -7), (33, 22), (-39, -8)]"
   ]
  },
  {
   "cell_type": "code",
   "execution_count": 60,
   "metadata": {},
   "outputs": [
    {
     "name": "stdout",
     "output_type": "stream",
     "text": [
      "[('S', 'O'), ('S', 'L'), ('N', 'O'), ('N', 'O'), ('S', 'O')]\n"
     ]
    }
   ],
   "source": [
    "lista_hem = []\n",
    "\n",
    "for coord in lista_coords:\n",
    "    hem_lat, hem_long = latlong_to_hemi(coord)\n",
    "    if hem_lat == 'S' or hem_long == 'O':\n",
    "        lista_hem.append((hem_lat, hem_long))\n",
    "\n",
    "print(lista_hem)"
   ]
  },
  {
   "cell_type": "markdown",
   "metadata": {},
   "source": [
    "### Solução Funcional"
   ]
  },
  {
   "cell_type": "code",
   "execution_count": 61,
   "metadata": {},
   "outputs": [
    {
     "data": {
      "text/plain": [
       "[('S', 'O'), ('S', 'L'), ('N', 'O'), ('N', 'O'), ('S', 'O')]"
      ]
     },
     "execution_count": 61,
     "metadata": {},
     "output_type": "execute_result"
    }
   ],
   "source": [
    "[\n",
    "    latlong_to_hemi(coord) # (hem_lat, hem_long)\n",
    "    for coord in lista_coords\n",
    "    if latlong_to_hemi(coord)[0] == 'S' or latlong_to_hemi(coord)[1] == 'O'\n",
    "]"
   ]
  },
  {
   "cell_type": "code",
   "execution_count": 63,
   "metadata": {},
   "outputs": [
    {
     "data": {
      "text/plain": [
       "[('S', 'O'), ('S', 'L'), ('N', 'O'), ('N', 'O'), ('S', 'O')]"
      ]
     },
     "execution_count": 63,
     "metadata": {},
     "output_type": "execute_result"
    }
   ],
   "source": [
    "[\n",
    "    latlong_to_hemi((lat, long)) # (hem_lat, hem_long)\n",
    "    for lat, long in lista_coords\n",
    "    if lat < 0 or long < 0\n",
    "]"
   ]
  },
  {
   "cell_type": "code",
   "execution_count": 64,
   "metadata": {},
   "outputs": [
    {
     "data": {
      "text/plain": [
       "[('S', 'O'), ('S', 'L'), ('N', 'O'), ('N', 'O'), ('N', 'L'), ('S', 'O')]"
      ]
     },
     "execution_count": 64,
     "metadata": {},
     "output_type": "execute_result"
    }
   ],
   "source": [
    "[latlong_to_hemi(coord) for coord in lista_coords]"
   ]
  },
  {
   "cell_type": "code",
   "execution_count": 65,
   "metadata": {},
   "outputs": [
    {
     "data": {
      "text/plain": [
       "[('S', 'O'), ('S', 'L'), ('N', 'O'), ('N', 'O'), ('S', 'O')]"
      ]
     },
     "execution_count": 65,
     "metadata": {},
     "output_type": "execute_result"
    }
   ],
   "source": [
    "[\n",
    "    (hem_lat, hem_long)\n",
    "    for hem_lat, hem_long in [latlong_to_hemi(coord) for coord in lista_coords]\n",
    "    if hem_lat == 'S' or hem_long == 'O'\n",
    "]"
   ]
  }
 ],
 "metadata": {
  "kernelspec": {
   "display_name": "Python 3 (ipykernel)",
   "language": "python",
   "name": "python3"
  },
  "language_info": {
   "codemirror_mode": {
    "name": "ipython",
    "version": 3
   },
   "file_extension": ".py",
   "mimetype": "text/x-python",
   "name": "python",
   "nbconvert_exporter": "python",
   "pygments_lexer": "ipython3",
   "version": "3.9.11"
  },
  "toc": {
   "base_numbering": 1,
   "nav_menu": {},
   "number_sections": true,
   "sideBar": true,
   "skip_h1_title": false,
   "title_cell": "Table of Contents",
   "title_sidebar": "Contents",
   "toc_cell": false,
   "toc_position": {},
   "toc_section_display": true,
   "toc_window_display": false
  },
  "varInspector": {
   "cols": {
    "lenName": 16,
    "lenType": 16,
    "lenVar": 40
   },
   "kernels_config": {
    "python": {
     "delete_cmd_postfix": "",
     "delete_cmd_prefix": "del ",
     "library": "var_list.py",
     "varRefreshCmd": "print(var_dic_list())"
    },
    "r": {
     "delete_cmd_postfix": ") ",
     "delete_cmd_prefix": "rm(",
     "library": "var_list.r",
     "varRefreshCmd": "cat(var_dic_list()) "
    }
   },
   "types_to_exclude": [
    "module",
    "function",
    "builtin_function_or_method",
    "instance",
    "_Feature"
   ],
   "window_display": false
  }
 },
 "nbformat": 4,
 "nbformat_minor": 4
}
