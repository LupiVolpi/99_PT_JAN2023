{
 "cells": [
  {
   "cell_type": "code",
   "execution_count": 1,
   "metadata": {
    "ExecuteTime": {
     "end_time": "2021-12-11T10:47:00.097024Z",
     "start_time": "2021-12-11T10:46:59.291875Z"
    }
   },
   "outputs": [],
   "source": [
    "import pandas as pd\n",
    "import numpy as np"
   ]
  },
  {
   "cell_type": "markdown",
   "metadata": {},
   "source": [
    "# DataFrame Calculations\n",
    "\n",
    "Hoje veremos como criar novas colunas em um DataFrame. Até o momento, já criamos colunas através de condicionais (usando `.loc` ou `np.where`) e através dos métodos `.astype()`, `.map()` e `.fillna()`.\n",
    "\n",
    "A criação de colunas é extremamente simples: basta lembrarmos que um `DataFrame` se comporta como um dicionário de `Series`! Podemos criar novas colunas como adicionamos chaves à um dicionário: utilizando o operador de *assignment*, `=`.\n",
    "\n",
    "Para aula de hoje utilizaremos um novo dataset: os dados do artigo *Sleep  in Mammals: Ecological and Constitutional Correlates*, contendo informações sobre o sono e a vida de certos animais.\n",
    "\n",
    "## Lendo o DataFrame\n",
    "\n",
    "Vamos iniciar carregando o DataFrame, olhando a documentação e os dados.\n",
    "\n",
    "Documentação: \n",
    "http://lib.stat.cmu.edu/datasets/sleep"
   ]
  },
  {
   "cell_type": "code",
   "execution_count": 2,
   "metadata": {
    "ExecuteTime": {
     "end_time": "2021-12-11T10:56:25.344871Z",
     "start_time": "2021-12-11T10:56:24.495086Z"
    }
   },
   "outputs": [],
   "source": [
    "tb_animals = pd.read_csv('http://www.statsci.org/data/general/sleep.txt', sep='\\t')"
   ]
  },
  {
   "cell_type": "code",
   "execution_count": 3,
   "metadata": {
    "ExecuteTime": {
     "end_time": "2021-12-11T10:56:25.391683Z",
     "start_time": "2021-12-11T10:56:25.345778Z"
    }
   },
   "outputs": [
    {
     "data": {
      "text/plain": "            BodyWt      BrainWt  NonDreaming   Dreaming  TotalSleep  \\\ncount    62.000000    62.000000    48.000000  50.000000   58.000000   \nmean    198.789984   283.134194     8.672917   1.972000   10.532759   \nstd     899.158011   930.278942     3.666452   1.442651    4.606760   \nmin       0.005000     0.140000     2.100000   0.000000    2.600000   \n25%       0.600000     4.250000     6.250000   0.900000    8.050000   \n50%       3.342500    17.250000     8.350000   1.800000   10.450000   \n75%      48.202500   166.000000    11.000000   2.550000   13.200000   \nmax    6654.000000  5712.000000    17.900000   6.600000   19.900000   \n\n         LifeSpan   Gestation  Predation   Exposure     Danger  \ncount   58.000000   58.000000  62.000000  62.000000  62.000000  \nmean    19.877586  142.353448   2.870968   2.419355   2.612903  \nstd     18.206255  146.805039   1.476414   1.604792   1.441252  \nmin      2.000000   12.000000   1.000000   1.000000   1.000000  \n25%      6.625000   35.750000   2.000000   1.000000   1.000000  \n50%     15.100000   79.000000   3.000000   2.000000   2.000000  \n75%     27.750000  207.500000   4.000000   4.000000   4.000000  \nmax    100.000000  645.000000   5.000000   5.000000   5.000000  ",
      "text/html": "<div>\n<style scoped>\n    .dataframe tbody tr th:only-of-type {\n        vertical-align: middle;\n    }\n\n    .dataframe tbody tr th {\n        vertical-align: top;\n    }\n\n    .dataframe thead th {\n        text-align: right;\n    }\n</style>\n<table border=\"1\" class=\"dataframe\">\n  <thead>\n    <tr style=\"text-align: right;\">\n      <th></th>\n      <th>BodyWt</th>\n      <th>BrainWt</th>\n      <th>NonDreaming</th>\n      <th>Dreaming</th>\n      <th>TotalSleep</th>\n      <th>LifeSpan</th>\n      <th>Gestation</th>\n      <th>Predation</th>\n      <th>Exposure</th>\n      <th>Danger</th>\n    </tr>\n  </thead>\n  <tbody>\n    <tr>\n      <th>count</th>\n      <td>62.000000</td>\n      <td>62.000000</td>\n      <td>48.000000</td>\n      <td>50.000000</td>\n      <td>58.000000</td>\n      <td>58.000000</td>\n      <td>58.000000</td>\n      <td>62.000000</td>\n      <td>62.000000</td>\n      <td>62.000000</td>\n    </tr>\n    <tr>\n      <th>mean</th>\n      <td>198.789984</td>\n      <td>283.134194</td>\n      <td>8.672917</td>\n      <td>1.972000</td>\n      <td>10.532759</td>\n      <td>19.877586</td>\n      <td>142.353448</td>\n      <td>2.870968</td>\n      <td>2.419355</td>\n      <td>2.612903</td>\n    </tr>\n    <tr>\n      <th>std</th>\n      <td>899.158011</td>\n      <td>930.278942</td>\n      <td>3.666452</td>\n      <td>1.442651</td>\n      <td>4.606760</td>\n      <td>18.206255</td>\n      <td>146.805039</td>\n      <td>1.476414</td>\n      <td>1.604792</td>\n      <td>1.441252</td>\n    </tr>\n    <tr>\n      <th>min</th>\n      <td>0.005000</td>\n      <td>0.140000</td>\n      <td>2.100000</td>\n      <td>0.000000</td>\n      <td>2.600000</td>\n      <td>2.000000</td>\n      <td>12.000000</td>\n      <td>1.000000</td>\n      <td>1.000000</td>\n      <td>1.000000</td>\n    </tr>\n    <tr>\n      <th>25%</th>\n      <td>0.600000</td>\n      <td>4.250000</td>\n      <td>6.250000</td>\n      <td>0.900000</td>\n      <td>8.050000</td>\n      <td>6.625000</td>\n      <td>35.750000</td>\n      <td>2.000000</td>\n      <td>1.000000</td>\n      <td>1.000000</td>\n    </tr>\n    <tr>\n      <th>50%</th>\n      <td>3.342500</td>\n      <td>17.250000</td>\n      <td>8.350000</td>\n      <td>1.800000</td>\n      <td>10.450000</td>\n      <td>15.100000</td>\n      <td>79.000000</td>\n      <td>3.000000</td>\n      <td>2.000000</td>\n      <td>2.000000</td>\n    </tr>\n    <tr>\n      <th>75%</th>\n      <td>48.202500</td>\n      <td>166.000000</td>\n      <td>11.000000</td>\n      <td>2.550000</td>\n      <td>13.200000</td>\n      <td>27.750000</td>\n      <td>207.500000</td>\n      <td>4.000000</td>\n      <td>4.000000</td>\n      <td>4.000000</td>\n    </tr>\n    <tr>\n      <th>max</th>\n      <td>6654.000000</td>\n      <td>5712.000000</td>\n      <td>17.900000</td>\n      <td>6.600000</td>\n      <td>19.900000</td>\n      <td>100.000000</td>\n      <td>645.000000</td>\n      <td>5.000000</td>\n      <td>5.000000</td>\n      <td>5.000000</td>\n    </tr>\n  </tbody>\n</table>\n</div>"
     },
     "execution_count": 3,
     "metadata": {},
     "output_type": "execute_result"
    }
   ],
   "source": [
    "tb_animals.describe()"
   ]
  },
  {
   "cell_type": "code",
   "execution_count": 4,
   "metadata": {
    "ExecuteTime": {
     "end_time": "2021-12-11T11:03:00.346949Z",
     "start_time": "2021-12-11T11:03:00.314048Z"
    }
   },
   "outputs": [
    {
     "data": {
      "text/plain": "                  Species    BodyWt  BrainWt  NonDreaming  Dreaming  \\\n0         Africanelephant  6654.000   5712.0          NaN       NaN   \n1  Africangiantpouchedrat     1.000      6.6          6.3       2.0   \n2               ArcticFox     3.385     44.5          NaN       NaN   \n3    Arcticgroundsquirrel     0.920      5.7          NaN       NaN   \n4           Asianelephant  2547.000   4603.0          2.1       1.8   \n\n   TotalSleep  LifeSpan  Gestation  Predation  Exposure  Danger  \n0         3.3      38.6      645.0          3         5       3  \n1         8.3       4.5       42.0          3         1       3  \n2        12.5      14.0       60.0          1         1       1  \n3        16.5       NaN       25.0          5         2       3  \n4         3.9      69.0      624.0          3         5       4  ",
      "text/html": "<div>\n<style scoped>\n    .dataframe tbody tr th:only-of-type {\n        vertical-align: middle;\n    }\n\n    .dataframe tbody tr th {\n        vertical-align: top;\n    }\n\n    .dataframe thead th {\n        text-align: right;\n    }\n</style>\n<table border=\"1\" class=\"dataframe\">\n  <thead>\n    <tr style=\"text-align: right;\">\n      <th></th>\n      <th>Species</th>\n      <th>BodyWt</th>\n      <th>BrainWt</th>\n      <th>NonDreaming</th>\n      <th>Dreaming</th>\n      <th>TotalSleep</th>\n      <th>LifeSpan</th>\n      <th>Gestation</th>\n      <th>Predation</th>\n      <th>Exposure</th>\n      <th>Danger</th>\n    </tr>\n  </thead>\n  <tbody>\n    <tr>\n      <th>0</th>\n      <td>Africanelephant</td>\n      <td>6654.000</td>\n      <td>5712.0</td>\n      <td>NaN</td>\n      <td>NaN</td>\n      <td>3.3</td>\n      <td>38.6</td>\n      <td>645.0</td>\n      <td>3</td>\n      <td>5</td>\n      <td>3</td>\n    </tr>\n    <tr>\n      <th>1</th>\n      <td>Africangiantpouchedrat</td>\n      <td>1.000</td>\n      <td>6.6</td>\n      <td>6.3</td>\n      <td>2.0</td>\n      <td>8.3</td>\n      <td>4.5</td>\n      <td>42.0</td>\n      <td>3</td>\n      <td>1</td>\n      <td>3</td>\n    </tr>\n    <tr>\n      <th>2</th>\n      <td>ArcticFox</td>\n      <td>3.385</td>\n      <td>44.5</td>\n      <td>NaN</td>\n      <td>NaN</td>\n      <td>12.5</td>\n      <td>14.0</td>\n      <td>60.0</td>\n      <td>1</td>\n      <td>1</td>\n      <td>1</td>\n    </tr>\n    <tr>\n      <th>3</th>\n      <td>Arcticgroundsquirrel</td>\n      <td>0.920</td>\n      <td>5.7</td>\n      <td>NaN</td>\n      <td>NaN</td>\n      <td>16.5</td>\n      <td>NaN</td>\n      <td>25.0</td>\n      <td>5</td>\n      <td>2</td>\n      <td>3</td>\n    </tr>\n    <tr>\n      <th>4</th>\n      <td>Asianelephant</td>\n      <td>2547.000</td>\n      <td>4603.0</td>\n      <td>2.1</td>\n      <td>1.8</td>\n      <td>3.9</td>\n      <td>69.0</td>\n      <td>624.0</td>\n      <td>3</td>\n      <td>5</td>\n      <td>4</td>\n    </tr>\n  </tbody>\n</table>\n</div>"
     },
     "execution_count": 4,
     "metadata": {},
     "output_type": "execute_result"
    }
   ],
   "source": [
    "tb_animals.head()"
   ]
  },
  {
   "cell_type": "markdown",
   "metadata": {},
   "source": [
    "# Calculos com DataFrames\n",
    "\n",
    "A forma mais simples de criarmos novas colunas é a partir de constantes, listas ou calculos com outras colunas. Vamos ver como realizar cada um desses passos.\n",
    "\n",
    "## Colunas constantes\n",
    "\n",
    "Podemos criar um coluna com valor constante simplesmente atribuindo um número à coluna."
   ]
  },
  {
   "cell_type": "code",
   "execution_count": 5,
   "metadata": {
    "ExecuteTime": {
     "end_time": "2021-12-11T10:47:41.225506Z",
     "start_time": "2021-12-11T10:47:41.212541Z"
    }
   },
   "outputs": [],
   "source": [
    "tb_animals['new_column'] = 1"
   ]
  },
  {
   "cell_type": "code",
   "execution_count": 6,
   "metadata": {
    "ExecuteTime": {
     "end_time": "2021-12-11T10:47:41.569634Z",
     "start_time": "2021-12-11T10:47:41.542677Z"
    }
   },
   "outputs": [
    {
     "data": {
      "text/plain": "                  Species    BodyWt  BrainWt  NonDreaming  Dreaming  \\\n0         Africanelephant  6654.000   5712.0          NaN       NaN   \n1  Africangiantpouchedrat     1.000      6.6          6.3       2.0   \n2               ArcticFox     3.385     44.5          NaN       NaN   \n3    Arcticgroundsquirrel     0.920      5.7          NaN       NaN   \n4           Asianelephant  2547.000   4603.0          2.1       1.8   \n\n   TotalSleep  LifeSpan  Gestation  Predation  Exposure  Danger  new_column  \n0         3.3      38.6      645.0          3         5       3           1  \n1         8.3       4.5       42.0          3         1       3           1  \n2        12.5      14.0       60.0          1         1       1           1  \n3        16.5       NaN       25.0          5         2       3           1  \n4         3.9      69.0      624.0          3         5       4           1  ",
      "text/html": "<div>\n<style scoped>\n    .dataframe tbody tr th:only-of-type {\n        vertical-align: middle;\n    }\n\n    .dataframe tbody tr th {\n        vertical-align: top;\n    }\n\n    .dataframe thead th {\n        text-align: right;\n    }\n</style>\n<table border=\"1\" class=\"dataframe\">\n  <thead>\n    <tr style=\"text-align: right;\">\n      <th></th>\n      <th>Species</th>\n      <th>BodyWt</th>\n      <th>BrainWt</th>\n      <th>NonDreaming</th>\n      <th>Dreaming</th>\n      <th>TotalSleep</th>\n      <th>LifeSpan</th>\n      <th>Gestation</th>\n      <th>Predation</th>\n      <th>Exposure</th>\n      <th>Danger</th>\n      <th>new_column</th>\n    </tr>\n  </thead>\n  <tbody>\n    <tr>\n      <th>0</th>\n      <td>Africanelephant</td>\n      <td>6654.000</td>\n      <td>5712.0</td>\n      <td>NaN</td>\n      <td>NaN</td>\n      <td>3.3</td>\n      <td>38.6</td>\n      <td>645.0</td>\n      <td>3</td>\n      <td>5</td>\n      <td>3</td>\n      <td>1</td>\n    </tr>\n    <tr>\n      <th>1</th>\n      <td>Africangiantpouchedrat</td>\n      <td>1.000</td>\n      <td>6.6</td>\n      <td>6.3</td>\n      <td>2.0</td>\n      <td>8.3</td>\n      <td>4.5</td>\n      <td>42.0</td>\n      <td>3</td>\n      <td>1</td>\n      <td>3</td>\n      <td>1</td>\n    </tr>\n    <tr>\n      <th>2</th>\n      <td>ArcticFox</td>\n      <td>3.385</td>\n      <td>44.5</td>\n      <td>NaN</td>\n      <td>NaN</td>\n      <td>12.5</td>\n      <td>14.0</td>\n      <td>60.0</td>\n      <td>1</td>\n      <td>1</td>\n      <td>1</td>\n      <td>1</td>\n    </tr>\n    <tr>\n      <th>3</th>\n      <td>Arcticgroundsquirrel</td>\n      <td>0.920</td>\n      <td>5.7</td>\n      <td>NaN</td>\n      <td>NaN</td>\n      <td>16.5</td>\n      <td>NaN</td>\n      <td>25.0</td>\n      <td>5</td>\n      <td>2</td>\n      <td>3</td>\n      <td>1</td>\n    </tr>\n    <tr>\n      <th>4</th>\n      <td>Asianelephant</td>\n      <td>2547.000</td>\n      <td>4603.0</td>\n      <td>2.1</td>\n      <td>1.8</td>\n      <td>3.9</td>\n      <td>69.0</td>\n      <td>624.0</td>\n      <td>3</td>\n      <td>5</td>\n      <td>4</td>\n      <td>1</td>\n    </tr>\n  </tbody>\n</table>\n</div>"
     },
     "execution_count": 6,
     "metadata": {},
     "output_type": "execute_result"
    }
   ],
   "source": [
    "tb_animals.head()"
   ]
  },
  {
   "cell_type": "code",
   "execution_count": 7,
   "metadata": {
    "ExecuteTime": {
     "end_time": "2021-12-11T10:47:47.844848Z",
     "start_time": "2021-12-11T10:47:47.832881Z"
    }
   },
   "outputs": [],
   "source": [
    "tb_animals = tb_animals.drop('new_column', axis = 1)"
   ]
  },
  {
   "cell_type": "markdown",
   "metadata": {},
   "source": [
    "## Criando colunas com `lists`\n",
    "\n",
    "Podemos criar uma coluna a partir de uma lista (ou qualquer outro iterável). O Pandas interpretará o iterável como um `Series`, ou seja, cada elemento dele será visto como uma nova linha da nossa tabela. Logo, precisamos que o iterável tenha comprimento igual ao tamanho da nossa tabela."
   ]
  },
  {
   "cell_type": "code",
   "execution_count": 8,
   "metadata": {
    "ExecuteTime": {
     "end_time": "2021-12-11T10:48:13.935775Z",
     "start_time": "2021-12-11T10:48:13.915812Z"
    }
   },
   "outputs": [],
   "source": [
    "tb_animals['id_linha'] = [i for i in range(tb_animals.shape[0])]"
   ]
  },
  {
   "cell_type": "code",
   "execution_count": 9,
   "metadata": {
    "ExecuteTime": {
     "end_time": "2021-12-11T10:48:16.208227Z",
     "start_time": "2021-12-11T10:48:16.175284Z"
    }
   },
   "outputs": [
    {
     "data": {
      "text/plain": "0      0\n1      1\n2      2\n3      3\n4      4\n      ..\n57    57\n58    58\n59    59\n60    60\n61    61\nName: id_linha, Length: 62, dtype: int64"
     },
     "execution_count": 9,
     "metadata": {},
     "output_type": "execute_result"
    }
   ],
   "source": [
    "tb_animals['id_linha']"
   ]
  },
  {
   "cell_type": "code",
   "execution_count": 10,
   "metadata": {},
   "outputs": [
    {
     "ename": "ValueError",
     "evalue": "Length of values (3) does not match length of index (62)",
     "output_type": "error",
     "traceback": [
      "\u001B[1;31m---------------------------------------------------------------------------\u001B[0m",
      "\u001B[1;31mValueError\u001B[0m                                Traceback (most recent call last)",
      "\u001B[1;32m~\\AppData\\Local\\Temp/ipykernel_8784/1519707800.py\u001B[0m in \u001B[0;36m<module>\u001B[1;34m\u001B[0m\n\u001B[1;32m----> 1\u001B[1;33m \u001B[0mtb_animals\u001B[0m\u001B[1;33m[\u001B[0m\u001B[1;34m'erro'\u001B[0m\u001B[1;33m]\u001B[0m \u001B[1;33m=\u001B[0m \u001B[1;33m[\u001B[0m\u001B[1;36m1\u001B[0m\u001B[1;33m,\u001B[0m\u001B[1;36m2\u001B[0m\u001B[1;33m,\u001B[0m\u001B[1;36m3\u001B[0m\u001B[1;33m]\u001B[0m\u001B[1;33m\u001B[0m\u001B[1;33m\u001B[0m\u001B[0m\n\u001B[0m",
      "\u001B[1;32m~\\anaconda3\\lib\\site-packages\\pandas\\core\\frame.py\u001B[0m in \u001B[0;36m__setitem__\u001B[1;34m(self, key, value)\u001B[0m\n\u001B[0;32m   3978\u001B[0m         \u001B[1;32melse\u001B[0m\u001B[1;33m:\u001B[0m\u001B[1;33m\u001B[0m\u001B[1;33m\u001B[0m\u001B[0m\n\u001B[0;32m   3979\u001B[0m             \u001B[1;31m# set column\u001B[0m\u001B[1;33m\u001B[0m\u001B[1;33m\u001B[0m\u001B[0m\n\u001B[1;32m-> 3980\u001B[1;33m             \u001B[0mself\u001B[0m\u001B[1;33m.\u001B[0m\u001B[0m_set_item\u001B[0m\u001B[1;33m(\u001B[0m\u001B[0mkey\u001B[0m\u001B[1;33m,\u001B[0m \u001B[0mvalue\u001B[0m\u001B[1;33m)\u001B[0m\u001B[1;33m\u001B[0m\u001B[1;33m\u001B[0m\u001B[0m\n\u001B[0m\u001B[0;32m   3981\u001B[0m \u001B[1;33m\u001B[0m\u001B[0m\n\u001B[0;32m   3982\u001B[0m     \u001B[1;32mdef\u001B[0m \u001B[0m_setitem_slice\u001B[0m\u001B[1;33m(\u001B[0m\u001B[0mself\u001B[0m\u001B[1;33m,\u001B[0m \u001B[0mkey\u001B[0m\u001B[1;33m:\u001B[0m \u001B[0mslice\u001B[0m\u001B[1;33m,\u001B[0m \u001B[0mvalue\u001B[0m\u001B[1;33m)\u001B[0m\u001B[1;33m:\u001B[0m\u001B[1;33m\u001B[0m\u001B[1;33m\u001B[0m\u001B[0m\n",
      "\u001B[1;32m~\\anaconda3\\lib\\site-packages\\pandas\\core\\frame.py\u001B[0m in \u001B[0;36m_set_item\u001B[1;34m(self, key, value)\u001B[0m\n\u001B[0;32m   4172\u001B[0m         \u001B[0mensure\u001B[0m \u001B[0mhomogeneity\u001B[0m\u001B[1;33m.\u001B[0m\u001B[1;33m\u001B[0m\u001B[1;33m\u001B[0m\u001B[0m\n\u001B[0;32m   4173\u001B[0m         \"\"\"\n\u001B[1;32m-> 4174\u001B[1;33m         \u001B[0mvalue\u001B[0m \u001B[1;33m=\u001B[0m \u001B[0mself\u001B[0m\u001B[1;33m.\u001B[0m\u001B[0m_sanitize_column\u001B[0m\u001B[1;33m(\u001B[0m\u001B[0mvalue\u001B[0m\u001B[1;33m)\u001B[0m\u001B[1;33m\u001B[0m\u001B[1;33m\u001B[0m\u001B[0m\n\u001B[0m\u001B[0;32m   4175\u001B[0m \u001B[1;33m\u001B[0m\u001B[0m\n\u001B[0;32m   4176\u001B[0m         if (\n",
      "\u001B[1;32m~\\anaconda3\\lib\\site-packages\\pandas\\core\\frame.py\u001B[0m in \u001B[0;36m_sanitize_column\u001B[1;34m(self, value)\u001B[0m\n\u001B[0;32m   4913\u001B[0m \u001B[1;33m\u001B[0m\u001B[0m\n\u001B[0;32m   4914\u001B[0m         \u001B[1;32mif\u001B[0m \u001B[0mis_list_like\u001B[0m\u001B[1;33m(\u001B[0m\u001B[0mvalue\u001B[0m\u001B[1;33m)\u001B[0m\u001B[1;33m:\u001B[0m\u001B[1;33m\u001B[0m\u001B[1;33m\u001B[0m\u001B[0m\n\u001B[1;32m-> 4915\u001B[1;33m             \u001B[0mcom\u001B[0m\u001B[1;33m.\u001B[0m\u001B[0mrequire_length_match\u001B[0m\u001B[1;33m(\u001B[0m\u001B[0mvalue\u001B[0m\u001B[1;33m,\u001B[0m \u001B[0mself\u001B[0m\u001B[1;33m.\u001B[0m\u001B[0mindex\u001B[0m\u001B[1;33m)\u001B[0m\u001B[1;33m\u001B[0m\u001B[1;33m\u001B[0m\u001B[0m\n\u001B[0m\u001B[0;32m   4916\u001B[0m         \u001B[1;32mreturn\u001B[0m \u001B[0msanitize_array\u001B[0m\u001B[1;33m(\u001B[0m\u001B[0mvalue\u001B[0m\u001B[1;33m,\u001B[0m \u001B[0mself\u001B[0m\u001B[1;33m.\u001B[0m\u001B[0mindex\u001B[0m\u001B[1;33m,\u001B[0m \u001B[0mcopy\u001B[0m\u001B[1;33m=\u001B[0m\u001B[1;32mTrue\u001B[0m\u001B[1;33m,\u001B[0m \u001B[0mallow_2d\u001B[0m\u001B[1;33m=\u001B[0m\u001B[1;32mTrue\u001B[0m\u001B[1;33m)\u001B[0m\u001B[1;33m\u001B[0m\u001B[1;33m\u001B[0m\u001B[0m\n\u001B[0;32m   4917\u001B[0m \u001B[1;33m\u001B[0m\u001B[0m\n",
      "\u001B[1;32m~\\anaconda3\\lib\\site-packages\\pandas\\core\\common.py\u001B[0m in \u001B[0;36mrequire_length_match\u001B[1;34m(data, index)\u001B[0m\n\u001B[0;32m    569\u001B[0m     \"\"\"\n\u001B[0;32m    570\u001B[0m     \u001B[1;32mif\u001B[0m \u001B[0mlen\u001B[0m\u001B[1;33m(\u001B[0m\u001B[0mdata\u001B[0m\u001B[1;33m)\u001B[0m \u001B[1;33m!=\u001B[0m \u001B[0mlen\u001B[0m\u001B[1;33m(\u001B[0m\u001B[0mindex\u001B[0m\u001B[1;33m)\u001B[0m\u001B[1;33m:\u001B[0m\u001B[1;33m\u001B[0m\u001B[1;33m\u001B[0m\u001B[0m\n\u001B[1;32m--> 571\u001B[1;33m         raise ValueError(\n\u001B[0m\u001B[0;32m    572\u001B[0m             \u001B[1;34m\"Length of values \"\u001B[0m\u001B[1;33m\u001B[0m\u001B[1;33m\u001B[0m\u001B[0m\n\u001B[0;32m    573\u001B[0m             \u001B[1;34mf\"({len(data)}) \"\u001B[0m\u001B[1;33m\u001B[0m\u001B[1;33m\u001B[0m\u001B[0m\n",
      "\u001B[1;31mValueError\u001B[0m: Length of values (3) does not match length of index (62)"
     ]
    }
   ],
   "source": [
    "tb_animals['erro'] = [1,2,3]"
   ]
  },
  {
   "cell_type": "markdown",
   "metadata": {},
   "source": [
    "## Criando colunas à partir de contas\n",
    "\n",
    "Podemos utilizar os operadores matemáticos para realizar operações sobre as colunas de um DataSet. A operação será mapeada à cada elemento da coluna - como em vetores do Numpy."
   ]
  },
  {
   "cell_type": "code",
   "execution_count": 11,
   "metadata": {
    "ExecuteTime": {
     "end_time": "2021-12-11T10:48:35.942937Z",
     "start_time": "2021-12-11T10:48:35.912030Z"
    }
   },
   "outputs": [
    {
     "data": {
      "text/plain": "0     5.7120\n1     0.0066\n2     0.0445\n3     0.0057\n4     4.6030\n       ...  \n57    0.0123\n58    0.0025\n59    0.0580\n60    0.0039\n61    0.0170\nName: BrainWt, Length: 62, dtype: float64"
     },
     "execution_count": 11,
     "metadata": {},
     "output_type": "execute_result"
    }
   ],
   "source": [
    "tb_animals['BrainWt']/1000"
   ]
  },
  {
   "cell_type": "code",
   "execution_count": 12,
   "metadata": {},
   "outputs": [],
   "source": [
    "tb_animals['BrainWt_kg'] = tb_animals['BrainWt']/1000 "
   ]
  },
  {
   "cell_type": "code",
   "execution_count": 13,
   "metadata": {},
   "outputs": [
    {
     "data": {
      "text/plain": "            BodyWt      BrainWt  NonDreaming   Dreaming  TotalSleep  \\\ncount    62.000000    62.000000    48.000000  50.000000   58.000000   \nmean    198.789984   283.134194     8.672917   1.972000   10.532759   \nstd     899.158011   930.278942     3.666452   1.442651    4.606760   \nmin       0.005000     0.140000     2.100000   0.000000    2.600000   \n25%       0.600000     4.250000     6.250000   0.900000    8.050000   \n50%       3.342500    17.250000     8.350000   1.800000   10.450000   \n75%      48.202500   166.000000    11.000000   2.550000   13.200000   \nmax    6654.000000  5712.000000    17.900000   6.600000   19.900000   \n\n         LifeSpan   Gestation  Predation   Exposure     Danger   id_linha  \\\ncount   58.000000   58.000000  62.000000  62.000000  62.000000  62.000000   \nmean    19.877586  142.353448   2.870968   2.419355   2.612903  30.500000   \nstd     18.206255  146.805039   1.476414   1.604792   1.441252  18.041619   \nmin      2.000000   12.000000   1.000000   1.000000   1.000000   0.000000   \n25%      6.625000   35.750000   2.000000   1.000000   1.000000  15.250000   \n50%     15.100000   79.000000   3.000000   2.000000   2.000000  30.500000   \n75%     27.750000  207.500000   4.000000   4.000000   4.000000  45.750000   \nmax    100.000000  645.000000   5.000000   5.000000   5.000000  61.000000   \n\n       BrainWt_kg  \ncount   62.000000  \nmean     0.283134  \nstd      0.930279  \nmin      0.000140  \n25%      0.004250  \n50%      0.017250  \n75%      0.166000  \nmax      5.712000  ",
      "text/html": "<div>\n<style scoped>\n    .dataframe tbody tr th:only-of-type {\n        vertical-align: middle;\n    }\n\n    .dataframe tbody tr th {\n        vertical-align: top;\n    }\n\n    .dataframe thead th {\n        text-align: right;\n    }\n</style>\n<table border=\"1\" class=\"dataframe\">\n  <thead>\n    <tr style=\"text-align: right;\">\n      <th></th>\n      <th>BodyWt</th>\n      <th>BrainWt</th>\n      <th>NonDreaming</th>\n      <th>Dreaming</th>\n      <th>TotalSleep</th>\n      <th>LifeSpan</th>\n      <th>Gestation</th>\n      <th>Predation</th>\n      <th>Exposure</th>\n      <th>Danger</th>\n      <th>id_linha</th>\n      <th>BrainWt_kg</th>\n    </tr>\n  </thead>\n  <tbody>\n    <tr>\n      <th>count</th>\n      <td>62.000000</td>\n      <td>62.000000</td>\n      <td>48.000000</td>\n      <td>50.000000</td>\n      <td>58.000000</td>\n      <td>58.000000</td>\n      <td>58.000000</td>\n      <td>62.000000</td>\n      <td>62.000000</td>\n      <td>62.000000</td>\n      <td>62.000000</td>\n      <td>62.000000</td>\n    </tr>\n    <tr>\n      <th>mean</th>\n      <td>198.789984</td>\n      <td>283.134194</td>\n      <td>8.672917</td>\n      <td>1.972000</td>\n      <td>10.532759</td>\n      <td>19.877586</td>\n      <td>142.353448</td>\n      <td>2.870968</td>\n      <td>2.419355</td>\n      <td>2.612903</td>\n      <td>30.500000</td>\n      <td>0.283134</td>\n    </tr>\n    <tr>\n      <th>std</th>\n      <td>899.158011</td>\n      <td>930.278942</td>\n      <td>3.666452</td>\n      <td>1.442651</td>\n      <td>4.606760</td>\n      <td>18.206255</td>\n      <td>146.805039</td>\n      <td>1.476414</td>\n      <td>1.604792</td>\n      <td>1.441252</td>\n      <td>18.041619</td>\n      <td>0.930279</td>\n    </tr>\n    <tr>\n      <th>min</th>\n      <td>0.005000</td>\n      <td>0.140000</td>\n      <td>2.100000</td>\n      <td>0.000000</td>\n      <td>2.600000</td>\n      <td>2.000000</td>\n      <td>12.000000</td>\n      <td>1.000000</td>\n      <td>1.000000</td>\n      <td>1.000000</td>\n      <td>0.000000</td>\n      <td>0.000140</td>\n    </tr>\n    <tr>\n      <th>25%</th>\n      <td>0.600000</td>\n      <td>4.250000</td>\n      <td>6.250000</td>\n      <td>0.900000</td>\n      <td>8.050000</td>\n      <td>6.625000</td>\n      <td>35.750000</td>\n      <td>2.000000</td>\n      <td>1.000000</td>\n      <td>1.000000</td>\n      <td>15.250000</td>\n      <td>0.004250</td>\n    </tr>\n    <tr>\n      <th>50%</th>\n      <td>3.342500</td>\n      <td>17.250000</td>\n      <td>8.350000</td>\n      <td>1.800000</td>\n      <td>10.450000</td>\n      <td>15.100000</td>\n      <td>79.000000</td>\n      <td>3.000000</td>\n      <td>2.000000</td>\n      <td>2.000000</td>\n      <td>30.500000</td>\n      <td>0.017250</td>\n    </tr>\n    <tr>\n      <th>75%</th>\n      <td>48.202500</td>\n      <td>166.000000</td>\n      <td>11.000000</td>\n      <td>2.550000</td>\n      <td>13.200000</td>\n      <td>27.750000</td>\n      <td>207.500000</td>\n      <td>4.000000</td>\n      <td>4.000000</td>\n      <td>4.000000</td>\n      <td>45.750000</td>\n      <td>0.166000</td>\n    </tr>\n    <tr>\n      <th>max</th>\n      <td>6654.000000</td>\n      <td>5712.000000</td>\n      <td>17.900000</td>\n      <td>6.600000</td>\n      <td>19.900000</td>\n      <td>100.000000</td>\n      <td>645.000000</td>\n      <td>5.000000</td>\n      <td>5.000000</td>\n      <td>5.000000</td>\n      <td>61.000000</td>\n      <td>5.712000</td>\n    </tr>\n  </tbody>\n</table>\n</div>"
     },
     "execution_count": 13,
     "metadata": {},
     "output_type": "execute_result"
    }
   ],
   "source": [
    "tb_animals.describe()"
   ]
  },
  {
   "cell_type": "markdown",
   "metadata": {},
   "source": [
    "## Cálculos entre Colunas\n",
    "\n",
    "Podemos realizar operações entre colunas - da mesma forma que os operadores booleanos (`<`, `>`, `==`, etc) podem ser aplicados sobre uma coluna para criar uma coluna, os operadores matemáticos podem ser usados entre duas colunas para criar novas colunas."
   ]
  },
  {
   "cell_type": "code",
   "execution_count": 14,
   "metadata": {},
   "outputs": [
    {
     "data": {
      "text/plain": "0     0.000858\n1     0.006600\n2     0.013146\n3     0.006196\n4     0.001807\n        ...   \n57    0.006150\n58    0.024038\n59    0.013842\n60    0.001114\n61    0.004198\nLength: 62, dtype: float64"
     },
     "execution_count": 14,
     "metadata": {},
     "output_type": "execute_result"
    }
   ],
   "source": [
    "tb_animals['BrainWt_kg']/tb_animals['BodyWt']"
   ]
  },
  {
   "cell_type": "code",
   "execution_count": 15,
   "metadata": {
    "ExecuteTime": {
     "end_time": "2021-12-11T10:48:49.068730Z",
     "start_time": "2021-12-11T10:48:49.061774Z"
    }
   },
   "outputs": [],
   "source": [
    "tb_animals['ratio_brain_body'] = tb_animals['BrainWt_kg']/tb_animals['BodyWt']"
   ]
  },
  {
   "cell_type": "code",
   "execution_count": 16,
   "metadata": {
    "ExecuteTime": {
     "end_time": "2021-12-11T10:48:49.427060Z",
     "start_time": "2021-12-11T10:48:49.405088Z"
    }
   },
   "outputs": [
    {
     "data": {
      "text/plain": "count    62.000000\nmean      0.009624\nstd       0.008915\nmin       0.000858\n25%       0.003103\n50%       0.006611\n75%       0.013668\nmax       0.039604\nName: ratio_brain_body, dtype: float64"
     },
     "execution_count": 16,
     "metadata": {},
     "output_type": "execute_result"
    }
   ],
   "source": [
    "tb_animals['ratio_brain_body'].describe()"
   ]
  },
  {
   "cell_type": "code",
   "execution_count": 17,
   "metadata": {
    "ExecuteTime": {
     "end_time": "2021-12-11T10:48:49.973929Z",
     "start_time": "2021-12-11T10:48:49.945983Z"
    }
   },
   "outputs": [
    {
     "data": {
      "text/plain": "           Species  BodyWt  BrainWt  NonDreaming  Dreaming  TotalSleep  \\\n26  Groundsquirrel   0.101      4.0         10.4       3.4        13.8   \n41       Owlmonkey   0.480     15.5         15.2       1.8        17.0   \n\n    LifeSpan  Gestation  Predation  Exposure  Danger  id_linha  BrainWt_kg  \\\n26       9.0       28.0          5         1       3        26      0.0040   \n41      12.0      140.0          2         2       2        41      0.0155   \n\n    ratio_brain_body  \n26          0.039604  \n41          0.032292  ",
      "text/html": "<div>\n<style scoped>\n    .dataframe tbody tr th:only-of-type {\n        vertical-align: middle;\n    }\n\n    .dataframe tbody tr th {\n        vertical-align: top;\n    }\n\n    .dataframe thead th {\n        text-align: right;\n    }\n</style>\n<table border=\"1\" class=\"dataframe\">\n  <thead>\n    <tr style=\"text-align: right;\">\n      <th></th>\n      <th>Species</th>\n      <th>BodyWt</th>\n      <th>BrainWt</th>\n      <th>NonDreaming</th>\n      <th>Dreaming</th>\n      <th>TotalSleep</th>\n      <th>LifeSpan</th>\n      <th>Gestation</th>\n      <th>Predation</th>\n      <th>Exposure</th>\n      <th>Danger</th>\n      <th>id_linha</th>\n      <th>BrainWt_kg</th>\n      <th>ratio_brain_body</th>\n    </tr>\n  </thead>\n  <tbody>\n    <tr>\n      <th>26</th>\n      <td>Groundsquirrel</td>\n      <td>0.101</td>\n      <td>4.0</td>\n      <td>10.4</td>\n      <td>3.4</td>\n      <td>13.8</td>\n      <td>9.0</td>\n      <td>28.0</td>\n      <td>5</td>\n      <td>1</td>\n      <td>3</td>\n      <td>26</td>\n      <td>0.0040</td>\n      <td>0.039604</td>\n    </tr>\n    <tr>\n      <th>41</th>\n      <td>Owlmonkey</td>\n      <td>0.480</td>\n      <td>15.5</td>\n      <td>15.2</td>\n      <td>1.8</td>\n      <td>17.0</td>\n      <td>12.0</td>\n      <td>140.0</td>\n      <td>2</td>\n      <td>2</td>\n      <td>2</td>\n      <td>41</td>\n      <td>0.0155</td>\n      <td>0.032292</td>\n    </tr>\n  </tbody>\n</table>\n</div>"
     },
     "execution_count": 17,
     "metadata": {},
     "output_type": "execute_result"
    }
   ],
   "source": [
    "tb_animals[tb_animals['ratio_brain_body']>0.03]"
   ]
  },
  {
   "cell_type": "markdown",
   "metadata": {},
   "source": [
    "### Operadores Booleanos entre Colunas\n",
    "\n",
    "Da mesma forma que podemos realizar a comparação de uma coluna com um valor, podemos criar comparações entre colunas:"
   ]
  },
  {
   "cell_type": "code",
   "execution_count": 18,
   "metadata": {
    "ExecuteTime": {
     "end_time": "2021-12-11T10:48:50.677033Z",
     "start_time": "2021-12-11T10:48:50.671050Z"
    }
   },
   "outputs": [
    {
     "data": {
      "text/plain": "0     False\n1     False\n2      True\n3     False\n4     False\n      ...  \n57    False\n58     True\n59     True\n60    False\n61    False\nName: ratio_brain_body, Length: 62, dtype: bool"
     },
     "execution_count": 18,
     "metadata": {},
     "output_type": "execute_result"
    }
   ],
   "source": [
    "tb_animals['ratio_brain_body']>0.01"
   ]
  },
  {
   "cell_type": "code",
   "execution_count": 19,
   "metadata": {},
   "outputs": [
    {
     "data": {
      "text/plain": "0     False\n1     False\n2     False\n3     False\n4     False\n      ...  \n57    False\n58    False\n59    False\n60    False\n61    False\nLength: 62, dtype: bool"
     },
     "execution_count": 19,
     "metadata": {},
     "output_type": "execute_result"
    }
   ],
   "source": [
    "tb_animals['Dreaming'] > tb_animals['NonDreaming']"
   ]
  },
  {
   "cell_type": "code",
   "execution_count": 20,
   "metadata": {},
   "outputs": [
    {
     "data": {
      "text/plain": "Empty DataFrame\nColumns: [Species, BodyWt, BrainWt, NonDreaming, Dreaming, TotalSleep, LifeSpan, Gestation, Predation, Exposure, Danger, id_linha, BrainWt_kg, ratio_brain_body]\nIndex: []",
      "text/html": "<div>\n<style scoped>\n    .dataframe tbody tr th:only-of-type {\n        vertical-align: middle;\n    }\n\n    .dataframe tbody tr th {\n        vertical-align: top;\n    }\n\n    .dataframe thead th {\n        text-align: right;\n    }\n</style>\n<table border=\"1\" class=\"dataframe\">\n  <thead>\n    <tr style=\"text-align: right;\">\n      <th></th>\n      <th>Species</th>\n      <th>BodyWt</th>\n      <th>BrainWt</th>\n      <th>NonDreaming</th>\n      <th>Dreaming</th>\n      <th>TotalSleep</th>\n      <th>LifeSpan</th>\n      <th>Gestation</th>\n      <th>Predation</th>\n      <th>Exposure</th>\n      <th>Danger</th>\n      <th>id_linha</th>\n      <th>BrainWt_kg</th>\n      <th>ratio_brain_body</th>\n    </tr>\n  </thead>\n  <tbody>\n  </tbody>\n</table>\n</div>"
     },
     "execution_count": 20,
     "metadata": {},
     "output_type": "execute_result"
    }
   ],
   "source": [
    "tb_animals[tb_animals['Dreaming'] > tb_animals['NonDreaming']]"
   ]
  },
  {
   "cell_type": "markdown",
   "metadata": {},
   "source": [
    "## Usando métodos de `strings` em colunas\n",
    "\n",
    "A aplicação dos métodos de `str` é um pouco mais complexa, sintaticamente, que a utilização dos operadores: precisamos utilizar um atributo das `Series` para conseguir acessar os métodos."
   ]
  },
  {
   "cell_type": "code",
   "execution_count": 21,
   "metadata": {},
   "outputs": [
    {
     "data": {
      "text/plain": "0           Africanelephant\n1    Africangiantpouchedrat\n2                 ArcticFox\n3      Arcticgroundsquirrel\n4             Asianelephant\nName: Species, dtype: object"
     },
     "execution_count": 21,
     "metadata": {},
     "output_type": "execute_result"
    }
   ],
   "source": [
    "tb_animals['Species'].head()"
   ]
  },
  {
   "cell_type": "code",
   "execution_count": 22,
   "metadata": {},
   "outputs": [
    {
     "ename": "AttributeError",
     "evalue": "'Series' object has no attribute 'lower'",
     "output_type": "error",
     "traceback": [
      "\u001B[1;31m---------------------------------------------------------------------------\u001B[0m",
      "\u001B[1;31mAttributeError\u001B[0m                            Traceback (most recent call last)",
      "\u001B[1;32m~\\AppData\\Local\\Temp/ipykernel_8784/4233897527.py\u001B[0m in \u001B[0;36m<module>\u001B[1;34m\u001B[0m\n\u001B[1;32m----> 1\u001B[1;33m \u001B[0mtb_animals\u001B[0m\u001B[1;33m[\u001B[0m\u001B[1;34m'Species'\u001B[0m\u001B[1;33m]\u001B[0m\u001B[1;33m.\u001B[0m\u001B[0mlower\u001B[0m\u001B[1;33m(\u001B[0m\u001B[1;33m)\u001B[0m\u001B[1;33m\u001B[0m\u001B[1;33m\u001B[0m\u001B[0m\n\u001B[0m",
      "\u001B[1;32m~\\anaconda3\\lib\\site-packages\\pandas\\core\\generic.py\u001B[0m in \u001B[0;36m__getattr__\u001B[1;34m(self, name)\u001B[0m\n\u001B[0;32m   5900\u001B[0m         ):\n\u001B[0;32m   5901\u001B[0m             \u001B[1;32mreturn\u001B[0m \u001B[0mself\u001B[0m\u001B[1;33m[\u001B[0m\u001B[0mname\u001B[0m\u001B[1;33m]\u001B[0m\u001B[1;33m\u001B[0m\u001B[1;33m\u001B[0m\u001B[0m\n\u001B[1;32m-> 5902\u001B[1;33m         \u001B[1;32mreturn\u001B[0m \u001B[0mobject\u001B[0m\u001B[1;33m.\u001B[0m\u001B[0m__getattribute__\u001B[0m\u001B[1;33m(\u001B[0m\u001B[0mself\u001B[0m\u001B[1;33m,\u001B[0m \u001B[0mname\u001B[0m\u001B[1;33m)\u001B[0m\u001B[1;33m\u001B[0m\u001B[1;33m\u001B[0m\u001B[0m\n\u001B[0m\u001B[0;32m   5903\u001B[0m \u001B[1;33m\u001B[0m\u001B[0m\n\u001B[0;32m   5904\u001B[0m     \u001B[1;32mdef\u001B[0m \u001B[0m__setattr__\u001B[0m\u001B[1;33m(\u001B[0m\u001B[0mself\u001B[0m\u001B[1;33m,\u001B[0m \u001B[0mname\u001B[0m\u001B[1;33m:\u001B[0m \u001B[0mstr\u001B[0m\u001B[1;33m,\u001B[0m \u001B[0mvalue\u001B[0m\u001B[1;33m)\u001B[0m \u001B[1;33m->\u001B[0m \u001B[1;32mNone\u001B[0m\u001B[1;33m:\u001B[0m\u001B[1;33m\u001B[0m\u001B[1;33m\u001B[0m\u001B[0m\n",
      "\u001B[1;31mAttributeError\u001B[0m: 'Series' object has no attribute 'lower'"
     ]
    }
   ],
   "source": [
    "tb_animals['Species'].lower()"
   ]
  },
  {
   "cell_type": "markdown",
   "metadata": {},
   "source": [
    "Para acessar os métodos de `strings` vamos utilizar o atributo `.str` das `Series`"
   ]
  },
  {
   "cell_type": "code",
   "execution_count": 23,
   "metadata": {},
   "outputs": [
    {
     "data": {
      "text/plain": "0            africanelephant\n1     africangiantpouchedrat\n2                  arcticfox\n3       arcticgroundsquirrel\n4              asianelephant\n               ...          \n57                 treehyrax\n58                 treeshrew\n59                    vervet\n60              wateropossum\n61      yellow-belliedmarmot\nName: Species, Length: 62, dtype: object"
     },
     "execution_count": 23,
     "metadata": {},
     "output_type": "execute_result"
    }
   ],
   "source": [
    "tb_animals['Species'].str.lower()"
   ]
  },
  {
   "cell_type": "code",
   "execution_count": 26,
   "metadata": {
    "ExecuteTime": {
     "end_time": "2021-12-11T10:58:00.315079Z",
     "start_time": "2021-12-11T10:58:00.303111Z"
    }
   },
   "outputs": [
    {
     "data": {
      "text/plain": "                  Species    BodyWt  BrainWt  NonDreaming  Dreaming  \\\n0         Africanelephant  6654.000   5712.0          NaN       NaN   \n1  Africangiantpouchedrat     1.000      6.6          6.3       2.0   \n2               ArcticFox     3.385     44.5          NaN       NaN   \n3    Arcticgroundsquirrel     0.920      5.7          NaN       NaN   \n4           Asianelephant  2547.000   4603.0          2.1       1.8   \n\n   TotalSleep  LifeSpan  Gestation  Predation  Exposure  Danger  id_linha  \\\n0         3.3      38.6      645.0          3         5       3         0   \n1         8.3       4.5       42.0          3         1       3         1   \n2        12.5      14.0       60.0          1         1       1         2   \n3        16.5       NaN       25.0          5         2       3         3   \n4         3.9      69.0      624.0          3         5       4         4   \n\n   BrainWt_kg  ratio_brain_body           lower_species  \n0      5.7120          0.000858         africanelephant  \n1      0.0066          0.006600  africangiantpouchedrat  \n2      0.0445          0.013146               arcticfox  \n3      0.0057          0.006196    arcticgroundsquirrel  \n4      4.6030          0.001807           asianelephant  ",
      "text/html": "<div>\n<style scoped>\n    .dataframe tbody tr th:only-of-type {\n        vertical-align: middle;\n    }\n\n    .dataframe tbody tr th {\n        vertical-align: top;\n    }\n\n    .dataframe thead th {\n        text-align: right;\n    }\n</style>\n<table border=\"1\" class=\"dataframe\">\n  <thead>\n    <tr style=\"text-align: right;\">\n      <th></th>\n      <th>Species</th>\n      <th>BodyWt</th>\n      <th>BrainWt</th>\n      <th>NonDreaming</th>\n      <th>Dreaming</th>\n      <th>TotalSleep</th>\n      <th>LifeSpan</th>\n      <th>Gestation</th>\n      <th>Predation</th>\n      <th>Exposure</th>\n      <th>Danger</th>\n      <th>id_linha</th>\n      <th>BrainWt_kg</th>\n      <th>ratio_brain_body</th>\n      <th>lower_species</th>\n    </tr>\n  </thead>\n  <tbody>\n    <tr>\n      <th>0</th>\n      <td>Africanelephant</td>\n      <td>6654.000</td>\n      <td>5712.0</td>\n      <td>NaN</td>\n      <td>NaN</td>\n      <td>3.3</td>\n      <td>38.6</td>\n      <td>645.0</td>\n      <td>3</td>\n      <td>5</td>\n      <td>3</td>\n      <td>0</td>\n      <td>5.7120</td>\n      <td>0.000858</td>\n      <td>africanelephant</td>\n    </tr>\n    <tr>\n      <th>1</th>\n      <td>Africangiantpouchedrat</td>\n      <td>1.000</td>\n      <td>6.6</td>\n      <td>6.3</td>\n      <td>2.0</td>\n      <td>8.3</td>\n      <td>4.5</td>\n      <td>42.0</td>\n      <td>3</td>\n      <td>1</td>\n      <td>3</td>\n      <td>1</td>\n      <td>0.0066</td>\n      <td>0.006600</td>\n      <td>africangiantpouchedrat</td>\n    </tr>\n    <tr>\n      <th>2</th>\n      <td>ArcticFox</td>\n      <td>3.385</td>\n      <td>44.5</td>\n      <td>NaN</td>\n      <td>NaN</td>\n      <td>12.5</td>\n      <td>14.0</td>\n      <td>60.0</td>\n      <td>1</td>\n      <td>1</td>\n      <td>1</td>\n      <td>2</td>\n      <td>0.0445</td>\n      <td>0.013146</td>\n      <td>arcticfox</td>\n    </tr>\n    <tr>\n      <th>3</th>\n      <td>Arcticgroundsquirrel</td>\n      <td>0.920</td>\n      <td>5.7</td>\n      <td>NaN</td>\n      <td>NaN</td>\n      <td>16.5</td>\n      <td>NaN</td>\n      <td>25.0</td>\n      <td>5</td>\n      <td>2</td>\n      <td>3</td>\n      <td>3</td>\n      <td>0.0057</td>\n      <td>0.006196</td>\n      <td>arcticgroundsquirrel</td>\n    </tr>\n    <tr>\n      <th>4</th>\n      <td>Asianelephant</td>\n      <td>2547.000</td>\n      <td>4603.0</td>\n      <td>2.1</td>\n      <td>1.8</td>\n      <td>3.9</td>\n      <td>69.0</td>\n      <td>624.0</td>\n      <td>3</td>\n      <td>5</td>\n      <td>4</td>\n      <td>4</td>\n      <td>4.6030</td>\n      <td>0.001807</td>\n      <td>asianelephant</td>\n    </tr>\n  </tbody>\n</table>\n</div>"
     },
     "execution_count": 26,
     "metadata": {},
     "output_type": "execute_result"
    }
   ],
   "source": [
    "tb_animals['lower_species'] = tb_animals['Species'].str.lower()\n",
    "tb_animals.head()"
   ]
  },
  {
   "cell_type": "markdown",
   "metadata": {},
   "source": [
    "Além dos métodos básicos de `strings` podemos utilizar funções de REGEX também!. A síntaxe é a mesma: utilizaremos o atributo `.str` para acessar esses métodos.\n",
    "\n",
    "Vamos começar com o método `.contains()` que retorna um vetor booleano determinando se um padrão foi encontrado ou não em cada linha de nossa coluna. "
   ]
  },
  {
   "cell_type": "code",
   "execution_count": 27,
   "metadata": {},
   "outputs": [
    {
     "data": {
      "text/plain": "0     False\n1     False\n2     False\n3     False\n4     False\n      ...  \n57    False\n58    False\n59    False\n60    False\n61    False\nName: lower_species, Length: 62, dtype: bool"
     },
     "execution_count": 27,
     "metadata": {},
     "output_type": "execute_result"
    }
   ],
   "source": [
    "tb_animals['lower_species'].str.contains(r'monk|ape|man|gorilla|baboon|chimpanzee')"
   ]
  },
  {
   "cell_type": "code",
   "execution_count": 28,
   "metadata": {
    "ExecuteTime": {
     "end_time": "2021-12-11T11:05:17.914329Z",
     "start_time": "2021-12-11T11:05:17.898391Z"
    }
   },
   "outputs": [],
   "source": [
    "tb_animals['id_primata'] = tb_animals['lower_species'].str.contains(r'monk|ape|man|gorilla|baboon|chimpanzee')"
   ]
  },
  {
   "cell_type": "code",
   "execution_count": 29,
   "metadata": {
    "ExecuteTime": {
     "end_time": "2021-12-11T11:05:18.227228Z",
     "start_time": "2021-12-11T11:05:18.211271Z"
    }
   },
   "outputs": [
    {
     "data": {
      "text/plain": "7"
     },
     "execution_count": 29,
     "metadata": {},
     "output_type": "execute_result"
    }
   ],
   "source": [
    "sum(tb_animals['id_primata'])"
   ]
  },
  {
   "cell_type": "markdown",
   "metadata": {},
   "source": [
    "Podemos utilizar o método `.findall()` para guardar a informação de qual parte do `string` deu *match* com nosso padrão:"
   ]
  },
  {
   "cell_type": "code",
   "execution_count": 30,
   "metadata": {
    "ExecuteTime": {
     "end_time": "2021-12-11T11:05:18.555036Z",
     "start_time": "2021-12-11T11:05:18.551046Z"
    }
   },
   "outputs": [],
   "source": [
    "tb_animals['lista_primata'] = tb_animals['lower_species'].str.findall(r'monk|ape|man|gorilla|baboon|chimpanzee')"
   ]
  },
  {
   "cell_type": "code",
   "execution_count": 31,
   "metadata": {
    "ExecuteTime": {
     "end_time": "2021-12-11T11:05:19.301287Z",
     "start_time": "2021-12-11T11:05:19.279319Z"
    }
   },
   "outputs": [
    {
     "data": {
      "text/plain": "                  Species    BodyWt  BrainWt  NonDreaming  Dreaming  \\\n0         Africanelephant  6654.000   5712.0          NaN       NaN   \n1  Africangiantpouchedrat     1.000      6.6          6.3       2.0   \n2               ArcticFox     3.385     44.5          NaN       NaN   \n3    Arcticgroundsquirrel     0.920      5.7          NaN       NaN   \n4           Asianelephant  2547.000   4603.0          2.1       1.8   \n5                  Baboon    10.550    179.5          9.1       0.7   \n6             Bigbrownbat     0.023      0.3         15.8       3.9   \n7          Braziliantapir   160.000    169.0          5.2       1.0   \n8                     Cat     3.300     25.6         10.9       3.6   \n9              Chimpanzee    52.160    440.0          8.3       1.4   \n\n   TotalSleep  LifeSpan  Gestation  Predation  Exposure  Danger  id_linha  \\\n0         3.3      38.6      645.0          3         5       3         0   \n1         8.3       4.5       42.0          3         1       3         1   \n2        12.5      14.0       60.0          1         1       1         2   \n3        16.5       NaN       25.0          5         2       3         3   \n4         3.9      69.0      624.0          3         5       4         4   \n5         9.8      27.0      180.0          4         4       4         5   \n6        19.7      19.0       35.0          1         1       1         6   \n7         6.2      30.4      392.0          4         5       4         7   \n8        14.5      28.0       63.0          1         2       1         8   \n9         9.7      50.0      230.0          1         1       1         9   \n\n   BrainWt_kg  ratio_brain_body           lower_species  id_primata  \\\n0      5.7120          0.000858         africanelephant       False   \n1      0.0066          0.006600  africangiantpouchedrat       False   \n2      0.0445          0.013146               arcticfox       False   \n3      0.0057          0.006196    arcticgroundsquirrel       False   \n4      4.6030          0.001807           asianelephant       False   \n5      0.1795          0.017014                  baboon        True   \n6      0.0003          0.013043             bigbrownbat       False   \n7      0.1690          0.001056          braziliantapir       False   \n8      0.0256          0.007758                     cat       False   \n9      0.4400          0.008436              chimpanzee        True   \n\n  lista_primata  \n0            []  \n1            []  \n2            []  \n3            []  \n4            []  \n5      [baboon]  \n6            []  \n7            []  \n8            []  \n9  [chimpanzee]  ",
      "text/html": "<div>\n<style scoped>\n    .dataframe tbody tr th:only-of-type {\n        vertical-align: middle;\n    }\n\n    .dataframe tbody tr th {\n        vertical-align: top;\n    }\n\n    .dataframe thead th {\n        text-align: right;\n    }\n</style>\n<table border=\"1\" class=\"dataframe\">\n  <thead>\n    <tr style=\"text-align: right;\">\n      <th></th>\n      <th>Species</th>\n      <th>BodyWt</th>\n      <th>BrainWt</th>\n      <th>NonDreaming</th>\n      <th>Dreaming</th>\n      <th>TotalSleep</th>\n      <th>LifeSpan</th>\n      <th>Gestation</th>\n      <th>Predation</th>\n      <th>Exposure</th>\n      <th>Danger</th>\n      <th>id_linha</th>\n      <th>BrainWt_kg</th>\n      <th>ratio_brain_body</th>\n      <th>lower_species</th>\n      <th>id_primata</th>\n      <th>lista_primata</th>\n    </tr>\n  </thead>\n  <tbody>\n    <tr>\n      <th>0</th>\n      <td>Africanelephant</td>\n      <td>6654.000</td>\n      <td>5712.0</td>\n      <td>NaN</td>\n      <td>NaN</td>\n      <td>3.3</td>\n      <td>38.6</td>\n      <td>645.0</td>\n      <td>3</td>\n      <td>5</td>\n      <td>3</td>\n      <td>0</td>\n      <td>5.7120</td>\n      <td>0.000858</td>\n      <td>africanelephant</td>\n      <td>False</td>\n      <td>[]</td>\n    </tr>\n    <tr>\n      <th>1</th>\n      <td>Africangiantpouchedrat</td>\n      <td>1.000</td>\n      <td>6.6</td>\n      <td>6.3</td>\n      <td>2.0</td>\n      <td>8.3</td>\n      <td>4.5</td>\n      <td>42.0</td>\n      <td>3</td>\n      <td>1</td>\n      <td>3</td>\n      <td>1</td>\n      <td>0.0066</td>\n      <td>0.006600</td>\n      <td>africangiantpouchedrat</td>\n      <td>False</td>\n      <td>[]</td>\n    </tr>\n    <tr>\n      <th>2</th>\n      <td>ArcticFox</td>\n      <td>3.385</td>\n      <td>44.5</td>\n      <td>NaN</td>\n      <td>NaN</td>\n      <td>12.5</td>\n      <td>14.0</td>\n      <td>60.0</td>\n      <td>1</td>\n      <td>1</td>\n      <td>1</td>\n      <td>2</td>\n      <td>0.0445</td>\n      <td>0.013146</td>\n      <td>arcticfox</td>\n      <td>False</td>\n      <td>[]</td>\n    </tr>\n    <tr>\n      <th>3</th>\n      <td>Arcticgroundsquirrel</td>\n      <td>0.920</td>\n      <td>5.7</td>\n      <td>NaN</td>\n      <td>NaN</td>\n      <td>16.5</td>\n      <td>NaN</td>\n      <td>25.0</td>\n      <td>5</td>\n      <td>2</td>\n      <td>3</td>\n      <td>3</td>\n      <td>0.0057</td>\n      <td>0.006196</td>\n      <td>arcticgroundsquirrel</td>\n      <td>False</td>\n      <td>[]</td>\n    </tr>\n    <tr>\n      <th>4</th>\n      <td>Asianelephant</td>\n      <td>2547.000</td>\n      <td>4603.0</td>\n      <td>2.1</td>\n      <td>1.8</td>\n      <td>3.9</td>\n      <td>69.0</td>\n      <td>624.0</td>\n      <td>3</td>\n      <td>5</td>\n      <td>4</td>\n      <td>4</td>\n      <td>4.6030</td>\n      <td>0.001807</td>\n      <td>asianelephant</td>\n      <td>False</td>\n      <td>[]</td>\n    </tr>\n    <tr>\n      <th>5</th>\n      <td>Baboon</td>\n      <td>10.550</td>\n      <td>179.5</td>\n      <td>9.1</td>\n      <td>0.7</td>\n      <td>9.8</td>\n      <td>27.0</td>\n      <td>180.0</td>\n      <td>4</td>\n      <td>4</td>\n      <td>4</td>\n      <td>5</td>\n      <td>0.1795</td>\n      <td>0.017014</td>\n      <td>baboon</td>\n      <td>True</td>\n      <td>[baboon]</td>\n    </tr>\n    <tr>\n      <th>6</th>\n      <td>Bigbrownbat</td>\n      <td>0.023</td>\n      <td>0.3</td>\n      <td>15.8</td>\n      <td>3.9</td>\n      <td>19.7</td>\n      <td>19.0</td>\n      <td>35.0</td>\n      <td>1</td>\n      <td>1</td>\n      <td>1</td>\n      <td>6</td>\n      <td>0.0003</td>\n      <td>0.013043</td>\n      <td>bigbrownbat</td>\n      <td>False</td>\n      <td>[]</td>\n    </tr>\n    <tr>\n      <th>7</th>\n      <td>Braziliantapir</td>\n      <td>160.000</td>\n      <td>169.0</td>\n      <td>5.2</td>\n      <td>1.0</td>\n      <td>6.2</td>\n      <td>30.4</td>\n      <td>392.0</td>\n      <td>4</td>\n      <td>5</td>\n      <td>4</td>\n      <td>7</td>\n      <td>0.1690</td>\n      <td>0.001056</td>\n      <td>braziliantapir</td>\n      <td>False</td>\n      <td>[]</td>\n    </tr>\n    <tr>\n      <th>8</th>\n      <td>Cat</td>\n      <td>3.300</td>\n      <td>25.6</td>\n      <td>10.9</td>\n      <td>3.6</td>\n      <td>14.5</td>\n      <td>28.0</td>\n      <td>63.0</td>\n      <td>1</td>\n      <td>2</td>\n      <td>1</td>\n      <td>8</td>\n      <td>0.0256</td>\n      <td>0.007758</td>\n      <td>cat</td>\n      <td>False</td>\n      <td>[]</td>\n    </tr>\n    <tr>\n      <th>9</th>\n      <td>Chimpanzee</td>\n      <td>52.160</td>\n      <td>440.0</td>\n      <td>8.3</td>\n      <td>1.4</td>\n      <td>9.7</td>\n      <td>50.0</td>\n      <td>230.0</td>\n      <td>1</td>\n      <td>1</td>\n      <td>1</td>\n      <td>9</td>\n      <td>0.4400</td>\n      <td>0.008436</td>\n      <td>chimpanzee</td>\n      <td>True</td>\n      <td>[chimpanzee]</td>\n    </tr>\n  </tbody>\n</table>\n</div>"
     },
     "execution_count": 31,
     "metadata": {},
     "output_type": "execute_result"
    }
   ],
   "source": [
    "tb_animals.head(10)"
   ]
  },
  {
   "cell_type": "markdown",
   "metadata": {},
   "source": [
    "O método `.findall()` retorna uma lista: se quisermos transformar essa lista em um string teremos que utilizar o método `.map()`. Vamos começar definindo uma função para selecionar o primeiro elemento de cada lista e utilizar o método `.map()` para aplicar essa função a nossa coluna."
   ]
  },
  {
   "cell_type": "code",
   "execution_count": null,
   "metadata": {
    "ExecuteTime": {
     "end_time": "2021-12-11T11:02:24.306160Z",
     "start_time": "2021-12-11T11:02:24.289230Z"
    }
   },
   "outputs": [],
   "source": [
    "# EXERCICIO"
   ]
  },
  {
   "cell_type": "markdown",
   "metadata": {},
   "source": [
    "## Ordenando valores\n",
    "\n",
    "Podemos utilizar o método `.sort_values()` para ordenar um DataFrame por uma (ou mais) coluna."
   ]
  },
  {
   "cell_type": "code",
   "execution_count": 32,
   "metadata": {
    "ExecuteTime": {
     "end_time": "2020-06-12T13:14:54.723531Z",
     "start_time": "2020-06-12T13:14:54.717546Z"
    }
   },
   "outputs": [
    {
     "data": {
      "text/plain": "                    Species    BodyWt  BrainWt  NonDreaming  Dreaming  \\\n26           Groundsquirrel     0.101     4.00         10.4       3.4   \n41                Owlmonkey     0.480    15.50         15.2       1.8   \n31  Lessershort-tailedshrew     0.005     0.14          7.7       1.4   \n49             Rhesusmonkey     6.800   179.00          8.4       1.2   \n32           Littlebrownbat     0.010     0.25         17.9       2.0   \n..                      ...       ...      ...          ...       ...   \n60             Wateropossum     3.500     3.90         12.8       6.6   \n7            Braziliantapir   160.000   169.00          5.2       1.0   \n44                      Pig   192.000   180.00          6.5       1.9   \n11                      Cow   465.000   423.00          3.2       0.7   \n0           Africanelephant  6654.000  5712.00          NaN       NaN   \n\n    TotalSleep  LifeSpan  Gestation  Predation  Exposure  Danger  id_linha  \\\n26        13.8       9.0       28.0          5         1       3        26   \n41        17.0      12.0      140.0          2         2       2        41   \n31         9.1       2.6       21.5          5         2       4        31   \n49         9.6      29.0      164.0          2         3       2        49   \n32        19.9      24.0       50.0          1         1       1        32   \n..         ...       ...        ...        ...       ...     ...       ...   \n60        19.4       3.0       14.0          2         1       1        60   \n7          6.2      30.4      392.0          4         5       4         7   \n44         8.4      27.0      115.0          4         4       4        44   \n11         3.9      30.0      281.0          5         5       5        11   \n0          3.3      38.6      645.0          3         5       3         0   \n\n    BrainWt_kg  ratio_brain_body            lower_species  id_primata  \\\n26     0.00400          0.039604           groundsquirrel       False   \n41     0.01550          0.032292                owlmonkey        True   \n31     0.00014          0.028000  lessershort-tailedshrew       False   \n49     0.17900          0.026324             rhesusmonkey        True   \n32     0.00025          0.025000           littlebrownbat       False   \n..         ...               ...                      ...         ...   \n60     0.00390          0.001114             wateropossum       False   \n7      0.16900          0.001056           braziliantapir       False   \n44     0.18000          0.000937                      pig       False   \n11     0.42300          0.000910                      cow       False   \n0      5.71200          0.000858          africanelephant       False   \n\n   lista_primata  \n26            []  \n41        [monk]  \n31            []  \n49        [monk]  \n32            []  \n..           ...  \n60            []  \n7             []  \n44            []  \n11            []  \n0             []  \n\n[62 rows x 17 columns]",
      "text/html": "<div>\n<style scoped>\n    .dataframe tbody tr th:only-of-type {\n        vertical-align: middle;\n    }\n\n    .dataframe tbody tr th {\n        vertical-align: top;\n    }\n\n    .dataframe thead th {\n        text-align: right;\n    }\n</style>\n<table border=\"1\" class=\"dataframe\">\n  <thead>\n    <tr style=\"text-align: right;\">\n      <th></th>\n      <th>Species</th>\n      <th>BodyWt</th>\n      <th>BrainWt</th>\n      <th>NonDreaming</th>\n      <th>Dreaming</th>\n      <th>TotalSleep</th>\n      <th>LifeSpan</th>\n      <th>Gestation</th>\n      <th>Predation</th>\n      <th>Exposure</th>\n      <th>Danger</th>\n      <th>id_linha</th>\n      <th>BrainWt_kg</th>\n      <th>ratio_brain_body</th>\n      <th>lower_species</th>\n      <th>id_primata</th>\n      <th>lista_primata</th>\n    </tr>\n  </thead>\n  <tbody>\n    <tr>\n      <th>26</th>\n      <td>Groundsquirrel</td>\n      <td>0.101</td>\n      <td>4.00</td>\n      <td>10.4</td>\n      <td>3.4</td>\n      <td>13.8</td>\n      <td>9.0</td>\n      <td>28.0</td>\n      <td>5</td>\n      <td>1</td>\n      <td>3</td>\n      <td>26</td>\n      <td>0.00400</td>\n      <td>0.039604</td>\n      <td>groundsquirrel</td>\n      <td>False</td>\n      <td>[]</td>\n    </tr>\n    <tr>\n      <th>41</th>\n      <td>Owlmonkey</td>\n      <td>0.480</td>\n      <td>15.50</td>\n      <td>15.2</td>\n      <td>1.8</td>\n      <td>17.0</td>\n      <td>12.0</td>\n      <td>140.0</td>\n      <td>2</td>\n      <td>2</td>\n      <td>2</td>\n      <td>41</td>\n      <td>0.01550</td>\n      <td>0.032292</td>\n      <td>owlmonkey</td>\n      <td>True</td>\n      <td>[monk]</td>\n    </tr>\n    <tr>\n      <th>31</th>\n      <td>Lessershort-tailedshrew</td>\n      <td>0.005</td>\n      <td>0.14</td>\n      <td>7.7</td>\n      <td>1.4</td>\n      <td>9.1</td>\n      <td>2.6</td>\n      <td>21.5</td>\n      <td>5</td>\n      <td>2</td>\n      <td>4</td>\n      <td>31</td>\n      <td>0.00014</td>\n      <td>0.028000</td>\n      <td>lessershort-tailedshrew</td>\n      <td>False</td>\n      <td>[]</td>\n    </tr>\n    <tr>\n      <th>49</th>\n      <td>Rhesusmonkey</td>\n      <td>6.800</td>\n      <td>179.00</td>\n      <td>8.4</td>\n      <td>1.2</td>\n      <td>9.6</td>\n      <td>29.0</td>\n      <td>164.0</td>\n      <td>2</td>\n      <td>3</td>\n      <td>2</td>\n      <td>49</td>\n      <td>0.17900</td>\n      <td>0.026324</td>\n      <td>rhesusmonkey</td>\n      <td>True</td>\n      <td>[monk]</td>\n    </tr>\n    <tr>\n      <th>32</th>\n      <td>Littlebrownbat</td>\n      <td>0.010</td>\n      <td>0.25</td>\n      <td>17.9</td>\n      <td>2.0</td>\n      <td>19.9</td>\n      <td>24.0</td>\n      <td>50.0</td>\n      <td>1</td>\n      <td>1</td>\n      <td>1</td>\n      <td>32</td>\n      <td>0.00025</td>\n      <td>0.025000</td>\n      <td>littlebrownbat</td>\n      <td>False</td>\n      <td>[]</td>\n    </tr>\n    <tr>\n      <th>...</th>\n      <td>...</td>\n      <td>...</td>\n      <td>...</td>\n      <td>...</td>\n      <td>...</td>\n      <td>...</td>\n      <td>...</td>\n      <td>...</td>\n      <td>...</td>\n      <td>...</td>\n      <td>...</td>\n      <td>...</td>\n      <td>...</td>\n      <td>...</td>\n      <td>...</td>\n      <td>...</td>\n      <td>...</td>\n    </tr>\n    <tr>\n      <th>60</th>\n      <td>Wateropossum</td>\n      <td>3.500</td>\n      <td>3.90</td>\n      <td>12.8</td>\n      <td>6.6</td>\n      <td>19.4</td>\n      <td>3.0</td>\n      <td>14.0</td>\n      <td>2</td>\n      <td>1</td>\n      <td>1</td>\n      <td>60</td>\n      <td>0.00390</td>\n      <td>0.001114</td>\n      <td>wateropossum</td>\n      <td>False</td>\n      <td>[]</td>\n    </tr>\n    <tr>\n      <th>7</th>\n      <td>Braziliantapir</td>\n      <td>160.000</td>\n      <td>169.00</td>\n      <td>5.2</td>\n      <td>1.0</td>\n      <td>6.2</td>\n      <td>30.4</td>\n      <td>392.0</td>\n      <td>4</td>\n      <td>5</td>\n      <td>4</td>\n      <td>7</td>\n      <td>0.16900</td>\n      <td>0.001056</td>\n      <td>braziliantapir</td>\n      <td>False</td>\n      <td>[]</td>\n    </tr>\n    <tr>\n      <th>44</th>\n      <td>Pig</td>\n      <td>192.000</td>\n      <td>180.00</td>\n      <td>6.5</td>\n      <td>1.9</td>\n      <td>8.4</td>\n      <td>27.0</td>\n      <td>115.0</td>\n      <td>4</td>\n      <td>4</td>\n      <td>4</td>\n      <td>44</td>\n      <td>0.18000</td>\n      <td>0.000937</td>\n      <td>pig</td>\n      <td>False</td>\n      <td>[]</td>\n    </tr>\n    <tr>\n      <th>11</th>\n      <td>Cow</td>\n      <td>465.000</td>\n      <td>423.00</td>\n      <td>3.2</td>\n      <td>0.7</td>\n      <td>3.9</td>\n      <td>30.0</td>\n      <td>281.0</td>\n      <td>5</td>\n      <td>5</td>\n      <td>5</td>\n      <td>11</td>\n      <td>0.42300</td>\n      <td>0.000910</td>\n      <td>cow</td>\n      <td>False</td>\n      <td>[]</td>\n    </tr>\n    <tr>\n      <th>0</th>\n      <td>Africanelephant</td>\n      <td>6654.000</td>\n      <td>5712.00</td>\n      <td>NaN</td>\n      <td>NaN</td>\n      <td>3.3</td>\n      <td>38.6</td>\n      <td>645.0</td>\n      <td>3</td>\n      <td>5</td>\n      <td>3</td>\n      <td>0</td>\n      <td>5.71200</td>\n      <td>0.000858</td>\n      <td>africanelephant</td>\n      <td>False</td>\n      <td>[]</td>\n    </tr>\n  </tbody>\n</table>\n<p>62 rows × 17 columns</p>\n</div>"
     },
     "execution_count": 32,
     "metadata": {},
     "output_type": "execute_result"
    }
   ],
   "source": [
    "tb_animals.sort_values(by='ratio_brain_body', ascending=False)"
   ]
  },
  {
   "cell_type": "markdown",
   "metadata": {},
   "source": [
    "Lembrando que os métodos do DataFrame não alteram o objeto original! Se quisermos guardar nosso resultado precisamos faze-lo explicitamente:"
   ]
  },
  {
   "cell_type": "code",
   "execution_count": 33,
   "metadata": {},
   "outputs": [],
   "source": [
    "tb_animals = tb_animals.sort_values(by=['Predation', 'ratio_brain_body'], ascending=False)"
   ]
  },
  {
   "cell_type": "code",
   "execution_count": 34,
   "metadata": {},
   "outputs": [
    {
     "data": {
      "text/plain": "                    Species  BodyWt  BrainWt  NonDreaming  Dreaming  \\\n26           Groundsquirrel   0.101     4.00         10.4       3.4   \n31  Lessershort-tailedshrew   0.005     0.14          7.7       1.4   \n10               Chinchilla   0.425     6.40         11.0       1.5   \n52                  Roedeer  14.830    98.20          NaN       NaN   \n3      Arcticgroundsquirrel   0.920     5.70          NaN       NaN   \n\n    TotalSleep  LifeSpan  Gestation  Predation  Exposure  Danger  id_linha  \\\n26        13.8       9.0       28.0          5         1       3        26   \n31         9.1       2.6       21.5          5         2       4        31   \n10        12.5       7.0      112.0          5         4       4        10   \n52         2.6      17.0      150.0          5         5       5        52   \n3         16.5       NaN       25.0          5         2       3         3   \n\n    BrainWt_kg  ratio_brain_body            lower_species  id_primata  \\\n26     0.00400          0.039604           groundsquirrel       False   \n31     0.00014          0.028000  lessershort-tailedshrew       False   \n10     0.00640          0.015059               chinchilla       False   \n52     0.09820          0.006622                  roedeer       False   \n3      0.00570          0.006196     arcticgroundsquirrel       False   \n\n   lista_primata  \n26            []  \n31            []  \n10            []  \n52            []  \n3             []  ",
      "text/html": "<div>\n<style scoped>\n    .dataframe tbody tr th:only-of-type {\n        vertical-align: middle;\n    }\n\n    .dataframe tbody tr th {\n        vertical-align: top;\n    }\n\n    .dataframe thead th {\n        text-align: right;\n    }\n</style>\n<table border=\"1\" class=\"dataframe\">\n  <thead>\n    <tr style=\"text-align: right;\">\n      <th></th>\n      <th>Species</th>\n      <th>BodyWt</th>\n      <th>BrainWt</th>\n      <th>NonDreaming</th>\n      <th>Dreaming</th>\n      <th>TotalSleep</th>\n      <th>LifeSpan</th>\n      <th>Gestation</th>\n      <th>Predation</th>\n      <th>Exposure</th>\n      <th>Danger</th>\n      <th>id_linha</th>\n      <th>BrainWt_kg</th>\n      <th>ratio_brain_body</th>\n      <th>lower_species</th>\n      <th>id_primata</th>\n      <th>lista_primata</th>\n    </tr>\n  </thead>\n  <tbody>\n    <tr>\n      <th>26</th>\n      <td>Groundsquirrel</td>\n      <td>0.101</td>\n      <td>4.00</td>\n      <td>10.4</td>\n      <td>3.4</td>\n      <td>13.8</td>\n      <td>9.0</td>\n      <td>28.0</td>\n      <td>5</td>\n      <td>1</td>\n      <td>3</td>\n      <td>26</td>\n      <td>0.00400</td>\n      <td>0.039604</td>\n      <td>groundsquirrel</td>\n      <td>False</td>\n      <td>[]</td>\n    </tr>\n    <tr>\n      <th>31</th>\n      <td>Lessershort-tailedshrew</td>\n      <td>0.005</td>\n      <td>0.14</td>\n      <td>7.7</td>\n      <td>1.4</td>\n      <td>9.1</td>\n      <td>2.6</td>\n      <td>21.5</td>\n      <td>5</td>\n      <td>2</td>\n      <td>4</td>\n      <td>31</td>\n      <td>0.00014</td>\n      <td>0.028000</td>\n      <td>lessershort-tailedshrew</td>\n      <td>False</td>\n      <td>[]</td>\n    </tr>\n    <tr>\n      <th>10</th>\n      <td>Chinchilla</td>\n      <td>0.425</td>\n      <td>6.40</td>\n      <td>11.0</td>\n      <td>1.5</td>\n      <td>12.5</td>\n      <td>7.0</td>\n      <td>112.0</td>\n      <td>5</td>\n      <td>4</td>\n      <td>4</td>\n      <td>10</td>\n      <td>0.00640</td>\n      <td>0.015059</td>\n      <td>chinchilla</td>\n      <td>False</td>\n      <td>[]</td>\n    </tr>\n    <tr>\n      <th>52</th>\n      <td>Roedeer</td>\n      <td>14.830</td>\n      <td>98.20</td>\n      <td>NaN</td>\n      <td>NaN</td>\n      <td>2.6</td>\n      <td>17.0</td>\n      <td>150.0</td>\n      <td>5</td>\n      <td>5</td>\n      <td>5</td>\n      <td>52</td>\n      <td>0.09820</td>\n      <td>0.006622</td>\n      <td>roedeer</td>\n      <td>False</td>\n      <td>[]</td>\n    </tr>\n    <tr>\n      <th>3</th>\n      <td>Arcticgroundsquirrel</td>\n      <td>0.920</td>\n      <td>5.70</td>\n      <td>NaN</td>\n      <td>NaN</td>\n      <td>16.5</td>\n      <td>NaN</td>\n      <td>25.0</td>\n      <td>5</td>\n      <td>2</td>\n      <td>3</td>\n      <td>3</td>\n      <td>0.00570</td>\n      <td>0.006196</td>\n      <td>arcticgroundsquirrel</td>\n      <td>False</td>\n      <td>[]</td>\n    </tr>\n  </tbody>\n</table>\n</div>"
     },
     "execution_count": 34,
     "metadata": {},
     "output_type": "execute_result"
    }
   ],
   "source": [
    "tb_animals.head()"
   ]
  },
  {
   "cell_type": "markdown",
   "metadata": {},
   "source": [
    "## Métodos de agregação entre colunas\n",
    "\n",
    "Podemos utilizar os métodos de agregação para criar novas colunas: basta mudar o eixo ao longo do qual a operação é realizada!"
   ]
  },
  {
   "cell_type": "code",
   "execution_count": 35,
   "metadata": {},
   "outputs": [
    {
     "data": {
      "text/plain": "Predation    2.870968\nExposure     2.419355\nDanger       2.612903\ndtype: float64"
     },
     "execution_count": 35,
     "metadata": {},
     "output_type": "execute_result"
    }
   ],
   "source": [
    "tb_animals[['Predation', 'Exposure', 'Danger']].mean(axis=0)"
   ]
  },
  {
   "cell_type": "code",
   "execution_count": 36,
   "metadata": {},
   "outputs": [
    {
     "data": {
      "text/plain": "26    3.000000\n31    3.666667\n10    4.333333\n52    5.000000\n3     3.333333\n        ...   \n24    1.666667\n25    1.000000\n23    2.000000\n29    1.000000\n19    1.000000\nLength: 62, dtype: float64"
     },
     "execution_count": 36,
     "metadata": {},
     "output_type": "execute_result"
    }
   ],
   "source": [
    "tb_animals[['Predation', 'Exposure', 'Danger']].mean(axis=1)"
   ]
  },
  {
   "cell_type": "code",
   "execution_count": 37,
   "metadata": {},
   "outputs": [],
   "source": [
    "tb_animals['risco'] = tb_animals[['Predation', 'Exposure', 'Danger']].mean(axis=1)"
   ]
  },
  {
   "cell_type": "code",
   "execution_count": 38,
   "metadata": {},
   "outputs": [
    {
     "data": {
      "text/plain": "Predation    2.870968\nExposure     2.419355\nDanger       2.612903\nrisco        2.634409\ndtype: float64"
     },
     "execution_count": 38,
     "metadata": {},
     "output_type": "execute_result"
    }
   ],
   "source": [
    "tb_animals[['Predation', 'Exposure', 'Danger', 'risco']].mean(axis=0)"
   ]
  },
  {
   "cell_type": "markdown",
   "metadata": {},
   "source": [
    "# Cálculos Condicionais\n",
    "\n",
    "Podemos utilizar o atributo `.loc` para criar colunas condicionais. Vamos começar com um exemplo simples: criando uma coluna a partir de uma constante."
   ]
  },
  {
   "cell_type": "markdown",
   "metadata": {},
   "source": [
    "## Colunas Condicionais constantes"
   ]
  },
  {
   "cell_type": "code",
   "execution_count": 39,
   "metadata": {
    "ExecuteTime": {
     "end_time": "2020-08-11T04:01:16.250768Z",
     "start_time": "2020-08-11T04:01:16.240767Z"
    }
   },
   "outputs": [],
   "source": [
    "tb_animals['flag_alto_risco'] = 0"
   ]
  },
  {
   "cell_type": "code",
   "execution_count": 40,
   "metadata": {},
   "outputs": [],
   "source": [
    "tb_animals.loc[tb_animals['risco']>=4, 'flag_alto_risco'] = 1"
   ]
  },
  {
   "cell_type": "code",
   "execution_count": 42,
   "metadata": {},
   "outputs": [
    {
     "data": {
      "text/plain": "                     BodyWt     BrainWt  NonDreaming  Dreaming  TotalSleep  \\\nflag_alto_risco                                                              \n0                162.586089  203.836000     9.602778  2.366667   11.875000   \n1                294.623824  493.041176     5.883333  0.957143    6.314286   \n\n                  LifeSpan   Gestation  Predation  Exposure    Danger  \\\nflag_alto_risco                                                         \n0                17.214634  103.914634   2.244444  1.577778  1.888889   \n1                26.300000  235.058824   4.529412  4.647059  4.529412   \n\n                  id_linha  BrainWt_kg  ratio_brain_body  id_primata     risco  \nflag_alto_risco                                                                 \n0                31.977778    0.203836          0.011467    0.111111  1.903704  \n1                26.588235    0.493041          0.004746    0.117647  4.568627  ",
      "text/html": "<div>\n<style scoped>\n    .dataframe tbody tr th:only-of-type {\n        vertical-align: middle;\n    }\n\n    .dataframe tbody tr th {\n        vertical-align: top;\n    }\n\n    .dataframe thead th {\n        text-align: right;\n    }\n</style>\n<table border=\"1\" class=\"dataframe\">\n  <thead>\n    <tr style=\"text-align: right;\">\n      <th></th>\n      <th>BodyWt</th>\n      <th>BrainWt</th>\n      <th>NonDreaming</th>\n      <th>Dreaming</th>\n      <th>TotalSleep</th>\n      <th>LifeSpan</th>\n      <th>Gestation</th>\n      <th>Predation</th>\n      <th>Exposure</th>\n      <th>Danger</th>\n      <th>id_linha</th>\n      <th>BrainWt_kg</th>\n      <th>ratio_brain_body</th>\n      <th>id_primata</th>\n      <th>risco</th>\n    </tr>\n    <tr>\n      <th>flag_alto_risco</th>\n      <th></th>\n      <th></th>\n      <th></th>\n      <th></th>\n      <th></th>\n      <th></th>\n      <th></th>\n      <th></th>\n      <th></th>\n      <th></th>\n      <th></th>\n      <th></th>\n      <th></th>\n      <th></th>\n      <th></th>\n    </tr>\n  </thead>\n  <tbody>\n    <tr>\n      <th>0</th>\n      <td>162.586089</td>\n      <td>203.836000</td>\n      <td>9.602778</td>\n      <td>2.366667</td>\n      <td>11.875000</td>\n      <td>17.214634</td>\n      <td>103.914634</td>\n      <td>2.244444</td>\n      <td>1.577778</td>\n      <td>1.888889</td>\n      <td>31.977778</td>\n      <td>0.203836</td>\n      <td>0.011467</td>\n      <td>0.111111</td>\n      <td>1.903704</td>\n    </tr>\n    <tr>\n      <th>1</th>\n      <td>294.623824</td>\n      <td>493.041176</td>\n      <td>5.883333</td>\n      <td>0.957143</td>\n      <td>6.314286</td>\n      <td>26.300000</td>\n      <td>235.058824</td>\n      <td>4.529412</td>\n      <td>4.647059</td>\n      <td>4.529412</td>\n      <td>26.588235</td>\n      <td>0.493041</td>\n      <td>0.004746</td>\n      <td>0.117647</td>\n      <td>4.568627</td>\n    </tr>\n  </tbody>\n</table>\n</div>"
     },
     "execution_count": 42,
     "metadata": {},
     "output_type": "execute_result"
    }
   ],
   "source": [
    "tb_animals.groupby('flag_alto_risco').mean(numeric_only=True)"
   ]
  },
  {
   "cell_type": "markdown",
   "metadata": {},
   "source": [
    "Um atributo muito útil para esse tipo de visualização é o `.T`: ele nos retorna o DataFrame transposto:"
   ]
  },
  {
   "cell_type": "code",
   "execution_count": 44,
   "metadata": {},
   "outputs": [
    {
     "data": {
      "text/plain": "flag_alto_risco            0           1\nBodyWt            162.586089  294.623824\nBrainWt           203.836000  493.041176\nNonDreaming         9.602778    5.883333\nDreaming            2.366667    0.957143\nTotalSleep         11.875000    6.314286\nLifeSpan           17.214634   26.300000\nGestation         103.914634  235.058824\nPredation           2.244444    4.529412\nExposure            1.577778    4.647059\nDanger              1.888889    4.529412\nid_linha           31.977778   26.588235\nBrainWt_kg          0.203836    0.493041\nratio_brain_body    0.011467    0.004746\nid_primata          0.111111    0.117647\nrisco               1.903704    4.568627",
      "text/html": "<div>\n<style scoped>\n    .dataframe tbody tr th:only-of-type {\n        vertical-align: middle;\n    }\n\n    .dataframe tbody tr th {\n        vertical-align: top;\n    }\n\n    .dataframe thead th {\n        text-align: right;\n    }\n</style>\n<table border=\"1\" class=\"dataframe\">\n  <thead>\n    <tr style=\"text-align: right;\">\n      <th>flag_alto_risco</th>\n      <th>0</th>\n      <th>1</th>\n    </tr>\n  </thead>\n  <tbody>\n    <tr>\n      <th>BodyWt</th>\n      <td>162.586089</td>\n      <td>294.623824</td>\n    </tr>\n    <tr>\n      <th>BrainWt</th>\n      <td>203.836000</td>\n      <td>493.041176</td>\n    </tr>\n    <tr>\n      <th>NonDreaming</th>\n      <td>9.602778</td>\n      <td>5.883333</td>\n    </tr>\n    <tr>\n      <th>Dreaming</th>\n      <td>2.366667</td>\n      <td>0.957143</td>\n    </tr>\n    <tr>\n      <th>TotalSleep</th>\n      <td>11.875000</td>\n      <td>6.314286</td>\n    </tr>\n    <tr>\n      <th>LifeSpan</th>\n      <td>17.214634</td>\n      <td>26.300000</td>\n    </tr>\n    <tr>\n      <th>Gestation</th>\n      <td>103.914634</td>\n      <td>235.058824</td>\n    </tr>\n    <tr>\n      <th>Predation</th>\n      <td>2.244444</td>\n      <td>4.529412</td>\n    </tr>\n    <tr>\n      <th>Exposure</th>\n      <td>1.577778</td>\n      <td>4.647059</td>\n    </tr>\n    <tr>\n      <th>Danger</th>\n      <td>1.888889</td>\n      <td>4.529412</td>\n    </tr>\n    <tr>\n      <th>id_linha</th>\n      <td>31.977778</td>\n      <td>26.588235</td>\n    </tr>\n    <tr>\n      <th>BrainWt_kg</th>\n      <td>0.203836</td>\n      <td>0.493041</td>\n    </tr>\n    <tr>\n      <th>ratio_brain_body</th>\n      <td>0.011467</td>\n      <td>0.004746</td>\n    </tr>\n    <tr>\n      <th>id_primata</th>\n      <td>0.111111</td>\n      <td>0.117647</td>\n    </tr>\n    <tr>\n      <th>risco</th>\n      <td>1.903704</td>\n      <td>4.568627</td>\n    </tr>\n  </tbody>\n</table>\n</div>"
     },
     "execution_count": 44,
     "metadata": {},
     "output_type": "execute_result"
    }
   ],
   "source": [
    "tb_animals.groupby('flag_alto_risco').mean(numeric_only=True).T"
   ]
  },
  {
   "cell_type": "markdown",
   "metadata": {},
   "source": [
    "## Colunas Condicionais utilizando operações"
   ]
  },
  {
   "cell_type": "code",
   "execution_count": 45,
   "metadata": {},
   "outputs": [],
   "source": [
    "tb_animals['max_risco'] = tb_animals[['Predation', 'Exposure', 'Danger']].max(axis = 1)"
   ]
  },
  {
   "cell_type": "code",
   "execution_count": 46,
   "metadata": {},
   "outputs": [],
   "source": [
    "tb_animals.loc[tb_animals['max_risco'] < 5, 'risco_2'] = tb_animals[['Predation', 'Exposure', 'Danger']].mean(axis = 1)\n",
    "tb_animals.loc[tb_animals['max_risco'] == 5, 'risco_2'] = 5"
   ]
  },
  {
   "cell_type": "code",
   "execution_count": 50,
   "metadata": {},
   "outputs": [],
   "source": [
    "tb_animals['flag_alto_risco_2'] = \"Baixo Risco\"\n",
    "tb_animals.loc[tb_animals['risco_2']>=4, 'flag_alto_risco_2'] = \"Alto Risco\""
   ]
  },
  {
   "cell_type": "code",
   "execution_count": 52,
   "metadata": {},
   "outputs": [
    {
     "data": {
      "text/plain": "flag_alto_risco_2  Alto Risco  Baixo Risco\nBodyWt             555.411000    16.130439\nBrainWt            671.597143    84.165366\nNonDreaming          6.335714     9.635294\nDreaming             1.137500     2.364706\nTotalSleep           7.283333    11.995000\nLifeSpan            24.865000    17.252632\nGestation          224.547619    95.702703\nPredation            4.523810     2.024390\nExposure             4.238095     1.487805\nDanger               4.285714     1.756098\nid_linha            24.380952    33.634146\nBrainWt_kg           0.671597     0.084165\nratio_brain_body     0.007397     0.010765\nid_primata           0.095238     0.121951\nrisco                4.349206     1.756098\nflag_alto_risco      0.809524     0.000000\nmax_risco            4.857143     2.219512\nrisco_2              4.857143     1.756098",
      "text/html": "<div>\n<style scoped>\n    .dataframe tbody tr th:only-of-type {\n        vertical-align: middle;\n    }\n\n    .dataframe tbody tr th {\n        vertical-align: top;\n    }\n\n    .dataframe thead th {\n        text-align: right;\n    }\n</style>\n<table border=\"1\" class=\"dataframe\">\n  <thead>\n    <tr style=\"text-align: right;\">\n      <th>flag_alto_risco_2</th>\n      <th>Alto Risco</th>\n      <th>Baixo Risco</th>\n    </tr>\n  </thead>\n  <tbody>\n    <tr>\n      <th>BodyWt</th>\n      <td>555.411000</td>\n      <td>16.130439</td>\n    </tr>\n    <tr>\n      <th>BrainWt</th>\n      <td>671.597143</td>\n      <td>84.165366</td>\n    </tr>\n    <tr>\n      <th>NonDreaming</th>\n      <td>6.335714</td>\n      <td>9.635294</td>\n    </tr>\n    <tr>\n      <th>Dreaming</th>\n      <td>1.137500</td>\n      <td>2.364706</td>\n    </tr>\n    <tr>\n      <th>TotalSleep</th>\n      <td>7.283333</td>\n      <td>11.995000</td>\n    </tr>\n    <tr>\n      <th>LifeSpan</th>\n      <td>24.865000</td>\n      <td>17.252632</td>\n    </tr>\n    <tr>\n      <th>Gestation</th>\n      <td>224.547619</td>\n      <td>95.702703</td>\n    </tr>\n    <tr>\n      <th>Predation</th>\n      <td>4.523810</td>\n      <td>2.024390</td>\n    </tr>\n    <tr>\n      <th>Exposure</th>\n      <td>4.238095</td>\n      <td>1.487805</td>\n    </tr>\n    <tr>\n      <th>Danger</th>\n      <td>4.285714</td>\n      <td>1.756098</td>\n    </tr>\n    <tr>\n      <th>id_linha</th>\n      <td>24.380952</td>\n      <td>33.634146</td>\n    </tr>\n    <tr>\n      <th>BrainWt_kg</th>\n      <td>0.671597</td>\n      <td>0.084165</td>\n    </tr>\n    <tr>\n      <th>ratio_brain_body</th>\n      <td>0.007397</td>\n      <td>0.010765</td>\n    </tr>\n    <tr>\n      <th>id_primata</th>\n      <td>0.095238</td>\n      <td>0.121951</td>\n    </tr>\n    <tr>\n      <th>risco</th>\n      <td>4.349206</td>\n      <td>1.756098</td>\n    </tr>\n    <tr>\n      <th>flag_alto_risco</th>\n      <td>0.809524</td>\n      <td>0.000000</td>\n    </tr>\n    <tr>\n      <th>max_risco</th>\n      <td>4.857143</td>\n      <td>2.219512</td>\n    </tr>\n    <tr>\n      <th>risco_2</th>\n      <td>4.857143</td>\n      <td>1.756098</td>\n    </tr>\n  </tbody>\n</table>\n</div>"
     },
     "execution_count": 52,
     "metadata": {},
     "output_type": "execute_result"
    }
   ],
   "source": [
    "tb_animals.groupby('flag_alto_risco_2').mean(numeric_only=True).T"
   ]
  },
  {
   "cell_type": "markdown",
   "metadata": {},
   "source": [
    "# Quantis\n",
    "\n",
    "Os quantis são pontos de corte em uma variável numérica que calculados para que uma % das observações esteja abaixo deste ponto. Por exemplo, o quantil 0.5 (50%, ou *mediana*) da variável `BodyWt` é um número tal que 50% das observações tem `BodyWt` abaixo deste número.\n",
    "\n",
    "Os quantis mais famosos são os **quartis**:\n",
    "\n",
    "1. 0.25, ou primeiro quartil, onde 25% das observações estão abaixo do quantil;\n",
    "1. 0.5, ou mediana, onde 50% das observações estão abaixo do quantil;\n",
    "1. e 0.75, ou terceiro quartil, onde 75% das observações estão abaixo do quantil.\n",
    "\n",
    "Além disso, muitas vezes usamos os quantis 0.05 e 0.95 para representar os valores mais altos e mais baixos de uma variável."
   ]
  },
  {
   "cell_type": "code",
   "execution_count": 53,
   "metadata": {
    "ExecuteTime": {
     "end_time": "2020-06-12T14:20:38.835325Z",
     "start_time": "2020-06-12T14:20:38.831308Z"
    }
   },
   "outputs": [
    {
     "data": {
      "text/plain": "3.3425"
     },
     "execution_count": 53,
     "metadata": {},
     "output_type": "execute_result"
    }
   ],
   "source": [
    "tb_animals['BodyWt'].median()"
   ]
  },
  {
   "cell_type": "code",
   "execution_count": 54,
   "metadata": {},
   "outputs": [
    {
     "data": {
      "text/plain": "3.3425"
     },
     "execution_count": 54,
     "metadata": {},
     "output_type": "execute_result"
    }
   ],
   "source": [
    "tb_animals['BodyWt'].quantile(0.5)"
   ]
  },
  {
   "cell_type": "code",
   "execution_count": 55,
   "metadata": {},
   "outputs": [
    {
     "data": {
      "text/plain": "0.25     0.6000\n0.50     3.3425\n0.75    48.2025\nName: BodyWt, dtype: float64"
     },
     "execution_count": 55,
     "metadata": {},
     "output_type": "execute_result"
    }
   ],
   "source": [
    "tb_animals['BodyWt'].quantile([0.25, 0.5, 0.75])"
   ]
  },
  {
   "cell_type": "markdown",
   "metadata": {},
   "source": [
    "Uma utilização comum dos quantis é a **discretização de variáveis continuas**, ou seja, a criação de uma variável categórica (`string`) a partir de uma variável numérica."
   ]
  },
  {
   "cell_type": "code",
   "execution_count": 56,
   "metadata": {},
   "outputs": [
    {
     "name": "stdout",
     "output_type": "stream",
     "text": [
      "0.6000000000000001 3.3425 48.2025\n"
     ]
    }
   ],
   "source": [
    "q25 = tb_animals['BodyWt'].quantile(0.25)\n",
    "q50 = tb_animals['BodyWt'].quantile(0.5)\n",
    "q75 = tb_animals['BodyWt'].quantile(0.75)\n",
    "print(q25, q50, q75)"
   ]
  },
  {
   "cell_type": "code",
   "execution_count": 57,
   "metadata": {},
   "outputs": [
    {
     "data": {
      "text/plain": "Leves             16\nPesados           16\nMédios-Pesados    15\nLeves-Médios      15\nName: cat_peso, dtype: int64"
     },
     "execution_count": 57,
     "metadata": {},
     "output_type": "execute_result"
    }
   ],
   "source": [
    "tb_animals.loc[tb_animals['BodyWt'] >= q75, 'cat_peso'] = 'Pesados'\n",
    "tb_animals.loc[tb_animals['BodyWt'] < q75, 'cat_peso'] = 'Médios-Pesados'\n",
    "tb_animals.loc[tb_animals['BodyWt'] < q50, 'cat_peso'] = 'Leves-Médios'\n",
    "tb_animals.loc[tb_animals['BodyWt'] < q25, 'cat_peso'] = 'Leves'\n",
    "tb_animals['cat_peso'].value_counts()"
   ]
  },
  {
   "cell_type": "markdown",
   "metadata": {},
   "source": [
    "## Categorizando dados\n",
    "\n",
    "A tarefa acima é tão comum que temos uma função específica para *cortar* uma variável numérica de acordo com seus quantis: a `pd.qcut()`"
   ]
  },
  {
   "cell_type": "code",
   "execution_count": 58,
   "metadata": {
    "ExecuteTime": {
     "end_time": "2020-06-12T14:30:58.355804Z",
     "start_time": "2020-06-12T14:30:58.351783Z"
    }
   },
   "outputs": [],
   "source": [
    "# Your code here!\n",
    "tb_animals['BodyWt_Interval'] = pd.qcut(tb_animals['BodyWt'], 4, ['Leves', 'Leves-Médios', 'Médios-Pesados', 'Pesados'])"
   ]
  },
  {
   "cell_type": "code",
   "execution_count": 59,
   "metadata": {},
   "outputs": [
    {
     "data": {
      "text/plain": "Leves             16\nPesados           16\nLeves-Médios      15\nMédios-Pesados    15\nName: BodyWt_Interval, dtype: int64"
     },
     "execution_count": 59,
     "metadata": {},
     "output_type": "execute_result"
    }
   ],
   "source": [
    "tb_animals['BodyWt_Interval'].value_counts()"
   ]
  },
  {
   "cell_type": "code",
   "execution_count": 61,
   "metadata": {},
   "outputs": [
    {
     "data": {
      "text/plain": "Leves             0.258065\nPesados           0.258065\nLeves-Médios      0.241935\nMédios-Pesados    0.241935\nName: BodyWt_Interval, dtype: float64"
     },
     "execution_count": 61,
     "metadata": {},
     "output_type": "execute_result"
    }
   ],
   "source": [
    "tb_animals['BodyWt_Interval'].value_counts(normalize = True)"
   ]
  },
  {
   "cell_type": "markdown",
   "metadata": {},
   "source": [
    "Os intervalos entre quantis não são uniforme: no exemplo acima a categoria `Leve` tinha animais entre 0 Kg e 0.6 Kg enquanto a `Médios-Pesados` tinha animais entre 3.3 Kg e 48 Kg! Isso acontece pois ao cortamos através de quantis estamos criando intervalos com número de observações uniforme - por consequencia sacrificamos a uniformidade entre intervalos.\n",
    "\n",
    "Se quisermos *cortar* uma variável em intervalos iguais podemos utilizar a função `pd.cut`:"
   ]
  },
  {
   "cell_type": "code",
   "execution_count": 62,
   "metadata": {
    "ExecuteTime": {
     "end_time": "2020-06-12T14:36:22.395836Z",
     "start_time": "2020-06-12T14:36:22.385867Z"
    }
   },
   "outputs": [],
   "source": [
    "tb_animals['cat_risco'] = pd.cut(tb_animals['risco'], 3)"
   ]
  },
  {
   "cell_type": "code",
   "execution_count": 64,
   "metadata": {},
   "outputs": [
    {
     "data": {
      "text/plain": "(0.996, 2.333]    0.500000\n(3.667, 5.0]      0.274194\n(2.333, 3.667]    0.225806\nName: cat_risco, dtype: float64"
     },
     "execution_count": 64,
     "metadata": {},
     "output_type": "execute_result"
    }
   ],
   "source": [
    "tb_animals['cat_risco'].value_counts(normalize=True)"
   ]
  },
  {
   "cell_type": "code",
   "execution_count": 65,
   "outputs": [
    {
     "data": {
      "text/plain": "26    (-6.649, 2218.003]\n31    (-6.649, 2218.003]\n10    (-6.649, 2218.003]\n52    (-6.649, 2218.003]\n3     (-6.649, 2218.003]\n             ...        \n24    (-6.649, 2218.003]\n25    (-6.649, 2218.003]\n23    (-6.649, 2218.003]\n29    (-6.649, 2218.003]\n19    (-6.649, 2218.003]\nName: BodyWt, Length: 62, dtype: category\nCategories (3, interval[float64, right]): [(-6.649, 2218.003] < (2218.003, 4436.002] < (4436.002, 6654.0]]"
     },
     "execution_count": 65,
     "metadata": {},
     "output_type": "execute_result"
    }
   ],
   "source": [
    "pd.cut(tb_animals[\"BodyWt\"], 3)"
   ],
   "metadata": {
    "collapsed": false
   }
  },
  {
   "cell_type": "code",
   "execution_count": 67,
   "outputs": [
    {
     "data": {
      "text/plain": "(-6.649, 2218.003]      60\n(2218.003, 4436.002]     1\n(4436.002, 6654.0]       1\nName: BodyWt, dtype: int64"
     },
     "execution_count": 67,
     "metadata": {},
     "output_type": "execute_result"
    }
   ],
   "source": [
    "pd.cut(tb_animals[\"BodyWt\"], 3).value_counts()"
   ],
   "metadata": {
    "collapsed": false
   }
  },
  {
   "cell_type": "markdown",
   "metadata": {},
   "source": [
    "Podemos utilizar a função `pd.cut` para criar uma categorização a partir de intervalos específicos através do argumento `bins = []`:"
   ]
  },
  {
   "cell_type": "code",
   "execution_count": 69,
   "metadata": {},
   "outputs": [
    {
     "data": {
      "text/plain": "Risco Baixo    31\nRisco Médio    20\nRisco Alto     11\nName: cat_risco, dtype: int64"
     },
     "execution_count": 69,
     "metadata": {},
     "output_type": "execute_result"
    }
   ],
   "source": [
    "tb_animals['cat_risco'] = pd.cut(tb_animals['risco'], bins = [0, 2, 4, 5], labels = ['Risco Baixo', 'Risco Médio', 'Risco Alto'])\n",
    "tb_animals[\"cat_risco\"].value_counts()"
   ]
  },
  {
   "cell_type": "markdown",
   "metadata": {},
   "source": [
    "# Colunas Agregadas\n",
    "\n",
    "Vimos na última aula como podemos combinar os métodos `.groupby()` e `.merge()` para criar colunas agregadas em um DataFrame. Vamos aprender como o método `.transform()` facilita essa operação.\n",
    "\n",
    "Primeiro, vamos construir as colunas `rel_dreaming` e `rel_nondreaming` contendo a quantidade de sono relativo (por tipo de sono) em relação a categoria de risco de cada animal. Primeiro, construíremos estas colunas utilizando os métodos `.groupby()` e `.merge()`:"
   ]
  },
  {
   "cell_type": "code",
   "execution_count": 70,
   "metadata": {},
   "outputs": [
    {
     "data": {
      "text/plain": "             avg_dreaming  avg_nondreaming\ncat_risco                                 \nRisco Baixo      2.679167         9.937500\nRisco Médio      1.588235         8.370588\nRisco Alto       0.811111         5.071429",
      "text/html": "<div>\n<style scoped>\n    .dataframe tbody tr th:only-of-type {\n        vertical-align: middle;\n    }\n\n    .dataframe tbody tr th {\n        vertical-align: top;\n    }\n\n    .dataframe thead th {\n        text-align: right;\n    }\n</style>\n<table border=\"1\" class=\"dataframe\">\n  <thead>\n    <tr style=\"text-align: right;\">\n      <th></th>\n      <th>avg_dreaming</th>\n      <th>avg_nondreaming</th>\n    </tr>\n    <tr>\n      <th>cat_risco</th>\n      <th></th>\n      <th></th>\n    </tr>\n  </thead>\n  <tbody>\n    <tr>\n      <th>Risco Baixo</th>\n      <td>2.679167</td>\n      <td>9.937500</td>\n    </tr>\n    <tr>\n      <th>Risco Médio</th>\n      <td>1.588235</td>\n      <td>8.370588</td>\n    </tr>\n    <tr>\n      <th>Risco Alto</th>\n      <td>0.811111</td>\n      <td>5.071429</td>\n    </tr>\n  </tbody>\n</table>\n</div>"
     },
     "execution_count": 70,
     "metadata": {},
     "output_type": "execute_result"
    }
   ],
   "source": [
    "tb_agg_animals = (\n",
    "    tb_animals\n",
    "    .groupby('cat_risco')\n",
    "    .agg(\n",
    "        avg_dreaming = ('Dreaming', 'mean'),\n",
    "        avg_nondreaming = ('NonDreaming', 'mean')\n",
    "    )\n",
    ")\n",
    "tb_agg_animals"
   ]
  },
  {
   "cell_type": "code",
   "execution_count": 71,
   "metadata": {},
   "outputs": [
    {
     "data": {
      "text/plain": "                   Species  BodyWt  BrainWt  NonDreaming  Dreaming  \\\n0           Groundsquirrel   0.101     4.00         10.4       3.4   \n1  Lessershort-tailedshrew   0.005     0.14          7.7       1.4   \n2     Arcticgroundsquirrel   0.920     5.70          NaN       NaN   \n3                Guineapig   1.040     5.50          7.4       0.8   \n4                    Mouse   0.023     0.40         11.9       1.3   \n\n   TotalSleep  LifeSpan  Gestation  Predation  Exposure  ...     risco  \\\n0        13.8       9.0       28.0          5         1  ...  3.000000   \n1         9.1       2.6       21.5          5         2  ...  3.666667   \n2        16.5       NaN       25.0          5         2  ...  3.333333   \n3         8.2       7.6       68.0          5         3  ...  4.000000   \n4        13.2       3.2       19.0          4         1  ...  2.666667   \n\n   flag_alto_risco  max_risco   risco_2 flag_alto_risco_2      cat_peso  \\\n0                0          5  5.000000        Alto Risco         Leves   \n1                0          5  5.000000        Alto Risco         Leves   \n2                0          5  5.000000        Alto Risco  Leves-Médios   \n3                1          5  5.000000        Alto Risco  Leves-Médios   \n4                0          4  2.666667       Baixo Risco         Leves   \n\n  BodyWt_Interval    cat_risco  avg_dreaming  avg_nondreaming  \n0           Leves  Risco Médio      1.588235         8.370588  \n1           Leves  Risco Médio      1.588235         8.370588  \n2    Leves-Médios  Risco Médio      1.588235         8.370588  \n3    Leves-Médios  Risco Médio      1.588235         8.370588  \n4           Leves  Risco Médio      1.588235         8.370588  \n\n[5 rows x 27 columns]",
      "text/html": "<div>\n<style scoped>\n    .dataframe tbody tr th:only-of-type {\n        vertical-align: middle;\n    }\n\n    .dataframe tbody tr th {\n        vertical-align: top;\n    }\n\n    .dataframe thead th {\n        text-align: right;\n    }\n</style>\n<table border=\"1\" class=\"dataframe\">\n  <thead>\n    <tr style=\"text-align: right;\">\n      <th></th>\n      <th>Species</th>\n      <th>BodyWt</th>\n      <th>BrainWt</th>\n      <th>NonDreaming</th>\n      <th>Dreaming</th>\n      <th>TotalSleep</th>\n      <th>LifeSpan</th>\n      <th>Gestation</th>\n      <th>Predation</th>\n      <th>Exposure</th>\n      <th>...</th>\n      <th>risco</th>\n      <th>flag_alto_risco</th>\n      <th>max_risco</th>\n      <th>risco_2</th>\n      <th>flag_alto_risco_2</th>\n      <th>cat_peso</th>\n      <th>BodyWt_Interval</th>\n      <th>cat_risco</th>\n      <th>avg_dreaming</th>\n      <th>avg_nondreaming</th>\n    </tr>\n  </thead>\n  <tbody>\n    <tr>\n      <th>0</th>\n      <td>Groundsquirrel</td>\n      <td>0.101</td>\n      <td>4.00</td>\n      <td>10.4</td>\n      <td>3.4</td>\n      <td>13.8</td>\n      <td>9.0</td>\n      <td>28.0</td>\n      <td>5</td>\n      <td>1</td>\n      <td>...</td>\n      <td>3.000000</td>\n      <td>0</td>\n      <td>5</td>\n      <td>5.000000</td>\n      <td>Alto Risco</td>\n      <td>Leves</td>\n      <td>Leves</td>\n      <td>Risco Médio</td>\n      <td>1.588235</td>\n      <td>8.370588</td>\n    </tr>\n    <tr>\n      <th>1</th>\n      <td>Lessershort-tailedshrew</td>\n      <td>0.005</td>\n      <td>0.14</td>\n      <td>7.7</td>\n      <td>1.4</td>\n      <td>9.1</td>\n      <td>2.6</td>\n      <td>21.5</td>\n      <td>5</td>\n      <td>2</td>\n      <td>...</td>\n      <td>3.666667</td>\n      <td>0</td>\n      <td>5</td>\n      <td>5.000000</td>\n      <td>Alto Risco</td>\n      <td>Leves</td>\n      <td>Leves</td>\n      <td>Risco Médio</td>\n      <td>1.588235</td>\n      <td>8.370588</td>\n    </tr>\n    <tr>\n      <th>2</th>\n      <td>Arcticgroundsquirrel</td>\n      <td>0.920</td>\n      <td>5.70</td>\n      <td>NaN</td>\n      <td>NaN</td>\n      <td>16.5</td>\n      <td>NaN</td>\n      <td>25.0</td>\n      <td>5</td>\n      <td>2</td>\n      <td>...</td>\n      <td>3.333333</td>\n      <td>0</td>\n      <td>5</td>\n      <td>5.000000</td>\n      <td>Alto Risco</td>\n      <td>Leves-Médios</td>\n      <td>Leves-Médios</td>\n      <td>Risco Médio</td>\n      <td>1.588235</td>\n      <td>8.370588</td>\n    </tr>\n    <tr>\n      <th>3</th>\n      <td>Guineapig</td>\n      <td>1.040</td>\n      <td>5.50</td>\n      <td>7.4</td>\n      <td>0.8</td>\n      <td>8.2</td>\n      <td>7.6</td>\n      <td>68.0</td>\n      <td>5</td>\n      <td>3</td>\n      <td>...</td>\n      <td>4.000000</td>\n      <td>1</td>\n      <td>5</td>\n      <td>5.000000</td>\n      <td>Alto Risco</td>\n      <td>Leves-Médios</td>\n      <td>Leves-Médios</td>\n      <td>Risco Médio</td>\n      <td>1.588235</td>\n      <td>8.370588</td>\n    </tr>\n    <tr>\n      <th>4</th>\n      <td>Mouse</td>\n      <td>0.023</td>\n      <td>0.40</td>\n      <td>11.9</td>\n      <td>1.3</td>\n      <td>13.2</td>\n      <td>3.2</td>\n      <td>19.0</td>\n      <td>4</td>\n      <td>1</td>\n      <td>...</td>\n      <td>2.666667</td>\n      <td>0</td>\n      <td>4</td>\n      <td>2.666667</td>\n      <td>Baixo Risco</td>\n      <td>Leves</td>\n      <td>Leves</td>\n      <td>Risco Médio</td>\n      <td>1.588235</td>\n      <td>8.370588</td>\n    </tr>\n  </tbody>\n</table>\n<p>5 rows × 27 columns</p>\n</div>"
     },
     "execution_count": 71,
     "metadata": {},
     "output_type": "execute_result"
    }
   ],
   "source": [
    "tb_animals = tb_animals.merge(tb_agg_animals, on = 'cat_risco')\n",
    "tb_animals.head()"
   ]
  },
  {
   "cell_type": "markdown",
   "metadata": {},
   "source": [
    "As colunas de sono relativo serão calculadas como a proporção entre o sono (por tipo) de cada indivíduo e o sono médio da sua categoria de risco:"
   ]
  },
  {
   "cell_type": "code",
   "execution_count": 72,
   "metadata": {},
   "outputs": [
    {
     "data": {
      "text/plain": "                    Species    cat_risco  NonDreaming  Dreaming  rel_dreaming  \\\n40                  Echidna  Risco Baixo          8.6       0.0      0.000000   \n15   Rockhyrax(Procaviahab)  Risco Médio          4.9       0.5      0.314815   \n13                Treehyrax  Risco Médio          4.9       0.5      0.314815   \n37       Rockhyrax(Heterob)  Risco Baixo          5.7       0.9      0.335925   \n6                    Vervet  Risco Médio          9.7       0.6      0.377778   \n5                    Baboon  Risco Médio          9.1       0.7      0.440741   \n35                   Galago  Risco Baixo          9.5       1.2      0.447900   \n53                    Genet  Risco Baixo          4.8       1.3      0.485226   \n3                 Guineapig  Risco Médio          7.4       0.8      0.503704   \n55               Chimpanzee  Risco Baixo          8.3       1.4      0.522551   \n57                 Grayseal  Risco Baixo          4.7       1.5      0.559876   \n7               Patasmonkey  Risco Médio         10.0       0.9      0.566667   \n23                     Goat   Risco Alto          3.3       0.5      0.616438   \n34                Owlmonkey  Risco Baixo         15.2       1.8      0.671851   \n41               Phanlanger  Risco Baixo         11.9       1.8      0.671851   \n49                      Man  Risco Baixo          6.1       1.9      0.709176   \n24                    Sheep   Risco Alto          3.2       0.6      0.739726   \n48           Littlebrownbat  Risco Baixo         17.9       2.0      0.746501   \n19             Rhesusmonkey  Risco Médio          8.4       1.2      0.755556   \n50      EasternAmericanmole  Risco Baixo          6.3       2.1      0.783826   \n4                     Mouse  Risco Médio         11.9       1.3      0.818519   \n31            Starnosedmole  Risco Baixo          8.1       2.2      0.821151   \n46                   Tenrec  Risco Baixo         11.0       2.3      0.858476   \n29                      Cow   Risco Alto          3.2       0.7      0.863014   \n1   Lessershort-tailedshrew  Risco Médio          7.7       1.4      0.881481   \n36                  Molerat  Risco Baixo          8.2       2.4      0.895801   \n54                   Redfox  Risco Baixo          7.4       2.4      0.895801   \n28                    Horse   Risco Alto          2.1       0.8      0.986301   \n43           Deserthedgehog  Risco Baixo          7.6       2.7      1.007776   \n22                   Rabbit   Risco Alto          7.5       0.9      1.109589   \n16            Asianelephant  Risco Médio          2.1       1.8      1.133333   \n45     Nine-bandedarmadillo  Risco Baixo         14.3       3.1      1.157076   \n9                       Pig  Risco Médio          6.5       1.9      1.196296   \n30           Braziliantapir   Risco Alto          5.2       1.0      1.232877   \n12   Africangiantpouchedrat  Risco Médio          6.3       2.0      1.259259   \n8                 Muskshrew  Risco Médio         10.8       2.0      1.259259   \n32            Goldenhamster  Risco Baixo         11.0       3.4      1.269051   \n56                      Cat  Risco Baixo         10.9       3.6      1.343701   \n52              Bigbrownbat  Risco Baixo         15.8       3.9      1.455677   \n42         Europeanhedgehog  Risco Baixo          6.6       4.1      1.530327   \n11                      Rat  Risco Médio         10.6       2.6      1.637037   \n10                Treeshrew  Risco Médio         13.2       2.6      1.637037   \n14           Mountainbeaver  Risco Médio          8.4       2.8      1.762963   \n20               Chinchilla   Risco Alto         11.0       1.5      1.849315   \n44         NAmericanopossum  Risco Baixo         13.8       5.6      2.090202   \n0            Groundsquirrel  Risco Médio         10.4       3.4      2.140741   \n61           Giantarmadillo  Risco Baixo         12.0       6.1      2.276827   \n47             Wateropossum  Risco Baixo         12.8       6.6      2.463453   \n\n    rel_nondreaming  \n40         0.865409  \n15         0.585383  \n13         0.585383  \n37         0.573585  \n6          1.158819  \n5          1.087140  \n35         0.955975  \n53         0.483019  \n3          0.884048  \n55         0.835220  \n57         0.472956  \n7          1.194659  \n23         0.650704  \n34         1.529560  \n41         1.197484  \n49         0.613836  \n24         0.630986  \n48         1.801258  \n19         1.003514  \n50         0.633962  \n4          1.421644  \n31         0.815094  \n46         1.106918  \n29         0.630986  \n1          0.919888  \n36         0.825157  \n54         0.744654  \n28         0.414085  \n43         0.764780  \n22         1.478873  \n16         0.250878  \n45         1.438994  \n9          0.776528  \n30         1.025352  \n12         0.752635  \n8          1.290232  \n32         1.106918  \n56         1.096855  \n52         1.589937  \n42         0.664151  \n11         1.266339  \n10         1.576950  \n14         1.003514  \n20         2.169014  \n44         1.388679  \n0          1.242446  \n61         1.207547  \n47         1.288050  ",
      "text/html": "<div>\n<style scoped>\n    .dataframe tbody tr th:only-of-type {\n        vertical-align: middle;\n    }\n\n    .dataframe tbody tr th {\n        vertical-align: top;\n    }\n\n    .dataframe thead th {\n        text-align: right;\n    }\n</style>\n<table border=\"1\" class=\"dataframe\">\n  <thead>\n    <tr style=\"text-align: right;\">\n      <th></th>\n      <th>Species</th>\n      <th>cat_risco</th>\n      <th>NonDreaming</th>\n      <th>Dreaming</th>\n      <th>rel_dreaming</th>\n      <th>rel_nondreaming</th>\n    </tr>\n  </thead>\n  <tbody>\n    <tr>\n      <th>40</th>\n      <td>Echidna</td>\n      <td>Risco Baixo</td>\n      <td>8.6</td>\n      <td>0.0</td>\n      <td>0.000000</td>\n      <td>0.865409</td>\n    </tr>\n    <tr>\n      <th>15</th>\n      <td>Rockhyrax(Procaviahab)</td>\n      <td>Risco Médio</td>\n      <td>4.9</td>\n      <td>0.5</td>\n      <td>0.314815</td>\n      <td>0.585383</td>\n    </tr>\n    <tr>\n      <th>13</th>\n      <td>Treehyrax</td>\n      <td>Risco Médio</td>\n      <td>4.9</td>\n      <td>0.5</td>\n      <td>0.314815</td>\n      <td>0.585383</td>\n    </tr>\n    <tr>\n      <th>37</th>\n      <td>Rockhyrax(Heterob)</td>\n      <td>Risco Baixo</td>\n      <td>5.7</td>\n      <td>0.9</td>\n      <td>0.335925</td>\n      <td>0.573585</td>\n    </tr>\n    <tr>\n      <th>6</th>\n      <td>Vervet</td>\n      <td>Risco Médio</td>\n      <td>9.7</td>\n      <td>0.6</td>\n      <td>0.377778</td>\n      <td>1.158819</td>\n    </tr>\n    <tr>\n      <th>5</th>\n      <td>Baboon</td>\n      <td>Risco Médio</td>\n      <td>9.1</td>\n      <td>0.7</td>\n      <td>0.440741</td>\n      <td>1.087140</td>\n    </tr>\n    <tr>\n      <th>35</th>\n      <td>Galago</td>\n      <td>Risco Baixo</td>\n      <td>9.5</td>\n      <td>1.2</td>\n      <td>0.447900</td>\n      <td>0.955975</td>\n    </tr>\n    <tr>\n      <th>53</th>\n      <td>Genet</td>\n      <td>Risco Baixo</td>\n      <td>4.8</td>\n      <td>1.3</td>\n      <td>0.485226</td>\n      <td>0.483019</td>\n    </tr>\n    <tr>\n      <th>3</th>\n      <td>Guineapig</td>\n      <td>Risco Médio</td>\n      <td>7.4</td>\n      <td>0.8</td>\n      <td>0.503704</td>\n      <td>0.884048</td>\n    </tr>\n    <tr>\n      <th>55</th>\n      <td>Chimpanzee</td>\n      <td>Risco Baixo</td>\n      <td>8.3</td>\n      <td>1.4</td>\n      <td>0.522551</td>\n      <td>0.835220</td>\n    </tr>\n    <tr>\n      <th>57</th>\n      <td>Grayseal</td>\n      <td>Risco Baixo</td>\n      <td>4.7</td>\n      <td>1.5</td>\n      <td>0.559876</td>\n      <td>0.472956</td>\n    </tr>\n    <tr>\n      <th>7</th>\n      <td>Patasmonkey</td>\n      <td>Risco Médio</td>\n      <td>10.0</td>\n      <td>0.9</td>\n      <td>0.566667</td>\n      <td>1.194659</td>\n    </tr>\n    <tr>\n      <th>23</th>\n      <td>Goat</td>\n      <td>Risco Alto</td>\n      <td>3.3</td>\n      <td>0.5</td>\n      <td>0.616438</td>\n      <td>0.650704</td>\n    </tr>\n    <tr>\n      <th>34</th>\n      <td>Owlmonkey</td>\n      <td>Risco Baixo</td>\n      <td>15.2</td>\n      <td>1.8</td>\n      <td>0.671851</td>\n      <td>1.529560</td>\n    </tr>\n    <tr>\n      <th>41</th>\n      <td>Phanlanger</td>\n      <td>Risco Baixo</td>\n      <td>11.9</td>\n      <td>1.8</td>\n      <td>0.671851</td>\n      <td>1.197484</td>\n    </tr>\n    <tr>\n      <th>49</th>\n      <td>Man</td>\n      <td>Risco Baixo</td>\n      <td>6.1</td>\n      <td>1.9</td>\n      <td>0.709176</td>\n      <td>0.613836</td>\n    </tr>\n    <tr>\n      <th>24</th>\n      <td>Sheep</td>\n      <td>Risco Alto</td>\n      <td>3.2</td>\n      <td>0.6</td>\n      <td>0.739726</td>\n      <td>0.630986</td>\n    </tr>\n    <tr>\n      <th>48</th>\n      <td>Littlebrownbat</td>\n      <td>Risco Baixo</td>\n      <td>17.9</td>\n      <td>2.0</td>\n      <td>0.746501</td>\n      <td>1.801258</td>\n    </tr>\n    <tr>\n      <th>19</th>\n      <td>Rhesusmonkey</td>\n      <td>Risco Médio</td>\n      <td>8.4</td>\n      <td>1.2</td>\n      <td>0.755556</td>\n      <td>1.003514</td>\n    </tr>\n    <tr>\n      <th>50</th>\n      <td>EasternAmericanmole</td>\n      <td>Risco Baixo</td>\n      <td>6.3</td>\n      <td>2.1</td>\n      <td>0.783826</td>\n      <td>0.633962</td>\n    </tr>\n    <tr>\n      <th>4</th>\n      <td>Mouse</td>\n      <td>Risco Médio</td>\n      <td>11.9</td>\n      <td>1.3</td>\n      <td>0.818519</td>\n      <td>1.421644</td>\n    </tr>\n    <tr>\n      <th>31</th>\n      <td>Starnosedmole</td>\n      <td>Risco Baixo</td>\n      <td>8.1</td>\n      <td>2.2</td>\n      <td>0.821151</td>\n      <td>0.815094</td>\n    </tr>\n    <tr>\n      <th>46</th>\n      <td>Tenrec</td>\n      <td>Risco Baixo</td>\n      <td>11.0</td>\n      <td>2.3</td>\n      <td>0.858476</td>\n      <td>1.106918</td>\n    </tr>\n    <tr>\n      <th>29</th>\n      <td>Cow</td>\n      <td>Risco Alto</td>\n      <td>3.2</td>\n      <td>0.7</td>\n      <td>0.863014</td>\n      <td>0.630986</td>\n    </tr>\n    <tr>\n      <th>1</th>\n      <td>Lessershort-tailedshrew</td>\n      <td>Risco Médio</td>\n      <td>7.7</td>\n      <td>1.4</td>\n      <td>0.881481</td>\n      <td>0.919888</td>\n    </tr>\n    <tr>\n      <th>36</th>\n      <td>Molerat</td>\n      <td>Risco Baixo</td>\n      <td>8.2</td>\n      <td>2.4</td>\n      <td>0.895801</td>\n      <td>0.825157</td>\n    </tr>\n    <tr>\n      <th>54</th>\n      <td>Redfox</td>\n      <td>Risco Baixo</td>\n      <td>7.4</td>\n      <td>2.4</td>\n      <td>0.895801</td>\n      <td>0.744654</td>\n    </tr>\n    <tr>\n      <th>28</th>\n      <td>Horse</td>\n      <td>Risco Alto</td>\n      <td>2.1</td>\n      <td>0.8</td>\n      <td>0.986301</td>\n      <td>0.414085</td>\n    </tr>\n    <tr>\n      <th>43</th>\n      <td>Deserthedgehog</td>\n      <td>Risco Baixo</td>\n      <td>7.6</td>\n      <td>2.7</td>\n      <td>1.007776</td>\n      <td>0.764780</td>\n    </tr>\n    <tr>\n      <th>22</th>\n      <td>Rabbit</td>\n      <td>Risco Alto</td>\n      <td>7.5</td>\n      <td>0.9</td>\n      <td>1.109589</td>\n      <td>1.478873</td>\n    </tr>\n    <tr>\n      <th>16</th>\n      <td>Asianelephant</td>\n      <td>Risco Médio</td>\n      <td>2.1</td>\n      <td>1.8</td>\n      <td>1.133333</td>\n      <td>0.250878</td>\n    </tr>\n    <tr>\n      <th>45</th>\n      <td>Nine-bandedarmadillo</td>\n      <td>Risco Baixo</td>\n      <td>14.3</td>\n      <td>3.1</td>\n      <td>1.157076</td>\n      <td>1.438994</td>\n    </tr>\n    <tr>\n      <th>9</th>\n      <td>Pig</td>\n      <td>Risco Médio</td>\n      <td>6.5</td>\n      <td>1.9</td>\n      <td>1.196296</td>\n      <td>0.776528</td>\n    </tr>\n    <tr>\n      <th>30</th>\n      <td>Braziliantapir</td>\n      <td>Risco Alto</td>\n      <td>5.2</td>\n      <td>1.0</td>\n      <td>1.232877</td>\n      <td>1.025352</td>\n    </tr>\n    <tr>\n      <th>12</th>\n      <td>Africangiantpouchedrat</td>\n      <td>Risco Médio</td>\n      <td>6.3</td>\n      <td>2.0</td>\n      <td>1.259259</td>\n      <td>0.752635</td>\n    </tr>\n    <tr>\n      <th>8</th>\n      <td>Muskshrew</td>\n      <td>Risco Médio</td>\n      <td>10.8</td>\n      <td>2.0</td>\n      <td>1.259259</td>\n      <td>1.290232</td>\n    </tr>\n    <tr>\n      <th>32</th>\n      <td>Goldenhamster</td>\n      <td>Risco Baixo</td>\n      <td>11.0</td>\n      <td>3.4</td>\n      <td>1.269051</td>\n      <td>1.106918</td>\n    </tr>\n    <tr>\n      <th>56</th>\n      <td>Cat</td>\n      <td>Risco Baixo</td>\n      <td>10.9</td>\n      <td>3.6</td>\n      <td>1.343701</td>\n      <td>1.096855</td>\n    </tr>\n    <tr>\n      <th>52</th>\n      <td>Bigbrownbat</td>\n      <td>Risco Baixo</td>\n      <td>15.8</td>\n      <td>3.9</td>\n      <td>1.455677</td>\n      <td>1.589937</td>\n    </tr>\n    <tr>\n      <th>42</th>\n      <td>Europeanhedgehog</td>\n      <td>Risco Baixo</td>\n      <td>6.6</td>\n      <td>4.1</td>\n      <td>1.530327</td>\n      <td>0.664151</td>\n    </tr>\n    <tr>\n      <th>11</th>\n      <td>Rat</td>\n      <td>Risco Médio</td>\n      <td>10.6</td>\n      <td>2.6</td>\n      <td>1.637037</td>\n      <td>1.266339</td>\n    </tr>\n    <tr>\n      <th>10</th>\n      <td>Treeshrew</td>\n      <td>Risco Médio</td>\n      <td>13.2</td>\n      <td>2.6</td>\n      <td>1.637037</td>\n      <td>1.576950</td>\n    </tr>\n    <tr>\n      <th>14</th>\n      <td>Mountainbeaver</td>\n      <td>Risco Médio</td>\n      <td>8.4</td>\n      <td>2.8</td>\n      <td>1.762963</td>\n      <td>1.003514</td>\n    </tr>\n    <tr>\n      <th>20</th>\n      <td>Chinchilla</td>\n      <td>Risco Alto</td>\n      <td>11.0</td>\n      <td>1.5</td>\n      <td>1.849315</td>\n      <td>2.169014</td>\n    </tr>\n    <tr>\n      <th>44</th>\n      <td>NAmericanopossum</td>\n      <td>Risco Baixo</td>\n      <td>13.8</td>\n      <td>5.6</td>\n      <td>2.090202</td>\n      <td>1.388679</td>\n    </tr>\n    <tr>\n      <th>0</th>\n      <td>Groundsquirrel</td>\n      <td>Risco Médio</td>\n      <td>10.4</td>\n      <td>3.4</td>\n      <td>2.140741</td>\n      <td>1.242446</td>\n    </tr>\n    <tr>\n      <th>61</th>\n      <td>Giantarmadillo</td>\n      <td>Risco Baixo</td>\n      <td>12.0</td>\n      <td>6.1</td>\n      <td>2.276827</td>\n      <td>1.207547</td>\n    </tr>\n    <tr>\n      <th>47</th>\n      <td>Wateropossum</td>\n      <td>Risco Baixo</td>\n      <td>12.8</td>\n      <td>6.6</td>\n      <td>2.463453</td>\n      <td>1.288050</td>\n    </tr>\n  </tbody>\n</table>\n</div>"
     },
     "execution_count": 72,
     "metadata": {},
     "output_type": "execute_result"
    }
   ],
   "source": [
    "tb_animals['rel_dreaming'] = tb_animals['Dreaming']/tb_animals['avg_dreaming']\n",
    "tb_animals['rel_nondreaming'] = tb_animals['NonDreaming']/tb_animals['avg_nondreaming']\n",
    "tb_animals[[\"Species\", \"cat_risco\", \"NonDreaming\", \"Dreaming\", \"rel_dreaming\", \"rel_nondreaming\"]].dropna().sort_values(\"rel_dreaming\")"
   ]
  },
  {
   "cell_type": "markdown",
   "metadata": {},
   "source": [
    "Agora, vamos utilizar o método `.transform()` para simplificar o processo acima:"
   ]
  },
  {
   "cell_type": "code",
   "execution_count": 73,
   "metadata": {},
   "outputs": [
    {
     "data": {
      "text/plain": "    Dreaming\n0   1.588235\n1   1.588235\n2   1.588235\n3   1.588235\n4   1.588235\n..       ...\n57  2.679167\n58  2.679167\n59  2.679167\n60  2.679167\n61  2.679167\n\n[62 rows x 1 columns]",
      "text/html": "<div>\n<style scoped>\n    .dataframe tbody tr th:only-of-type {\n        vertical-align: middle;\n    }\n\n    .dataframe tbody tr th {\n        vertical-align: top;\n    }\n\n    .dataframe thead th {\n        text-align: right;\n    }\n</style>\n<table border=\"1\" class=\"dataframe\">\n  <thead>\n    <tr style=\"text-align: right;\">\n      <th></th>\n      <th>Dreaming</th>\n    </tr>\n  </thead>\n  <tbody>\n    <tr>\n      <th>0</th>\n      <td>1.588235</td>\n    </tr>\n    <tr>\n      <th>1</th>\n      <td>1.588235</td>\n    </tr>\n    <tr>\n      <th>2</th>\n      <td>1.588235</td>\n    </tr>\n    <tr>\n      <th>3</th>\n      <td>1.588235</td>\n    </tr>\n    <tr>\n      <th>4</th>\n      <td>1.588235</td>\n    </tr>\n    <tr>\n      <th>...</th>\n      <td>...</td>\n    </tr>\n    <tr>\n      <th>57</th>\n      <td>2.679167</td>\n    </tr>\n    <tr>\n      <th>58</th>\n      <td>2.679167</td>\n    </tr>\n    <tr>\n      <th>59</th>\n      <td>2.679167</td>\n    </tr>\n    <tr>\n      <th>60</th>\n      <td>2.679167</td>\n    </tr>\n    <tr>\n      <th>61</th>\n      <td>2.679167</td>\n    </tr>\n  </tbody>\n</table>\n<p>62 rows × 1 columns</p>\n</div>"
     },
     "execution_count": 73,
     "metadata": {},
     "output_type": "execute_result"
    }
   ],
   "source": [
    "tb_animals.\\\n",
    "    groupby('cat_risco')[[\"Dreaming\"]].\\\n",
    "    transform('mean')\n",
    "    "
   ]
  },
  {
   "cell_type": "markdown",
   "metadata": {},
   "source": [
    "O método `.transform()` cria uma coluna contendo, por observação, o resultado da função de agregação sobre os grupos especificados no método `.groupby()`! Não precisamos realizar a transformação e depois obter os resultados da união das tabelas:"
   ]
  },
  {
   "cell_type": "code",
   "execution_count": 74,
   "metadata": {},
   "outputs": [
    {
     "data": {
      "text/plain": "    Dreaming  NonDreaming\n0   1.588235     8.370588\n1   1.588235     8.370588\n2   1.588235     8.370588\n3   1.588235     8.370588\n4   1.588235     8.370588\n..       ...          ...\n57  2.679167     9.937500\n58  2.679167     9.937500\n59  2.679167     9.937500\n60  2.679167     9.937500\n61  2.679167     9.937500\n\n[62 rows x 2 columns]",
      "text/html": "<div>\n<style scoped>\n    .dataframe tbody tr th:only-of-type {\n        vertical-align: middle;\n    }\n\n    .dataframe tbody tr th {\n        vertical-align: top;\n    }\n\n    .dataframe thead th {\n        text-align: right;\n    }\n</style>\n<table border=\"1\" class=\"dataframe\">\n  <thead>\n    <tr style=\"text-align: right;\">\n      <th></th>\n      <th>Dreaming</th>\n      <th>NonDreaming</th>\n    </tr>\n  </thead>\n  <tbody>\n    <tr>\n      <th>0</th>\n      <td>1.588235</td>\n      <td>8.370588</td>\n    </tr>\n    <tr>\n      <th>1</th>\n      <td>1.588235</td>\n      <td>8.370588</td>\n    </tr>\n    <tr>\n      <th>2</th>\n      <td>1.588235</td>\n      <td>8.370588</td>\n    </tr>\n    <tr>\n      <th>3</th>\n      <td>1.588235</td>\n      <td>8.370588</td>\n    </tr>\n    <tr>\n      <th>4</th>\n      <td>1.588235</td>\n      <td>8.370588</td>\n    </tr>\n    <tr>\n      <th>...</th>\n      <td>...</td>\n      <td>...</td>\n    </tr>\n    <tr>\n      <th>57</th>\n      <td>2.679167</td>\n      <td>9.937500</td>\n    </tr>\n    <tr>\n      <th>58</th>\n      <td>2.679167</td>\n      <td>9.937500</td>\n    </tr>\n    <tr>\n      <th>59</th>\n      <td>2.679167</td>\n      <td>9.937500</td>\n    </tr>\n    <tr>\n      <th>60</th>\n      <td>2.679167</td>\n      <td>9.937500</td>\n    </tr>\n    <tr>\n      <th>61</th>\n      <td>2.679167</td>\n      <td>9.937500</td>\n    </tr>\n  </tbody>\n</table>\n<p>62 rows × 2 columns</p>\n</div>"
     },
     "execution_count": 74,
     "metadata": {},
     "output_type": "execute_result"
    }
   ],
   "source": [
    "tb_animals.\\\n",
    "    groupby('cat_risco')[[\"Dreaming\", \"NonDreaming\"]].\\\n",
    "    transform('mean')\n",
    "    "
   ]
  },
  {
   "cell_type": "code",
   "execution_count": null,
   "metadata": {},
   "outputs": [],
   "source": [
    "tb_animals[[\"avg_dreaming_t\", \"avg_nondreaming_t\"]] = (\n",
    "    tb_animals\n",
    "    .groupby('cat_risco')[[\"Dreaming\", \"NonDreaming\"]]\n",
    "    .transform('mean')\n",
    ")"
   ]
  },
  {
   "cell_type": "code",
   "execution_count": null,
   "metadata": {},
   "outputs": [],
   "source": [
    "tb_animals[[\"Species\", \"avg_dreaming\", \"avg_nondreaming\", \"avg_dreaming_t\", \"avg_nondreaming_t\"]]"
   ]
  },
  {
   "cell_type": "markdown",
   "metadata": {},
   "source": [
    "# Bonus: \n",
    "\n",
    "## Correlation\n",
    "\n",
    "*Touching statistics*"
   ]
  },
  {
   "cell_type": "code",
   "execution_count": null,
   "metadata": {},
   "outputs": [],
   "source": [
    "tb_animals.corr()"
   ]
  }
 ],
 "metadata": {
  "hide_input": false,
  "kernelspec": {
   "display_name": "Python 3 (ipykernel)",
   "language": "python",
   "name": "python3"
  },
  "language_info": {
   "codemirror_mode": {
    "name": "ipython",
    "version": 3
   },
   "file_extension": ".py",
   "mimetype": "text/x-python",
   "name": "python",
   "nbconvert_exporter": "python",
   "pygments_lexer": "ipython3",
   "version": "3.9.13"
  },
  "toc": {
   "base_numbering": 1,
   "nav_menu": {},
   "number_sections": true,
   "sideBar": true,
   "skip_h1_title": false,
   "title_cell": "Table of Contents",
   "title_sidebar": "Contents",
   "toc_cell": false,
   "toc_position": {},
   "toc_section_display": true,
   "toc_window_display": false
  },
  "vscode": {
   "interpreter": {
    "hash": "014f4a4a5af8f0104b12c029e500f4146d6d785e8cf714d2a35b7a9514230cd3"
   }
  }
 },
 "nbformat": 4,
 "nbformat_minor": 4
}
