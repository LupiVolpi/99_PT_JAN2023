{
 "cells": [
  {
   "cell_type": "markdown",
   "metadata": {},
   "source": [
    "# Introdução à Pandas"
   ]
  },
  {
   "cell_type": "code",
   "execution_count": null,
   "metadata": {
    "ExecuteTime": {
     "end_time": "2020-07-30T22:55:47.291355Z",
     "start_time": "2020-07-30T22:55:47.288357Z"
    }
   },
   "outputs": [],
   "source": [
    "import numpy as np\n",
    "import pandas as pd"
   ]
  },
  {
   "cell_type": "markdown",
   "metadata": {},
   "source": [
    "## O que é Pandas?\n",
    "\n",
    "A biblioteca Pandas apresenta uma série de evoluções na utilização de `arrays` para a representação de tabelas de dados.\n",
    "\n",
    "* [Documentação](https://pandas.pydata.org/docs/reference/index.html#api)\n",
    "* [GitHub](https://github.com/pandas-dev/pandas/blob/master/pandas/core/base.py)\n",
    "\n",
    "Vamos trabalhar com **três** objetos principais, os quais **precisamos** entender:\n",
    "1. Pandas Series\n",
    "2. Pandas DataFrame\n",
    "3. Index"
   ]
  },
  {
   "cell_type": "markdown",
   "metadata": {},
   "source": [
    "## Pandas Series\n",
    "\n",
    "**O tijolo inicial da biblioteca Pandas**. A `Series` é uma classe semelhante aos **vetores** (um `array` **1-D**) - ela é um `array` indexado (misturando elementos de um `array` e um `dict`)."
   ]
  },
  {
   "cell_type": "code",
   "execution_count": null,
   "metadata": {
    "ExecuteTime": {
     "end_time": "2021-11-30T22:57:14.238102Z",
     "start_time": "2021-11-30T22:57:14.213166Z"
    }
   },
   "outputs": [],
   "source": [
    "type(pd.Series)"
   ]
  },
  {
   "cell_type": "code",
   "execution_count": null,
   "metadata": {
    "ExecuteTime": {
     "end_time": "2021-11-30T22:57:23.970606Z",
     "start_time": "2021-11-30T22:57:23.951658Z"
    }
   },
   "outputs": [],
   "source": [
    "pd.Series"
   ]
  },
  {
   "cell_type": "markdown",
   "metadata": {},
   "source": [
    "### Criando uma `Series`\n",
    "\n",
    "Podemos inicializar uma `Series` da mesma forma que inicializamos um `array`: através de um iterável."
   ]
  },
  {
   "cell_type": "code",
   "execution_count": null,
   "metadata": {
    "ExecuteTime": {
     "end_time": "2021-11-30T22:58:21.142491Z",
     "start_time": "2021-11-30T22:58:21.130496Z"
    }
   },
   "outputs": [],
   "source": [
    "# From a list\n",
    "values = [99, 22, 3, 4]\n",
    "series1 = pd.Series(data = values)\n",
    "print(series1)"
   ]
  },
  {
   "cell_type": "markdown",
   "metadata": {},
   "source": [
    "A série criada tem 3 elementos fundamentais:\n",
    "\n",
    "* O `Index` - [0, 1, 2, 3] que aparece à esquerda acima;\n",
    "* Os **valores** da série [1, 2, 3, 4], inicializados a partir de nossa lista;\n",
    "* O `dtype` - assim como os `arrays` as `Series` só podem conter objetos de um tipo por vez.\n",
    "\n",
    "Toda vez que criamos uma série, a Pandas criará automaticamente um índice numérico (como um `array` ou uma `list`). No entanto, assim com em um dicionário, podemos criar um índice diretamente."
   ]
  },
  {
   "cell_type": "code",
   "execution_count": null,
   "metadata": {
    "ExecuteTime": {
     "end_time": "2021-11-30T23:43:52.325558Z",
     "start_time": "2021-11-30T23:43:52.305613Z"
    }
   },
   "outputs": [],
   "source": [
    "nome_linhas = ['I', 'II', 'III', 'IV']\n",
    "\n",
    "series2 = pd.Series(data = values, \n",
    "                    index = nome_linhas)\n",
    "\n",
    "print(series2)"
   ]
  },
  {
   "cell_type": "markdown",
   "metadata": {},
   "source": [
    "Enquanto os **valores** da série contém apenas um tipo de objeto, o índice pode conter mútiplos tipos: no exemplo abaixo vamos criar uma série que mistura os índices de `str` e `list`:"
   ]
  },
  {
   "cell_type": "code",
   "execution_count": null,
   "metadata": {
    "ExecuteTime": {
     "end_time": "2021-11-30T23:03:30.117843Z",
     "start_time": "2021-11-30T23:03:30.109866Z"
    }
   },
   "outputs": [],
   "source": [
    "nome_linhas = [['I', 'II'], 'II', 'III', 'IV']\n",
    "series3 = pd.Series(data = values, \n",
    "                    index = nome_linhas)\n",
    "print(series3)"
   ]
  },
  {
   "cell_type": "markdown",
   "metadata": {},
   "source": [
    "O único requisito para os **índices** é que eles tenham o mesmo comprimento que os **valores**."
   ]
  },
  {
   "cell_type": "code",
   "execution_count": null,
   "metadata": {},
   "outputs": [],
   "source": [
    "print(values)\n",
    "print(len(values))"
   ]
  },
  {
   "cell_type": "code",
   "execution_count": null,
   "metadata": {},
   "outputs": [],
   "source": [
    "nome_linhas = ['I', 'II', 'III', 'IV', 'V']\n",
    "series4 = pd.Series(data = values, \n",
    "                    index = nome_linhas)\n",
    "print(series4)"
   ]
  },
  {
   "cell_type": "markdown",
   "metadata": {},
   "source": [
    "Devemos tomar cuidado ao inicializar séries desta forma: as séries não precisam ter índices únicos, o que pode levar a comportamentos estranhos:"
   ]
  },
  {
   "cell_type": "code",
   "execution_count": null,
   "metadata": {},
   "outputs": [],
   "source": [
    "values = [1,1,1,1]\n",
    "nome_linhas = ['I', 'II', 'II', 'II']\n",
    "series5 = pd.Series(data = values, \n",
    "                    index = nome_linhas)\n",
    "print(series5)"
   ]
  },
  {
   "cell_type": "code",
   "execution_count": null,
   "metadata": {},
   "outputs": [],
   "source": [
    "np.array([1,1,1,1])"
   ]
  },
  {
   "cell_type": "code",
   "execution_count": null,
   "metadata": {},
   "outputs": [],
   "source": [
    "aa = {'I' : 1, 'II' : 2, 'III' : 3}"
   ]
  },
  {
   "cell_type": "markdown",
   "metadata": {},
   "source": [
    "Assim como `arrays`, `Series` podem conter apenas um tipo de objeto. Se criarmos uma `Series` a partir de um iterável com valores mistos (por exemplo, `ints` e `lists`), a Pandas irá converter todos os objetos para um tipo genérico, chamado `object`."
   ]
  },
  {
   "cell_type": "code",
   "execution_count": null,
   "metadata": {
    "ExecuteTime": {
     "end_time": "2021-11-30T23:01:28.646770Z",
     "start_time": "2021-11-30T23:01:28.628791Z"
    }
   },
   "outputs": [],
   "source": [
    "pd.Series([1,2,3,'4'])"
   ]
  },
  {
   "cell_type": "markdown",
   "metadata": {},
   "source": [
    "Além de criar `Series` a partir de uma lista de valores e outra de índices, podemos especificar os dois elementos juntos através de um `dict`. Neste caso, as **chaves** do `dict` serão usadas como o índice, enquanto os **valores** serão utilizados como os valores da `Series`."
   ]
  },
  {
   "cell_type": "code",
   "execution_count": null,
   "metadata": {
    "ExecuteTime": {
     "end_time": "2021-11-30T23:05:36.991136Z",
     "start_time": "2021-11-30T23:05:36.978169Z"
    }
   },
   "outputs": [],
   "source": [
    "# From a dict\n",
    "\n",
    "dict_notas = dict({'Titanic' : 7.8,\n",
    "                  'Dune' : 8.2,\n",
    "                  'Dune (David Lynch)' : 6.4,\n",
    "                  'House of Gucci' : 7.0,\n",
    "                  'Joker' : 8.4,\n",
    "                  'Alien' : 8.4})\n",
    "notas_imdb = pd.Series(dict_notas)\n",
    "print(notas_imdb)"
   ]
  },
  {
   "cell_type": "code",
   "execution_count": null,
   "metadata": {},
   "outputs": [],
   "source": [
    "pd.Series(data = [7.8, 8.2, 6.4, 7.0, 8.4, 8.4],\n",
    "          index = ['Titanic', 'Dune', 'Dune (DL)', 'House of Gucci', 'Joker', 'Alien'])"
   ]
  },
  {
   "cell_type": "markdown",
   "metadata": {},
   "source": [
    "Podemos utilizar a estrutura descrita acima para criar diferentes tipos de séries: **numéricas**, como a `notas_imdb`, de **strings** ou mesmo de listas.\n",
    "\n",
    "Vamos ver como fazer isso expandindo nossos `dicts` sobre filmes:"
   ]
  },
  {
   "cell_type": "code",
   "execution_count": null,
   "metadata": {
    "ExecuteTime": {
     "end_time": "2021-11-30T23:10:38.828731Z",
     "start_time": "2021-11-30T23:10:38.806790Z"
    }
   },
   "outputs": [],
   "source": [
    "dict_cast = dict({'Titanic' : ['Kate Winslet', 'Leonardo DiCaprio'],\n",
    "                  'Dune' : ['Timothée Chalamet', 'Zendaya'],\n",
    "                  'Dune (David Lynch)' : ['Sting'],\n",
    "                  'House of Gucci' : ['Lady Gaga', 'Adam Driver', 'Al Pacino'],\n",
    "                  'Joker' : ['Joaquin Phoenix'],\n",
    "                  'Alien' : ['Sigourney Weaver', 'Ian Holm'],\n",
    "                  'Aliens' : ['Sigourney Weaver', 'Paul Reiser']})\n",
    "\n",
    "elenco = pd.Series(dict_cast, name = 'elenco')\n",
    "print(elenco)"
   ]
  },
  {
   "cell_type": "code",
   "execution_count": null,
   "metadata": {
    "ExecuteTime": {
     "end_time": "2021-11-30T23:12:43.082327Z",
     "start_time": "2021-11-30T23:12:43.062353Z"
    }
   },
   "outputs": [],
   "source": [
    "dict_diretor = dict({'Titanic' : 'James Cameron',\n",
    "                     'Dune' : 'Denis Villeneuve',\n",
    "                     'Dune (David Lynch)' : 'David Lynch',\n",
    "                     'House of Gucci' : 'Ridley Scott',\n",
    "                     'Joker' : 'Todd Phillips',\n",
    "                     'Alien' : 'Ridley Scott',\n",
    "                     'Aliens' : 'James Cameron'})\n",
    "diretor = pd.Series(dict_diretor, name = 'diretor')\n",
    "print(diretor)"
   ]
  },
  {
   "cell_type": "markdown",
   "metadata": {},
   "source": [
    "### Some methods and attributes\n",
    "* Check Type\n",
    "* Check Size\n",
    "* `.describe()`\n",
    "* `.values`\n",
    "* `.index`"
   ]
  },
  {
   "cell_type": "code",
   "execution_count": null,
   "metadata": {},
   "outputs": [],
   "source": [
    "notas_imdb"
   ]
  },
  {
   "cell_type": "code",
   "execution_count": null,
   "metadata": {
    "ExecuteTime": {
     "end_time": "2021-11-30T23:13:18.105296Z",
     "start_time": "2021-11-30T23:13:18.099310Z"
    }
   },
   "outputs": [],
   "source": [
    "print(type(notas_imdb))"
   ]
  },
  {
   "cell_type": "code",
   "execution_count": null,
   "metadata": {},
   "outputs": [],
   "source": [
    "print(notas_imdb.dtype)"
   ]
  },
  {
   "cell_type": "code",
   "execution_count": null,
   "metadata": {},
   "outputs": [],
   "source": [
    "print(elenco.dtype)"
   ]
  },
  {
   "cell_type": "markdown",
   "metadata": {},
   "source": [
    "Então, o `type` da `notas_imdb` é `pandas.Series` e o tipo dos dados dentro desta `pandas.Series` é `float64`. Quando o `dtype` de uma `Series` for `object` *em geral* o que temos é uma séries de strings.\n",
    "\n",
    "Assim como listas e arrays, séries são iteráveis: isso significa que podemos utilizar a função `len` para descobrir o comprimento de uma série."
   ]
  },
  {
   "cell_type": "code",
   "execution_count": null,
   "metadata": {
    "ExecuteTime": {
     "end_time": "2021-11-30T23:15:00.454827Z",
     "start_time": "2021-11-30T23:15:00.446848Z"
    }
   },
   "outputs": [],
   "source": [
    "print(len(notas_imdb))"
   ]
  },
  {
   "cell_type": "markdown",
   "metadata": {},
   "source": [
    "O método `.describe()` nos permite fazer uma investigação preliminar sobre o conteúdo de uma série utilizando indicadores da estatística descritiva."
   ]
  },
  {
   "cell_type": "code",
   "execution_count": null,
   "metadata": {},
   "outputs": [],
   "source": [
    "print(notas_imdb.describe())"
   ]
  },
  {
   "cell_type": "code",
   "execution_count": null,
   "metadata": {},
   "outputs": [],
   "source": [
    "np.median(notas_imdb)"
   ]
  },
  {
   "cell_type": "markdown",
   "metadata": {},
   "source": [
    "O comportamento deste método depende do `dtype` da `Series`: para um `dtype` numérico teremos indicadores de localização (média, mediana, quartis, etc) e dispersão (desvio padrão), já para outros tipos teremos uma descrição mais simples:"
   ]
  },
  {
   "cell_type": "code",
   "execution_count": null,
   "metadata": {},
   "outputs": [],
   "source": [
    "elenco.describe()"
   ]
  },
  {
   "cell_type": "code",
   "execution_count": null,
   "metadata": {},
   "outputs": [],
   "source": [
    "elenco"
   ]
  },
  {
   "cell_type": "code",
   "execution_count": null,
   "metadata": {},
   "outputs": [],
   "source": [
    "diretor"
   ]
  },
  {
   "cell_type": "markdown",
   "metadata": {},
   "source": [
    "Podemos utilizar o **atributo** `.values` para acessar os elementos de uma `Series` como um `np.array`:"
   ]
  },
  {
   "cell_type": "code",
   "execution_count": null,
   "metadata": {
    "ExecuteTime": {
     "end_time": "2021-11-30T23:20:06.415820Z",
     "start_time": "2021-11-30T23:20:06.410837Z"
    }
   },
   "outputs": [],
   "source": [
    "print(notas_imdb.values)"
   ]
  },
  {
   "cell_type": "code",
   "execution_count": null,
   "metadata": {
    "ExecuteTime": {
     "end_time": "2021-11-30T23:20:55.138274Z",
     "start_time": "2021-11-30T23:20:55.126309Z"
    }
   },
   "outputs": [],
   "source": [
    "type(notas_imdb.values)"
   ]
  },
  {
   "cell_type": "markdown",
   "metadata": {},
   "source": [
    "Por fim, podemos acessar os índices de uma `Series` através do atributo `.index`."
   ]
  },
  {
   "cell_type": "code",
   "execution_count": null,
   "metadata": {
    "ExecuteTime": {
     "end_time": "2021-11-30T23:21:29.165995Z",
     "start_time": "2021-11-30T23:21:29.151026Z"
    }
   },
   "outputs": [],
   "source": [
    "print(notas_imdb.index)"
   ]
  },
  {
   "cell_type": "markdown",
   "metadata": {},
   "source": [
    "### Indexação\n",
    "Assim como `lists` e `np.arrays`, `Series` podem ser indexadas. Vamos ver as principais maneiras de fazê-lo: primeiro relembrando a indexação de `np.arrays`, depois vendo como podemos utilizar o próprio índice da série.\n",
    "\n",
    "#### Emprestando de `np.array`!\n",
    "Podemos indexar uma `Series` como um `np.array`:\n",
    "\n",
    "Primeiro por `ints`..."
   ]
  },
  {
   "cell_type": "code",
   "execution_count": null,
   "metadata": {},
   "outputs": [],
   "source": [
    "notas_imdb"
   ]
  },
  {
   "cell_type": "code",
   "execution_count": null,
   "metadata": {},
   "outputs": [],
   "source": [
    "a = [1,2,3]"
   ]
  },
  {
   "cell_type": "code",
   "execution_count": null,
   "metadata": {},
   "outputs": [],
   "source": [
    "a[0]"
   ]
  },
  {
   "cell_type": "code",
   "execution_count": null,
   "metadata": {},
   "outputs": [],
   "source": [
    "a[1:]"
   ]
  },
  {
   "cell_type": "code",
   "execution_count": null,
   "metadata": {
    "ExecuteTime": {
     "end_time": "2021-11-30T23:24:05.601895Z",
     "start_time": "2021-11-30T23:24:05.582945Z"
    }
   },
   "outputs": [],
   "source": [
    "notas_imdb[0]"
   ]
  },
  {
   "cell_type": "markdown",
   "metadata": {},
   "source": [
    "... depois por `slices` ..."
   ]
  },
  {
   "cell_type": "code",
   "execution_count": null,
   "metadata": {
    "ExecuteTime": {
     "end_time": "2021-11-30T23:24:36.696750Z",
     "start_time": "2021-11-30T23:24:36.679795Z"
    }
   },
   "outputs": [],
   "source": [
    "notas_imdb[0:3]"
   ]
  },
  {
   "cell_type": "code",
   "execution_count": null,
   "metadata": {
    "ExecuteTime": {
     "end_time": "2021-11-30T23:24:45.891977Z",
     "start_time": "2021-11-30T23:24:45.883998Z"
    }
   },
   "outputs": [],
   "source": [
    "notas_imdb[1:]"
   ]
  },
  {
   "cell_type": "markdown",
   "metadata": {},
   "source": [
    "... e, o mais útil de todos, por máscaras (através dos iteráveis de booleanos)!\n",
    "\n",
    "Para isso precisamos lembrar como um `np.array` (e, por extensão, uma `Series`) se comportam frente aos operadores booleanos `<`, `>`, `==`, etc..."
   ]
  },
  {
   "cell_type": "code",
   "execution_count": null,
   "metadata": {},
   "outputs": [],
   "source": [
    "notas_imdb == 8.4"
   ]
  },
  {
   "cell_type": "markdown",
   "metadata": {},
   "source": [
    "O resultado é uma nova série, com o resultado da comparação booleana aplicada elemento à elemento. \n",
    "\n",
    "Agora podemos utilizar essa nova série para indexar a série original!"
   ]
  },
  {
   "cell_type": "code",
   "execution_count": null,
   "metadata": {},
   "outputs": [],
   "source": [
    "mascara = notas_imdb > 8\n",
    "print(mascara)"
   ]
  },
  {
   "cell_type": "code",
   "execution_count": null,
   "metadata": {},
   "outputs": [],
   "source": [
    "mascara_idiota = [False, True, False,False, True, False]\n",
    "notas_imdb[mascara_idiota]"
   ]
  },
  {
   "cell_type": "markdown",
   "metadata": {},
   "source": [
    "Também podemos fazer a comparação dentro do próprio índice:"
   ]
  },
  {
   "cell_type": "code",
   "execution_count": null,
   "metadata": {},
   "outputs": [],
   "source": [
    "notas_imdb > 8"
   ]
  },
  {
   "cell_type": "code",
   "execution_count": null,
   "metadata": {},
   "outputs": [],
   "source": [
    "notas_imdb[notas_imdb > 8]"
   ]
  },
  {
   "cell_type": "markdown",
   "metadata": {},
   "source": [
    "#### Lembrando `dicts`!\n",
    "Podemos utilizar o índice que definimos na criação de uma série para acessar os valores associados à uma certa chave. Esse comportamento é semelhante à forma como indexamos dicionários."
   ]
  },
  {
   "cell_type": "code",
   "execution_count": null,
   "metadata": {
    "ExecuteTime": {
     "end_time": "2021-11-30T23:25:12.312473Z",
     "start_time": "2021-11-30T23:25:12.302498Z"
    }
   },
   "outputs": [],
   "source": [
    "notas_imdb['Dune']"
   ]
  },
  {
   "cell_type": "markdown",
   "metadata": {},
   "source": [
    "# 2. The Pandas DataFrame\n",
    "Um `DataFrame` da Pandas será o principal tipo que utilizaremos no restante do Bootcamp para representar tabelas de dados. Ao longo das próximas semanas iremos nos familiarizar com os métodos e atributos deste objeto, que nos permitem carregar dados, limpa-los e iniciar o processo de análise.\n",
    "\n",
    "Podemos pensar em um DataFrame de diferentes formas:\n",
    "* Uma coleção de `Series`;\n",
    "* Uma `np.array` onde as linhas e as colunas tem *nomes*;\n",
    "* Uma tabela, semelhante à uma planilha."
   ]
  },
  {
   "cell_type": "code",
   "execution_count": null,
   "metadata": {
    "ExecuteTime": {
     "end_time": "2021-11-30T23:27:22.175187Z",
     "start_time": "2021-11-30T23:27:22.163194Z"
    }
   },
   "outputs": [],
   "source": [
    "pd.DataFrame"
   ]
  },
  {
   "cell_type": "code",
   "execution_count": null,
   "metadata": {
    "ExecuteTime": {
     "end_time": "2021-11-30T23:27:35.334446Z",
     "start_time": "2021-11-30T23:27:35.323449Z"
    }
   },
   "outputs": [],
   "source": [
    "type(pd.DataFrame)"
   ]
  },
  {
   "cell_type": "markdown",
   "metadata": {},
   "source": [
    "## Criando um DataFrame\n",
    "\n",
    "Vamos começar construindo nossos DataFrames dentro do Python, a partir de `Series`, `arrays` ou `lists` e `dicts`. Ao longo das próximas semanas aprenderemos a ler arquivos (.csv, .txt, .xlsx), acessar DBs (SQL) e mesmo extrair dados de APIs.\n",
    "\n",
    "Por enquanto, vamos construir uma tabela com os dados de filmes das nossas séries: notas do IMDB, elenco e diretor."
   ]
  },
  {
   "cell_type": "code",
   "execution_count": null,
   "metadata": {
    "ExecuteTime": {
     "end_time": "2021-11-30T23:30:32.679065Z",
     "start_time": "2021-11-30T23:30:32.668094Z"
    }
   },
   "outputs": [],
   "source": [
    "notas_imdb"
   ]
  },
  {
   "cell_type": "code",
   "execution_count": null,
   "metadata": {
    "ExecuteTime": {
     "end_time": "2021-11-30T23:30:38.793158Z",
     "start_time": "2021-11-30T23:30:38.782189Z"
    }
   },
   "outputs": [],
   "source": [
    "elenco"
   ]
  },
  {
   "cell_type": "code",
   "execution_count": null,
   "metadata": {
    "ExecuteTime": {
     "end_time": "2021-11-30T23:30:50.387328Z",
     "start_time": "2021-11-30T23:30:50.375333Z"
    }
   },
   "outputs": [],
   "source": [
    "diretor"
   ]
  },
  {
   "cell_type": "markdown",
   "metadata": {},
   "source": [
    "---\n",
    "### `dict` de `Series`\n",
    "\n",
    "A forma mais simples de converter um conjunto de séries em um DataFrame (onde cada `Series` será uma coluna) é através de um dicionário. Vamos construir um `dict` onde as chaves serão os nomes das colunas da tabela e os valores serão as `Series` que criamos."
   ]
  },
  {
   "cell_type": "code",
   "execution_count": null,
   "metadata": {
    "ExecuteTime": {
     "end_time": "2021-11-30T23:34:16.711370Z",
     "start_time": "2021-11-30T23:34:16.698406Z"
    }
   },
   "outputs": [],
   "source": [
    "dict_series = {'notas' : notas_imdb,\n",
    "               'elenco' : elenco,\n",
    "               'diretor' : diretor}\n",
    "print(dict_series.keys())\n",
    "print(dict_series['notas'])"
   ]
  },
  {
   "cell_type": "markdown",
   "metadata": {},
   "source": [
    "Agora vamos utilizar o objeto `DataFrame` para inicializar nosso DataFrame."
   ]
  },
  {
   "cell_type": "code",
   "execution_count": null,
   "metadata": {
    "ExecuteTime": {
     "end_time": "2021-11-30T23:28:42.038563Z",
     "start_time": "2021-11-30T23:28:42.017622Z"
    }
   },
   "outputs": [],
   "source": [
    "pd.DataFrame(dict_series)"
   ]
  },
  {
   "cell_type": "markdown",
   "metadata": {},
   "source": [
    "Como podemos ver, o nosso `DataFrame` contém toda informação de nossas `Series`. A ordem dos elementos nas `Series` originais não importa neste caso: ao criar um DataFrame estamos *alinhando* as diferentes `Series` através de seu índice que neste caso é o nome do filme. \n",
    "\n",
    "**DEVEMOS TOMAR CUIDADO COM ESTE COMPORTAMENTO: PODEMOS TER ÍNDICES REPETIDOS, OU MESMO NÃO ÍNDICES RELEVANTES**, e, neste caso, o cruzamento entre séries **DEPENDERÁ DA ORDEM DOS ELEMENTOS**.\n",
    "\n",
    "Como não temos uma nota para o filme **Aliens** (Alien II), o `DataFrame` *criou* uma entrada NaN indicando que esta informação não estava disponível.\n",
    "\n",
    "---\n",
    "\n",
    "### `dict` de `dicts`\n",
    "Podemos *pular* a etapa onde transformamos os `dicts` em `Series` e construir nosso `DataFrame` a partir de um `dict` de `dicts`!"
   ]
  },
  {
   "cell_type": "code",
   "execution_count": null,
   "metadata": {
    "ExecuteTime": {
     "end_time": "2021-11-30T23:37:48.039038Z",
     "start_time": "2021-11-30T23:37:48.030051Z"
    }
   },
   "outputs": [],
   "source": [
    "print(dict_notas)"
   ]
  },
  {
   "cell_type": "code",
   "execution_count": null,
   "metadata": {
    "ExecuteTime": {
     "end_time": "2021-11-30T23:38:55.555896Z",
     "start_time": "2021-11-30T23:38:55.550908Z"
    }
   },
   "outputs": [],
   "source": [
    "dict_dicts = {'notas' : dict_notas,\n",
    "              'elenco' : dict_cast,\n",
    "              'diretor' : dict_diretor}\n",
    "print(dict_dicts)"
   ]
  },
  {
   "cell_type": "code",
   "execution_count": null,
   "metadata": {
    "ExecuteTime": {
     "end_time": "2021-11-30T23:39:31.708288Z",
     "start_time": "2021-11-30T23:39:31.686316Z"
    }
   },
   "outputs": [],
   "source": [
    "pd.DataFrame(dict_dicts)"
   ]
  },
  {
   "cell_type": "markdown",
   "metadata": {},
   "source": [
    "Novamente, podemos ver que o `DataFrame` criado utilizou os as chaves do dicionário para cruzar as informações de maneira correta: o filme **Aliens** foi criado com uma nota `NaN`, indicando que o Python interpretou corretamente que este filme não está presente no `dict_notas`.\n",
    "\n",
    "---\n",
    "\n",
    "### `dict` de `lists`\n",
    "\n",
    "A terceira forma que veremos hoje para criar um `DataFrame` é a partir de um `dict` de `lists`. Temos que tomar cuidado sempre que utilizarmos essa forma (e sempre que nossas séries não estejam indexadas por nomes, ids, etc...): **a ordem dos elementos em cada lista determinará o emparelhamento entre as colunas do `DataFrame`!**"
   ]
  },
  {
   "cell_type": "code",
   "execution_count": null,
   "metadata": {
    "ExecuteTime": {
     "end_time": "2021-11-30T23:41:31.677571Z",
     "start_time": "2021-11-30T23:41:31.660619Z"
    }
   },
   "outputs": [],
   "source": [
    "list(dict_diretor.values())"
   ]
  },
  {
   "cell_type": "code",
   "execution_count": null,
   "metadata": {
    "ExecuteTime": {
     "end_time": "2021-11-30T23:42:01.227828Z",
     "start_time": "2021-11-30T23:42:01.209889Z"
    }
   },
   "outputs": [],
   "source": [
    "lista_notas = list(dict_notas.values())\n",
    "lista_elenco = list(dict_cast.values())\n",
    "lista_diretor = list(dict_diretor.values())"
   ]
  },
  {
   "cell_type": "code",
   "execution_count": null,
   "metadata": {},
   "outputs": [],
   "source": [
    "lista_diretor"
   ]
  },
  {
   "cell_type": "markdown",
   "metadata": {},
   "source": [
    "Como vimos ao longo da criação dos outros `DataFrames`, a lista de notas tem menos valores que as outras listas (ela não tem o filme **Aliens**). O que acontecerá se tentarmos criar o `DataFrame` mesmo assim? Primeiro vamos guardar nossas listas em um dicionário:"
   ]
  },
  {
   "cell_type": "code",
   "execution_count": null,
   "metadata": {},
   "outputs": [],
   "source": [
    "dict_listas = {'notas' : lista_notas,\n",
    "               'elenco' : lista_elenco,\n",
    "               'diretor' : lista_diretor}\n",
    "pd.DataFrame(dict_listas)"
   ]
  },
  {
   "cell_type": "code",
   "execution_count": null,
   "metadata": {},
   "outputs": [],
   "source": [
    "lista_notas"
   ]
  },
  {
   "cell_type": "code",
   "execution_count": null,
   "metadata": {},
   "outputs": [],
   "source": [
    "lista_elenco"
   ]
  },
  {
   "cell_type": "markdown",
   "metadata": {},
   "source": [
    "O `ValueError` nos explica que para criar um `DataFrame` a partir de listas estas precisam ter o mesmo número de elementos. Vamos usar um slice para igualar o tamanho das listas e criar nosso DataFrame e compara-lo ao criado utilizando o `dict` de séries:"
   ]
  },
  {
   "cell_type": "code",
   "execution_count": null,
   "metadata": {
    "ExecuteTime": {
     "end_time": "2021-11-30T23:47:25.800427Z",
     "start_time": "2021-11-30T23:47:25.774508Z"
    }
   },
   "outputs": [],
   "source": [
    "dict_listas = {'notas' : lista_notas,\n",
    "               'elenco' : lista_elenco[1:],\n",
    "               'diretor' : lista_diretor[1:]}\n",
    "pd.DataFrame(dict_listas)"
   ]
  },
  {
   "cell_type": "code",
   "execution_count": null,
   "metadata": {},
   "outputs": [],
   "source": [
    "pd.DataFrame(dict_series)"
   ]
  },
  {
   "cell_type": "markdown",
   "metadata": {},
   "source": [
    "Como a construção do `DataFrame` não tem mais o índice das `Series` ou `dicts` não conseguimos mais cruzar as informações corretamente: ao utilizar a ordem das informações como índice (indexação inteira), não temos a estrutura original - as notas estão todas deslocadas!"
   ]
  },
  {
   "cell_type": "markdown",
   "metadata": {},
   "source": [
    "## Métodos e atributos\n",
    "Nesta seção veremos alguns métodos e atributos utéis dos `DataFrames`:\n",
    "\n",
    "* `.describe()`\n",
    "* `.info()`\n",
    "* `.shape`\n",
    "* `.columns`\n",
    "\n",
    "Primeiro, vamos guardar o nosso `DataFrame` correto (criado a partir do `dict` de `Series` ou de `dicts`)."
   ]
  },
  {
   "cell_type": "code",
   "execution_count": null,
   "metadata": {
    "ExecuteTime": {
     "end_time": "2021-11-30T23:50:54.698979Z",
     "start_time": "2021-11-30T23:50:54.680003Z"
    }
   },
   "outputs": [],
   "source": [
    "tb_filmes = pd.DataFrame(dict_series)\n",
    "tb_filmes"
   ]
  },
  {
   "cell_type": "code",
   "execution_count": null,
   "metadata": {},
   "outputs": [],
   "source": [
    "type(tb_filmes)"
   ]
  },
  {
   "cell_type": "markdown",
   "metadata": {},
   "source": [
    "O método `.describe()` é semelhante ao método `.describe()` das `Series`: agora, no entanto, ele retorna as estatisticas descritivas de todas as colunas numéricas de nosso `DataFrame`"
   ]
  },
  {
   "cell_type": "code",
   "execution_count": null,
   "metadata": {},
   "outputs": [],
   "source": [
    "tb_filmes"
   ]
  },
  {
   "cell_type": "code",
   "execution_count": null,
   "metadata": {
    "ExecuteTime": {
     "end_time": "2021-11-30T23:50:57.727285Z",
     "start_time": "2021-11-30T23:50:57.706215Z"
    }
   },
   "outputs": [],
   "source": [
    "tb_filmes.describe()"
   ]
  },
  {
   "cell_type": "markdown",
   "metadata": {},
   "source": [
    "O método `.info()` nos retorna uma série de informações úteis sobre o nosso `DataFrame`:\n",
    "\n",
    "* Nome das Colunas;\n",
    "* Número de Linhas;\n",
    "* Qtd. de valores nulos;\n",
    "* Tipos das colunas."
   ]
  },
  {
   "cell_type": "code",
   "execution_count": null,
   "metadata": {
    "ExecuteTime": {
     "end_time": "2021-11-30T23:51:29.405609Z",
     "start_time": "2021-11-30T23:51:29.383667Z"
    }
   },
   "outputs": [],
   "source": [
    "tb_filmes.info()"
   ]
  },
  {
   "cell_type": "markdown",
   "metadata": {},
   "source": [
    "O atributo `.columns` nos permite ver os nomes das colunas de um `DataFrame` através de um iterável:"
   ]
  },
  {
   "cell_type": "code",
   "execution_count": null,
   "metadata": {},
   "outputs": [],
   "source": [
    "tb_filmes.columns"
   ]
  },
  {
   "cell_type": "markdown",
   "metadata": {},
   "source": [
    "Por fim o atributo `.index` nos permite acessar os índices das linhas de um `DataFrame`:"
   ]
  },
  {
   "cell_type": "code",
   "execution_count": null,
   "metadata": {},
   "outputs": [],
   "source": [
    "tb_filmes.index"
   ]
  },
  {
   "cell_type": "code",
   "execution_count": null,
   "metadata": {},
   "outputs": [],
   "source": [
    "a = print"
   ]
  },
  {
   "cell_type": "code",
   "execution_count": null,
   "metadata": {},
   "outputs": [],
   "source": [
    "a()"
   ]
  },
  {
   "cell_type": "code",
   "execution_count": null,
   "metadata": {},
   "outputs": [],
   "source": [
    "lucas = dict()\n",
    "lucas['nome'] = 'Lucas'\n",
    "lucas['prof'] = 'Eng.'"
   ]
  },
  {
   "cell_type": "code",
   "execution_count": null,
   "metadata": {},
   "outputs": [],
   "source": [
    "alunos['Lucas'] = lucas"
   ]
  },
  {
   "cell_type": "markdown",
   "metadata": {},
   "source": [
    "## Indexando `DataFrames`\n",
    "\n",
    "`DataFrames` são muito parecidas com `np.arrays` de 2D: temos dois índices, um para as linhas outro para as colunas. Vamos começar vendo como acessar um (ou mais) colunas de um `DataFrame` primeiro.\n",
    "\n",
    "### Selecionado Colunas\n",
    "Para acessar uma coluna de um `DataFrame` podemos utilizar a indexação simples `['nome_da_coluna']` para extrair uma coluna só ou utilizar um iterável com os nomes das colunas para extrair mais que uma coluna. Vamos ver isso na prática:"
   ]
  },
  {
   "cell_type": "code",
   "execution_count": null,
   "metadata": {},
   "outputs": [],
   "source": [
    "type(tb_filmes['notas'])"
   ]
  },
  {
   "cell_type": "markdown",
   "metadata": {},
   "source": [
    "Podemos criar uma `list` (um iterável) com nomes de colunas e utiliza-la para indexar o `DataFrame`. O resultado será outro `DataFrame` com todas as colunas nomeadas na lista:"
   ]
  },
  {
   "cell_type": "code",
   "execution_count": null,
   "metadata": {},
   "outputs": [],
   "source": [
    "lista_colunas = ['notas', 'diretor']\n",
    "tb_filmes[lista_colunas]"
   ]
  },
  {
   "cell_type": "markdown",
   "metadata": {},
   "source": [
    "Muitas vezes vemos esse filtro feito de forma implicita:"
   ]
  },
  {
   "cell_type": "code",
   "execution_count": null,
   "metadata": {},
   "outputs": [],
   "source": [
    "tb_filmes[['notas', 'diretor']]"
   ]
  },
  {
   "cell_type": "markdown",
   "metadata": {},
   "source": [
    "Os colchetes duplos surgem pois estamos:\n",
    "\n",
    "1. Indexado (par externo de colchetes)\n",
    "1. Criando uma lista (par interno de colchetes)\n",
    "\n",
    "Temos que nos atentar aos tipos retornados por cada um dos filtros:"
   ]
  },
  {
   "cell_type": "code",
   "execution_count": null,
   "metadata": {},
   "outputs": [],
   "source": [
    "type(tb_filmes['notas'])"
   ]
  },
  {
   "cell_type": "code",
   "execution_count": null,
   "metadata": {},
   "outputs": [],
   "source": [
    "type(tb_filmes[['notas', 'diretor']])"
   ]
  },
  {
   "cell_type": "markdown",
   "metadata": {},
   "source": [
    "Se queremos criar um `DataFrame` com apenas uma coluna podemos fazê-lo:"
   ]
  },
  {
   "cell_type": "code",
   "execution_count": null,
   "metadata": {},
   "outputs": [],
   "source": [
    "tb_filmes[['notas']]"
   ]
  },
  {
   "cell_type": "code",
   "execution_count": null,
   "metadata": {},
   "outputs": [],
   "source": [
    "type(tb_filmes[['notas']])"
   ]
  },
  {
   "cell_type": "markdown",
   "metadata": {},
   "source": [
    "Isso será necessário mais a frente no curso quando utilizarmos as bibliotecas de Machine Learning.\n",
    "\n",
    "----------------------------------------------------------------\n",
    "\n",
    "### Selecionando Linhas (e Colunas!)\n",
    "\n",
    "Se quisermos fazer um filtro sobre as linhas devemos utilizar os atributos `.loc` e `.iloc` (ou o método `.sample()`). Esses atributos nos permitem indexar os `DataFrame` como indexamos `np.arrays` 2D - através da especificação da linha e coluna que desejamos. Vamos começar com o atributo `.iloc`.\n",
    "\n",
    "#### Utilizando `.iloc`\n",
    "\n",
    "O atributo `.iloc` nos permite indexar um `DataFrame` utilizando a mesma notação das `np.arrays`:\n",
    "\n",
    "\n",
    "``` python\n",
    "tb_filmes.iloc[row_number, column_number]\n",
    "```"
   ]
  },
  {
   "cell_type": "code",
   "execution_count": null,
   "metadata": {},
   "outputs": [],
   "source": [
    "tb_filmes"
   ]
  },
  {
   "cell_type": "code",
   "execution_count": null,
   "metadata": {},
   "outputs": [],
   "source": [
    "tb_filmes.iloc[1,1]"
   ]
  },
  {
   "cell_type": "markdown",
   "metadata": {},
   "source": [
    "Além de inteiros, também podemos utilizar slices.\n",
    "\n",
    "Primeiro, vamos todas as colunas para a primeira linha:"
   ]
  },
  {
   "cell_type": "code",
   "execution_count": null,
   "metadata": {},
   "outputs": [],
   "source": [
    "tb_filmes.iloc[0,:]"
   ]
  },
  {
   "cell_type": "markdown",
   "metadata": {},
   "source": [
    "Agora vamos buscar todas as linhas da primeira coluna:"
   ]
  },
  {
   "cell_type": "code",
   "execution_count": null,
   "metadata": {},
   "outputs": [],
   "source": [
    "tb_filmes.iloc[:,0]"
   ]
  },
  {
   "cell_type": "markdown",
   "metadata": {},
   "source": [
    "#### Utilizando `.loc`\n",
    "\n",
    "O atributo `.loc` nos permite indexar um `DataFrame` utilizando a mesma notação das `np.arrays`, mas ao invés de `ints` e `slices` podemos utilizar usar os próprios índices do `DataFrame`: **nomes das linhas e nomes das colunas**.\n",
    "\n",
    "\n",
    "``` python\n",
    "tb_filmes.loc[row_name, column_name]\n",
    "```"
   ]
  },
  {
   "cell_type": "code",
   "execution_count": null,
   "metadata": {},
   "outputs": [],
   "source": [
    "tb_filmes"
   ]
  },
  {
   "cell_type": "code",
   "execution_count": null,
   "metadata": {
    "ExecuteTime": {
     "end_time": "2021-11-30T23:53:53.755115Z",
     "start_time": "2021-11-30T23:53:53.742149Z"
    }
   },
   "outputs": [],
   "source": [
    "tb_filmes.loc['Alien', 'aleato']"
   ]
  },
  {
   "cell_type": "markdown",
   "metadata": {},
   "source": [
    "Além de utilizar os nomes diretamente, também podemos utilizar slices (de nomes):"
   ]
  },
  {
   "cell_type": "code",
   "execution_count": null,
   "metadata": {
    "ExecuteTime": {
     "end_time": "2021-11-30T23:54:24.277448Z",
     "start_time": "2021-11-30T23:54:24.263508Z"
    }
   },
   "outputs": [],
   "source": [
    "tb_filmes.loc['Alien', 'notas':'diretor']"
   ]
  },
  {
   "cell_type": "markdown",
   "metadata": {},
   "source": [
    "Outra forma útil de indexação através do `.loc` é utilizando listas:"
   ]
  },
  {
   "cell_type": "code",
   "execution_count": null,
   "metadata": {
    "ExecuteTime": {
     "end_time": "2021-11-30T23:56:34.651767Z",
     "start_time": "2021-11-30T23:56:34.636807Z"
    }
   },
   "outputs": [],
   "source": [
    "tb_filmes.loc[['Alien', 'Aliens'], :]"
   ]
  },
  {
   "cell_type": "code",
   "execution_count": null,
   "metadata": {
    "ExecuteTime": {
     "end_time": "2021-11-30T23:56:56.885777Z",
     "start_time": "2021-11-30T23:56:56.866800Z"
    }
   },
   "outputs": [],
   "source": [
    "tb_filmes.loc[:, ['notas', 'elenco']]"
   ]
  },
  {
   "cell_type": "code",
   "execution_count": null,
   "metadata": {
    "ExecuteTime": {
     "end_time": "2021-11-30T23:58:04.636485Z",
     "start_time": "2021-11-30T23:58:04.624530Z"
    }
   },
   "outputs": [],
   "source": [
    "tb_filmes.loc['Alien':'Dune', 'notas':'elenco']"
   ]
  },
  {
   "cell_type": "code",
   "execution_count": null,
   "metadata": {},
   "outputs": [],
   "source": [
    "tb_filmes.iloc[[-1,0, 3], :]"
   ]
  },
  {
   "cell_type": "code",
   "execution_count": null,
   "metadata": {},
   "outputs": [],
   "source": []
  },
  {
   "cell_type": "markdown",
   "metadata": {},
   "source": [
    "### Utilizando `.sample()`\n",
    "O método `.sample()` é utilizado para gerar uma amostra aleatória das linhas de um `DataFrame`"
   ]
  },
  {
   "cell_type": "code",
   "execution_count": null,
   "metadata": {
    "ExecuteTime": {
     "end_time": "2021-12-01T00:07:39.581924Z",
     "start_time": "2021-12-01T00:07:39.559995Z"
    }
   },
   "outputs": [],
   "source": [
    "tb_filmes.sample(n=2)"
   ]
  },
  {
   "cell_type": "markdown",
   "metadata": {},
   "source": [
    "## Máscaras e Filtros\n",
    "\n",
    "Filtros são o Be-A-Bá de dados, englobando operações como: selecionar todas as vendas em MG, ou então todos os ataques de tubarão que aconteceram no hemisfério Sul, ou mesmo todos os clientes que fizeram mais de um pedido no mês de Janeiro.\n",
    "\n",
    "A idéia fundamental por trás dos Filtros na biblioteca Pandas é o **conceito de Máscara**: um vetor de valores booleanos com um número de elementos igual ao número de linhas do nosso `DataFrame`. Já vimos hoje como construir máscaras através dos operadores booleanos: agora utilizaremos estas para filtrar nossos `DataFrames`!\n",
    "\n",
    "### Máscaras Simples (uma condição)"
   ]
  },
  {
   "cell_type": "code",
   "execution_count": null,
   "metadata": {},
   "outputs": [],
   "source": [
    "tb_filmes['notas'] > 8"
   ]
  },
  {
   "cell_type": "code",
   "execution_count": null,
   "metadata": {
    "ExecuteTime": {
     "end_time": "2021-12-01T00:15:48.843961Z",
     "start_time": "2021-12-01T00:15:48.828000Z"
    }
   },
   "outputs": [],
   "source": [
    "filmes_bons = tb_filmes['notas'] > 8"
   ]
  },
  {
   "cell_type": "code",
   "execution_count": null,
   "metadata": {
    "ExecuteTime": {
     "end_time": "2021-12-01T00:15:51.189397Z",
     "start_time": "2021-12-01T00:15:51.178426Z"
    }
   },
   "outputs": [],
   "source": [
    "filmes_bons"
   ]
  },
  {
   "cell_type": "markdown",
   "metadata": {},
   "source": [
    "A variável `filmes_bons` é nossa máscara: vamos utiliza-la para filtrar nosso `DataFrame`"
   ]
  },
  {
   "cell_type": "code",
   "execution_count": null,
   "metadata": {
    "ExecuteTime": {
     "end_time": "2021-12-01T00:16:09.175482Z",
     "start_time": "2021-12-01T00:16:09.151543Z"
    }
   },
   "outputs": [],
   "source": [
    "tb_filmes[filmes_bons]"
   ]
  },
  {
   "cell_type": "markdown",
   "metadata": {},
   "source": [
    "Simples! Podemos utilizar a mesma máscara de forma implicita:"
   ]
  },
  {
   "cell_type": "code",
   "execution_count": null,
   "metadata": {
    "ExecuteTime": {
     "end_time": "2021-12-01T00:16:40.909134Z",
     "start_time": "2021-12-01T00:16:40.892200Z"
    }
   },
   "outputs": [],
   "source": [
    "tb_filmes[tb_filmes['notas'] > 8]"
   ]
  },
  {
   "cell_type": "markdown",
   "metadata": {},
   "source": [
    "### Máscaras Complexas\n",
    "\n",
    "A máscara `filmes_bons` contém apenas uma condição - muitas vezes precisamos concatenar condições para obter o resultado necessário. Vamos entender como podemos construir essas máscaras utilizando os operadores `&` (BITWISE AND) e `|` (BITWISE OR)"
   ]
  },
  {
   "cell_type": "code",
   "execution_count": null,
   "metadata": {},
   "outputs": [],
   "source": [
    "filmes_bons = tb_filmes['notas'] > 8\n",
    "print(filmes_bons)"
   ]
  },
  {
   "cell_type": "code",
   "execution_count": null,
   "metadata": {},
   "outputs": [],
   "source": [
    "filmes_rs = tb_filmes['diretor'] == 'Ridley Scott'\n",
    "print(filmes_rs)"
   ]
  },
  {
   "cell_type": "code",
   "execution_count": null,
   "metadata": {},
   "outputs": [],
   "source": [
    "tb_filmes[filmes_bons]"
   ]
  },
  {
   "cell_type": "markdown",
   "metadata": {},
   "source": [
    "Se quisermos filtrar os filmes que são simultaneamente bons e do Ridley Scott precisamos utilizar o operador `&` (**E**):"
   ]
  },
  {
   "cell_type": "code",
   "execution_count": null,
   "metadata": {},
   "outputs": [],
   "source": [
    "filmes_rs_bons = filmes_rs & filmes_bons\n",
    "print(filmes_rs_bons)"
   ]
  },
  {
   "cell_type": "code",
   "execution_count": null,
   "metadata": {},
   "outputs": [],
   "source": [
    "tb_filmes[filmes_rs_bons]"
   ]
  },
  {
   "cell_type": "markdown",
   "metadata": {},
   "source": [
    "Se quisermos encontrar todos os filmes que são bons + todos os filmes do Ridley Scott podemos utilizar o operador `|` (OU)"
   ]
  },
  {
   "cell_type": "code",
   "execution_count": null,
   "metadata": {},
   "outputs": [],
   "source": [
    "filmes_rs_ou_bons = filmes_rs | filmes_bons\n",
    "tb_filmes[filmes_rs_ou_bons]"
   ]
  },
  {
   "cell_type": "markdown",
   "metadata": {},
   "source": [
    "Podemos fazer todas as etapas acima de forma implicita (tomando cuidado com os `()` ao redor de cada condição)!"
   ]
  },
  {
   "cell_type": "code",
   "execution_count": null,
   "metadata": {},
   "outputs": [],
   "source": [
    "tb_filmes[(tb_filmes['notas'] > 9.5) & (tb_filmes['diretor'] == 'Ridley Scott')]"
   ]
  },
  {
   "cell_type": "code",
   "execution_count": null,
   "metadata": {},
   "outputs": [],
   "source": [
    "tb_filmes[(tb_filmes['notas'] > 8) | (tb_filmes['diretor'] == 'Ridley Scott')]"
   ]
  },
  {
   "cell_type": "markdown",
   "metadata": {},
   "source": [
    "### Combinando Máscaras, Filtros e `.loc`s\n",
    "\n",
    "Podemos utilizar as nossas máscaras dentro de indexações feitas utilizando o `.loc` (ou `.iloc`):"
   ]
  },
  {
   "cell_type": "code",
   "execution_count": null,
   "metadata": {
    "ExecuteTime": {
     "end_time": "2021-12-01T00:17:52.580433Z",
     "start_time": "2021-12-01T00:17:52.564455Z"
    }
   },
   "outputs": [],
   "source": [
    "tb_filmes.loc[filmes_rs_bons, 'elenco']"
   ]
  },
  {
   "cell_type": "code",
   "execution_count": null,
   "metadata": {},
   "outputs": [],
   "source": [
    "tb_filmes.loc[filmes_rs_ou_bons, ['elenco', 'diretor']]"
   ]
  },
  {
   "cell_type": "markdown",
   "metadata": {},
   "source": [
    "A última forma nos permite filtrar linhas ao mesmo tempo que selecionamos colunas específicas. Por fim, podemos utilizar o próprio índice de um `DataFrame` como origem de uma máscara:"
   ]
  },
  {
   "cell_type": "code",
   "execution_count": null,
   "metadata": {
    "ExecuteTime": {
     "end_time": "2021-12-01T00:21:15.142501Z",
     "start_time": "2021-12-01T00:21:15.126547Z"
    }
   },
   "outputs": [],
   "source": [
    "tb_filmes.index"
   ]
  },
  {
   "cell_type": "code",
   "execution_count": null,
   "metadata": {
    "ExecuteTime": {
     "end_time": "2021-12-01T00:21:35.241868Z",
     "start_time": "2021-12-01T00:21:35.235883Z"
    }
   },
   "outputs": [],
   "source": [
    "tb_filmes.loc[tb_filmes.index == 'Aliens']"
   ]
  }
 ],
 "metadata": {
  "hide_input": false,
  "kernelspec": {
   "display_name": "Python 3 (ipykernel)",
   "language": "python",
   "name": "python3"
  },
  "language_info": {
   "codemirror_mode": {
    "name": "ipython",
    "version": 3
   },
   "file_extension": ".py",
   "mimetype": "text/x-python",
   "name": "python",
   "nbconvert_exporter": "python",
   "pygments_lexer": "ipython3",
   "version": "3.9.13"
  },
  "toc": {
   "base_numbering": 1,
   "nav_menu": {
    "height": "298px",
    "width": "274px"
   },
   "number_sections": true,
   "sideBar": false,
   "skip_h1_title": false,
   "title_cell": "Table of Contents",
   "title_sidebar": "Contents",
   "toc_cell": false,
   "toc_position": {
    "height": "46.65625px",
    "left": "1093px",
    "top": "552px",
    "width": "158.6979217529297px"
   },
   "toc_section_display": false,
   "toc_window_display": true
  }
 },
 "nbformat": 4,
 "nbformat_minor": 4
}
