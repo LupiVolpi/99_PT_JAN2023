{
 "cells": [
  {
   "cell_type": "code",
   "execution_count": 1,
   "metadata": {
    "ExecuteTime": {
     "end_time": "2021-12-07T22:36:12.650706Z",
     "start_time": "2021-12-07T22:36:12.030178Z"
    }
   },
   "outputs": [],
   "source": [
    "import pandas as pd\n",
    "import numpy as np\n",
    "import re\n",
    "\n",
    "tb_veic = pd.read_csv(\"data/dados_veiculos.csv\")\n"
   ]
  },
  {
   "cell_type": "markdown",
   "metadata": {},
   "source": [
    "Na aula de hoje vamos continuar utilizando a tabela `dados_veículos.csv`. Além de carregá-la vamos realizar uma limpeza dos nomes das colunas:"
   ]
  },
  {
   "cell_type": "code",
   "execution_count": 2,
   "metadata": {
    "ExecuteTime": {
     "end_time": "2021-12-07T22:36:23.913361Z",
     "start_time": "2021-12-07T22:36:23.898401Z"
    }
   },
   "outputs": [],
   "source": [
    "pattern = r\"[^a-zA-Z0-9]\"\n",
    "tb_veic.columns = [re.sub(pattern, \"_\", column.lower()) for column in tb_veic.columns]\n"
   ]
  },
  {
   "cell_type": "markdown",
   "metadata": {},
   "source": [
    "Vamos utilizar o método `.info()` para ver o resultado:"
   ]
  },
  {
   "cell_type": "code",
   "execution_count": 3,
   "metadata": {
    "ExecuteTime": {
     "end_time": "2021-12-07T22:36:25.513036Z",
     "start_time": "2021-12-07T22:36:25.479559Z"
    }
   },
   "outputs": [
    {
     "name": "stdout",
     "output_type": "stream",
     "text": [
      "<class 'pandas.core.frame.DataFrame'>\n",
      "RangeIndex: 35952 entries, 0 to 35951\n",
      "Data columns (total 15 columns):\n",
      " #   Column                   Non-Null Count  Dtype  \n",
      "---  ------                   --------------  -----  \n",
      " 0   make                     35952 non-null  object \n",
      " 1   model                    35952 non-null  object \n",
      " 2   year                     35952 non-null  int64  \n",
      " 3   engine_displacement      35952 non-null  float64\n",
      " 4   cylinders                35952 non-null  float64\n",
      " 5   transmission             35952 non-null  object \n",
      " 6   drivetrain               35952 non-null  object \n",
      " 7   vehicle_class            35952 non-null  object \n",
      " 8   fuel_type                35952 non-null  object \n",
      " 9   fuel_barrels_year        35952 non-null  float64\n",
      " 10  city_mpg                 35952 non-null  int64  \n",
      " 11  highway_mpg              35952 non-null  int64  \n",
      " 12  combined_mpg             35952 non-null  int64  \n",
      " 13  co2_emission_grams_mile  35952 non-null  float64\n",
      " 14  fuel_cost_year           35952 non-null  int64  \n",
      "dtypes: float64(4), int64(5), object(6)\n",
      "memory usage: 4.1+ MB\n"
     ]
    }
   ],
   "source": [
    "tb_veic.info()\n"
   ]
  },
  {
   "cell_type": "markdown",
   "metadata": {},
   "source": [
    "# Data Manipulation - Group By\n",
    "\n",
    "- `.groupby()` é uma forma de **agregar** todos os resultados para cada chave única\n",
    "- Sempre que você faz uma **agregação**, o resultado final terá 1 linha para cada valor pelo qual você agregou, portanto, é obrigatório que se aplique uma função agregadora para que todos os valores sejam sumarizados em um único valor associado àquela chave.\n",
    "\n",
    "Por exemplo, se tivermos:\n",
    "\n",
    "Fruta | Quantidade\n",
    "-----|----:\n",
    "Laranja | 10\n",
    "Maçã | 10\n",
    "Abacate | 2\n",
    "Abacate | 1\n",
    "Melancia  | 1\n",
    "Laranja  | 4\n",
    "\n",
    "O resultado de um `.groupby` por 'Fruta' resultaria em 4 linhas\n",
    "\n",
    "Fruta | Função Agregadora\n",
    "----|-----\n",
    "Laranja | ?\n",
    "Maçã | ?\n",
    "Abacate | ?\n",
    "Melancia | ?\n",
    "\n",
    "O `?` representa o valor agregado. Temos, obrigatoriamente, que sumarizar os dados relacionados àquele registro em um único dado. Para isso, podemos fazer a média, soma, contagem, ou qualquer outra função agregadora.\n",
    "\n",
    "Fruta | soma(Quantidade)\n",
    "----|----:\n",
    "Laranja | 14\n",
    "Maçã | 10\n",
    "Abacate | 3\n",
    "Melancia | 1\n",
    "\n",
    "**Funções agregadora/Métodos**\n",
    "\n",
    "- `.mean()`\n",
    "- `.median()`\n",
    "- `.max()`\n",
    "- `.min()`\n",
    "- `.sum()`\n",
    "- `.count()`\n",
    "- `.describe()`\n",
    "- `.agg()`\n",
    "- Uma função sua!"
   ]
  },
  {
   "cell_type": "markdown",
   "metadata": {},
   "source": [
    "## Chave Única e Função Única\n",
    "\n",
    "Vamos começar com o tipo mais simples de agregação: utilizando apenas uma coluna como **chave** e uma função como **agregação**. Vamos começar analisando a média de nossas variáveis numéricas, utilizando como chave a coluna `drivetrain` (*transmissão*).\n",
    "\n",
    "Para isso utilizaremos o método `.groupby()` - um método dos DataFrames. Para utilizarmos este método, vamos analisar sua sintaxe:\n",
    "\n",
    "* `tb_veic` - tabela que vamos agregar\n",
    "* `.groupby(by = 'drivetrain')` - método para criar os grupos de **chaves**, especificada no argumento `by`\n",
    "* `.mean()` - método para agregar as variáveis restantes (que não compõe a chave), neste caso através da média.\n",
    "\n",
    "Juntando tudo temos:"
   ]
  },
  {
   "cell_type": "code",
   "execution_count": 5,
   "metadata": {
    "ExecuteTime": {
     "end_time": "2021-12-07T22:39:26.934576Z",
     "start_time": "2021-12-07T22:39:26.885731Z"
    }
   },
   "outputs": [
    {
     "name": "stderr",
     "output_type": "stream",
     "text": [
      "C:\\Users\\lvgui\\AppData\\Local\\Temp/ipykernel_22660/4153693092.py:1: FutureWarning: The default value of numeric_only in DataFrameGroupBy.mean is deprecated. In a future version, numeric_only will default to False. Either specify numeric_only or select only columns which should be valid for the function.\n",
      "  tb_veic.groupby(by=\"drivetrain\").mean()\n"
     ]
    },
    {
     "data": {
      "text/plain": "                                   year  engine_displacement  cylinders  \\\ndrivetrain                                                                \n2-Wheel Drive               1984.434988             3.958392   6.156028   \n2-Wheel Drive, Front        2017.000000             2.000000   4.000000   \n4-Wheel Drive               2013.137996             4.022306   6.364839   \n4-Wheel or All-Wheel Drive  1998.014916             3.746917   6.143626   \nAll-Wheel Drive             2013.678274             3.299019   5.980383   \nFront-Wheel Drive           2000.290632             2.353657   4.608172   \nPart-time 4-Wheel Drive     2013.816456             4.543671   7.113924   \nRear-Wheel Drive            1999.801037             4.053245   6.643486   \n\n                            fuel_barrels_year   city_mpg  highway_mpg  \\\ndrivetrain                                                              \n2-Wheel Drive                       21.069467  15.624113    19.340426   \n2-Wheel Drive, Front                11.771786  25.000000    33.000000   \n4-Wheel Drive                       17.942952  16.913989    22.741966   \n4-Wheel or All-Wheel Drive          20.484720  15.035061    19.633708   \nAll-Wheel Drive                     16.349672  18.312898    25.597352   \nFront-Wheel Drive                   14.266654  21.174563    28.616759   \nPart-time 4-Wheel Drive             20.628218  14.620253    19.088608   \nRear-Wheel Drive                    19.587486  15.422049    21.225680   \n\n                            combined_mpg  co2_emission_grams_mile  \\\ndrivetrain                                                          \n2-Wheel Drive                  17.009456               567.245856   \n2-Wheel Drive, Front           28.000000               315.000000   \n4-Wheel Drive                  19.077505               483.555289   \n4-Wheel or All-Wheel Drive     16.744733               552.307814   \nAll-Wheel Drive                20.930358               439.612624   \nFront-Wheel Drive              23.912220               385.094288   \nPart-time 4-Wheel Drive        16.272152               556.205134   \nRear-Wheel Drive               17.526481               529.438424   \n\n                            fuel_cost_year  \ndrivetrain                                  \n2-Wheel Drive                  2115.011820  \n2-Wheel Drive, Front           1450.000000  \n4-Wheel Drive                  1971.644612  \n4-Wheel or All-Wheel Drive     2165.023835  \nAll-Wheel Drive                1863.217263  \nFront-Wheel Drive              1503.131708  \nPart-time 4-Wheel Drive        2131.645570  \nRear-Wheel Drive               2140.397611  ",
      "text/html": "<div>\n<style scoped>\n    .dataframe tbody tr th:only-of-type {\n        vertical-align: middle;\n    }\n\n    .dataframe tbody tr th {\n        vertical-align: top;\n    }\n\n    .dataframe thead th {\n        text-align: right;\n    }\n</style>\n<table border=\"1\" class=\"dataframe\">\n  <thead>\n    <tr style=\"text-align: right;\">\n      <th></th>\n      <th>year</th>\n      <th>engine_displacement</th>\n      <th>cylinders</th>\n      <th>fuel_barrels_year</th>\n      <th>city_mpg</th>\n      <th>highway_mpg</th>\n      <th>combined_mpg</th>\n      <th>co2_emission_grams_mile</th>\n      <th>fuel_cost_year</th>\n    </tr>\n    <tr>\n      <th>drivetrain</th>\n      <th></th>\n      <th></th>\n      <th></th>\n      <th></th>\n      <th></th>\n      <th></th>\n      <th></th>\n      <th></th>\n      <th></th>\n    </tr>\n  </thead>\n  <tbody>\n    <tr>\n      <th>2-Wheel Drive</th>\n      <td>1984.434988</td>\n      <td>3.958392</td>\n      <td>6.156028</td>\n      <td>21.069467</td>\n      <td>15.624113</td>\n      <td>19.340426</td>\n      <td>17.009456</td>\n      <td>567.245856</td>\n      <td>2115.011820</td>\n    </tr>\n    <tr>\n      <th>2-Wheel Drive, Front</th>\n      <td>2017.000000</td>\n      <td>2.000000</td>\n      <td>4.000000</td>\n      <td>11.771786</td>\n      <td>25.000000</td>\n      <td>33.000000</td>\n      <td>28.000000</td>\n      <td>315.000000</td>\n      <td>1450.000000</td>\n    </tr>\n    <tr>\n      <th>4-Wheel Drive</th>\n      <td>2013.137996</td>\n      <td>4.022306</td>\n      <td>6.364839</td>\n      <td>17.942952</td>\n      <td>16.913989</td>\n      <td>22.741966</td>\n      <td>19.077505</td>\n      <td>483.555289</td>\n      <td>1971.644612</td>\n    </tr>\n    <tr>\n      <th>4-Wheel or All-Wheel Drive</th>\n      <td>1998.014916</td>\n      <td>3.746917</td>\n      <td>6.143626</td>\n      <td>20.484720</td>\n      <td>15.035061</td>\n      <td>19.633708</td>\n      <td>16.744733</td>\n      <td>552.307814</td>\n      <td>2165.023835</td>\n    </tr>\n    <tr>\n      <th>All-Wheel Drive</th>\n      <td>2013.678274</td>\n      <td>3.299019</td>\n      <td>5.980383</td>\n      <td>16.349672</td>\n      <td>18.312898</td>\n      <td>25.597352</td>\n      <td>20.930358</td>\n      <td>439.612624</td>\n      <td>1863.217263</td>\n    </tr>\n    <tr>\n      <th>Front-Wheel Drive</th>\n      <td>2000.290632</td>\n      <td>2.353657</td>\n      <td>4.608172</td>\n      <td>14.266654</td>\n      <td>21.174563</td>\n      <td>28.616759</td>\n      <td>23.912220</td>\n      <td>385.094288</td>\n      <td>1503.131708</td>\n    </tr>\n    <tr>\n      <th>Part-time 4-Wheel Drive</th>\n      <td>2013.816456</td>\n      <td>4.543671</td>\n      <td>7.113924</td>\n      <td>20.628218</td>\n      <td>14.620253</td>\n      <td>19.088608</td>\n      <td>16.272152</td>\n      <td>556.205134</td>\n      <td>2131.645570</td>\n    </tr>\n    <tr>\n      <th>Rear-Wheel Drive</th>\n      <td>1999.801037</td>\n      <td>4.053245</td>\n      <td>6.643486</td>\n      <td>19.587486</td>\n      <td>15.422049</td>\n      <td>21.225680</td>\n      <td>17.526481</td>\n      <td>529.438424</td>\n      <td>2140.397611</td>\n    </tr>\n  </tbody>\n</table>\n</div>"
     },
     "execution_count": 5,
     "metadata": {},
     "output_type": "execute_result"
    }
   ],
   "source": [
    "tb_veic.groupby(by=\"drivetrain\").mean()\n"
   ]
  },
  {
   "cell_type": "markdown",
   "metadata": {},
   "source": [
    "Vamos testar a mesma **chave** mas utilizando o método de **agregação** `.count()`, que calcula o # de linhas com valores não-nulos."
   ]
  },
  {
   "cell_type": "code",
   "execution_count": 6,
   "metadata": {
    "ExecuteTime": {
     "end_time": "2021-12-07T22:41:10.770209Z",
     "start_time": "2021-12-07T22:41:10.725329Z"
    }
   },
   "outputs": [
    {
     "data": {
      "text/plain": "                             make  model   year  engine_displacement  \\\ndrivetrain                                                             \n2-Wheel Drive                 423    423    423                  423   \n2-Wheel Drive, Front            1      1      1                    1   \n4-Wheel Drive                1058   1058   1058                 1058   \n4-Wheel or All-Wheel Drive   6503   6503   6503                 6503   \nAll-Wheel Drive              2039   2039   2039                 2039   \nFront-Wheel Drive           13044  13044  13044                13044   \nPart-time 4-Wheel Drive       158    158    158                  158   \nRear-Wheel Drive            12726  12726  12726                12726   \n\n                            cylinders  transmission  vehicle_class  fuel_type  \\\ndrivetrain                                                                      \n2-Wheel Drive                     423           423            423        423   \n2-Wheel Drive, Front                1             1              1          1   \n4-Wheel Drive                    1058          1058           1058       1058   \n4-Wheel or All-Wheel Drive       6503          6503           6503       6503   \nAll-Wheel Drive                  2039          2039           2039       2039   \nFront-Wheel Drive               13044         13044          13044      13044   \nPart-time 4-Wheel Drive           158           158            158        158   \nRear-Wheel Drive                12726         12726          12726      12726   \n\n                            fuel_barrels_year  city_mpg  highway_mpg  \\\ndrivetrain                                                             \n2-Wheel Drive                             423       423          423   \n2-Wheel Drive, Front                        1         1            1   \n4-Wheel Drive                            1058      1058         1058   \n4-Wheel or All-Wheel Drive               6503      6503         6503   \nAll-Wheel Drive                          2039      2039         2039   \nFront-Wheel Drive                       13044     13044        13044   \nPart-time 4-Wheel Drive                   158       158          158   \nRear-Wheel Drive                        12726     12726        12726   \n\n                            combined_mpg  co2_emission_grams_mile  \\\ndrivetrain                                                          \n2-Wheel Drive                        423                      423   \n2-Wheel Drive, Front                   1                        1   \n4-Wheel Drive                       1058                     1058   \n4-Wheel or All-Wheel Drive          6503                     6503   \nAll-Wheel Drive                     2039                     2039   \nFront-Wheel Drive                  13044                    13044   \nPart-time 4-Wheel Drive              158                      158   \nRear-Wheel Drive                   12726                    12726   \n\n                            fuel_cost_year  \ndrivetrain                                  \n2-Wheel Drive                          423  \n2-Wheel Drive, Front                     1  \n4-Wheel Drive                         1058  \n4-Wheel or All-Wheel Drive            6503  \nAll-Wheel Drive                       2039  \nFront-Wheel Drive                    13044  \nPart-time 4-Wheel Drive                158  \nRear-Wheel Drive                     12726  ",
      "text/html": "<div>\n<style scoped>\n    .dataframe tbody tr th:only-of-type {\n        vertical-align: middle;\n    }\n\n    .dataframe tbody tr th {\n        vertical-align: top;\n    }\n\n    .dataframe thead th {\n        text-align: right;\n    }\n</style>\n<table border=\"1\" class=\"dataframe\">\n  <thead>\n    <tr style=\"text-align: right;\">\n      <th></th>\n      <th>make</th>\n      <th>model</th>\n      <th>year</th>\n      <th>engine_displacement</th>\n      <th>cylinders</th>\n      <th>transmission</th>\n      <th>vehicle_class</th>\n      <th>fuel_type</th>\n      <th>fuel_barrels_year</th>\n      <th>city_mpg</th>\n      <th>highway_mpg</th>\n      <th>combined_mpg</th>\n      <th>co2_emission_grams_mile</th>\n      <th>fuel_cost_year</th>\n    </tr>\n    <tr>\n      <th>drivetrain</th>\n      <th></th>\n      <th></th>\n      <th></th>\n      <th></th>\n      <th></th>\n      <th></th>\n      <th></th>\n      <th></th>\n      <th></th>\n      <th></th>\n      <th></th>\n      <th></th>\n      <th></th>\n      <th></th>\n    </tr>\n  </thead>\n  <tbody>\n    <tr>\n      <th>2-Wheel Drive</th>\n      <td>423</td>\n      <td>423</td>\n      <td>423</td>\n      <td>423</td>\n      <td>423</td>\n      <td>423</td>\n      <td>423</td>\n      <td>423</td>\n      <td>423</td>\n      <td>423</td>\n      <td>423</td>\n      <td>423</td>\n      <td>423</td>\n      <td>423</td>\n    </tr>\n    <tr>\n      <th>2-Wheel Drive, Front</th>\n      <td>1</td>\n      <td>1</td>\n      <td>1</td>\n      <td>1</td>\n      <td>1</td>\n      <td>1</td>\n      <td>1</td>\n      <td>1</td>\n      <td>1</td>\n      <td>1</td>\n      <td>1</td>\n      <td>1</td>\n      <td>1</td>\n      <td>1</td>\n    </tr>\n    <tr>\n      <th>4-Wheel Drive</th>\n      <td>1058</td>\n      <td>1058</td>\n      <td>1058</td>\n      <td>1058</td>\n      <td>1058</td>\n      <td>1058</td>\n      <td>1058</td>\n      <td>1058</td>\n      <td>1058</td>\n      <td>1058</td>\n      <td>1058</td>\n      <td>1058</td>\n      <td>1058</td>\n      <td>1058</td>\n    </tr>\n    <tr>\n      <th>4-Wheel or All-Wheel Drive</th>\n      <td>6503</td>\n      <td>6503</td>\n      <td>6503</td>\n      <td>6503</td>\n      <td>6503</td>\n      <td>6503</td>\n      <td>6503</td>\n      <td>6503</td>\n      <td>6503</td>\n      <td>6503</td>\n      <td>6503</td>\n      <td>6503</td>\n      <td>6503</td>\n      <td>6503</td>\n    </tr>\n    <tr>\n      <th>All-Wheel Drive</th>\n      <td>2039</td>\n      <td>2039</td>\n      <td>2039</td>\n      <td>2039</td>\n      <td>2039</td>\n      <td>2039</td>\n      <td>2039</td>\n      <td>2039</td>\n      <td>2039</td>\n      <td>2039</td>\n      <td>2039</td>\n      <td>2039</td>\n      <td>2039</td>\n      <td>2039</td>\n    </tr>\n    <tr>\n      <th>Front-Wheel Drive</th>\n      <td>13044</td>\n      <td>13044</td>\n      <td>13044</td>\n      <td>13044</td>\n      <td>13044</td>\n      <td>13044</td>\n      <td>13044</td>\n      <td>13044</td>\n      <td>13044</td>\n      <td>13044</td>\n      <td>13044</td>\n      <td>13044</td>\n      <td>13044</td>\n      <td>13044</td>\n    </tr>\n    <tr>\n      <th>Part-time 4-Wheel Drive</th>\n      <td>158</td>\n      <td>158</td>\n      <td>158</td>\n      <td>158</td>\n      <td>158</td>\n      <td>158</td>\n      <td>158</td>\n      <td>158</td>\n      <td>158</td>\n      <td>158</td>\n      <td>158</td>\n      <td>158</td>\n      <td>158</td>\n      <td>158</td>\n    </tr>\n    <tr>\n      <th>Rear-Wheel Drive</th>\n      <td>12726</td>\n      <td>12726</td>\n      <td>12726</td>\n      <td>12726</td>\n      <td>12726</td>\n      <td>12726</td>\n      <td>12726</td>\n      <td>12726</td>\n      <td>12726</td>\n      <td>12726</td>\n      <td>12726</td>\n      <td>12726</td>\n      <td>12726</td>\n      <td>12726</td>\n    </tr>\n  </tbody>\n</table>\n</div>"
     },
     "execution_count": 6,
     "metadata": {},
     "output_type": "execute_result"
    }
   ],
   "source": [
    "tb_veic.groupby(by=\"drivetrain\").count()\n"
   ]
  },
  {
   "cell_type": "markdown",
   "metadata": {},
   "source": [
    "Podemos guardar o resultado de uma agregação em uma variável: o resultado (após aplicação da função de agregação) é um `DataFrame` onde os índices (*nome das linhas*) são os valores da chave e cada coluna é o resultado da aplicação da função de agregação."
   ]
  },
  {
   "cell_type": "code",
   "execution_count": 7,
   "metadata": {
    "ExecuteTime": {
     "end_time": "2021-12-07T22:42:34.326664Z",
     "start_time": "2021-12-07T22:42:34.293752Z"
    }
   },
   "outputs": [
    {
     "data": {
      "text/plain": "pandas.core.frame.DataFrame"
     },
     "execution_count": 7,
     "metadata": {},
     "output_type": "execute_result"
    }
   ],
   "source": [
    "tb_agg_drivetrain = tb_veic.groupby(by=\"drivetrain\").count()\n",
    "type(tb_agg_drivetrain)\n"
   ]
  },
  {
   "cell_type": "code",
   "execution_count": 8,
   "metadata": {},
   "outputs": [
    {
     "data": {
      "text/plain": "                            make  model  year  engine_displacement  cylinders  \\\ndrivetrain                                                                      \n2-Wheel Drive                423    423   423                  423        423   \n2-Wheel Drive, Front           1      1     1                    1          1   \n4-Wheel Drive               1058   1058  1058                 1058       1058   \n4-Wheel or All-Wheel Drive  6503   6503  6503                 6503       6503   \nAll-Wheel Drive             2039   2039  2039                 2039       2039   \n\n                            transmission  vehicle_class  fuel_type  \\\ndrivetrain                                                           \n2-Wheel Drive                        423            423        423   \n2-Wheel Drive, Front                   1              1          1   \n4-Wheel Drive                       1058           1058       1058   \n4-Wheel or All-Wheel Drive          6503           6503       6503   \nAll-Wheel Drive                     2039           2039       2039   \n\n                            fuel_barrels_year  city_mpg  highway_mpg  \\\ndrivetrain                                                             \n2-Wheel Drive                             423       423          423   \n2-Wheel Drive, Front                        1         1            1   \n4-Wheel Drive                            1058      1058         1058   \n4-Wheel or All-Wheel Drive               6503      6503         6503   \nAll-Wheel Drive                          2039      2039         2039   \n\n                            combined_mpg  co2_emission_grams_mile  \\\ndrivetrain                                                          \n2-Wheel Drive                        423                      423   \n2-Wheel Drive, Front                   1                        1   \n4-Wheel Drive                       1058                     1058   \n4-Wheel or All-Wheel Drive          6503                     6503   \nAll-Wheel Drive                     2039                     2039   \n\n                            fuel_cost_year  \ndrivetrain                                  \n2-Wheel Drive                          423  \n2-Wheel Drive, Front                     1  \n4-Wheel Drive                         1058  \n4-Wheel or All-Wheel Drive            6503  \nAll-Wheel Drive                       2039  ",
      "text/html": "<div>\n<style scoped>\n    .dataframe tbody tr th:only-of-type {\n        vertical-align: middle;\n    }\n\n    .dataframe tbody tr th {\n        vertical-align: top;\n    }\n\n    .dataframe thead th {\n        text-align: right;\n    }\n</style>\n<table border=\"1\" class=\"dataframe\">\n  <thead>\n    <tr style=\"text-align: right;\">\n      <th></th>\n      <th>make</th>\n      <th>model</th>\n      <th>year</th>\n      <th>engine_displacement</th>\n      <th>cylinders</th>\n      <th>transmission</th>\n      <th>vehicle_class</th>\n      <th>fuel_type</th>\n      <th>fuel_barrels_year</th>\n      <th>city_mpg</th>\n      <th>highway_mpg</th>\n      <th>combined_mpg</th>\n      <th>co2_emission_grams_mile</th>\n      <th>fuel_cost_year</th>\n    </tr>\n    <tr>\n      <th>drivetrain</th>\n      <th></th>\n      <th></th>\n      <th></th>\n      <th></th>\n      <th></th>\n      <th></th>\n      <th></th>\n      <th></th>\n      <th></th>\n      <th></th>\n      <th></th>\n      <th></th>\n      <th></th>\n      <th></th>\n    </tr>\n  </thead>\n  <tbody>\n    <tr>\n      <th>2-Wheel Drive</th>\n      <td>423</td>\n      <td>423</td>\n      <td>423</td>\n      <td>423</td>\n      <td>423</td>\n      <td>423</td>\n      <td>423</td>\n      <td>423</td>\n      <td>423</td>\n      <td>423</td>\n      <td>423</td>\n      <td>423</td>\n      <td>423</td>\n      <td>423</td>\n    </tr>\n    <tr>\n      <th>2-Wheel Drive, Front</th>\n      <td>1</td>\n      <td>1</td>\n      <td>1</td>\n      <td>1</td>\n      <td>1</td>\n      <td>1</td>\n      <td>1</td>\n      <td>1</td>\n      <td>1</td>\n      <td>1</td>\n      <td>1</td>\n      <td>1</td>\n      <td>1</td>\n      <td>1</td>\n    </tr>\n    <tr>\n      <th>4-Wheel Drive</th>\n      <td>1058</td>\n      <td>1058</td>\n      <td>1058</td>\n      <td>1058</td>\n      <td>1058</td>\n      <td>1058</td>\n      <td>1058</td>\n      <td>1058</td>\n      <td>1058</td>\n      <td>1058</td>\n      <td>1058</td>\n      <td>1058</td>\n      <td>1058</td>\n      <td>1058</td>\n    </tr>\n    <tr>\n      <th>4-Wheel or All-Wheel Drive</th>\n      <td>6503</td>\n      <td>6503</td>\n      <td>6503</td>\n      <td>6503</td>\n      <td>6503</td>\n      <td>6503</td>\n      <td>6503</td>\n      <td>6503</td>\n      <td>6503</td>\n      <td>6503</td>\n      <td>6503</td>\n      <td>6503</td>\n      <td>6503</td>\n      <td>6503</td>\n    </tr>\n    <tr>\n      <th>All-Wheel Drive</th>\n      <td>2039</td>\n      <td>2039</td>\n      <td>2039</td>\n      <td>2039</td>\n      <td>2039</td>\n      <td>2039</td>\n      <td>2039</td>\n      <td>2039</td>\n      <td>2039</td>\n      <td>2039</td>\n      <td>2039</td>\n      <td>2039</td>\n      <td>2039</td>\n      <td>2039</td>\n    </tr>\n  </tbody>\n</table>\n</div>"
     },
     "execution_count": 8,
     "metadata": {},
     "output_type": "execute_result"
    }
   ],
   "source": [
    "tb_agg_drivetrain.head()\n"
   ]
  },
  {
   "cell_type": "code",
   "execution_count": 9,
   "metadata": {
    "ExecuteTime": {
     "end_time": "2021-12-07T22:44:49.660780Z",
     "start_time": "2021-12-07T22:44:49.641833Z"
    }
   },
   "outputs": [
    {
     "data": {
      "text/plain": "make                       6503\nmodel                      6503\nyear                       6503\nengine_displacement        6503\ncylinders                  6503\ntransmission               6503\nvehicle_class              6503\nfuel_type                  6503\nfuel_barrels_year          6503\ncity_mpg                   6503\nhighway_mpg                6503\ncombined_mpg               6503\nco2_emission_grams_mile    6503\nfuel_cost_year             6503\nName: 4-Wheel or All-Wheel Drive, dtype: int64"
     },
     "execution_count": 9,
     "metadata": {},
     "output_type": "execute_result"
    }
   ],
   "source": [
    "tb_agg_drivetrain.loc[\"4-Wheel or All-Wheel Drive\", :]\n"
   ]
  },
  {
   "cell_type": "markdown",
   "metadata": {},
   "source": [
    "### Agregando apenas uma variável\n",
    "\n",
    "No exemplo acima, ao utilizarmos os métodos `.mean()` e `.median()` recebemos de volta uma agregação de todas as variáveis numéricas (no caso, todas as variáveis para as quais estes métodos funcionam).\n",
    "\n",
    "No entanto, muitas vezes queremos agregar apenas uma (ou algumas) variáveis. Vamos ver como fazer isso de uma maneira simples, calculando o número de ciclindros médio por tipo de tração:"
   ]
  },
  {
   "cell_type": "code",
   "execution_count": 16,
   "metadata": {},
   "outputs": [
    {
     "name": "stdout",
     "output_type": "stream",
     "text": [
      "<class 'pandas.core.series.Series'>\n"
     ]
    },
    {
     "data": {
      "text/plain": "drivetrain\n2-Wheel Drive                 6.156028\n2-Wheel Drive, Front          4.000000\n4-Wheel Drive                 6.364839\n4-Wheel or All-Wheel Drive    6.143626\nAll-Wheel Drive               5.980383\nFront-Wheel Drive             4.608172\nPart-time 4-Wheel Drive       7.113924\nRear-Wheel Drive              6.643486\nName: cylinders, dtype: float64"
     },
     "execution_count": 16,
     "metadata": {},
     "output_type": "execute_result"
    }
   ],
   "source": [
    "print(type(tb_veic.groupby(by=\"drivetrain\")[\"cylinders\"].mean()))\n",
    "tb_veic.groupby(by=\"drivetrain\")[\"cylinders\"].mean()"
   ]
  },
  {
   "cell_type": "markdown",
   "metadata": {},
   "source": [
    "Um método muito utilizado após a agregação é o `.reset_index()` que transforma o índice da chave de volta em coluna:"
   ]
  },
  {
   "cell_type": "code",
   "execution_count": 18,
   "metadata": {},
   "outputs": [
    {
     "name": "stdout",
     "output_type": "stream",
     "text": [
      "<class 'pandas.core.frame.DataFrame'>\n"
     ]
    },
    {
     "data": {
      "text/plain": "                   drivetrain  cylinders\n0               2-Wheel Drive   6.156028\n1        2-Wheel Drive, Front   4.000000\n2               4-Wheel Drive   6.364839\n3  4-Wheel or All-Wheel Drive   6.143626\n4             All-Wheel Drive   5.980383\n5           Front-Wheel Drive   4.608172\n6     Part-time 4-Wheel Drive   7.113924\n7            Rear-Wheel Drive   6.643486",
      "text/html": "<div>\n<style scoped>\n    .dataframe tbody tr th:only-of-type {\n        vertical-align: middle;\n    }\n\n    .dataframe tbody tr th {\n        vertical-align: top;\n    }\n\n    .dataframe thead th {\n        text-align: right;\n    }\n</style>\n<table border=\"1\" class=\"dataframe\">\n  <thead>\n    <tr style=\"text-align: right;\">\n      <th></th>\n      <th>drivetrain</th>\n      <th>cylinders</th>\n    </tr>\n  </thead>\n  <tbody>\n    <tr>\n      <th>0</th>\n      <td>2-Wheel Drive</td>\n      <td>6.156028</td>\n    </tr>\n    <tr>\n      <th>1</th>\n      <td>2-Wheel Drive, Front</td>\n      <td>4.000000</td>\n    </tr>\n    <tr>\n      <th>2</th>\n      <td>4-Wheel Drive</td>\n      <td>6.364839</td>\n    </tr>\n    <tr>\n      <th>3</th>\n      <td>4-Wheel or All-Wheel Drive</td>\n      <td>6.143626</td>\n    </tr>\n    <tr>\n      <th>4</th>\n      <td>All-Wheel Drive</td>\n      <td>5.980383</td>\n    </tr>\n    <tr>\n      <th>5</th>\n      <td>Front-Wheel Drive</td>\n      <td>4.608172</td>\n    </tr>\n    <tr>\n      <th>6</th>\n      <td>Part-time 4-Wheel Drive</td>\n      <td>7.113924</td>\n    </tr>\n    <tr>\n      <th>7</th>\n      <td>Rear-Wheel Drive</td>\n      <td>6.643486</td>\n    </tr>\n  </tbody>\n</table>\n</div>"
     },
     "execution_count": 18,
     "metadata": {},
     "output_type": "execute_result"
    }
   ],
   "source": [
    "print(type(tb_veic.groupby(by=\"drivetrain\")[\"cylinders\"].mean().reset_index()))\n",
    "tb_veic.groupby(by=\"drivetrain\")[\"cylinders\"].mean().reset_index()"
   ]
  },
  {
   "cell_type": "markdown",
   "metadata": {},
   "source": [
    "Podemos utilizar um iterável no lugar do string `\"cylinders\"` para calcular a média de múltiplas variáveis:"
   ]
  },
  {
   "cell_type": "code",
   "execution_count": 19,
   "metadata": {},
   "outputs": [
    {
     "data": {
      "text/plain": "                   drivetrain  cylinders   city_mpg\n0               2-Wheel Drive   6.156028  15.624113\n1        2-Wheel Drive, Front   4.000000  25.000000\n2               4-Wheel Drive   6.364839  16.913989\n3  4-Wheel or All-Wheel Drive   6.143626  15.035061\n4             All-Wheel Drive   5.980383  18.312898\n5           Front-Wheel Drive   4.608172  21.174563\n6     Part-time 4-Wheel Drive   7.113924  14.620253\n7            Rear-Wheel Drive   6.643486  15.422049",
      "text/html": "<div>\n<style scoped>\n    .dataframe tbody tr th:only-of-type {\n        vertical-align: middle;\n    }\n\n    .dataframe tbody tr th {\n        vertical-align: top;\n    }\n\n    .dataframe thead th {\n        text-align: right;\n    }\n</style>\n<table border=\"1\" class=\"dataframe\">\n  <thead>\n    <tr style=\"text-align: right;\">\n      <th></th>\n      <th>drivetrain</th>\n      <th>cylinders</th>\n      <th>city_mpg</th>\n    </tr>\n  </thead>\n  <tbody>\n    <tr>\n      <th>0</th>\n      <td>2-Wheel Drive</td>\n      <td>6.156028</td>\n      <td>15.624113</td>\n    </tr>\n    <tr>\n      <th>1</th>\n      <td>2-Wheel Drive, Front</td>\n      <td>4.000000</td>\n      <td>25.000000</td>\n    </tr>\n    <tr>\n      <th>2</th>\n      <td>4-Wheel Drive</td>\n      <td>6.364839</td>\n      <td>16.913989</td>\n    </tr>\n    <tr>\n      <th>3</th>\n      <td>4-Wheel or All-Wheel Drive</td>\n      <td>6.143626</td>\n      <td>15.035061</td>\n    </tr>\n    <tr>\n      <th>4</th>\n      <td>All-Wheel Drive</td>\n      <td>5.980383</td>\n      <td>18.312898</td>\n    </tr>\n    <tr>\n      <th>5</th>\n      <td>Front-Wheel Drive</td>\n      <td>4.608172</td>\n      <td>21.174563</td>\n    </tr>\n    <tr>\n      <th>6</th>\n      <td>Part-time 4-Wheel Drive</td>\n      <td>7.113924</td>\n      <td>14.620253</td>\n    </tr>\n    <tr>\n      <th>7</th>\n      <td>Rear-Wheel Drive</td>\n      <td>6.643486</td>\n      <td>15.422049</td>\n    </tr>\n  </tbody>\n</table>\n</div>"
     },
     "execution_count": 19,
     "metadata": {},
     "output_type": "execute_result"
    }
   ],
   "source": [
    "lista_vars = [\"cylinders\", \"city_mpg\"]\n",
    "tb_veic.groupby(by=\"drivetrain\")[lista_vars].mean().reset_index()"
   ]
  },
  {
   "cell_type": "markdown",
   "metadata": {},
   "source": [
    "## Chave Múltipla e Função Única\n",
    "\n",
    "As chaves especificadas no *argumento* `by = ` do método `.groupby()` não precisa ser um `string`! Podemos utilizar um iterável para criar uma chave combinada. Por exemplo, queremos analisar a média das variáveis `city_mpg` (eficiência urbana do automóvel) e `highway_mpg` (eficiência na estrada) para as diferentes combinações de tração, `drivetrain`, e # de cilíndros, `cylinders`:"
   ]
  },
  {
   "cell_type": "code",
   "execution_count": 20,
   "metadata": {},
   "outputs": [
    {
     "data": {
      "text/plain": "                                       city_mpg  highway_mpg\ndrivetrain                 cylinders                        \n2-Wheel Drive              4.0        20.437500    24.710938\n                           6.0        14.291045    18.126866\n                           8.0        12.906832    16.080745\n2-Wheel Drive, Front       4.0        25.000000    33.000000\n4-Wheel Drive              4.0        21.252475    26.856436\n                           5.0        15.909091    21.000000\n                           6.0        17.439535    23.753488\n                           8.0        14.248139    19.719603\n                           12.0       11.000000    13.000000\n4-Wheel or All-Wheel Drive 3.0        25.545455    29.363636\n                           4.0        18.540574    23.089263\n                           5.0        16.041420    22.337278\n                           6.0        14.896693    19.773690\n                           8.0        12.401130    16.468927\n                           10.0       11.666667    17.666667\n                           12.0        9.431373    14.843137\n                           16.0        8.000000    14.000000\nAll-Wheel Drive            3.0        28.000000    29.000000\n                           4.0        21.753943    29.096215\n                           5.0        19.473684    27.473684\n                           6.0        17.987207    25.321962\n                           8.0        14.699405    21.773810\n                           10.0       12.808511    20.042553\n                           12.0       11.303571    18.535714\n                           16.0        8.000000    14.833333\nFront-Wheel Drive          3.0        34.760479    41.371257\n                           4.0        22.736087    30.124502\n                           5.0        18.557604    25.976959\n                           6.0        17.230239    24.840759\n                           8.0        14.779661    22.423729\nPart-time 4-Wheel Drive    4.0        18.200000    21.000000\n                           6.0        16.015625    20.703125\n                           8.0        13.104478    17.582090\n                           12.0       11.166667    16.500000\nRear-Wheel Drive           2.0        17.000000    22.937500\n                           3.0        33.300000    39.300000\n                           4.0        19.036235    24.673882\n                           5.0        17.392405    22.974684\n                           6.0        16.125870    22.254723\n                           8.0        13.483187    18.992460\n                           10.0       10.934211    17.605263\n                           12.0       11.002262    17.038462",
      "text/html": "<div>\n<style scoped>\n    .dataframe tbody tr th:only-of-type {\n        vertical-align: middle;\n    }\n\n    .dataframe tbody tr th {\n        vertical-align: top;\n    }\n\n    .dataframe thead th {\n        text-align: right;\n    }\n</style>\n<table border=\"1\" class=\"dataframe\">\n  <thead>\n    <tr style=\"text-align: right;\">\n      <th></th>\n      <th></th>\n      <th>city_mpg</th>\n      <th>highway_mpg</th>\n    </tr>\n    <tr>\n      <th>drivetrain</th>\n      <th>cylinders</th>\n      <th></th>\n      <th></th>\n    </tr>\n  </thead>\n  <tbody>\n    <tr>\n      <th rowspan=\"3\" valign=\"top\">2-Wheel Drive</th>\n      <th>4.0</th>\n      <td>20.437500</td>\n      <td>24.710938</td>\n    </tr>\n    <tr>\n      <th>6.0</th>\n      <td>14.291045</td>\n      <td>18.126866</td>\n    </tr>\n    <tr>\n      <th>8.0</th>\n      <td>12.906832</td>\n      <td>16.080745</td>\n    </tr>\n    <tr>\n      <th>2-Wheel Drive, Front</th>\n      <th>4.0</th>\n      <td>25.000000</td>\n      <td>33.000000</td>\n    </tr>\n    <tr>\n      <th rowspan=\"5\" valign=\"top\">4-Wheel Drive</th>\n      <th>4.0</th>\n      <td>21.252475</td>\n      <td>26.856436</td>\n    </tr>\n    <tr>\n      <th>5.0</th>\n      <td>15.909091</td>\n      <td>21.000000</td>\n    </tr>\n    <tr>\n      <th>6.0</th>\n      <td>17.439535</td>\n      <td>23.753488</td>\n    </tr>\n    <tr>\n      <th>8.0</th>\n      <td>14.248139</td>\n      <td>19.719603</td>\n    </tr>\n    <tr>\n      <th>12.0</th>\n      <td>11.000000</td>\n      <td>13.000000</td>\n    </tr>\n    <tr>\n      <th rowspan=\"8\" valign=\"top\">4-Wheel or All-Wheel Drive</th>\n      <th>3.0</th>\n      <td>25.545455</td>\n      <td>29.363636</td>\n    </tr>\n    <tr>\n      <th>4.0</th>\n      <td>18.540574</td>\n      <td>23.089263</td>\n    </tr>\n    <tr>\n      <th>5.0</th>\n      <td>16.041420</td>\n      <td>22.337278</td>\n    </tr>\n    <tr>\n      <th>6.0</th>\n      <td>14.896693</td>\n      <td>19.773690</td>\n    </tr>\n    <tr>\n      <th>8.0</th>\n      <td>12.401130</td>\n      <td>16.468927</td>\n    </tr>\n    <tr>\n      <th>10.0</th>\n      <td>11.666667</td>\n      <td>17.666667</td>\n    </tr>\n    <tr>\n      <th>12.0</th>\n      <td>9.431373</td>\n      <td>14.843137</td>\n    </tr>\n    <tr>\n      <th>16.0</th>\n      <td>8.000000</td>\n      <td>14.000000</td>\n    </tr>\n    <tr>\n      <th rowspan=\"8\" valign=\"top\">All-Wheel Drive</th>\n      <th>3.0</th>\n      <td>28.000000</td>\n      <td>29.000000</td>\n    </tr>\n    <tr>\n      <th>4.0</th>\n      <td>21.753943</td>\n      <td>29.096215</td>\n    </tr>\n    <tr>\n      <th>5.0</th>\n      <td>19.473684</td>\n      <td>27.473684</td>\n    </tr>\n    <tr>\n      <th>6.0</th>\n      <td>17.987207</td>\n      <td>25.321962</td>\n    </tr>\n    <tr>\n      <th>8.0</th>\n      <td>14.699405</td>\n      <td>21.773810</td>\n    </tr>\n    <tr>\n      <th>10.0</th>\n      <td>12.808511</td>\n      <td>20.042553</td>\n    </tr>\n    <tr>\n      <th>12.0</th>\n      <td>11.303571</td>\n      <td>18.535714</td>\n    </tr>\n    <tr>\n      <th>16.0</th>\n      <td>8.000000</td>\n      <td>14.833333</td>\n    </tr>\n    <tr>\n      <th rowspan=\"5\" valign=\"top\">Front-Wheel Drive</th>\n      <th>3.0</th>\n      <td>34.760479</td>\n      <td>41.371257</td>\n    </tr>\n    <tr>\n      <th>4.0</th>\n      <td>22.736087</td>\n      <td>30.124502</td>\n    </tr>\n    <tr>\n      <th>5.0</th>\n      <td>18.557604</td>\n      <td>25.976959</td>\n    </tr>\n    <tr>\n      <th>6.0</th>\n      <td>17.230239</td>\n      <td>24.840759</td>\n    </tr>\n    <tr>\n      <th>8.0</th>\n      <td>14.779661</td>\n      <td>22.423729</td>\n    </tr>\n    <tr>\n      <th rowspan=\"4\" valign=\"top\">Part-time 4-Wheel Drive</th>\n      <th>4.0</th>\n      <td>18.200000</td>\n      <td>21.000000</td>\n    </tr>\n    <tr>\n      <th>6.0</th>\n      <td>16.015625</td>\n      <td>20.703125</td>\n    </tr>\n    <tr>\n      <th>8.0</th>\n      <td>13.104478</td>\n      <td>17.582090</td>\n    </tr>\n    <tr>\n      <th>12.0</th>\n      <td>11.166667</td>\n      <td>16.500000</td>\n    </tr>\n    <tr>\n      <th rowspan=\"8\" valign=\"top\">Rear-Wheel Drive</th>\n      <th>2.0</th>\n      <td>17.000000</td>\n      <td>22.937500</td>\n    </tr>\n    <tr>\n      <th>3.0</th>\n      <td>33.300000</td>\n      <td>39.300000</td>\n    </tr>\n    <tr>\n      <th>4.0</th>\n      <td>19.036235</td>\n      <td>24.673882</td>\n    </tr>\n    <tr>\n      <th>5.0</th>\n      <td>17.392405</td>\n      <td>22.974684</td>\n    </tr>\n    <tr>\n      <th>6.0</th>\n      <td>16.125870</td>\n      <td>22.254723</td>\n    </tr>\n    <tr>\n      <th>8.0</th>\n      <td>13.483187</td>\n      <td>18.992460</td>\n    </tr>\n    <tr>\n      <th>10.0</th>\n      <td>10.934211</td>\n      <td>17.605263</td>\n    </tr>\n    <tr>\n      <th>12.0</th>\n      <td>11.002262</td>\n      <td>17.038462</td>\n    </tr>\n  </tbody>\n</table>\n</div>"
     },
     "execution_count": 20,
     "metadata": {},
     "output_type": "execute_result"
    }
   ],
   "source": [
    "lista_vars = [\"city_mpg\", \"highway_mpg\"]\n",
    "tb_veic.groupby(by=[\"drivetrain\", \"cylinders\"])[lista_vars].mean()\n"
   ]
  },
  {
   "cell_type": "markdown",
   "metadata": {},
   "source": [
    "O resultado é um DataFrame com um `MultIndex`: um índice com mais de um *nível*. Para cada tipo de transmissão temos todos os # de ciclindros daquela transmissão (`4`, `6` e `8` para `2-Wheel Drive` por exemplo). Para acessar diferentes linhas através de nossa chave, utilizaremos um índice em tupla:"
   ]
  },
  {
   "cell_type": "code",
   "execution_count": 21,
   "metadata": {},
   "outputs": [
    {
     "data": {
      "text/plain": "city_mpg       20.437500\nhighway_mpg    24.710938\nName: (2-Wheel Drive, 4.0), dtype: float64"
     },
     "execution_count": 21,
     "metadata": {},
     "output_type": "execute_result"
    }
   ],
   "source": [
    "tb_agg_cyldt = tb_veic.groupby(by=[\"drivetrain\", \"cylinders\"])[lista_vars].mean()\n",
    "tb_agg_cyldt.loc[(\"2-Wheel Drive\", 4), :]"
   ]
  },
  {
   "cell_type": "markdown",
   "metadata": {},
   "source": [
    "Podemos utilizar o método `.reset_index()` para construir uma tabela *normal* a partir disto:"
   ]
  },
  {
   "cell_type": "code",
   "execution_count": 22,
   "metadata": {
    "ExecuteTime": {
     "end_time": "2021-12-07T22:47:16.703917Z",
     "start_time": "2021-12-07T22:47:16.674994Z"
    }
   },
   "outputs": [
    {
     "data": {
      "text/plain": "                   drivetrain  cylinders  city_mpg  highway_mpg\n0               2-Wheel Drive        4.0      20.0         25.0\n1               2-Wheel Drive        6.0      14.0         17.0\n2               2-Wheel Drive        8.0      12.0         15.0\n3        2-Wheel Drive, Front        4.0      25.0         33.0\n4               4-Wheel Drive        4.0      21.0         27.0\n5               4-Wheel Drive        5.0      16.0         21.0\n6               4-Wheel Drive        6.0      18.0         24.0\n7               4-Wheel Drive        8.0      14.0         19.0\n8               4-Wheel Drive       12.0      11.0         13.0\n9  4-Wheel or All-Wheel Drive        3.0      25.0         29.0",
      "text/html": "<div>\n<style scoped>\n    .dataframe tbody tr th:only-of-type {\n        vertical-align: middle;\n    }\n\n    .dataframe tbody tr th {\n        vertical-align: top;\n    }\n\n    .dataframe thead th {\n        text-align: right;\n    }\n</style>\n<table border=\"1\" class=\"dataframe\">\n  <thead>\n    <tr style=\"text-align: right;\">\n      <th></th>\n      <th>drivetrain</th>\n      <th>cylinders</th>\n      <th>city_mpg</th>\n      <th>highway_mpg</th>\n    </tr>\n  </thead>\n  <tbody>\n    <tr>\n      <th>0</th>\n      <td>2-Wheel Drive</td>\n      <td>4.0</td>\n      <td>20.0</td>\n      <td>25.0</td>\n    </tr>\n    <tr>\n      <th>1</th>\n      <td>2-Wheel Drive</td>\n      <td>6.0</td>\n      <td>14.0</td>\n      <td>17.0</td>\n    </tr>\n    <tr>\n      <th>2</th>\n      <td>2-Wheel Drive</td>\n      <td>8.0</td>\n      <td>12.0</td>\n      <td>15.0</td>\n    </tr>\n    <tr>\n      <th>3</th>\n      <td>2-Wheel Drive, Front</td>\n      <td>4.0</td>\n      <td>25.0</td>\n      <td>33.0</td>\n    </tr>\n    <tr>\n      <th>4</th>\n      <td>4-Wheel Drive</td>\n      <td>4.0</td>\n      <td>21.0</td>\n      <td>27.0</td>\n    </tr>\n    <tr>\n      <th>5</th>\n      <td>4-Wheel Drive</td>\n      <td>5.0</td>\n      <td>16.0</td>\n      <td>21.0</td>\n    </tr>\n    <tr>\n      <th>6</th>\n      <td>4-Wheel Drive</td>\n      <td>6.0</td>\n      <td>18.0</td>\n      <td>24.0</td>\n    </tr>\n    <tr>\n      <th>7</th>\n      <td>4-Wheel Drive</td>\n      <td>8.0</td>\n      <td>14.0</td>\n      <td>19.0</td>\n    </tr>\n    <tr>\n      <th>8</th>\n      <td>4-Wheel Drive</td>\n      <td>12.0</td>\n      <td>11.0</td>\n      <td>13.0</td>\n    </tr>\n    <tr>\n      <th>9</th>\n      <td>4-Wheel or All-Wheel Drive</td>\n      <td>3.0</td>\n      <td>25.0</td>\n      <td>29.0</td>\n    </tr>\n  </tbody>\n</table>\n</div>"
     },
     "execution_count": 22,
     "metadata": {},
     "output_type": "execute_result"
    }
   ],
   "source": [
    "tb_agg_cyldt = (\n",
    "    tb_veic.groupby(by=[\"drivetrain\", \"cylinders\"])[lista_vars]\n",
    "    .median()\n",
    "    .reset_index()\n",
    ")\n",
    "tb_agg_cyldt.head(10)"
   ]
  },
  {
   "cell_type": "code",
   "execution_count": 26,
   "metadata": {},
   "outputs": [
    {
     "name": "stdout",
     "output_type": "stream",
     "text": [
      "<class 'pandas.core.frame.DataFrame'>\n",
      "Int64Index: 35952 entries, 0 to 35951\n",
      "Data columns (total 19 columns):\n",
      " #   Column                   Non-Null Count  Dtype  \n",
      "---  ------                   --------------  -----  \n",
      " 0   make                     35952 non-null  object \n",
      " 1   model                    35952 non-null  object \n",
      " 2   year                     35952 non-null  int64  \n",
      " 3   engine_displacement      35952 non-null  float64\n",
      " 4   cylinders                35952 non-null  float64\n",
      " 5   transmission             35952 non-null  object \n",
      " 6   drivetrain               35952 non-null  object \n",
      " 7   vehicle_class            35952 non-null  object \n",
      " 8   fuel_type                35952 non-null  object \n",
      " 9   fuel_barrels_year        35952 non-null  float64\n",
      " 10  city_mpg                 35952 non-null  int64  \n",
      " 11  highway_mpg              35952 non-null  int64  \n",
      " 12  combined_mpg             35952 non-null  int64  \n",
      " 13  co2_emission_grams_mile  35952 non-null  float64\n",
      " 14  fuel_cost_year           35952 non-null  int64  \n",
      " 15  mean_city_mpg            35952 non-null  float64\n",
      " 16  mean_highway_mpg         35952 non-null  float64\n",
      " 17  norm_city_mpg            35952 non-null  float64\n",
      " 18  norm_highway_mpg         35952 non-null  float64\n",
      "dtypes: float64(8), int64(5), object(6)\n",
      "memory usage: 5.5+ MB\n"
     ]
    }
   ],
   "source": [
    "tb_veic.info()"
   ]
  },
  {
   "cell_type": "markdown",
   "metadata": {},
   "source": [
    "### Desafio - respondendo perguntas usando agregação\n",
    "\n",
    "Agregações nos permitem resumir dados e, desta forma, buscar padrões e avaliar hipóteses. Vamos tentar responder uma pergunta simples: *qual tamanho de motor (`cylinders` e `engine_displacement`) de automóveis apresenta a maior eficiência no consumo de combustíveis?*"
   ]
  },
  {
   "cell_type": "code",
   "execution_count": 24,
   "outputs": [
    {
     "data": {
      "text/plain": "Index(['make', 'model', 'year', 'engine_displacement', 'cylinders',\n       'transmission', 'drivetrain', 'vehicle_class', 'fuel_type',\n       'fuel_barrels_year', 'city_mpg', 'highway_mpg', 'combined_mpg',\n       'co2_emission_grams_mile', 'fuel_cost_year'],\n      dtype='object')"
     },
     "execution_count": 24,
     "metadata": {},
     "output_type": "execute_result"
    }
   ],
   "source": [
    "tb_veic.columns"
   ],
   "metadata": {
    "collapsed": false
   }
  },
  {
   "cell_type": "code",
   "execution_count": 27,
   "metadata": {},
   "outputs": [
    {
     "data": {
      "text/plain": "    cylinders  engine_displacement   city_mpg  highway_mpg  combined_mpg\n14        4.0                  1.7  26.782609    33.717391     29.565217\n12        4.0                  1.5  27.221884    33.481763     29.673252\n11        4.0                  1.4  27.404255    36.117021     30.686170\n6         3.0                  1.5  28.333333    35.555556     30.777778\n5         3.0                  1.2  29.187500    34.062500     31.093750\n10        4.0                  1.3  30.189781    35.051095     32.102190\n9         4.0                  1.2  30.333333    38.500000     33.666667\n3         3.0                  0.9  32.500000    38.500000     35.000000\n4         3.0                  1.0  35.365385    41.929487     38.070513\n0         2.0                  0.6  41.000000    37.000000     39.000000",
      "text/html": "<div>\n<style scoped>\n    .dataframe tbody tr th:only-of-type {\n        vertical-align: middle;\n    }\n\n    .dataframe tbody tr th {\n        vertical-align: top;\n    }\n\n    .dataframe thead th {\n        text-align: right;\n    }\n</style>\n<table border=\"1\" class=\"dataframe\">\n  <thead>\n    <tr style=\"text-align: right;\">\n      <th></th>\n      <th>cylinders</th>\n      <th>engine_displacement</th>\n      <th>city_mpg</th>\n      <th>highway_mpg</th>\n      <th>combined_mpg</th>\n    </tr>\n  </thead>\n  <tbody>\n    <tr>\n      <th>14</th>\n      <td>4.0</td>\n      <td>1.7</td>\n      <td>26.782609</td>\n      <td>33.717391</td>\n      <td>29.565217</td>\n    </tr>\n    <tr>\n      <th>12</th>\n      <td>4.0</td>\n      <td>1.5</td>\n      <td>27.221884</td>\n      <td>33.481763</td>\n      <td>29.673252</td>\n    </tr>\n    <tr>\n      <th>11</th>\n      <td>4.0</td>\n      <td>1.4</td>\n      <td>27.404255</td>\n      <td>36.117021</td>\n      <td>30.686170</td>\n    </tr>\n    <tr>\n      <th>6</th>\n      <td>3.0</td>\n      <td>1.5</td>\n      <td>28.333333</td>\n      <td>35.555556</td>\n      <td>30.777778</td>\n    </tr>\n    <tr>\n      <th>5</th>\n      <td>3.0</td>\n      <td>1.2</td>\n      <td>29.187500</td>\n      <td>34.062500</td>\n      <td>31.093750</td>\n    </tr>\n    <tr>\n      <th>10</th>\n      <td>4.0</td>\n      <td>1.3</td>\n      <td>30.189781</td>\n      <td>35.051095</td>\n      <td>32.102190</td>\n    </tr>\n    <tr>\n      <th>9</th>\n      <td>4.0</td>\n      <td>1.2</td>\n      <td>30.333333</td>\n      <td>38.500000</td>\n      <td>33.666667</td>\n    </tr>\n    <tr>\n      <th>3</th>\n      <td>3.0</td>\n      <td>0.9</td>\n      <td>32.500000</td>\n      <td>38.500000</td>\n      <td>35.000000</td>\n    </tr>\n    <tr>\n      <th>4</th>\n      <td>3.0</td>\n      <td>1.0</td>\n      <td>35.365385</td>\n      <td>41.929487</td>\n      <td>38.070513</td>\n    </tr>\n    <tr>\n      <th>0</th>\n      <td>2.0</td>\n      <td>0.6</td>\n      <td>41.000000</td>\n      <td>37.000000</td>\n      <td>39.000000</td>\n    </tr>\n  </tbody>\n</table>\n</div>"
     },
     "execution_count": 27,
     "metadata": {},
     "output_type": "execute_result"
    }
   ],
   "source": [
    "# DESAFIO\n",
    "lista_vars = [\"city_mpg\", \"highway_mpg\", \"combined_mpg\"]\n",
    "\n",
    "(\n",
    "    tb_veic.groupby(by = [\"cylinders\", \"engine_displacement\"])[lista_vars]\n",
    "    .mean()\n",
    "    .reset_index()\n",
    "    .sort_values(by = \"combined_mpg\")\n",
    "    .tail(10)\n",
    " )"
   ]
  },
  {
   "cell_type": "markdown",
   "metadata": {},
   "source": [
    "## Chave Múltipla e Múltiplas Funções\n",
    "\n",
    "Além de incluirmos mais que uma variável como chave de nosso agrupamento, podemos utilizar mais que uma função de agregação ao mesmo tempo. Por exemplo, vamos calcular a média e a mediana para a variável `city_mpg`. Para isso utilizaremos o método `.agg()` no lugar da nossa função de agregação. Vamos passar um iterável com o **nome** de cada função de agregação que utilizaremos:"
   ]
  },
  {
   "cell_type": "code",
   "execution_count": 28,
   "metadata": {
    "ExecuteTime": {
     "end_time": "2021-12-07T23:01:23.790940Z",
     "start_time": "2021-12-07T23:01:23.695183Z"
    }
   },
   "outputs": [
    {
     "data": {
      "text/plain": "                                           mean  median\ndrivetrain                 cylinders                   \n2-Wheel Drive              4.0        20.437500    20.0\n                           6.0        14.291045    14.0\n                           8.0        12.906832    12.0\n2-Wheel Drive, Front       4.0        25.000000    25.0\n4-Wheel Drive              4.0        21.252475    21.0\n                           5.0        15.909091    16.0\n                           6.0        17.439535    18.0\n                           8.0        14.248139    14.0\n                           12.0       11.000000    11.0\n4-Wheel or All-Wheel Drive 3.0        25.545455    25.0\n                           4.0        18.540574    18.0\n                           5.0        16.041420    16.0\n                           6.0        14.896693    15.0\n                           8.0        12.401130    12.0\n                           10.0       11.666667    11.0\n                           12.0        9.431373     9.0\n                           16.0        8.000000     8.0\nAll-Wheel Drive            3.0        28.000000    28.0\n                           4.0        21.753943    22.0\n                           5.0        19.473684    20.0\n                           6.0        17.987207    18.0\n                           8.0        14.699405    15.0\n                           10.0       12.808511    13.0\n                           12.0       11.303571    12.0\n                           16.0        8.000000     8.0\nFront-Wheel Drive          3.0        34.760479    34.0\n                           4.0        22.736087    22.0\n                           5.0        18.557604    18.0\n                           6.0        17.230239    17.0\n                           8.0        14.779661    15.0\nPart-time 4-Wheel Drive    4.0        18.200000    18.0\n                           6.0        16.015625    16.0\n                           8.0        13.104478    13.0\n                           12.0       11.166667    11.0\nRear-Wheel Drive           2.0        17.000000    15.0\n                           3.0        33.300000    33.0\n                           4.0        19.036235    19.0\n                           5.0        17.392405    17.0\n                           6.0        16.125870    16.0\n                           8.0        13.483187    14.0\n                           10.0       10.934211    11.0\n                           12.0       11.002262    11.0",
      "text/html": "<div>\n<style scoped>\n    .dataframe tbody tr th:only-of-type {\n        vertical-align: middle;\n    }\n\n    .dataframe tbody tr th {\n        vertical-align: top;\n    }\n\n    .dataframe thead th {\n        text-align: right;\n    }\n</style>\n<table border=\"1\" class=\"dataframe\">\n  <thead>\n    <tr style=\"text-align: right;\">\n      <th></th>\n      <th></th>\n      <th>mean</th>\n      <th>median</th>\n    </tr>\n    <tr>\n      <th>drivetrain</th>\n      <th>cylinders</th>\n      <th></th>\n      <th></th>\n    </tr>\n  </thead>\n  <tbody>\n    <tr>\n      <th rowspan=\"3\" valign=\"top\">2-Wheel Drive</th>\n      <th>4.0</th>\n      <td>20.437500</td>\n      <td>20.0</td>\n    </tr>\n    <tr>\n      <th>6.0</th>\n      <td>14.291045</td>\n      <td>14.0</td>\n    </tr>\n    <tr>\n      <th>8.0</th>\n      <td>12.906832</td>\n      <td>12.0</td>\n    </tr>\n    <tr>\n      <th>2-Wheel Drive, Front</th>\n      <th>4.0</th>\n      <td>25.000000</td>\n      <td>25.0</td>\n    </tr>\n    <tr>\n      <th rowspan=\"5\" valign=\"top\">4-Wheel Drive</th>\n      <th>4.0</th>\n      <td>21.252475</td>\n      <td>21.0</td>\n    </tr>\n    <tr>\n      <th>5.0</th>\n      <td>15.909091</td>\n      <td>16.0</td>\n    </tr>\n    <tr>\n      <th>6.0</th>\n      <td>17.439535</td>\n      <td>18.0</td>\n    </tr>\n    <tr>\n      <th>8.0</th>\n      <td>14.248139</td>\n      <td>14.0</td>\n    </tr>\n    <tr>\n      <th>12.0</th>\n      <td>11.000000</td>\n      <td>11.0</td>\n    </tr>\n    <tr>\n      <th rowspan=\"8\" valign=\"top\">4-Wheel or All-Wheel Drive</th>\n      <th>3.0</th>\n      <td>25.545455</td>\n      <td>25.0</td>\n    </tr>\n    <tr>\n      <th>4.0</th>\n      <td>18.540574</td>\n      <td>18.0</td>\n    </tr>\n    <tr>\n      <th>5.0</th>\n      <td>16.041420</td>\n      <td>16.0</td>\n    </tr>\n    <tr>\n      <th>6.0</th>\n      <td>14.896693</td>\n      <td>15.0</td>\n    </tr>\n    <tr>\n      <th>8.0</th>\n      <td>12.401130</td>\n      <td>12.0</td>\n    </tr>\n    <tr>\n      <th>10.0</th>\n      <td>11.666667</td>\n      <td>11.0</td>\n    </tr>\n    <tr>\n      <th>12.0</th>\n      <td>9.431373</td>\n      <td>9.0</td>\n    </tr>\n    <tr>\n      <th>16.0</th>\n      <td>8.000000</td>\n      <td>8.0</td>\n    </tr>\n    <tr>\n      <th rowspan=\"8\" valign=\"top\">All-Wheel Drive</th>\n      <th>3.0</th>\n      <td>28.000000</td>\n      <td>28.0</td>\n    </tr>\n    <tr>\n      <th>4.0</th>\n      <td>21.753943</td>\n      <td>22.0</td>\n    </tr>\n    <tr>\n      <th>5.0</th>\n      <td>19.473684</td>\n      <td>20.0</td>\n    </tr>\n    <tr>\n      <th>6.0</th>\n      <td>17.987207</td>\n      <td>18.0</td>\n    </tr>\n    <tr>\n      <th>8.0</th>\n      <td>14.699405</td>\n      <td>15.0</td>\n    </tr>\n    <tr>\n      <th>10.0</th>\n      <td>12.808511</td>\n      <td>13.0</td>\n    </tr>\n    <tr>\n      <th>12.0</th>\n      <td>11.303571</td>\n      <td>12.0</td>\n    </tr>\n    <tr>\n      <th>16.0</th>\n      <td>8.000000</td>\n      <td>8.0</td>\n    </tr>\n    <tr>\n      <th rowspan=\"5\" valign=\"top\">Front-Wheel Drive</th>\n      <th>3.0</th>\n      <td>34.760479</td>\n      <td>34.0</td>\n    </tr>\n    <tr>\n      <th>4.0</th>\n      <td>22.736087</td>\n      <td>22.0</td>\n    </tr>\n    <tr>\n      <th>5.0</th>\n      <td>18.557604</td>\n      <td>18.0</td>\n    </tr>\n    <tr>\n      <th>6.0</th>\n      <td>17.230239</td>\n      <td>17.0</td>\n    </tr>\n    <tr>\n      <th>8.0</th>\n      <td>14.779661</td>\n      <td>15.0</td>\n    </tr>\n    <tr>\n      <th rowspan=\"4\" valign=\"top\">Part-time 4-Wheel Drive</th>\n      <th>4.0</th>\n      <td>18.200000</td>\n      <td>18.0</td>\n    </tr>\n    <tr>\n      <th>6.0</th>\n      <td>16.015625</td>\n      <td>16.0</td>\n    </tr>\n    <tr>\n      <th>8.0</th>\n      <td>13.104478</td>\n      <td>13.0</td>\n    </tr>\n    <tr>\n      <th>12.0</th>\n      <td>11.166667</td>\n      <td>11.0</td>\n    </tr>\n    <tr>\n      <th rowspan=\"8\" valign=\"top\">Rear-Wheel Drive</th>\n      <th>2.0</th>\n      <td>17.000000</td>\n      <td>15.0</td>\n    </tr>\n    <tr>\n      <th>3.0</th>\n      <td>33.300000</td>\n      <td>33.0</td>\n    </tr>\n    <tr>\n      <th>4.0</th>\n      <td>19.036235</td>\n      <td>19.0</td>\n    </tr>\n    <tr>\n      <th>5.0</th>\n      <td>17.392405</td>\n      <td>17.0</td>\n    </tr>\n    <tr>\n      <th>6.0</th>\n      <td>16.125870</td>\n      <td>16.0</td>\n    </tr>\n    <tr>\n      <th>8.0</th>\n      <td>13.483187</td>\n      <td>14.0</td>\n    </tr>\n    <tr>\n      <th>10.0</th>\n      <td>10.934211</td>\n      <td>11.0</td>\n    </tr>\n    <tr>\n      <th>12.0</th>\n      <td>11.002262</td>\n      <td>11.0</td>\n    </tr>\n  </tbody>\n</table>\n</div>"
     },
     "execution_count": 28,
     "metadata": {},
     "output_type": "execute_result"
    }
   ],
   "source": [
    "tb_agg_musig_cyldt = tb_veic.groupby(by=[\"drivetrain\", \"cylinders\"])[\"city_mpg\"].agg(\n",
    "    [\"mean\", \"median\"]\n",
    ")\n",
    "tb_agg_musig_cyldt"
   ]
  },
  {
   "cell_type": "markdown",
   "metadata": {},
   "source": [
    "Vamos utilizar o método `.reset_index()` para colapsar os `MultIndex` de nossa tabela:"
   ]
  },
  {
   "cell_type": "code",
   "execution_count": 29,
   "metadata": {},
   "outputs": [
    {
     "data": {
      "text/plain": "                   drivetrain  cylinders       mean  median\n0               2-Wheel Drive        4.0  20.437500    20.0\n1               2-Wheel Drive        6.0  14.291045    14.0\n2               2-Wheel Drive        8.0  12.906832    12.0\n3        2-Wheel Drive, Front        4.0  25.000000    25.0\n4               4-Wheel Drive        4.0  21.252475    21.0\n5               4-Wheel Drive        5.0  15.909091    16.0\n6               4-Wheel Drive        6.0  17.439535    18.0\n7               4-Wheel Drive        8.0  14.248139    14.0\n8               4-Wheel Drive       12.0  11.000000    11.0\n9  4-Wheel or All-Wheel Drive        3.0  25.545455    25.0",
      "text/html": "<div>\n<style scoped>\n    .dataframe tbody tr th:only-of-type {\n        vertical-align: middle;\n    }\n\n    .dataframe tbody tr th {\n        vertical-align: top;\n    }\n\n    .dataframe thead th {\n        text-align: right;\n    }\n</style>\n<table border=\"1\" class=\"dataframe\">\n  <thead>\n    <tr style=\"text-align: right;\">\n      <th></th>\n      <th>drivetrain</th>\n      <th>cylinders</th>\n      <th>mean</th>\n      <th>median</th>\n    </tr>\n  </thead>\n  <tbody>\n    <tr>\n      <th>0</th>\n      <td>2-Wheel Drive</td>\n      <td>4.0</td>\n      <td>20.437500</td>\n      <td>20.0</td>\n    </tr>\n    <tr>\n      <th>1</th>\n      <td>2-Wheel Drive</td>\n      <td>6.0</td>\n      <td>14.291045</td>\n      <td>14.0</td>\n    </tr>\n    <tr>\n      <th>2</th>\n      <td>2-Wheel Drive</td>\n      <td>8.0</td>\n      <td>12.906832</td>\n      <td>12.0</td>\n    </tr>\n    <tr>\n      <th>3</th>\n      <td>2-Wheel Drive, Front</td>\n      <td>4.0</td>\n      <td>25.000000</td>\n      <td>25.0</td>\n    </tr>\n    <tr>\n      <th>4</th>\n      <td>4-Wheel Drive</td>\n      <td>4.0</td>\n      <td>21.252475</td>\n      <td>21.0</td>\n    </tr>\n    <tr>\n      <th>5</th>\n      <td>4-Wheel Drive</td>\n      <td>5.0</td>\n      <td>15.909091</td>\n      <td>16.0</td>\n    </tr>\n    <tr>\n      <th>6</th>\n      <td>4-Wheel Drive</td>\n      <td>6.0</td>\n      <td>17.439535</td>\n      <td>18.0</td>\n    </tr>\n    <tr>\n      <th>7</th>\n      <td>4-Wheel Drive</td>\n      <td>8.0</td>\n      <td>14.248139</td>\n      <td>14.0</td>\n    </tr>\n    <tr>\n      <th>8</th>\n      <td>4-Wheel Drive</td>\n      <td>12.0</td>\n      <td>11.000000</td>\n      <td>11.0</td>\n    </tr>\n    <tr>\n      <th>9</th>\n      <td>4-Wheel or All-Wheel Drive</td>\n      <td>3.0</td>\n      <td>25.545455</td>\n      <td>25.0</td>\n    </tr>\n  </tbody>\n</table>\n</div>"
     },
     "execution_count": 29,
     "metadata": {},
     "output_type": "execute_result"
    }
   ],
   "source": [
    "tb_agg_cyldt = tb_veic.groupby(by=[\"drivetrain\", \"cylinders\"])[\"city_mpg\"].agg(\n",
    "    [\"mean\", \"median\"]\n",
    ").reset_index()\n",
    "tb_agg_cyldt.head(10)"
   ]
  },
  {
   "cell_type": "markdown",
   "metadata": {},
   "source": [
    "Podemos calcular múltiplas agregações de múltiplas chaves mas devemos tomar cuidado com o **nome das colunas**: ele será um `MultIndex`!"
   ]
  },
  {
   "cell_type": "code",
   "execution_count": 30,
   "metadata": {},
   "outputs": [
    {
     "data": {
      "text/plain": "                                       city_mpg        highway_mpg         \\\n                                           mean median        mean median   \ndrivetrain                 cylinders                                        \n2-Wheel Drive              4.0        20.437500   20.0   24.710938   25.0   \n                           6.0        14.291045   14.0   18.126866   17.0   \n                           8.0        12.906832   12.0   16.080745   15.0   \n2-Wheel Drive, Front       4.0        25.000000   25.0   33.000000   33.0   \n4-Wheel Drive              4.0        21.252475   21.0   26.856436   27.0   \n                           5.0        15.909091   16.0   21.000000   21.0   \n                           6.0        17.439535   18.0   23.753488   24.0   \n                           8.0        14.248139   14.0   19.719603   19.0   \n                           12.0       11.000000   11.0   13.000000   13.0   \n4-Wheel or All-Wheel Drive 3.0        25.545455   25.0   29.363636   29.0   \n\n                                     combined_mpg         \n                                             mean median  \ndrivetrain                 cylinders                      \n2-Wheel Drive              4.0          22.093750   22.0  \n                           6.0          15.634328   15.0  \n                           8.0          14.111801   13.0  \n2-Wheel Drive, Front       4.0          28.000000   28.0  \n4-Wheel Drive              4.0          23.400990   23.0  \n                           5.0          17.818182   18.0  \n                           6.0          19.783721   20.0  \n                           8.0          16.243176   16.0  \n                           12.0         12.000000   12.0  \n4-Wheel or All-Wheel Drive 3.0          26.909091   27.0  ",
      "text/html": "<div>\n<style scoped>\n    .dataframe tbody tr th:only-of-type {\n        vertical-align: middle;\n    }\n\n    .dataframe tbody tr th {\n        vertical-align: top;\n    }\n\n    .dataframe thead tr th {\n        text-align: left;\n    }\n\n    .dataframe thead tr:last-of-type th {\n        text-align: right;\n    }\n</style>\n<table border=\"1\" class=\"dataframe\">\n  <thead>\n    <tr>\n      <th></th>\n      <th></th>\n      <th colspan=\"2\" halign=\"left\">city_mpg</th>\n      <th colspan=\"2\" halign=\"left\">highway_mpg</th>\n      <th colspan=\"2\" halign=\"left\">combined_mpg</th>\n    </tr>\n    <tr>\n      <th></th>\n      <th></th>\n      <th>mean</th>\n      <th>median</th>\n      <th>mean</th>\n      <th>median</th>\n      <th>mean</th>\n      <th>median</th>\n    </tr>\n    <tr>\n      <th>drivetrain</th>\n      <th>cylinders</th>\n      <th></th>\n      <th></th>\n      <th></th>\n      <th></th>\n      <th></th>\n      <th></th>\n    </tr>\n  </thead>\n  <tbody>\n    <tr>\n      <th rowspan=\"3\" valign=\"top\">2-Wheel Drive</th>\n      <th>4.0</th>\n      <td>20.437500</td>\n      <td>20.0</td>\n      <td>24.710938</td>\n      <td>25.0</td>\n      <td>22.093750</td>\n      <td>22.0</td>\n    </tr>\n    <tr>\n      <th>6.0</th>\n      <td>14.291045</td>\n      <td>14.0</td>\n      <td>18.126866</td>\n      <td>17.0</td>\n      <td>15.634328</td>\n      <td>15.0</td>\n    </tr>\n    <tr>\n      <th>8.0</th>\n      <td>12.906832</td>\n      <td>12.0</td>\n      <td>16.080745</td>\n      <td>15.0</td>\n      <td>14.111801</td>\n      <td>13.0</td>\n    </tr>\n    <tr>\n      <th>2-Wheel Drive, Front</th>\n      <th>4.0</th>\n      <td>25.000000</td>\n      <td>25.0</td>\n      <td>33.000000</td>\n      <td>33.0</td>\n      <td>28.000000</td>\n      <td>28.0</td>\n    </tr>\n    <tr>\n      <th rowspan=\"5\" valign=\"top\">4-Wheel Drive</th>\n      <th>4.0</th>\n      <td>21.252475</td>\n      <td>21.0</td>\n      <td>26.856436</td>\n      <td>27.0</td>\n      <td>23.400990</td>\n      <td>23.0</td>\n    </tr>\n    <tr>\n      <th>5.0</th>\n      <td>15.909091</td>\n      <td>16.0</td>\n      <td>21.000000</td>\n      <td>21.0</td>\n      <td>17.818182</td>\n      <td>18.0</td>\n    </tr>\n    <tr>\n      <th>6.0</th>\n      <td>17.439535</td>\n      <td>18.0</td>\n      <td>23.753488</td>\n      <td>24.0</td>\n      <td>19.783721</td>\n      <td>20.0</td>\n    </tr>\n    <tr>\n      <th>8.0</th>\n      <td>14.248139</td>\n      <td>14.0</td>\n      <td>19.719603</td>\n      <td>19.0</td>\n      <td>16.243176</td>\n      <td>16.0</td>\n    </tr>\n    <tr>\n      <th>12.0</th>\n      <td>11.000000</td>\n      <td>11.0</td>\n      <td>13.000000</td>\n      <td>13.0</td>\n      <td>12.000000</td>\n      <td>12.0</td>\n    </tr>\n    <tr>\n      <th>4-Wheel or All-Wheel Drive</th>\n      <th>3.0</th>\n      <td>25.545455</td>\n      <td>25.0</td>\n      <td>29.363636</td>\n      <td>29.0</td>\n      <td>26.909091</td>\n      <td>27.0</td>\n    </tr>\n  </tbody>\n</table>\n</div>"
     },
     "execution_count": 30,
     "metadata": {},
     "output_type": "execute_result"
    }
   ],
   "source": [
    "tb_agg_cyldt = tb_veic.groupby(by=[\"drivetrain\", \"cylinders\"])[lista_vars].agg(\n",
    "    [\"mean\", \"median\"]\n",
    ")\n",
    "tb_agg_cyldt.head(10)"
   ]
  },
  {
   "cell_type": "code",
   "execution_count": 32,
   "metadata": {},
   "outputs": [
    {
     "data": {
      "text/plain": "MultiIndex([(    'city_mpg',   'mean'),\n            (    'city_mpg', 'median'),\n            ( 'highway_mpg',   'mean'),\n            ( 'highway_mpg', 'median'),\n            ('combined_mpg',   'mean'),\n            ('combined_mpg', 'median')],\n           )"
     },
     "execution_count": 32,
     "metadata": {},
     "output_type": "execute_result"
    }
   ],
   "source": [
    "tb_agg_cyldt.columns"
   ]
  },
  {
   "cell_type": "markdown",
   "metadata": {},
   "source": [
    "Se utilizarmos o método `.reset_index()` teremos nossas chaves como colunas, mas o nome das colunas agregadas continuará sendo um `MultIndex`:"
   ]
  },
  {
   "cell_type": "code",
   "execution_count": 33,
   "metadata": {},
   "outputs": [
    {
     "data": {
      "text/plain": "                   drivetrain cylinders   city_mpg        highway_mpg         \\\n                                              mean median        mean median   \n0               2-Wheel Drive       4.0  20.437500   20.0   24.710938   25.0   \n1               2-Wheel Drive       6.0  14.291045   14.0   18.126866   17.0   \n2               2-Wheel Drive       8.0  12.906832   12.0   16.080745   15.0   \n3        2-Wheel Drive, Front       4.0  25.000000   25.0   33.000000   33.0   \n4               4-Wheel Drive       4.0  21.252475   21.0   26.856436   27.0   \n5               4-Wheel Drive       5.0  15.909091   16.0   21.000000   21.0   \n6               4-Wheel Drive       6.0  17.439535   18.0   23.753488   24.0   \n7               4-Wheel Drive       8.0  14.248139   14.0   19.719603   19.0   \n8               4-Wheel Drive      12.0  11.000000   11.0   13.000000   13.0   \n9  4-Wheel or All-Wheel Drive       3.0  25.545455   25.0   29.363636   29.0   \n\n  combined_mpg         \n          mean median  \n0    22.093750   22.0  \n1    15.634328   15.0  \n2    14.111801   13.0  \n3    28.000000   28.0  \n4    23.400990   23.0  \n5    17.818182   18.0  \n6    19.783721   20.0  \n7    16.243176   16.0  \n8    12.000000   12.0  \n9    26.909091   27.0  ",
      "text/html": "<div>\n<style scoped>\n    .dataframe tbody tr th:only-of-type {\n        vertical-align: middle;\n    }\n\n    .dataframe tbody tr th {\n        vertical-align: top;\n    }\n\n    .dataframe thead tr th {\n        text-align: left;\n    }\n</style>\n<table border=\"1\" class=\"dataframe\">\n  <thead>\n    <tr>\n      <th></th>\n      <th>drivetrain</th>\n      <th>cylinders</th>\n      <th colspan=\"2\" halign=\"left\">city_mpg</th>\n      <th colspan=\"2\" halign=\"left\">highway_mpg</th>\n      <th colspan=\"2\" halign=\"left\">combined_mpg</th>\n    </tr>\n    <tr>\n      <th></th>\n      <th></th>\n      <th></th>\n      <th>mean</th>\n      <th>median</th>\n      <th>mean</th>\n      <th>median</th>\n      <th>mean</th>\n      <th>median</th>\n    </tr>\n  </thead>\n  <tbody>\n    <tr>\n      <th>0</th>\n      <td>2-Wheel Drive</td>\n      <td>4.0</td>\n      <td>20.437500</td>\n      <td>20.0</td>\n      <td>24.710938</td>\n      <td>25.0</td>\n      <td>22.093750</td>\n      <td>22.0</td>\n    </tr>\n    <tr>\n      <th>1</th>\n      <td>2-Wheel Drive</td>\n      <td>6.0</td>\n      <td>14.291045</td>\n      <td>14.0</td>\n      <td>18.126866</td>\n      <td>17.0</td>\n      <td>15.634328</td>\n      <td>15.0</td>\n    </tr>\n    <tr>\n      <th>2</th>\n      <td>2-Wheel Drive</td>\n      <td>8.0</td>\n      <td>12.906832</td>\n      <td>12.0</td>\n      <td>16.080745</td>\n      <td>15.0</td>\n      <td>14.111801</td>\n      <td>13.0</td>\n    </tr>\n    <tr>\n      <th>3</th>\n      <td>2-Wheel Drive, Front</td>\n      <td>4.0</td>\n      <td>25.000000</td>\n      <td>25.0</td>\n      <td>33.000000</td>\n      <td>33.0</td>\n      <td>28.000000</td>\n      <td>28.0</td>\n    </tr>\n    <tr>\n      <th>4</th>\n      <td>4-Wheel Drive</td>\n      <td>4.0</td>\n      <td>21.252475</td>\n      <td>21.0</td>\n      <td>26.856436</td>\n      <td>27.0</td>\n      <td>23.400990</td>\n      <td>23.0</td>\n    </tr>\n    <tr>\n      <th>5</th>\n      <td>4-Wheel Drive</td>\n      <td>5.0</td>\n      <td>15.909091</td>\n      <td>16.0</td>\n      <td>21.000000</td>\n      <td>21.0</td>\n      <td>17.818182</td>\n      <td>18.0</td>\n    </tr>\n    <tr>\n      <th>6</th>\n      <td>4-Wheel Drive</td>\n      <td>6.0</td>\n      <td>17.439535</td>\n      <td>18.0</td>\n      <td>23.753488</td>\n      <td>24.0</td>\n      <td>19.783721</td>\n      <td>20.0</td>\n    </tr>\n    <tr>\n      <th>7</th>\n      <td>4-Wheel Drive</td>\n      <td>8.0</td>\n      <td>14.248139</td>\n      <td>14.0</td>\n      <td>19.719603</td>\n      <td>19.0</td>\n      <td>16.243176</td>\n      <td>16.0</td>\n    </tr>\n    <tr>\n      <th>8</th>\n      <td>4-Wheel Drive</td>\n      <td>12.0</td>\n      <td>11.000000</td>\n      <td>11.0</td>\n      <td>13.000000</td>\n      <td>13.0</td>\n      <td>12.000000</td>\n      <td>12.0</td>\n    </tr>\n    <tr>\n      <th>9</th>\n      <td>4-Wheel or All-Wheel Drive</td>\n      <td>3.0</td>\n      <td>25.545455</td>\n      <td>25.0</td>\n      <td>29.363636</td>\n      <td>29.0</td>\n      <td>26.909091</td>\n      <td>27.0</td>\n    </tr>\n  </tbody>\n</table>\n</div>"
     },
     "execution_count": 33,
     "metadata": {},
     "output_type": "execute_result"
    }
   ],
   "source": [
    "tb_agg_cyldt = tb_veic.groupby(by=[\"drivetrain\", \"cylinders\"])[lista_vars].agg(\n",
    "    [\"mean\", \"median\"]\n",
    ").reset_index()\n",
    "tb_agg_cyldt.head(10)"
   ]
  },
  {
   "cell_type": "code",
   "execution_count": 34,
   "metadata": {},
   "outputs": [
    {
     "data": {
      "text/plain": "MultiIndex([(  'drivetrain',       ''),\n            (   'cylinders',       ''),\n            (    'city_mpg',   'mean'),\n            (    'city_mpg', 'median'),\n            ( 'highway_mpg',   'mean'),\n            ( 'highway_mpg', 'median'),\n            ('combined_mpg',   'mean'),\n            ('combined_mpg', 'median')],\n           )"
     },
     "execution_count": 34,
     "metadata": {},
     "output_type": "execute_result"
    }
   ],
   "source": [
    "tb_agg_cyldt.columns"
   ]
  },
  {
   "cell_type": "markdown",
   "metadata": {},
   "source": [
    "### Agregação Nomeada\n",
    "\n",
    "A situação apresentada acima não é ideal por dois motivos:\n",
    "\n",
    "1. Muitas vezes queremos especificar colunas específicas para cada agregação (por exemplo, a **média** de `city_mpg` e o máximo de `year`);\n",
    "1. Além disso seria bom conseguir nomear explicitamente as variáveis criadas (por exemplo, `mean_city_mpg` e `max_year`).\n",
    "\n",
    "Para resolver esses dois problemas podemos utilizar uma outra maneira de agregação: a agregação nomeada. Ao invés de passar um iterável com o nome das funções que queremos aplicar, vamos utilizar a função `pd.NamedAgg()` para construir cada coluna:"
   ]
  },
  {
   "cell_type": "code",
   "execution_count": 38,
   "metadata": {
    "ExecuteTime": {
     "end_time": "2021-12-07T23:06:14.009759Z",
     "start_time": "2021-12-07T23:06:13.970863Z"
    }
   },
   "outputs": [
    {
     "data": {
      "text/plain": "                    drivetrain  cylinders  mean_city_mpg  max_year  min_year  \\\n0                2-Wheel Drive        4.0      20.437500      1984      1999   \n1                2-Wheel Drive        6.0      14.291045      1984      2006   \n2                2-Wheel Drive        8.0      12.906832      1984      2006   \n3         2-Wheel Drive, Front        4.0      25.000000      2017      2017   \n4                4-Wheel Drive        4.0      21.252475      1997      2017   \n5                4-Wheel Drive        5.0      15.909091      2010      2012   \n6                4-Wheel Drive        6.0      17.439535      1986      2017   \n7                4-Wheel Drive        8.0      14.248139      2007      2017   \n8                4-Wheel Drive       12.0      11.000000      2016      2016   \n9   4-Wheel or All-Wheel Drive        3.0      25.545455      1988      1994   \n10  4-Wheel or All-Wheel Drive        4.0      18.540574      1984      2009   \n11  4-Wheel or All-Wheel Drive        5.0      16.041420      1985      2009   \n12  4-Wheel or All-Wheel Drive        6.0      14.896693      1984      2010   \n13  4-Wheel or All-Wheel Drive        8.0      12.401130      1984      2009   \n14  4-Wheel or All-Wheel Drive       10.0      11.666667      2004      2009   \n15  4-Wheel or All-Wheel Drive       12.0       9.431373      1992      2009   \n16  4-Wheel or All-Wheel Drive       16.0       8.000000      2006      2008   \n17             All-Wheel Drive        3.0      28.000000      2014      2016   \n18             All-Wheel Drive        4.0      21.753943      2009      2017   \n19             All-Wheel Drive        5.0      19.473684      2010      2016   \n20             All-Wheel Drive        6.0      17.987207      2009      2017   \n21             All-Wheel Drive        8.0      14.699405      2010      2017   \n22             All-Wheel Drive       10.0      12.808511      2010      2017   \n23             All-Wheel Drive       12.0      11.303571      2010      2017   \n24             All-Wheel Drive       16.0       8.000000      2010      2015   \n25           Front-Wheel Drive        3.0      34.760479      1985      2017   \n26           Front-Wheel Drive        4.0      22.736087      1985      2017   \n27           Front-Wheel Drive        5.0      18.557604      1985      2014   \n28           Front-Wheel Drive        6.0      17.230239      1985      2017   \n29           Front-Wheel Drive        8.0      14.779661      1985      2017   \n30     Part-time 4-Wheel Drive        4.0      18.200000      2010      2017   \n31     Part-time 4-Wheel Drive        6.0      16.015625      2010      2017   \n32     Part-time 4-Wheel Drive        8.0      13.104478      2010      2017   \n33     Part-time 4-Wheel Drive       12.0      11.166667      2012      2017   \n34            Rear-Wheel Drive        2.0      17.000000      1985      2016   \n35            Rear-Wheel Drive        3.0      33.300000      2008      2017   \n36            Rear-Wheel Drive        4.0      19.036235      1985      2017   \n37            Rear-Wheel Drive        5.0      17.392405      1985      2012   \n38            Rear-Wheel Drive        6.0      16.125870      1984      2017   \n39            Rear-Wheel Drive        8.0      13.483187      1984      2017   \n40            Rear-Wheel Drive       10.0      10.934211      1992      2017   \n41            Rear-Wheel Drive       12.0      11.002262      1985      2017   \n\n    count  \n0     128  \n1     134  \n2     161  \n3       1  \n4     202  \n5      22  \n6     430  \n7     403  \n8       1  \n9      11  \n10   1602  \n11    169  \n12   2691  \n13   1947  \n14     30  \n15     51  \n16      2  \n17      3  \n18    634  \n19     19  \n20    938  \n21    336  \n22     47  \n23     56  \n24      6  \n25    167  \n26   8787  \n27    434  \n28   3479  \n29    177  \n30     15  \n31     64  \n32     67  \n33     12  \n34     48  \n35     20  \n36   2125  \n37     79  \n38   5029  \n39   4907  \n40     76  \n41    442  ",
      "text/html": "<div>\n<style scoped>\n    .dataframe tbody tr th:only-of-type {\n        vertical-align: middle;\n    }\n\n    .dataframe tbody tr th {\n        vertical-align: top;\n    }\n\n    .dataframe thead th {\n        text-align: right;\n    }\n</style>\n<table border=\"1\" class=\"dataframe\">\n  <thead>\n    <tr style=\"text-align: right;\">\n      <th></th>\n      <th>drivetrain</th>\n      <th>cylinders</th>\n      <th>mean_city_mpg</th>\n      <th>max_year</th>\n      <th>min_year</th>\n      <th>count</th>\n    </tr>\n  </thead>\n  <tbody>\n    <tr>\n      <th>0</th>\n      <td>2-Wheel Drive</td>\n      <td>4.0</td>\n      <td>20.437500</td>\n      <td>1984</td>\n      <td>1999</td>\n      <td>128</td>\n    </tr>\n    <tr>\n      <th>1</th>\n      <td>2-Wheel Drive</td>\n      <td>6.0</td>\n      <td>14.291045</td>\n      <td>1984</td>\n      <td>2006</td>\n      <td>134</td>\n    </tr>\n    <tr>\n      <th>2</th>\n      <td>2-Wheel Drive</td>\n      <td>8.0</td>\n      <td>12.906832</td>\n      <td>1984</td>\n      <td>2006</td>\n      <td>161</td>\n    </tr>\n    <tr>\n      <th>3</th>\n      <td>2-Wheel Drive, Front</td>\n      <td>4.0</td>\n      <td>25.000000</td>\n      <td>2017</td>\n      <td>2017</td>\n      <td>1</td>\n    </tr>\n    <tr>\n      <th>4</th>\n      <td>4-Wheel Drive</td>\n      <td>4.0</td>\n      <td>21.252475</td>\n      <td>1997</td>\n      <td>2017</td>\n      <td>202</td>\n    </tr>\n    <tr>\n      <th>5</th>\n      <td>4-Wheel Drive</td>\n      <td>5.0</td>\n      <td>15.909091</td>\n      <td>2010</td>\n      <td>2012</td>\n      <td>22</td>\n    </tr>\n    <tr>\n      <th>6</th>\n      <td>4-Wheel Drive</td>\n      <td>6.0</td>\n      <td>17.439535</td>\n      <td>1986</td>\n      <td>2017</td>\n      <td>430</td>\n    </tr>\n    <tr>\n      <th>7</th>\n      <td>4-Wheel Drive</td>\n      <td>8.0</td>\n      <td>14.248139</td>\n      <td>2007</td>\n      <td>2017</td>\n      <td>403</td>\n    </tr>\n    <tr>\n      <th>8</th>\n      <td>4-Wheel Drive</td>\n      <td>12.0</td>\n      <td>11.000000</td>\n      <td>2016</td>\n      <td>2016</td>\n      <td>1</td>\n    </tr>\n    <tr>\n      <th>9</th>\n      <td>4-Wheel or All-Wheel Drive</td>\n      <td>3.0</td>\n      <td>25.545455</td>\n      <td>1988</td>\n      <td>1994</td>\n      <td>11</td>\n    </tr>\n    <tr>\n      <th>10</th>\n      <td>4-Wheel or All-Wheel Drive</td>\n      <td>4.0</td>\n      <td>18.540574</td>\n      <td>1984</td>\n      <td>2009</td>\n      <td>1602</td>\n    </tr>\n    <tr>\n      <th>11</th>\n      <td>4-Wheel or All-Wheel Drive</td>\n      <td>5.0</td>\n      <td>16.041420</td>\n      <td>1985</td>\n      <td>2009</td>\n      <td>169</td>\n    </tr>\n    <tr>\n      <th>12</th>\n      <td>4-Wheel or All-Wheel Drive</td>\n      <td>6.0</td>\n      <td>14.896693</td>\n      <td>1984</td>\n      <td>2010</td>\n      <td>2691</td>\n    </tr>\n    <tr>\n      <th>13</th>\n      <td>4-Wheel or All-Wheel Drive</td>\n      <td>8.0</td>\n      <td>12.401130</td>\n      <td>1984</td>\n      <td>2009</td>\n      <td>1947</td>\n    </tr>\n    <tr>\n      <th>14</th>\n      <td>4-Wheel or All-Wheel Drive</td>\n      <td>10.0</td>\n      <td>11.666667</td>\n      <td>2004</td>\n      <td>2009</td>\n      <td>30</td>\n    </tr>\n    <tr>\n      <th>15</th>\n      <td>4-Wheel or All-Wheel Drive</td>\n      <td>12.0</td>\n      <td>9.431373</td>\n      <td>1992</td>\n      <td>2009</td>\n      <td>51</td>\n    </tr>\n    <tr>\n      <th>16</th>\n      <td>4-Wheel or All-Wheel Drive</td>\n      <td>16.0</td>\n      <td>8.000000</td>\n      <td>2006</td>\n      <td>2008</td>\n      <td>2</td>\n    </tr>\n    <tr>\n      <th>17</th>\n      <td>All-Wheel Drive</td>\n      <td>3.0</td>\n      <td>28.000000</td>\n      <td>2014</td>\n      <td>2016</td>\n      <td>3</td>\n    </tr>\n    <tr>\n      <th>18</th>\n      <td>All-Wheel Drive</td>\n      <td>4.0</td>\n      <td>21.753943</td>\n      <td>2009</td>\n      <td>2017</td>\n      <td>634</td>\n    </tr>\n    <tr>\n      <th>19</th>\n      <td>All-Wheel Drive</td>\n      <td>5.0</td>\n      <td>19.473684</td>\n      <td>2010</td>\n      <td>2016</td>\n      <td>19</td>\n    </tr>\n    <tr>\n      <th>20</th>\n      <td>All-Wheel Drive</td>\n      <td>6.0</td>\n      <td>17.987207</td>\n      <td>2009</td>\n      <td>2017</td>\n      <td>938</td>\n    </tr>\n    <tr>\n      <th>21</th>\n      <td>All-Wheel Drive</td>\n      <td>8.0</td>\n      <td>14.699405</td>\n      <td>2010</td>\n      <td>2017</td>\n      <td>336</td>\n    </tr>\n    <tr>\n      <th>22</th>\n      <td>All-Wheel Drive</td>\n      <td>10.0</td>\n      <td>12.808511</td>\n      <td>2010</td>\n      <td>2017</td>\n      <td>47</td>\n    </tr>\n    <tr>\n      <th>23</th>\n      <td>All-Wheel Drive</td>\n      <td>12.0</td>\n      <td>11.303571</td>\n      <td>2010</td>\n      <td>2017</td>\n      <td>56</td>\n    </tr>\n    <tr>\n      <th>24</th>\n      <td>All-Wheel Drive</td>\n      <td>16.0</td>\n      <td>8.000000</td>\n      <td>2010</td>\n      <td>2015</td>\n      <td>6</td>\n    </tr>\n    <tr>\n      <th>25</th>\n      <td>Front-Wheel Drive</td>\n      <td>3.0</td>\n      <td>34.760479</td>\n      <td>1985</td>\n      <td>2017</td>\n      <td>167</td>\n    </tr>\n    <tr>\n      <th>26</th>\n      <td>Front-Wheel Drive</td>\n      <td>4.0</td>\n      <td>22.736087</td>\n      <td>1985</td>\n      <td>2017</td>\n      <td>8787</td>\n    </tr>\n    <tr>\n      <th>27</th>\n      <td>Front-Wheel Drive</td>\n      <td>5.0</td>\n      <td>18.557604</td>\n      <td>1985</td>\n      <td>2014</td>\n      <td>434</td>\n    </tr>\n    <tr>\n      <th>28</th>\n      <td>Front-Wheel Drive</td>\n      <td>6.0</td>\n      <td>17.230239</td>\n      <td>1985</td>\n      <td>2017</td>\n      <td>3479</td>\n    </tr>\n    <tr>\n      <th>29</th>\n      <td>Front-Wheel Drive</td>\n      <td>8.0</td>\n      <td>14.779661</td>\n      <td>1985</td>\n      <td>2017</td>\n      <td>177</td>\n    </tr>\n    <tr>\n      <th>30</th>\n      <td>Part-time 4-Wheel Drive</td>\n      <td>4.0</td>\n      <td>18.200000</td>\n      <td>2010</td>\n      <td>2017</td>\n      <td>15</td>\n    </tr>\n    <tr>\n      <th>31</th>\n      <td>Part-time 4-Wheel Drive</td>\n      <td>6.0</td>\n      <td>16.015625</td>\n      <td>2010</td>\n      <td>2017</td>\n      <td>64</td>\n    </tr>\n    <tr>\n      <th>32</th>\n      <td>Part-time 4-Wheel Drive</td>\n      <td>8.0</td>\n      <td>13.104478</td>\n      <td>2010</td>\n      <td>2017</td>\n      <td>67</td>\n    </tr>\n    <tr>\n      <th>33</th>\n      <td>Part-time 4-Wheel Drive</td>\n      <td>12.0</td>\n      <td>11.166667</td>\n      <td>2012</td>\n      <td>2017</td>\n      <td>12</td>\n    </tr>\n    <tr>\n      <th>34</th>\n      <td>Rear-Wheel Drive</td>\n      <td>2.0</td>\n      <td>17.000000</td>\n      <td>1985</td>\n      <td>2016</td>\n      <td>48</td>\n    </tr>\n    <tr>\n      <th>35</th>\n      <td>Rear-Wheel Drive</td>\n      <td>3.0</td>\n      <td>33.300000</td>\n      <td>2008</td>\n      <td>2017</td>\n      <td>20</td>\n    </tr>\n    <tr>\n      <th>36</th>\n      <td>Rear-Wheel Drive</td>\n      <td>4.0</td>\n      <td>19.036235</td>\n      <td>1985</td>\n      <td>2017</td>\n      <td>2125</td>\n    </tr>\n    <tr>\n      <th>37</th>\n      <td>Rear-Wheel Drive</td>\n      <td>5.0</td>\n      <td>17.392405</td>\n      <td>1985</td>\n      <td>2012</td>\n      <td>79</td>\n    </tr>\n    <tr>\n      <th>38</th>\n      <td>Rear-Wheel Drive</td>\n      <td>6.0</td>\n      <td>16.125870</td>\n      <td>1984</td>\n      <td>2017</td>\n      <td>5029</td>\n    </tr>\n    <tr>\n      <th>39</th>\n      <td>Rear-Wheel Drive</td>\n      <td>8.0</td>\n      <td>13.483187</td>\n      <td>1984</td>\n      <td>2017</td>\n      <td>4907</td>\n    </tr>\n    <tr>\n      <th>40</th>\n      <td>Rear-Wheel Drive</td>\n      <td>10.0</td>\n      <td>10.934211</td>\n      <td>1992</td>\n      <td>2017</td>\n      <td>76</td>\n    </tr>\n    <tr>\n      <th>41</th>\n      <td>Rear-Wheel Drive</td>\n      <td>12.0</td>\n      <td>11.002262</td>\n      <td>1985</td>\n      <td>2017</td>\n      <td>442</td>\n    </tr>\n  </tbody>\n</table>\n</div>"
     },
     "execution_count": 38,
     "metadata": {},
     "output_type": "execute_result"
    }
   ],
   "source": [
    "tb_veic.groupby(by=[\"drivetrain\", \"cylinders\"]).agg(\n",
    "    mean_city_mpg=pd.NamedAgg(column=\"city_mpg\", aggfunc=\"mean\"),\n",
    "    max_year=pd.NamedAgg(column=\"year\", aggfunc=\"min\"),\n",
    "    min_year=pd.NamedAgg(column=\"year\", aggfunc=\"max\"),\n",
    "    count=pd.NamedAgg(column=\"city_mpg\", aggfunc=\"count\")\n",
    ").reset_index()"
   ]
  },
  {
   "cell_type": "markdown",
   "metadata": {},
   "source": [
    "Agora vamos utilizar os conceitos acima para tornar nossa análise da eficiência de automóveis mais robusta: vamos incluir, além da média de `city_mpg` e `highway_mpg`, o # de observações em cada grupo (utilizando a `aggfunc = \"count\"`) e o desvio padrão das duas variáveis de eficiência (utilizando `aggfunc = \"std\"`):"
   ]
  },
  {
   "cell_type": "code",
   "execution_count": 39,
   "metadata": {
    "ExecuteTime": {
     "end_time": "2021-12-07T23:15:57.484561Z",
     "start_time": "2021-12-07T23:15:57.419170Z"
    }
   },
   "outputs": [],
   "source": [
    "tb_agg_veic = (\n",
    "    tb_veic.groupby(by=[\"drivetrain\", \"cylinders\"])\n",
    "    .agg(\n",
    "        contagem=(\"year\", \"count\"),\n",
    "        avg_city_mpg=(\"city_mpg\", \"mean\"),\n",
    "        std_city_mpg=(\"city_mpg\", \"std\"),\n",
    "        avg_highway_mpg=(\"highway_mpg\", \"mean\"),\n",
    "        std_highway_mpg=(\"highway_mpg\", \"std\"),\n",
    "    )\n",
    "    .reset_index()\n",
    ")"
   ]
  },
  {
   "cell_type": "code",
   "execution_count": 40,
   "metadata": {},
   "outputs": [
    {
     "data": {
      "text/plain": "                    drivetrain  cylinders  contagem  avg_city_mpg  \\\n0                2-Wheel Drive        4.0       128     20.437500   \n1                2-Wheel Drive        6.0       134     14.291045   \n2                2-Wheel Drive        8.0       161     12.906832   \n3         2-Wheel Drive, Front        4.0         1     25.000000   \n4                4-Wheel Drive        4.0       202     21.252475   \n5                4-Wheel Drive        5.0        22     15.909091   \n6                4-Wheel Drive        6.0       430     17.439535   \n7                4-Wheel Drive        8.0       403     14.248139   \n8                4-Wheel Drive       12.0         1     11.000000   \n9   4-Wheel or All-Wheel Drive        3.0        11     25.545455   \n10  4-Wheel or All-Wheel Drive        4.0      1602     18.540574   \n11  4-Wheel or All-Wheel Drive        5.0       169     16.041420   \n12  4-Wheel or All-Wheel Drive        6.0      2691     14.896693   \n13  4-Wheel or All-Wheel Drive        8.0      1947     12.401130   \n14  4-Wheel or All-Wheel Drive       10.0        30     11.666667   \n15  4-Wheel or All-Wheel Drive       12.0        51      9.431373   \n16  4-Wheel or All-Wheel Drive       16.0         2      8.000000   \n17             All-Wheel Drive        3.0         3     28.000000   \n18             All-Wheel Drive        4.0       634     21.753943   \n19             All-Wheel Drive        5.0        19     19.473684   \n20             All-Wheel Drive        6.0       938     17.987207   \n21             All-Wheel Drive        8.0       336     14.699405   \n22             All-Wheel Drive       10.0        47     12.808511   \n23             All-Wheel Drive       12.0        56     11.303571   \n24             All-Wheel Drive       16.0         6      8.000000   \n25           Front-Wheel Drive        3.0       167     34.760479   \n26           Front-Wheel Drive        4.0      8787     22.736087   \n27           Front-Wheel Drive        5.0       434     18.557604   \n28           Front-Wheel Drive        6.0      3479     17.230239   \n29           Front-Wheel Drive        8.0       177     14.779661   \n30     Part-time 4-Wheel Drive        4.0        15     18.200000   \n31     Part-time 4-Wheel Drive        6.0        64     16.015625   \n32     Part-time 4-Wheel Drive        8.0        67     13.104478   \n33     Part-time 4-Wheel Drive       12.0        12     11.166667   \n34            Rear-Wheel Drive        2.0        48     17.000000   \n35            Rear-Wheel Drive        3.0        20     33.300000   \n36            Rear-Wheel Drive        4.0      2125     19.036235   \n37            Rear-Wheel Drive        5.0        79     17.392405   \n38            Rear-Wheel Drive        6.0      5029     16.125870   \n39            Rear-Wheel Drive        8.0      4907     13.483187   \n40            Rear-Wheel Drive       10.0        76     10.934211   \n41            Rear-Wheel Drive       12.0       442     11.002262   \n\n    std_city_mpg  avg_highway_mpg  std_highway_mpg  \n0       3.266991        24.710938         4.095614  \n1       1.520905        18.126866         2.959429  \n2       2.744998        16.080745         3.804562  \n3            NaN        33.000000              NaN  \n4       2.748246        26.856436         3.284849  \n5       1.019294        21.000000         1.690309  \n6       1.904435        23.753488         3.076291  \n7       2.057135        19.719603         2.485438  \n8            NaN        13.000000              NaN  \n9       1.293340        29.363636         1.026911  \n10      2.213448        23.089263         2.778322  \n11      1.082078        22.337278         2.115385  \n12      1.491398        19.773690         2.743507  \n13      1.689657        16.468927         2.472549  \n14      2.186689        17.666667         2.154920  \n15      1.500065        14.843137         2.301065  \n16      0.000000        14.000000         0.000000  \n17      0.000000        29.000000         0.000000  \n18      2.785546        29.096215         3.369581  \n19      0.772328        27.473684         1.540866  \n20      2.435474        25.321962         2.791351  \n21      1.682784        21.773810         2.993929  \n22      0.770045        20.042553         0.931512  \n23      1.292209        18.535714         2.165551  \n24      0.000000        14.833333         0.408248  \n25      5.281486        41.371257         6.332638  \n26      4.513265        30.124502         4.689151  \n27      1.997146        25.976959         3.208595  \n28      1.539641        24.840759         2.201062  \n29      1.061749        22.423729         2.175823  \n30      0.560612        21.000000         0.654654  \n31      1.090976        20.703125         1.217331  \n32      1.002033        17.582090         1.538882  \n33      0.389249        16.500000         0.674200  \n34      6.280669        22.937500         3.755315  \n35      0.801315        39.300000         1.454575  \n36      2.496533        24.673882         3.901748  \n37      3.094320        22.974684         3.452887  \n38      2.184113        22.254723         3.978280  \n39      2.099607        18.992460         3.517376  \n40      1.158568        17.605263         2.633522  \n41      1.460747        17.038462         2.218427  ",
      "text/html": "<div>\n<style scoped>\n    .dataframe tbody tr th:only-of-type {\n        vertical-align: middle;\n    }\n\n    .dataframe tbody tr th {\n        vertical-align: top;\n    }\n\n    .dataframe thead th {\n        text-align: right;\n    }\n</style>\n<table border=\"1\" class=\"dataframe\">\n  <thead>\n    <tr style=\"text-align: right;\">\n      <th></th>\n      <th>drivetrain</th>\n      <th>cylinders</th>\n      <th>contagem</th>\n      <th>avg_city_mpg</th>\n      <th>std_city_mpg</th>\n      <th>avg_highway_mpg</th>\n      <th>std_highway_mpg</th>\n    </tr>\n  </thead>\n  <tbody>\n    <tr>\n      <th>0</th>\n      <td>2-Wheel Drive</td>\n      <td>4.0</td>\n      <td>128</td>\n      <td>20.437500</td>\n      <td>3.266991</td>\n      <td>24.710938</td>\n      <td>4.095614</td>\n    </tr>\n    <tr>\n      <th>1</th>\n      <td>2-Wheel Drive</td>\n      <td>6.0</td>\n      <td>134</td>\n      <td>14.291045</td>\n      <td>1.520905</td>\n      <td>18.126866</td>\n      <td>2.959429</td>\n    </tr>\n    <tr>\n      <th>2</th>\n      <td>2-Wheel Drive</td>\n      <td>8.0</td>\n      <td>161</td>\n      <td>12.906832</td>\n      <td>2.744998</td>\n      <td>16.080745</td>\n      <td>3.804562</td>\n    </tr>\n    <tr>\n      <th>3</th>\n      <td>2-Wheel Drive, Front</td>\n      <td>4.0</td>\n      <td>1</td>\n      <td>25.000000</td>\n      <td>NaN</td>\n      <td>33.000000</td>\n      <td>NaN</td>\n    </tr>\n    <tr>\n      <th>4</th>\n      <td>4-Wheel Drive</td>\n      <td>4.0</td>\n      <td>202</td>\n      <td>21.252475</td>\n      <td>2.748246</td>\n      <td>26.856436</td>\n      <td>3.284849</td>\n    </tr>\n    <tr>\n      <th>5</th>\n      <td>4-Wheel Drive</td>\n      <td>5.0</td>\n      <td>22</td>\n      <td>15.909091</td>\n      <td>1.019294</td>\n      <td>21.000000</td>\n      <td>1.690309</td>\n    </tr>\n    <tr>\n      <th>6</th>\n      <td>4-Wheel Drive</td>\n      <td>6.0</td>\n      <td>430</td>\n      <td>17.439535</td>\n      <td>1.904435</td>\n      <td>23.753488</td>\n      <td>3.076291</td>\n    </tr>\n    <tr>\n      <th>7</th>\n      <td>4-Wheel Drive</td>\n      <td>8.0</td>\n      <td>403</td>\n      <td>14.248139</td>\n      <td>2.057135</td>\n      <td>19.719603</td>\n      <td>2.485438</td>\n    </tr>\n    <tr>\n      <th>8</th>\n      <td>4-Wheel Drive</td>\n      <td>12.0</td>\n      <td>1</td>\n      <td>11.000000</td>\n      <td>NaN</td>\n      <td>13.000000</td>\n      <td>NaN</td>\n    </tr>\n    <tr>\n      <th>9</th>\n      <td>4-Wheel or All-Wheel Drive</td>\n      <td>3.0</td>\n      <td>11</td>\n      <td>25.545455</td>\n      <td>1.293340</td>\n      <td>29.363636</td>\n      <td>1.026911</td>\n    </tr>\n    <tr>\n      <th>10</th>\n      <td>4-Wheel or All-Wheel Drive</td>\n      <td>4.0</td>\n      <td>1602</td>\n      <td>18.540574</td>\n      <td>2.213448</td>\n      <td>23.089263</td>\n      <td>2.778322</td>\n    </tr>\n    <tr>\n      <th>11</th>\n      <td>4-Wheel or All-Wheel Drive</td>\n      <td>5.0</td>\n      <td>169</td>\n      <td>16.041420</td>\n      <td>1.082078</td>\n      <td>22.337278</td>\n      <td>2.115385</td>\n    </tr>\n    <tr>\n      <th>12</th>\n      <td>4-Wheel or All-Wheel Drive</td>\n      <td>6.0</td>\n      <td>2691</td>\n      <td>14.896693</td>\n      <td>1.491398</td>\n      <td>19.773690</td>\n      <td>2.743507</td>\n    </tr>\n    <tr>\n      <th>13</th>\n      <td>4-Wheel or All-Wheel Drive</td>\n      <td>8.0</td>\n      <td>1947</td>\n      <td>12.401130</td>\n      <td>1.689657</td>\n      <td>16.468927</td>\n      <td>2.472549</td>\n    </tr>\n    <tr>\n      <th>14</th>\n      <td>4-Wheel or All-Wheel Drive</td>\n      <td>10.0</td>\n      <td>30</td>\n      <td>11.666667</td>\n      <td>2.186689</td>\n      <td>17.666667</td>\n      <td>2.154920</td>\n    </tr>\n    <tr>\n      <th>15</th>\n      <td>4-Wheel or All-Wheel Drive</td>\n      <td>12.0</td>\n      <td>51</td>\n      <td>9.431373</td>\n      <td>1.500065</td>\n      <td>14.843137</td>\n      <td>2.301065</td>\n    </tr>\n    <tr>\n      <th>16</th>\n      <td>4-Wheel or All-Wheel Drive</td>\n      <td>16.0</td>\n      <td>2</td>\n      <td>8.000000</td>\n      <td>0.000000</td>\n      <td>14.000000</td>\n      <td>0.000000</td>\n    </tr>\n    <tr>\n      <th>17</th>\n      <td>All-Wheel Drive</td>\n      <td>3.0</td>\n      <td>3</td>\n      <td>28.000000</td>\n      <td>0.000000</td>\n      <td>29.000000</td>\n      <td>0.000000</td>\n    </tr>\n    <tr>\n      <th>18</th>\n      <td>All-Wheel Drive</td>\n      <td>4.0</td>\n      <td>634</td>\n      <td>21.753943</td>\n      <td>2.785546</td>\n      <td>29.096215</td>\n      <td>3.369581</td>\n    </tr>\n    <tr>\n      <th>19</th>\n      <td>All-Wheel Drive</td>\n      <td>5.0</td>\n      <td>19</td>\n      <td>19.473684</td>\n      <td>0.772328</td>\n      <td>27.473684</td>\n      <td>1.540866</td>\n    </tr>\n    <tr>\n      <th>20</th>\n      <td>All-Wheel Drive</td>\n      <td>6.0</td>\n      <td>938</td>\n      <td>17.987207</td>\n      <td>2.435474</td>\n      <td>25.321962</td>\n      <td>2.791351</td>\n    </tr>\n    <tr>\n      <th>21</th>\n      <td>All-Wheel Drive</td>\n      <td>8.0</td>\n      <td>336</td>\n      <td>14.699405</td>\n      <td>1.682784</td>\n      <td>21.773810</td>\n      <td>2.993929</td>\n    </tr>\n    <tr>\n      <th>22</th>\n      <td>All-Wheel Drive</td>\n      <td>10.0</td>\n      <td>47</td>\n      <td>12.808511</td>\n      <td>0.770045</td>\n      <td>20.042553</td>\n      <td>0.931512</td>\n    </tr>\n    <tr>\n      <th>23</th>\n      <td>All-Wheel Drive</td>\n      <td>12.0</td>\n      <td>56</td>\n      <td>11.303571</td>\n      <td>1.292209</td>\n      <td>18.535714</td>\n      <td>2.165551</td>\n    </tr>\n    <tr>\n      <th>24</th>\n      <td>All-Wheel Drive</td>\n      <td>16.0</td>\n      <td>6</td>\n      <td>8.000000</td>\n      <td>0.000000</td>\n      <td>14.833333</td>\n      <td>0.408248</td>\n    </tr>\n    <tr>\n      <th>25</th>\n      <td>Front-Wheel Drive</td>\n      <td>3.0</td>\n      <td>167</td>\n      <td>34.760479</td>\n      <td>5.281486</td>\n      <td>41.371257</td>\n      <td>6.332638</td>\n    </tr>\n    <tr>\n      <th>26</th>\n      <td>Front-Wheel Drive</td>\n      <td>4.0</td>\n      <td>8787</td>\n      <td>22.736087</td>\n      <td>4.513265</td>\n      <td>30.124502</td>\n      <td>4.689151</td>\n    </tr>\n    <tr>\n      <th>27</th>\n      <td>Front-Wheel Drive</td>\n      <td>5.0</td>\n      <td>434</td>\n      <td>18.557604</td>\n      <td>1.997146</td>\n      <td>25.976959</td>\n      <td>3.208595</td>\n    </tr>\n    <tr>\n      <th>28</th>\n      <td>Front-Wheel Drive</td>\n      <td>6.0</td>\n      <td>3479</td>\n      <td>17.230239</td>\n      <td>1.539641</td>\n      <td>24.840759</td>\n      <td>2.201062</td>\n    </tr>\n    <tr>\n      <th>29</th>\n      <td>Front-Wheel Drive</td>\n      <td>8.0</td>\n      <td>177</td>\n      <td>14.779661</td>\n      <td>1.061749</td>\n      <td>22.423729</td>\n      <td>2.175823</td>\n    </tr>\n    <tr>\n      <th>30</th>\n      <td>Part-time 4-Wheel Drive</td>\n      <td>4.0</td>\n      <td>15</td>\n      <td>18.200000</td>\n      <td>0.560612</td>\n      <td>21.000000</td>\n      <td>0.654654</td>\n    </tr>\n    <tr>\n      <th>31</th>\n      <td>Part-time 4-Wheel Drive</td>\n      <td>6.0</td>\n      <td>64</td>\n      <td>16.015625</td>\n      <td>1.090976</td>\n      <td>20.703125</td>\n      <td>1.217331</td>\n    </tr>\n    <tr>\n      <th>32</th>\n      <td>Part-time 4-Wheel Drive</td>\n      <td>8.0</td>\n      <td>67</td>\n      <td>13.104478</td>\n      <td>1.002033</td>\n      <td>17.582090</td>\n      <td>1.538882</td>\n    </tr>\n    <tr>\n      <th>33</th>\n      <td>Part-time 4-Wheel Drive</td>\n      <td>12.0</td>\n      <td>12</td>\n      <td>11.166667</td>\n      <td>0.389249</td>\n      <td>16.500000</td>\n      <td>0.674200</td>\n    </tr>\n    <tr>\n      <th>34</th>\n      <td>Rear-Wheel Drive</td>\n      <td>2.0</td>\n      <td>48</td>\n      <td>17.000000</td>\n      <td>6.280669</td>\n      <td>22.937500</td>\n      <td>3.755315</td>\n    </tr>\n    <tr>\n      <th>35</th>\n      <td>Rear-Wheel Drive</td>\n      <td>3.0</td>\n      <td>20</td>\n      <td>33.300000</td>\n      <td>0.801315</td>\n      <td>39.300000</td>\n      <td>1.454575</td>\n    </tr>\n    <tr>\n      <th>36</th>\n      <td>Rear-Wheel Drive</td>\n      <td>4.0</td>\n      <td>2125</td>\n      <td>19.036235</td>\n      <td>2.496533</td>\n      <td>24.673882</td>\n      <td>3.901748</td>\n    </tr>\n    <tr>\n      <th>37</th>\n      <td>Rear-Wheel Drive</td>\n      <td>5.0</td>\n      <td>79</td>\n      <td>17.392405</td>\n      <td>3.094320</td>\n      <td>22.974684</td>\n      <td>3.452887</td>\n    </tr>\n    <tr>\n      <th>38</th>\n      <td>Rear-Wheel Drive</td>\n      <td>6.0</td>\n      <td>5029</td>\n      <td>16.125870</td>\n      <td>2.184113</td>\n      <td>22.254723</td>\n      <td>3.978280</td>\n    </tr>\n    <tr>\n      <th>39</th>\n      <td>Rear-Wheel Drive</td>\n      <td>8.0</td>\n      <td>4907</td>\n      <td>13.483187</td>\n      <td>2.099607</td>\n      <td>18.992460</td>\n      <td>3.517376</td>\n    </tr>\n    <tr>\n      <th>40</th>\n      <td>Rear-Wheel Drive</td>\n      <td>10.0</td>\n      <td>76</td>\n      <td>10.934211</td>\n      <td>1.158568</td>\n      <td>17.605263</td>\n      <td>2.633522</td>\n    </tr>\n    <tr>\n      <th>41</th>\n      <td>Rear-Wheel Drive</td>\n      <td>12.0</td>\n      <td>442</td>\n      <td>11.002262</td>\n      <td>1.460747</td>\n      <td>17.038462</td>\n      <td>2.218427</td>\n    </tr>\n  </tbody>\n</table>\n</div>"
     },
     "execution_count": 40,
     "metadata": {},
     "output_type": "execute_result"
    }
   ],
   "source": [
    "tb_agg_veic"
   ]
  },
  {
   "cell_type": "markdown",
   "metadata": {},
   "source": [
    "### Desafio - Avaliando indicadores agregados\n",
    "\n",
    "Indicadores agregados possuem limitações - um dos principais limitantes é a quantidade de dados utilizada para calcula-los: *a média de um automóvel não representa um padrão!*\n",
    "\n",
    "Vamos utilizar o que aprendemos até agora para determinar quais indicadores da tabela acima são *confiáveis* selecionando apenas os grupos que contém pelo menos 100 observações:"
   ]
  },
  {
   "cell_type": "code",
   "execution_count": 43,
   "metadata": {},
   "outputs": [
    {
     "data": {
      "text/plain": "           drivetrain  cylinders  contagem  avg_city_mpg  std_city_mpg  \\\n6       4-Wheel Drive        6.0       430     17.439535      1.904435   \n36   Rear-Wheel Drive        4.0      2125     19.036235      2.496533   \n0       2-Wheel Drive        4.0       128     20.437500      3.266991   \n28  Front-Wheel Drive        6.0      3479     17.230239      1.539641   \n20    All-Wheel Drive        6.0       938     17.987207      2.435474   \n27  Front-Wheel Drive        5.0       434     18.557604      1.997146   \n4       4-Wheel Drive        4.0       202     21.252475      2.748246   \n18    All-Wheel Drive        4.0       634     21.753943      2.785546   \n26  Front-Wheel Drive        4.0      8787     22.736087      4.513265   \n25  Front-Wheel Drive        3.0       167     34.760479      5.281486   \n\n    avg_highway_mpg  std_highway_mpg  \n6         23.753488         3.076291  \n36        24.673882         3.901748  \n0         24.710938         4.095614  \n28        24.840759         2.201062  \n20        25.321962         2.791351  \n27        25.976959         3.208595  \n4         26.856436         3.284849  \n18        29.096215         3.369581  \n26        30.124502         4.689151  \n25        41.371257         6.332638  ",
      "text/html": "<div>\n<style scoped>\n    .dataframe tbody tr th:only-of-type {\n        vertical-align: middle;\n    }\n\n    .dataframe tbody tr th {\n        vertical-align: top;\n    }\n\n    .dataframe thead th {\n        text-align: right;\n    }\n</style>\n<table border=\"1\" class=\"dataframe\">\n  <thead>\n    <tr style=\"text-align: right;\">\n      <th></th>\n      <th>drivetrain</th>\n      <th>cylinders</th>\n      <th>contagem</th>\n      <th>avg_city_mpg</th>\n      <th>std_city_mpg</th>\n      <th>avg_highway_mpg</th>\n      <th>std_highway_mpg</th>\n    </tr>\n  </thead>\n  <tbody>\n    <tr>\n      <th>6</th>\n      <td>4-Wheel Drive</td>\n      <td>6.0</td>\n      <td>430</td>\n      <td>17.439535</td>\n      <td>1.904435</td>\n      <td>23.753488</td>\n      <td>3.076291</td>\n    </tr>\n    <tr>\n      <th>36</th>\n      <td>Rear-Wheel Drive</td>\n      <td>4.0</td>\n      <td>2125</td>\n      <td>19.036235</td>\n      <td>2.496533</td>\n      <td>24.673882</td>\n      <td>3.901748</td>\n    </tr>\n    <tr>\n      <th>0</th>\n      <td>2-Wheel Drive</td>\n      <td>4.0</td>\n      <td>128</td>\n      <td>20.437500</td>\n      <td>3.266991</td>\n      <td>24.710938</td>\n      <td>4.095614</td>\n    </tr>\n    <tr>\n      <th>28</th>\n      <td>Front-Wheel Drive</td>\n      <td>6.0</td>\n      <td>3479</td>\n      <td>17.230239</td>\n      <td>1.539641</td>\n      <td>24.840759</td>\n      <td>2.201062</td>\n    </tr>\n    <tr>\n      <th>20</th>\n      <td>All-Wheel Drive</td>\n      <td>6.0</td>\n      <td>938</td>\n      <td>17.987207</td>\n      <td>2.435474</td>\n      <td>25.321962</td>\n      <td>2.791351</td>\n    </tr>\n    <tr>\n      <th>27</th>\n      <td>Front-Wheel Drive</td>\n      <td>5.0</td>\n      <td>434</td>\n      <td>18.557604</td>\n      <td>1.997146</td>\n      <td>25.976959</td>\n      <td>3.208595</td>\n    </tr>\n    <tr>\n      <th>4</th>\n      <td>4-Wheel Drive</td>\n      <td>4.0</td>\n      <td>202</td>\n      <td>21.252475</td>\n      <td>2.748246</td>\n      <td>26.856436</td>\n      <td>3.284849</td>\n    </tr>\n    <tr>\n      <th>18</th>\n      <td>All-Wheel Drive</td>\n      <td>4.0</td>\n      <td>634</td>\n      <td>21.753943</td>\n      <td>2.785546</td>\n      <td>29.096215</td>\n      <td>3.369581</td>\n    </tr>\n    <tr>\n      <th>26</th>\n      <td>Front-Wheel Drive</td>\n      <td>4.0</td>\n      <td>8787</td>\n      <td>22.736087</td>\n      <td>4.513265</td>\n      <td>30.124502</td>\n      <td>4.689151</td>\n    </tr>\n    <tr>\n      <th>25</th>\n      <td>Front-Wheel Drive</td>\n      <td>3.0</td>\n      <td>167</td>\n      <td>34.760479</td>\n      <td>5.281486</td>\n      <td>41.371257</td>\n      <td>6.332638</td>\n    </tr>\n  </tbody>\n</table>\n</div>"
     },
     "execution_count": 43,
     "metadata": {},
     "output_type": "execute_result"
    }
   ],
   "source": [
    "# DESAFIO\n",
    "count_thres = tb_agg_veic[\"contagem\"] >= 100\n",
    "tb_agg_veic[count_thres].sort_values(\"avg_highway_mpg\").tail(10)"
   ]
  },
  {
   "cell_type": "markdown",
   "metadata": {},
   "source": [
    "# Data Manipulation - Joins\n",
    "\n",
    "* Como unir DataFrames através de colunas\n",
    "* [Fruits Example](https://docs.google.com/spreadsheets/d/1foV1THfhVc5WduBTMjpxmthAD1BDHS9FUpH-WgGDH5E/edit?usp=sharing)\n",
    "\n",
    "Um join pode ser classificado ao longo de dois eixos:\n",
    "\n",
    "1. **Direção**: Esquerda, direita ou interno (left, right e inner);\n",
    "2. **Cardinalidade**: Um para um, um para muitos, muitos para muitos (1:1, 1:n, n:n).\n",
    "\n",
    "https://towardsdatascience.com/can-we-stop-with-the-sql-joins-venn-diagrams-insanity-16791d9250c3"
   ]
  },
  {
   "cell_type": "markdown",
   "metadata": {},
   "source": [
    "## Tipos de Join\n",
    "\n",
    "Vamos analisar cada tipo de join através de sua cardinalidade\n",
    "\n",
    "### Um para Um (1:1)\n",
    "\n",
    "Um join um pra um ocorre quando a **relação entre as chaves** é 1:1, ou seja, para cada chave particular na tabela A teremos apenas uma chave equivalente na tabela B.\n",
    "\n",
    "Esse é o tipo *desejado* **mais comum de join**, e serve para cruzarmos tabelas onde cada linha representa o **o mesmo tipo de observação** (em termos técnicos, tabelas com a mesma chave única). Por exemplo, se temos uma tabela de informações geográficas por município e outra de informações demográficas podemos utilizar um join 1:1 (usando o município) para termos uma tabela de informações demográficas e geográficas."
   ]
  },
  {
   "cell_type": "code",
   "execution_count": 44,
   "metadata": {
    "ExecuteTime": {
     "end_time": "2021-12-07T23:34:25.588337Z",
     "start_time": "2021-12-07T23:34:25.571381Z"
    }
   },
   "outputs": [
    {
     "data": {
      "text/plain": "  nome_fruta  producao_kg\n0        Uva           10\n1    Abacate            1\n2   Melancia            1\n3    Atemoia            3\n4    Laranja            4",
      "text/html": "<div>\n<style scoped>\n    .dataframe tbody tr th:only-of-type {\n        vertical-align: middle;\n    }\n\n    .dataframe tbody tr th {\n        vertical-align: top;\n    }\n\n    .dataframe thead th {\n        text-align: right;\n    }\n</style>\n<table border=\"1\" class=\"dataframe\">\n  <thead>\n    <tr style=\"text-align: right;\">\n      <th></th>\n      <th>nome_fruta</th>\n      <th>producao_kg</th>\n    </tr>\n  </thead>\n  <tbody>\n    <tr>\n      <th>0</th>\n      <td>Uva</td>\n      <td>10</td>\n    </tr>\n    <tr>\n      <th>1</th>\n      <td>Abacate</td>\n      <td>1</td>\n    </tr>\n    <tr>\n      <th>2</th>\n      <td>Melancia</td>\n      <td>1</td>\n    </tr>\n    <tr>\n      <th>3</th>\n      <td>Atemoia</td>\n      <td>3</td>\n    </tr>\n    <tr>\n      <th>4</th>\n      <td>Laranja</td>\n      <td>4</td>\n    </tr>\n  </tbody>\n</table>\n</div>"
     },
     "execution_count": 44,
     "metadata": {},
     "output_type": "execute_result"
    }
   ],
   "source": [
    "nome_frutas = [\"Uva\", \"Abacate\", \"Melancia\", \"Atemoia\", \"Laranja\"]\n",
    "producao_frutas = [10, 1, 1, 3, 4]\n",
    "tb_prod_frutas = pd.DataFrame(\n",
    "    {\"nome_fruta\": nome_frutas, \"producao_kg\": producao_frutas}\n",
    ")\n",
    "tb_prod_frutas\n"
   ]
  },
  {
   "cell_type": "code",
   "execution_count": 45,
   "metadata": {
    "ExecuteTime": {
     "end_time": "2021-12-07T23:34:41.825655Z",
     "start_time": "2021-12-07T23:34:41.809698Z"
    }
   },
   "outputs": [
    {
     "data": {
      "text/plain": "  nome_fruta          cidade\n0        Uva        Campinas\n1    Abacate        Campinas\n2   Melancia         Atibaia\n3  Carambola  Rio de Janeiro",
      "text/html": "<div>\n<style scoped>\n    .dataframe tbody tr th:only-of-type {\n        vertical-align: middle;\n    }\n\n    .dataframe tbody tr th {\n        vertical-align: top;\n    }\n\n    .dataframe thead th {\n        text-align: right;\n    }\n</style>\n<table border=\"1\" class=\"dataframe\">\n  <thead>\n    <tr style=\"text-align: right;\">\n      <th></th>\n      <th>nome_fruta</th>\n      <th>cidade</th>\n    </tr>\n  </thead>\n  <tbody>\n    <tr>\n      <th>0</th>\n      <td>Uva</td>\n      <td>Campinas</td>\n    </tr>\n    <tr>\n      <th>1</th>\n      <td>Abacate</td>\n      <td>Campinas</td>\n    </tr>\n    <tr>\n      <th>2</th>\n      <td>Melancia</td>\n      <td>Atibaia</td>\n    </tr>\n    <tr>\n      <th>3</th>\n      <td>Carambola</td>\n      <td>Rio de Janeiro</td>\n    </tr>\n  </tbody>\n</table>\n</div>"
     },
     "execution_count": 45,
     "metadata": {},
     "output_type": "execute_result"
    }
   ],
   "source": [
    "fruta = [\"Uva\", \"Abacate\", \"Melancia\", \"Carambola\"]\n",
    "cidade = [\"Campinas\", \"Campinas\", \"Atibaia\", \"Rio de Janeiro\"]\n",
    "tb_pomar_cidade = pd.DataFrame({\"nome_fruta\": fruta, \"cidade\": cidade})\n",
    "tb_pomar_cidade\n"
   ]
  },
  {
   "cell_type": "markdown",
   "metadata": {},
   "source": [
    "#### Inner Join (o que é comum às duas tabelas)"
   ]
  },
  {
   "cell_type": "code",
   "execution_count": 46,
   "metadata": {
    "ExecuteTime": {
     "end_time": "2021-12-07T23:37:50.965432Z",
     "start_time": "2021-12-07T23:37:50.939488Z"
    }
   },
   "outputs": [
    {
     "data": {
      "text/plain": "  nome_fruta  producao_kg    cidade\n0        Uva           10  Campinas\n1    Abacate            1  Campinas\n2   Melancia            1   Atibaia",
      "text/html": "<div>\n<style scoped>\n    .dataframe tbody tr th:only-of-type {\n        vertical-align: middle;\n    }\n\n    .dataframe tbody tr th {\n        vertical-align: top;\n    }\n\n    .dataframe thead th {\n        text-align: right;\n    }\n</style>\n<table border=\"1\" class=\"dataframe\">\n  <thead>\n    <tr style=\"text-align: right;\">\n      <th></th>\n      <th>nome_fruta</th>\n      <th>producao_kg</th>\n      <th>cidade</th>\n    </tr>\n  </thead>\n  <tbody>\n    <tr>\n      <th>0</th>\n      <td>Uva</td>\n      <td>10</td>\n      <td>Campinas</td>\n    </tr>\n    <tr>\n      <th>1</th>\n      <td>Abacate</td>\n      <td>1</td>\n      <td>Campinas</td>\n    </tr>\n    <tr>\n      <th>2</th>\n      <td>Melancia</td>\n      <td>1</td>\n      <td>Atibaia</td>\n    </tr>\n  </tbody>\n</table>\n</div>"
     },
     "execution_count": 46,
     "metadata": {},
     "output_type": "execute_result"
    }
   ],
   "source": [
    "pd.merge(tb_prod_frutas, tb_pomar_cidade, on=\"nome_fruta\", how=\"inner\")\n"
   ]
  },
  {
   "cell_type": "markdown",
   "metadata": {},
   "source": [
    "#### Left Join (tudo o que está na tabela a esquerda)"
   ]
  },
  {
   "cell_type": "code",
   "execution_count": 47,
   "metadata": {
    "ExecuteTime": {
     "end_time": "2021-12-07T23:41:01.178700Z",
     "start_time": "2021-12-07T23:41:01.155762Z"
    }
   },
   "outputs": [
    {
     "data": {
      "text/plain": "  nome_fruta  producao_kg    cidade\n0        Uva           10  Campinas\n1    Abacate            1  Campinas\n2   Melancia            1   Atibaia\n3    Atemoia            3       NaN\n4    Laranja            4       NaN",
      "text/html": "<div>\n<style scoped>\n    .dataframe tbody tr th:only-of-type {\n        vertical-align: middle;\n    }\n\n    .dataframe tbody tr th {\n        vertical-align: top;\n    }\n\n    .dataframe thead th {\n        text-align: right;\n    }\n</style>\n<table border=\"1\" class=\"dataframe\">\n  <thead>\n    <tr style=\"text-align: right;\">\n      <th></th>\n      <th>nome_fruta</th>\n      <th>producao_kg</th>\n      <th>cidade</th>\n    </tr>\n  </thead>\n  <tbody>\n    <tr>\n      <th>0</th>\n      <td>Uva</td>\n      <td>10</td>\n      <td>Campinas</td>\n    </tr>\n    <tr>\n      <th>1</th>\n      <td>Abacate</td>\n      <td>1</td>\n      <td>Campinas</td>\n    </tr>\n    <tr>\n      <th>2</th>\n      <td>Melancia</td>\n      <td>1</td>\n      <td>Atibaia</td>\n    </tr>\n    <tr>\n      <th>3</th>\n      <td>Atemoia</td>\n      <td>3</td>\n      <td>NaN</td>\n    </tr>\n    <tr>\n      <th>4</th>\n      <td>Laranja</td>\n      <td>4</td>\n      <td>NaN</td>\n    </tr>\n  </tbody>\n</table>\n</div>"
     },
     "execution_count": 47,
     "metadata": {},
     "output_type": "execute_result"
    }
   ],
   "source": [
    "pd.merge(tb_prod_frutas, tb_pomar_cidade, on=\"nome_fruta\", how=\"left\")\n"
   ]
  },
  {
   "cell_type": "markdown",
   "metadata": {},
   "source": [
    "#### Right Join (tudo o que está na tabela a direita)"
   ]
  },
  {
   "cell_type": "code",
   "execution_count": 48,
   "metadata": {
    "ExecuteTime": {
     "end_time": "2021-12-07T23:43:03.575349Z",
     "start_time": "2021-12-07T23:43:03.552412Z"
    }
   },
   "outputs": [
    {
     "data": {
      "text/plain": "  nome_fruta  producao_kg          cidade\n0        Uva         10.0        Campinas\n1    Abacate          1.0        Campinas\n2   Melancia          1.0         Atibaia\n3  Carambola          NaN  Rio de Janeiro",
      "text/html": "<div>\n<style scoped>\n    .dataframe tbody tr th:only-of-type {\n        vertical-align: middle;\n    }\n\n    .dataframe tbody tr th {\n        vertical-align: top;\n    }\n\n    .dataframe thead th {\n        text-align: right;\n    }\n</style>\n<table border=\"1\" class=\"dataframe\">\n  <thead>\n    <tr style=\"text-align: right;\">\n      <th></th>\n      <th>nome_fruta</th>\n      <th>producao_kg</th>\n      <th>cidade</th>\n    </tr>\n  </thead>\n  <tbody>\n    <tr>\n      <th>0</th>\n      <td>Uva</td>\n      <td>10.0</td>\n      <td>Campinas</td>\n    </tr>\n    <tr>\n      <th>1</th>\n      <td>Abacate</td>\n      <td>1.0</td>\n      <td>Campinas</td>\n    </tr>\n    <tr>\n      <th>2</th>\n      <td>Melancia</td>\n      <td>1.0</td>\n      <td>Atibaia</td>\n    </tr>\n    <tr>\n      <th>3</th>\n      <td>Carambola</td>\n      <td>NaN</td>\n      <td>Rio de Janeiro</td>\n    </tr>\n  </tbody>\n</table>\n</div>"
     },
     "execution_count": 48,
     "metadata": {},
     "output_type": "execute_result"
    }
   ],
   "source": [
    "pd.merge(tb_prod_frutas, tb_pomar_cidade, on=\"nome_fruta\", how=\"right\")\n"
   ]
  },
  {
   "cell_type": "markdown",
   "metadata": {},
   "source": [
    "#### Chaves com nomes distintos\n",
    "\n",
    "Embora seja considerado boa prática que todas as colunas de chave tenham nomes uniformes, muitas vezes vamos nos deparar com situações onde queremos unir duas tabelas através de um chave que está em colunas com nomes diferentes. \n",
    "\n",
    "Para tratar isso utilizaremos os argumentos `left_on =` e `right_on =`:"
   ]
  },
  {
   "cell_type": "code",
   "execution_count": 49,
   "metadata": {
    "ExecuteTime": {
     "end_time": "2021-12-08T00:46:35.936498Z",
     "start_time": "2021-12-08T00:46:35.911562Z"
    }
   },
   "outputs": [
    {
     "data": {
      "text/plain": "  nome_fruta  producao_kg\n0        Uva           10\n1    Abacate            1\n2   Melancia            1\n3    Atemoia            3\n4    Laranja            4",
      "text/html": "<div>\n<style scoped>\n    .dataframe tbody tr th:only-of-type {\n        vertical-align: middle;\n    }\n\n    .dataframe tbody tr th {\n        vertical-align: top;\n    }\n\n    .dataframe thead th {\n        text-align: right;\n    }\n</style>\n<table border=\"1\" class=\"dataframe\">\n  <thead>\n    <tr style=\"text-align: right;\">\n      <th></th>\n      <th>nome_fruta</th>\n      <th>producao_kg</th>\n    </tr>\n  </thead>\n  <tbody>\n    <tr>\n      <th>0</th>\n      <td>Uva</td>\n      <td>10</td>\n    </tr>\n    <tr>\n      <th>1</th>\n      <td>Abacate</td>\n      <td>1</td>\n    </tr>\n    <tr>\n      <th>2</th>\n      <td>Melancia</td>\n      <td>1</td>\n    </tr>\n    <tr>\n      <th>3</th>\n      <td>Atemoia</td>\n      <td>3</td>\n    </tr>\n    <tr>\n      <th>4</th>\n      <td>Laranja</td>\n      <td>4</td>\n    </tr>\n  </tbody>\n</table>\n</div>"
     },
     "execution_count": 49,
     "metadata": {},
     "output_type": "execute_result"
    }
   ],
   "source": [
    "nome_frutas = [\"Uva\", \"Abacate\", \"Melancia\", \"Atemoia\", \"Laranja\"]\n",
    "producao_frutas = [10, 1, 1, 3, 4]\n",
    "tb_prod_frutas = pd.DataFrame(\n",
    "    {\"nome_fruta\": nome_frutas, \"producao_kg\": producao_frutas}\n",
    ")\n",
    "tb_prod_frutas\n"
   ]
  },
  {
   "cell_type": "code",
   "execution_count": 50,
   "metadata": {
    "ExecuteTime": {
     "end_time": "2021-12-08T00:46:41.104712Z",
     "start_time": "2021-12-08T00:46:41.082770Z"
    }
   },
   "outputs": [
    {
     "data": {
      "text/plain": "  nome_pomar_fruta          cidade\n0              Uva        Campinas\n1          Abacate        Campinas\n2         Melancia         Atibaia\n3        Carambola  Rio de Janeiro",
      "text/html": "<div>\n<style scoped>\n    .dataframe tbody tr th:only-of-type {\n        vertical-align: middle;\n    }\n\n    .dataframe tbody tr th {\n        vertical-align: top;\n    }\n\n    .dataframe thead th {\n        text-align: right;\n    }\n</style>\n<table border=\"1\" class=\"dataframe\">\n  <thead>\n    <tr style=\"text-align: right;\">\n      <th></th>\n      <th>nome_pomar_fruta</th>\n      <th>cidade</th>\n    </tr>\n  </thead>\n  <tbody>\n    <tr>\n      <th>0</th>\n      <td>Uva</td>\n      <td>Campinas</td>\n    </tr>\n    <tr>\n      <th>1</th>\n      <td>Abacate</td>\n      <td>Campinas</td>\n    </tr>\n    <tr>\n      <th>2</th>\n      <td>Melancia</td>\n      <td>Atibaia</td>\n    </tr>\n    <tr>\n      <th>3</th>\n      <td>Carambola</td>\n      <td>Rio de Janeiro</td>\n    </tr>\n  </tbody>\n</table>\n</div>"
     },
     "execution_count": 50,
     "metadata": {},
     "output_type": "execute_result"
    }
   ],
   "source": [
    "fruta = [\"Uva\", \"Abacate\", \"Melancia\", \"Carambola\"]\n",
    "cidade = [\"Campinas\", \"Campinas\", \"Atibaia\", \"Rio de Janeiro\"]\n",
    "tb_pomar_cidade = pd.DataFrame({\"nome_pomar_fruta\": fruta, \"cidade\": cidade})\n",
    "tb_pomar_cidade\n"
   ]
  },
  {
   "cell_type": "code",
   "execution_count": 51,
   "metadata": {
    "ExecuteTime": {
     "end_time": "2021-12-08T00:47:49.391238Z",
     "start_time": "2021-12-08T00:47:49.372290Z"
    }
   },
   "outputs": [
    {
     "data": {
      "text/plain": "  nome_fruta  producao_kg nome_pomar_fruta    cidade\n0        Uva           10              Uva  Campinas\n1    Abacate            1          Abacate  Campinas\n2   Melancia            1         Melancia   Atibaia",
      "text/html": "<div>\n<style scoped>\n    .dataframe tbody tr th:only-of-type {\n        vertical-align: middle;\n    }\n\n    .dataframe tbody tr th {\n        vertical-align: top;\n    }\n\n    .dataframe thead th {\n        text-align: right;\n    }\n</style>\n<table border=\"1\" class=\"dataframe\">\n  <thead>\n    <tr style=\"text-align: right;\">\n      <th></th>\n      <th>nome_fruta</th>\n      <th>producao_kg</th>\n      <th>nome_pomar_fruta</th>\n      <th>cidade</th>\n    </tr>\n  </thead>\n  <tbody>\n    <tr>\n      <th>0</th>\n      <td>Uva</td>\n      <td>10</td>\n      <td>Uva</td>\n      <td>Campinas</td>\n    </tr>\n    <tr>\n      <th>1</th>\n      <td>Abacate</td>\n      <td>1</td>\n      <td>Abacate</td>\n      <td>Campinas</td>\n    </tr>\n    <tr>\n      <th>2</th>\n      <td>Melancia</td>\n      <td>1</td>\n      <td>Melancia</td>\n      <td>Atibaia</td>\n    </tr>\n  </tbody>\n</table>\n</div>"
     },
     "execution_count": 51,
     "metadata": {},
     "output_type": "execute_result"
    }
   ],
   "source": [
    "pd.merge(\n",
    "    tb_prod_frutas, tb_pomar_cidade, left_on=\"nome_fruta\", right_on=\"nome_pomar_fruta\"\n",
    ")\n"
   ]
  },
  {
   "cell_type": "markdown",
   "metadata": {},
   "source": [
    "### Um para N (1:N)\n",
    "\n",
    "A relação 1:N é *quase* tão comum quanto a relação 1:1 e, em geral, surge quando queremos unir uma tabela com uma chave que é **parte** da chave da segunda tabela. Por exemplo, se nossa tabela de informações demográficas do exemplo anterior utilize a chave Município-Mês, o join com a tabela geográfica (chave Município) será 1:N.\n",
    "\n",
    "Uma situação prática é quando temos informações de clientes que queremos cruzar com informações de pedidos: todo pedido tem apenas um cliente, cada cliente tem múltiplos pedidos."
   ]
  },
  {
   "cell_type": "code",
   "execution_count": 52,
   "metadata": {
    "ExecuteTime": {
     "end_time": "2021-12-07T23:45:53.978369Z",
     "start_time": "2021-12-07T23:45:53.967413Z"
    }
   },
   "outputs": [
    {
     "data": {
      "text/plain": "  nome_fruta  preco_kg\n0        Uva        10\n1    Abacate         5\n2   Melancia         3\n3    Atemoia        30\n4    Laranja         2",
      "text/html": "<div>\n<style scoped>\n    .dataframe tbody tr th:only-of-type {\n        vertical-align: middle;\n    }\n\n    .dataframe tbody tr th {\n        vertical-align: top;\n    }\n\n    .dataframe thead th {\n        text-align: right;\n    }\n</style>\n<table border=\"1\" class=\"dataframe\">\n  <thead>\n    <tr style=\"text-align: right;\">\n      <th></th>\n      <th>nome_fruta</th>\n      <th>preco_kg</th>\n    </tr>\n  </thead>\n  <tbody>\n    <tr>\n      <th>0</th>\n      <td>Uva</td>\n      <td>10</td>\n    </tr>\n    <tr>\n      <th>1</th>\n      <td>Abacate</td>\n      <td>5</td>\n    </tr>\n    <tr>\n      <th>2</th>\n      <td>Melancia</td>\n      <td>3</td>\n    </tr>\n    <tr>\n      <th>3</th>\n      <td>Atemoia</td>\n      <td>30</td>\n    </tr>\n    <tr>\n      <th>4</th>\n      <td>Laranja</td>\n      <td>2</td>\n    </tr>\n  </tbody>\n</table>\n</div>"
     },
     "execution_count": 52,
     "metadata": {},
     "output_type": "execute_result"
    }
   ],
   "source": [
    "nome_frutas = [\"Uva\", \"Abacate\", \"Melancia\", \"Atemoia\", \"Laranja\"]\n",
    "preco_frutas = [10, 5, 3, 30, 2]\n",
    "tb_prod_frutas = pd.DataFrame(\n",
    "    {\"nome_fruta\": nome_frutas, \"preco_kg\": preco_frutas}\n",
    ")\n",
    "tb_prod_frutas"
   ]
  },
  {
   "cell_type": "code",
   "execution_count": 53,
   "metadata": {
    "ExecuteTime": {
     "end_time": "2021-12-07T23:46:04.560240Z",
     "start_time": "2021-12-07T23:46:04.543316Z"
    }
   },
   "outputs": [
    {
     "data": {
      "text/plain": "  nome_fruta          cidade  qtd_produzida\n0        Uva        Campinas           1000\n1    Abacate        Campinas           5000\n2   Melancia         Atibaia           2500\n3        Uva         Atibaia            300\n4  Carambola  Rio de Janeiro            150",
      "text/html": "<div>\n<style scoped>\n    .dataframe tbody tr th:only-of-type {\n        vertical-align: middle;\n    }\n\n    .dataframe tbody tr th {\n        vertical-align: top;\n    }\n\n    .dataframe thead th {\n        text-align: right;\n    }\n</style>\n<table border=\"1\" class=\"dataframe\">\n  <thead>\n    <tr style=\"text-align: right;\">\n      <th></th>\n      <th>nome_fruta</th>\n      <th>cidade</th>\n      <th>qtd_produzida</th>\n    </tr>\n  </thead>\n  <tbody>\n    <tr>\n      <th>0</th>\n      <td>Uva</td>\n      <td>Campinas</td>\n      <td>1000</td>\n    </tr>\n    <tr>\n      <th>1</th>\n      <td>Abacate</td>\n      <td>Campinas</td>\n      <td>5000</td>\n    </tr>\n    <tr>\n      <th>2</th>\n      <td>Melancia</td>\n      <td>Atibaia</td>\n      <td>2500</td>\n    </tr>\n    <tr>\n      <th>3</th>\n      <td>Uva</td>\n      <td>Atibaia</td>\n      <td>300</td>\n    </tr>\n    <tr>\n      <th>4</th>\n      <td>Carambola</td>\n      <td>Rio de Janeiro</td>\n      <td>150</td>\n    </tr>\n  </tbody>\n</table>\n</div>"
     },
     "execution_count": 53,
     "metadata": {},
     "output_type": "execute_result"
    }
   ],
   "source": [
    "fruta = [\"Uva\", \"Abacate\", \"Melancia\", \"Uva\", \"Carambola\"]\n",
    "cidade = [\"Campinas\", \"Campinas\", \"Atibaia\", \"Atibaia\", \"Rio de Janeiro\"]\n",
    "qtd_prod = [1000, 5000, 2500, 300, 150]\n",
    "tb_pomar_cidade = pd.DataFrame({\"nome_fruta\": fruta, \"cidade\": cidade, \"qtd_produzida\" : qtd_prod})\n",
    "tb_pomar_cidade\n"
   ]
  },
  {
   "cell_type": "code",
   "execution_count": 54,
   "metadata": {
    "ExecuteTime": {
     "end_time": "2021-12-07T23:47:27.551050Z",
     "start_time": "2021-12-07T23:47:27.529111Z"
    }
   },
   "outputs": [
    {
     "data": {
      "text/plain": "  nome_fruta  preco_kg    cidade  qtd_produzida\n0        Uva        10  Campinas           1000\n1        Uva        10   Atibaia            300\n2    Abacate         5  Campinas           5000\n3   Melancia         3   Atibaia           2500",
      "text/html": "<div>\n<style scoped>\n    .dataframe tbody tr th:only-of-type {\n        vertical-align: middle;\n    }\n\n    .dataframe tbody tr th {\n        vertical-align: top;\n    }\n\n    .dataframe thead th {\n        text-align: right;\n    }\n</style>\n<table border=\"1\" class=\"dataframe\">\n  <thead>\n    <tr style=\"text-align: right;\">\n      <th></th>\n      <th>nome_fruta</th>\n      <th>preco_kg</th>\n      <th>cidade</th>\n      <th>qtd_produzida</th>\n    </tr>\n  </thead>\n  <tbody>\n    <tr>\n      <th>0</th>\n      <td>Uva</td>\n      <td>10</td>\n      <td>Campinas</td>\n      <td>1000</td>\n    </tr>\n    <tr>\n      <th>1</th>\n      <td>Uva</td>\n      <td>10</td>\n      <td>Atibaia</td>\n      <td>300</td>\n    </tr>\n    <tr>\n      <th>2</th>\n      <td>Abacate</td>\n      <td>5</td>\n      <td>Campinas</td>\n      <td>5000</td>\n    </tr>\n    <tr>\n      <th>3</th>\n      <td>Melancia</td>\n      <td>3</td>\n      <td>Atibaia</td>\n      <td>2500</td>\n    </tr>\n  </tbody>\n</table>\n</div>"
     },
     "execution_count": 54,
     "metadata": {},
     "output_type": "execute_result"
    }
   ],
   "source": [
    "pd.merge(tb_prod_frutas, tb_pomar_cidade, on=\"nome_fruta\")\n"
   ]
  },
  {
   "cell_type": "markdown",
   "metadata": {},
   "source": [
    "### M para N (M:N)\n",
    "\n",
    "Os joins N para N são mais raros que os outros dois tipos (exceto quando erramos e nosso join 1:1 vira um N:N...). Ele ocorre quando queremos unir duas tabelas por uma chave que **não é única** nas duas tabelas.\n",
    "\n",
    "Um exemplo comum é quando queremos cruzar informações de produtos e clientes: como cada cliente pode comprar múltiplos produtos diferentes e cada produto pode ser comprado por múltiplos clientes a relação é uma relação M:N.\n",
    "\n",
    "Tanto no Pandas quanto no SQL raramente criaremos relações M:N - elas são mediadas por uma terceira chave (o código do pedido no exemplo acima). No entanto, **esse tipo de join ocorre MUITO quando fazemos algo errado**, não conhecer as chaves de nossa tabela por exemplo!"
   ]
  },
  {
   "cell_type": "code",
   "execution_count": 55,
   "metadata": {
    "ExecuteTime": {
     "end_time": "2021-12-07T23:52:08.188456Z",
     "start_time": "2021-12-07T23:52:08.177485Z"
    }
   },
   "outputs": [
    {
     "data": {
      "text/plain": "  nome_fruta  producao_kg\n0        Uva           10\n1        Uva            5\n2    Abacate            1\n3   Melancia            1\n4    Atemoia            3\n5    Laranja            4",
      "text/html": "<div>\n<style scoped>\n    .dataframe tbody tr th:only-of-type {\n        vertical-align: middle;\n    }\n\n    .dataframe tbody tr th {\n        vertical-align: top;\n    }\n\n    .dataframe thead th {\n        text-align: right;\n    }\n</style>\n<table border=\"1\" class=\"dataframe\">\n  <thead>\n    <tr style=\"text-align: right;\">\n      <th></th>\n      <th>nome_fruta</th>\n      <th>producao_kg</th>\n    </tr>\n  </thead>\n  <tbody>\n    <tr>\n      <th>0</th>\n      <td>Uva</td>\n      <td>10</td>\n    </tr>\n    <tr>\n      <th>1</th>\n      <td>Uva</td>\n      <td>5</td>\n    </tr>\n    <tr>\n      <th>2</th>\n      <td>Abacate</td>\n      <td>1</td>\n    </tr>\n    <tr>\n      <th>3</th>\n      <td>Melancia</td>\n      <td>1</td>\n    </tr>\n    <tr>\n      <th>4</th>\n      <td>Atemoia</td>\n      <td>3</td>\n    </tr>\n    <tr>\n      <th>5</th>\n      <td>Laranja</td>\n      <td>4</td>\n    </tr>\n  </tbody>\n</table>\n</div>"
     },
     "execution_count": 55,
     "metadata": {},
     "output_type": "execute_result"
    }
   ],
   "source": [
    "nome_frutas = [\"Uva\", \"Uva\", \"Abacate\", \"Melancia\", \"Atemoia\", \"Laranja\"]\n",
    "producao_frutas = [10, 5, 1, 1, 3, 4]\n",
    "tb_prod_frutas = pd.DataFrame(\n",
    "    {\"nome_fruta\": nome_frutas, \"producao_kg\": producao_frutas}\n",
    ")\n",
    "tb_prod_frutas\n"
   ]
  },
  {
   "cell_type": "code",
   "execution_count": 56,
   "metadata": {
    "ExecuteTime": {
     "end_time": "2021-12-07T23:52:14.517276Z",
     "start_time": "2021-12-07T23:52:14.494336Z"
    }
   },
   "outputs": [
    {
     "data": {
      "text/plain": "  nome_fruta          cidade\n0        Uva        Campinas\n1    Abacate        Campinas\n2   Melancia         Atibaia\n3        Uva         Atibaia\n4  Carambola  Rio de Janeiro",
      "text/html": "<div>\n<style scoped>\n    .dataframe tbody tr th:only-of-type {\n        vertical-align: middle;\n    }\n\n    .dataframe tbody tr th {\n        vertical-align: top;\n    }\n\n    .dataframe thead th {\n        text-align: right;\n    }\n</style>\n<table border=\"1\" class=\"dataframe\">\n  <thead>\n    <tr style=\"text-align: right;\">\n      <th></th>\n      <th>nome_fruta</th>\n      <th>cidade</th>\n    </tr>\n  </thead>\n  <tbody>\n    <tr>\n      <th>0</th>\n      <td>Uva</td>\n      <td>Campinas</td>\n    </tr>\n    <tr>\n      <th>1</th>\n      <td>Abacate</td>\n      <td>Campinas</td>\n    </tr>\n    <tr>\n      <th>2</th>\n      <td>Melancia</td>\n      <td>Atibaia</td>\n    </tr>\n    <tr>\n      <th>3</th>\n      <td>Uva</td>\n      <td>Atibaia</td>\n    </tr>\n    <tr>\n      <th>4</th>\n      <td>Carambola</td>\n      <td>Rio de Janeiro</td>\n    </tr>\n  </tbody>\n</table>\n</div>"
     },
     "execution_count": 56,
     "metadata": {},
     "output_type": "execute_result"
    }
   ],
   "source": [
    "fruta = [\"Uva\", \"Abacate\", \"Melancia\", \"Uva\", \"Carambola\"]\n",
    "cidade = [\"Campinas\", \"Campinas\", \"Atibaia\", \"Atibaia\", \"Rio de Janeiro\"]\n",
    "tb_pomar_cidade = pd.DataFrame({\"nome_fruta\": fruta, \"cidade\": cidade})\n",
    "tb_pomar_cidade\n"
   ]
  },
  {
   "cell_type": "code",
   "execution_count": 58,
   "metadata": {
    "ExecuteTime": {
     "end_time": "2021-12-07T23:52:34.909087Z",
     "start_time": "2021-12-07T23:52:34.891108Z"
    }
   },
   "outputs": [
    {
     "data": {
      "text/plain": "  nome_fruta  producao_kg    cidade\n0        Uva           10  Campinas\n1        Uva           10   Atibaia\n2        Uva            5  Campinas\n3        Uva            5   Atibaia\n4    Abacate            1  Campinas\n5   Melancia            1   Atibaia",
      "text/html": "<div>\n<style scoped>\n    .dataframe tbody tr th:only-of-type {\n        vertical-align: middle;\n    }\n\n    .dataframe tbody tr th {\n        vertical-align: top;\n    }\n\n    .dataframe thead th {\n        text-align: right;\n    }\n</style>\n<table border=\"1\" class=\"dataframe\">\n  <thead>\n    <tr style=\"text-align: right;\">\n      <th></th>\n      <th>nome_fruta</th>\n      <th>producao_kg</th>\n      <th>cidade</th>\n    </tr>\n  </thead>\n  <tbody>\n    <tr>\n      <th>0</th>\n      <td>Uva</td>\n      <td>10</td>\n      <td>Campinas</td>\n    </tr>\n    <tr>\n      <th>1</th>\n      <td>Uva</td>\n      <td>10</td>\n      <td>Atibaia</td>\n    </tr>\n    <tr>\n      <th>2</th>\n      <td>Uva</td>\n      <td>5</td>\n      <td>Campinas</td>\n    </tr>\n    <tr>\n      <th>3</th>\n      <td>Uva</td>\n      <td>5</td>\n      <td>Atibaia</td>\n    </tr>\n    <tr>\n      <th>4</th>\n      <td>Abacate</td>\n      <td>1</td>\n      <td>Campinas</td>\n    </tr>\n    <tr>\n      <th>5</th>\n      <td>Melancia</td>\n      <td>1</td>\n      <td>Atibaia</td>\n    </tr>\n  </tbody>\n</table>\n</div>"
     },
     "execution_count": 58,
     "metadata": {},
     "output_type": "execute_result"
    }
   ],
   "source": [
    "pd.merge(tb_prod_frutas, tb_pomar_cidade, on=\"nome_fruta\")"
   ]
  },
  {
   "cell_type": "markdown",
   "metadata": {},
   "source": [
    "## Chaves Compostas\n",
    "\n",
    "As chaves de nossos joins não precisam estar localizadas apenas em uma coluna: podemos ter partes diferentes de uma chave em colunas diferentes (por exemplo, em uma tabela cuja chave seja Município-Ano podemos ter uma coluna Município e outra Ano).\n",
    "\n",
    "Para realizar joins com chaves compostas precisaremos alterar um pouco como especificamos o argumento `on`."
   ]
  },
  {
   "cell_type": "code",
   "execution_count": 59,
   "metadata": {},
   "outputs": [
    {
     "data": {
      "text/plain": "  nome_fruta          cidade  preco_kg\n0        Uva        Campinas        10\n1    Abacate         Atibaia         5\n2   Melancia         Atibaia         3\n3    Atemoia  Rio de Janeiro        30\n4    Laranja  Rio de Janeiro         2",
      "text/html": "<div>\n<style scoped>\n    .dataframe tbody tr th:only-of-type {\n        vertical-align: middle;\n    }\n\n    .dataframe tbody tr th {\n        vertical-align: top;\n    }\n\n    .dataframe thead th {\n        text-align: right;\n    }\n</style>\n<table border=\"1\" class=\"dataframe\">\n  <thead>\n    <tr style=\"text-align: right;\">\n      <th></th>\n      <th>nome_fruta</th>\n      <th>cidade</th>\n      <th>preco_kg</th>\n    </tr>\n  </thead>\n  <tbody>\n    <tr>\n      <th>0</th>\n      <td>Uva</td>\n      <td>Campinas</td>\n      <td>10</td>\n    </tr>\n    <tr>\n      <th>1</th>\n      <td>Abacate</td>\n      <td>Atibaia</td>\n      <td>5</td>\n    </tr>\n    <tr>\n      <th>2</th>\n      <td>Melancia</td>\n      <td>Atibaia</td>\n      <td>3</td>\n    </tr>\n    <tr>\n      <th>3</th>\n      <td>Atemoia</td>\n      <td>Rio de Janeiro</td>\n      <td>30</td>\n    </tr>\n    <tr>\n      <th>4</th>\n      <td>Laranja</td>\n      <td>Rio de Janeiro</td>\n      <td>2</td>\n    </tr>\n  </tbody>\n</table>\n</div>"
     },
     "execution_count": 59,
     "metadata": {},
     "output_type": "execute_result"
    }
   ],
   "source": [
    "nome_frutas = [\"Uva\", \"Abacate\", \"Melancia\", \"Atemoia\", \"Laranja\"]\n",
    "cidade = [\"Campinas\", \"Atibaia\", \"Atibaia\", \"Rio de Janeiro\", \"Rio de Janeiro\"]\n",
    "preco_frutas = [10, 5, 3, 30, 2]\n",
    "tb_prod_frutas = pd.DataFrame(\n",
    "    {\"nome_fruta\": nome_frutas, \"cidade\" : cidade, \"preco_kg\": preco_frutas}\n",
    ")\n",
    "tb_prod_frutas"
   ]
  },
  {
   "cell_type": "code",
   "execution_count": 60,
   "metadata": {},
   "outputs": [
    {
     "data": {
      "text/plain": "  nome_fruta          cidade  qtd_produzida\n0        Uva        Campinas           1000\n1    Abacate        Campinas           5000\n2   Melancia         Atibaia           2500\n3        Uva         Atibaia            300\n4  Carambola  Rio de Janeiro            150",
      "text/html": "<div>\n<style scoped>\n    .dataframe tbody tr th:only-of-type {\n        vertical-align: middle;\n    }\n\n    .dataframe tbody tr th {\n        vertical-align: top;\n    }\n\n    .dataframe thead th {\n        text-align: right;\n    }\n</style>\n<table border=\"1\" class=\"dataframe\">\n  <thead>\n    <tr style=\"text-align: right;\">\n      <th></th>\n      <th>nome_fruta</th>\n      <th>cidade</th>\n      <th>qtd_produzida</th>\n    </tr>\n  </thead>\n  <tbody>\n    <tr>\n      <th>0</th>\n      <td>Uva</td>\n      <td>Campinas</td>\n      <td>1000</td>\n    </tr>\n    <tr>\n      <th>1</th>\n      <td>Abacate</td>\n      <td>Campinas</td>\n      <td>5000</td>\n    </tr>\n    <tr>\n      <th>2</th>\n      <td>Melancia</td>\n      <td>Atibaia</td>\n      <td>2500</td>\n    </tr>\n    <tr>\n      <th>3</th>\n      <td>Uva</td>\n      <td>Atibaia</td>\n      <td>300</td>\n    </tr>\n    <tr>\n      <th>4</th>\n      <td>Carambola</td>\n      <td>Rio de Janeiro</td>\n      <td>150</td>\n    </tr>\n  </tbody>\n</table>\n</div>"
     },
     "execution_count": 60,
     "metadata": {},
     "output_type": "execute_result"
    }
   ],
   "source": [
    "fruta = [\"Uva\", \"Abacate\", \"Melancia\", \"Uva\", \"Carambola\"]\n",
    "cidade = [\"Campinas\", \"Campinas\", \"Atibaia\", \"Atibaia\", \"Rio de Janeiro\"]\n",
    "qtd_prod = [1000, 5000, 2500, 300, 150]\n",
    "tb_pomar_cidade = pd.DataFrame({\"nome_fruta\": fruta, \"cidade\": cidade, \"qtd_produzida\" : qtd_prod})\n",
    "tb_pomar_cidade\n"
   ]
  },
  {
   "cell_type": "code",
   "execution_count": 61,
   "metadata": {},
   "outputs": [
    {
     "data": {
      "text/plain": "  nome_fruta    cidade  preco_kg  qtd_produzida\n0        Uva  Campinas        10           1000\n1   Melancia   Atibaia         3           2500",
      "text/html": "<div>\n<style scoped>\n    .dataframe tbody tr th:only-of-type {\n        vertical-align: middle;\n    }\n\n    .dataframe tbody tr th {\n        vertical-align: top;\n    }\n\n    .dataframe thead th {\n        text-align: right;\n    }\n</style>\n<table border=\"1\" class=\"dataframe\">\n  <thead>\n    <tr style=\"text-align: right;\">\n      <th></th>\n      <th>nome_fruta</th>\n      <th>cidade</th>\n      <th>preco_kg</th>\n      <th>qtd_produzida</th>\n    </tr>\n  </thead>\n  <tbody>\n    <tr>\n      <th>0</th>\n      <td>Uva</td>\n      <td>Campinas</td>\n      <td>10</td>\n      <td>1000</td>\n    </tr>\n    <tr>\n      <th>1</th>\n      <td>Melancia</td>\n      <td>Atibaia</td>\n      <td>3</td>\n      <td>2500</td>\n    </tr>\n  </tbody>\n</table>\n</div>"
     },
     "execution_count": 61,
     "metadata": {},
     "output_type": "execute_result"
    }
   ],
   "source": [
    "tb_prod_frutas.merge(tb_pomar_cidade, on = ['nome_fruta', 'cidade'])"
   ]
  },
  {
   "cell_type": "markdown",
   "metadata": {},
   "source": [
    "### Desafio - *Feature Engineering*\n",
    "\n",
    "Um dos principais desafios para um analista de dados é entender como podemos combinar diferentes variáveis, criando novas informações a partir de uma tabela. Por exemplo, vamos criar uma variável para medir o quanto cada automóvel se compara à outros automóveis com o mesmo # de cilindros"
   ]
  },
  {
   "cell_type": "code",
   "execution_count": 62,
   "outputs": [
    {
     "data": {
      "text/plain": "   cylinders  combined_mpg\n0        2.0     19.104167\n1        3.0     36.572139\n2        4.0     24.075441\n3        5.0     20.334716\n4        6.0     18.606189\n5        8.0     15.206302\n6       10.0     13.941176\n7       12.0     13.014235\n8       16.0     10.000000",
      "text/html": "<div>\n<style scoped>\n    .dataframe tbody tr th:only-of-type {\n        vertical-align: middle;\n    }\n\n    .dataframe tbody tr th {\n        vertical-align: top;\n    }\n\n    .dataframe thead th {\n        text-align: right;\n    }\n</style>\n<table border=\"1\" class=\"dataframe\">\n  <thead>\n    <tr style=\"text-align: right;\">\n      <th></th>\n      <th>cylinders</th>\n      <th>combined_mpg</th>\n    </tr>\n  </thead>\n  <tbody>\n    <tr>\n      <th>0</th>\n      <td>2.0</td>\n      <td>19.104167</td>\n    </tr>\n    <tr>\n      <th>1</th>\n      <td>3.0</td>\n      <td>36.572139</td>\n    </tr>\n    <tr>\n      <th>2</th>\n      <td>4.0</td>\n      <td>24.075441</td>\n    </tr>\n    <tr>\n      <th>3</th>\n      <td>5.0</td>\n      <td>20.334716</td>\n    </tr>\n    <tr>\n      <th>4</th>\n      <td>6.0</td>\n      <td>18.606189</td>\n    </tr>\n    <tr>\n      <th>5</th>\n      <td>8.0</td>\n      <td>15.206302</td>\n    </tr>\n    <tr>\n      <th>6</th>\n      <td>10.0</td>\n      <td>13.941176</td>\n    </tr>\n    <tr>\n      <th>7</th>\n      <td>12.0</td>\n      <td>13.014235</td>\n    </tr>\n    <tr>\n      <th>8</th>\n      <td>16.0</td>\n      <td>10.000000</td>\n    </tr>\n  </tbody>\n</table>\n</div>"
     },
     "execution_count": 62,
     "metadata": {},
     "output_type": "execute_result"
    }
   ],
   "source": [
    "tb_agg_cyl_comb_mpg = (\n",
    "    tb_veic.groupby(by=\"cylinders\")[\"combined_mpg\"]\n",
    "    .mean()\n",
    "    .reset_index()\n",
    ")\n",
    "\n",
    "tb_agg_cyl_comb_mpg"
   ],
   "metadata": {
    "collapsed": false
   }
  },
  {
   "cell_type": "code",
   "execution_count": 63,
   "outputs": [
    {
     "data": {
      "text/plain": "         make                model  year  engine_displacement  cylinders  \\\n0  AM General    DJ Po Vehicle 2WD  1984                  2.5        4.0   \n1  AM General  Post Office DJ5 2WD  1985                  2.5        4.0   \n2       Acura          2.2CL/3.0CL  1997                  2.2        4.0   \n3       Acura          2.2CL/3.0CL  1997                  2.2        4.0   \n4       Acura          2.3CL/3.0CL  1998                  2.3        4.0   \n\n      transmission         drivetrain                vehicle_class fuel_type  \\\n0  Automatic 3-spd      2-Wheel Drive  Special Purpose Vehicle 2WD   Regular   \n1  Automatic 3-spd   Rear-Wheel Drive  Special Purpose Vehicle 2WD   Regular   \n2  Automatic 4-spd  Front-Wheel Drive              Subcompact Cars   Regular   \n3     Manual 5-spd  Front-Wheel Drive              Subcompact Cars   Regular   \n4  Automatic 4-spd  Front-Wheel Drive              Subcompact Cars   Regular   \n\n   fuel_barrels_year  city_mpg  highway_mpg  combined_mpg_x  \\\n0          19.388824        18           17              17   \n1          20.600625        16           17              16   \n2          14.982273        20           26              22   \n3          13.733750        22           28              24   \n4          14.982273        19           27              22   \n\n   co2_emission_grams_mile  fuel_cost_year  combined_mpg_y  \n0               522.764706            1950       24.075441  \n1               555.437500            2100       24.075441  \n2               403.954545            1500       24.075441  \n3               370.291667            1400       24.075441  \n4               403.954545            1500       24.075441  ",
      "text/html": "<div>\n<style scoped>\n    .dataframe tbody tr th:only-of-type {\n        vertical-align: middle;\n    }\n\n    .dataframe tbody tr th {\n        vertical-align: top;\n    }\n\n    .dataframe thead th {\n        text-align: right;\n    }\n</style>\n<table border=\"1\" class=\"dataframe\">\n  <thead>\n    <tr style=\"text-align: right;\">\n      <th></th>\n      <th>make</th>\n      <th>model</th>\n      <th>year</th>\n      <th>engine_displacement</th>\n      <th>cylinders</th>\n      <th>transmission</th>\n      <th>drivetrain</th>\n      <th>vehicle_class</th>\n      <th>fuel_type</th>\n      <th>fuel_barrels_year</th>\n      <th>city_mpg</th>\n      <th>highway_mpg</th>\n      <th>combined_mpg_x</th>\n      <th>co2_emission_grams_mile</th>\n      <th>fuel_cost_year</th>\n      <th>combined_mpg_y</th>\n    </tr>\n  </thead>\n  <tbody>\n    <tr>\n      <th>0</th>\n      <td>AM General</td>\n      <td>DJ Po Vehicle 2WD</td>\n      <td>1984</td>\n      <td>2.5</td>\n      <td>4.0</td>\n      <td>Automatic 3-spd</td>\n      <td>2-Wheel Drive</td>\n      <td>Special Purpose Vehicle 2WD</td>\n      <td>Regular</td>\n      <td>19.388824</td>\n      <td>18</td>\n      <td>17</td>\n      <td>17</td>\n      <td>522.764706</td>\n      <td>1950</td>\n      <td>24.075441</td>\n    </tr>\n    <tr>\n      <th>1</th>\n      <td>AM General</td>\n      <td>Post Office DJ5 2WD</td>\n      <td>1985</td>\n      <td>2.5</td>\n      <td>4.0</td>\n      <td>Automatic 3-spd</td>\n      <td>Rear-Wheel Drive</td>\n      <td>Special Purpose Vehicle 2WD</td>\n      <td>Regular</td>\n      <td>20.600625</td>\n      <td>16</td>\n      <td>17</td>\n      <td>16</td>\n      <td>555.437500</td>\n      <td>2100</td>\n      <td>24.075441</td>\n    </tr>\n    <tr>\n      <th>2</th>\n      <td>Acura</td>\n      <td>2.2CL/3.0CL</td>\n      <td>1997</td>\n      <td>2.2</td>\n      <td>4.0</td>\n      <td>Automatic 4-spd</td>\n      <td>Front-Wheel Drive</td>\n      <td>Subcompact Cars</td>\n      <td>Regular</td>\n      <td>14.982273</td>\n      <td>20</td>\n      <td>26</td>\n      <td>22</td>\n      <td>403.954545</td>\n      <td>1500</td>\n      <td>24.075441</td>\n    </tr>\n    <tr>\n      <th>3</th>\n      <td>Acura</td>\n      <td>2.2CL/3.0CL</td>\n      <td>1997</td>\n      <td>2.2</td>\n      <td>4.0</td>\n      <td>Manual 5-spd</td>\n      <td>Front-Wheel Drive</td>\n      <td>Subcompact Cars</td>\n      <td>Regular</td>\n      <td>13.733750</td>\n      <td>22</td>\n      <td>28</td>\n      <td>24</td>\n      <td>370.291667</td>\n      <td>1400</td>\n      <td>24.075441</td>\n    </tr>\n    <tr>\n      <th>4</th>\n      <td>Acura</td>\n      <td>2.3CL/3.0CL</td>\n      <td>1998</td>\n      <td>2.3</td>\n      <td>4.0</td>\n      <td>Automatic 4-spd</td>\n      <td>Front-Wheel Drive</td>\n      <td>Subcompact Cars</td>\n      <td>Regular</td>\n      <td>14.982273</td>\n      <td>19</td>\n      <td>27</td>\n      <td>22</td>\n      <td>403.954545</td>\n      <td>1500</td>\n      <td>24.075441</td>\n    </tr>\n  </tbody>\n</table>\n</div>"
     },
     "execution_count": 63,
     "metadata": {},
     "output_type": "execute_result"
    }
   ],
   "source": [
    "tb_veic2 = tb_veic.merge(tb_agg_cyl_comb_mpg, on=\"cylinders\")\n",
    "tb_veic2.head()"
   ],
   "metadata": {
    "collapsed": false
   }
  },
  {
   "cell_type": "code",
   "execution_count": null,
   "outputs": [],
   "source": [],
   "metadata": {
    "collapsed": false
   }
  },
  {
   "cell_type": "markdown",
   "metadata": {},
   "source": [
    "# Bonus - Análise de Eficiência de Automóveis\n",
    "\n",
    "Vamos utilizar os conceitos vistos hoje para responder a pergunta *Será que a eficiência dos motores aumentou ao longo dos anos? Como podemos diferenciar isso da eficiência dos automóveis?*"
   ]
  },
  {
   "cell_type": "code",
   "execution_count": null,
   "metadata": {
    "ExecuteTime": {
     "end_time": "2021-12-08T00:22:23.730288Z",
     "start_time": "2021-12-08T00:22:23.346343Z"
    }
   },
   "outputs": [],
   "source": [
    "import matplotlib.pyplot as plt"
   ]
  },
  {
   "cell_type": "code",
   "execution_count": null,
   "metadata": {
    "ExecuteTime": {
     "end_time": "2021-12-08T00:22:46.819693Z",
     "start_time": "2021-12-08T00:22:46.632171Z"
    }
   },
   "outputs": [],
   "source": [
    "tb_agg_year = tb_veic.groupby(by=\"year\").agg(\n",
    "    mean_city_mpg=(\"city_mpg\", \"mean\"),\n",
    "    mean_highway_mpg=(\"highway_mpg\", \"mean\"),\n",
    ")\n",
    "plt.plot(tb_agg_year[\"mean_city_mpg\"])\n"
   ]
  },
  {
   "cell_type": "markdown",
   "metadata": {},
   "source": [
    "**Quais conclusões podemos tirar do gráfico acima? Como podemos melhorar nossa análise?**"
   ]
  },
  {
   "cell_type": "markdown",
   "metadata": {},
   "source": [
    "# Bonus - Funções Customizadas de Agregação"
   ]
  },
  {
   "cell_type": "code",
   "execution_count": null,
   "metadata": {},
   "outputs": [],
   "source": [
    "def dist_iq(panda_series):\n",
    "    if len(panda_series) > 5:\n",
    "        return (\n",
    "            panda_series.quantile(0.75) - panda_series.quantile(0.25)\n",
    "        ) / panda_series.quantile(0.5)\n",
    "    else:\n",
    "        return np.nan"
   ]
  },
  {
   "cell_type": "code",
   "execution_count": null,
   "metadata": {},
   "outputs": [],
   "source": [
    "tb_veic.groupby(by=[\"drivetrain\", \"cylinders\"]).agg(\n",
    "    avg_city_mpg=pd.NamedAgg(column=\"city_mpg\", aggfunc=\"mean\"),\n",
    "    std_city_mpg=pd.NamedAgg(column=\"city_mpg\", aggfunc=\"std\"),\n",
    "    iqn_city_mpg=pd.NamedAgg(column=\"city_mpg\", aggfunc=dist_iq),\n",
    ")\n"
   ]
  }
 ],
 "metadata": {
  "hide_input": false,
  "kernelspec": {
   "display_name": "Python 3 (ipykernel)",
   "language": "python",
   "name": "python3"
  },
  "language_info": {
   "codemirror_mode": {
    "name": "ipython",
    "version": 3
   },
   "file_extension": ".py",
   "mimetype": "text/x-python",
   "name": "python",
   "nbconvert_exporter": "python",
   "pygments_lexer": "ipython3",
   "version": "3.9.13"
  },
  "toc": {
   "base_numbering": 1,
   "nav_menu": {},
   "number_sections": true,
   "sideBar": true,
   "skip_h1_title": false,
   "title_cell": "Table of Contents",
   "title_sidebar": "Contents",
   "toc_cell": false,
   "toc_position": {},
   "toc_section_display": true,
   "toc_window_display": false
  },
  "vscode": {
   "interpreter": {
    "hash": "014f4a4a5af8f0104b12c029e500f4146d6d785e8cf714d2a35b7a9514230cd3"
   }
  }
 },
 "nbformat": 4,
 "nbformat_minor": 4
}
