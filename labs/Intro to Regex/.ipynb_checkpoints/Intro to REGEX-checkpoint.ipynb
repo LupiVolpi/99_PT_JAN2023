{
 "cells": [
  {
   "cell_type": "code",
   "execution_count": 1,
   "metadata": {},
   "outputs": [],
   "source": [
    "import re"
   ]
  },
  {
   "cell_type": "markdown",
   "metadata": {},
   "source": [
    "# Exercício I - Log Parsing\n",
    "\n",
    "Objetivo - criar duas listas de uplas, contendo `(ano, mes, dia)` para cada os níveis `Critical` (1a lista) e `Error`. O arquivo `log.txt` contém informações sobre a operação de um servidor. Cada linha denota um evento de erro - contendo a informação do tipo de erro, a data/horário e a descrição do erro.\n",
    "\n",
    "O resultado da operação para as 4 primeiras linhas deve ser:\n",
    "\n",
    "`lista_critical == [(2020, 1, 27), (2020, 1, 26), (2020, 1, 25)]`\n",
    "\n",
    "`lista_error == [(2020, 1, 25)]`"
   ]
  },
  {
   "cell_type": "code",
   "execution_count": 9,
   "metadata": {},
   "outputs": [
    {
     "name": "stdout",
     "output_type": "stream",
     "text": [
      "Level Date and Time Source Event ID Task Category\n",
      "Critical 1/27/2020 8:19:22 AM Microsoft-Windows-Kernel-Power 41 (63) The system has rebooted without cleanly shutting down first. This error could be caused if the system stopped responding, crashed, or lost power unexpectedly.\n",
      "Critical 1/26/2020 10:09:54 AM Microsoft-Windows-Kernel-Power 41 (63) The system has rebooted without cleanly shutting down first. This error could be caused if the system stopped responding, crashed, or lost power unexpectedly.\n",
      "Critical 1/25/2020 10:12:58 AM Microsoft-Windows-Kernel-Power 41 (63) The system has rebooted without cleanly shutting down first. This error could be caused if the system stopped responding, crashed, or lost power unexpectedly.\n",
      "Error 1/25/2020 10:03:44 AM Microsoft-Windows-WER-SystemErrorReporting 1001 None The computer has rebooted from a bugcheck.  The bugcheck was: 0x0000009f (0x0000000000000003, 0xffff810ec8c31060, 0xfffff80716e687b0, 0xffff810ed30e3c20). A dump was saved in: C:\n"
     ]
    }
   ],
   "source": [
    "with open('data/logs.txt', 'rb') as log_file:\n",
    "    log = log_file.read().decode('utf-8')\n",
    "\n",
    "print(log[0:1000])"
   ]
  },
  {
   "cell_type": "markdown",
   "metadata": {},
   "source": [
    "## Bonus\n",
    "\n",
    "Realize uma contagem do número de eventos (críticos e erros) por dia do mês."
   ]
  },
  {
   "cell_type": "markdown",
   "metadata": {},
   "source": [
    "# Exercício II - Extraindo telefones\n",
    "\n",
    "O arquivo `phone.txt` contém uma lista telefônica, onde cada linha contém um nome e um número de telefone. Objetivo: criar uma lista de uplas `(nome, ddd, telefone)`.\n",
    "\n",
    "O resultado da operação para as 2 primeiras linhas deve ser:\n",
    "\n",
    "`lista_tel == [(\"Zion Martinez\", 631, 4724834), (\"Moriah Velez\", 201, 6848134)]`"
   ]
  },
  {
   "cell_type": "code",
   "execution_count": 11,
   "metadata": {},
   "outputs": [
    {
     "name": "stdout",
     "output_type": "stream",
     "text": [
      "Zion Martinez\t(631) 472-4834\n",
      "Moriah Velez\t(201) 684-8134\n",
      "Jenna Peterson\t(355) 554-9561\n",
      "Ayaan Novak\t(812) 883-7304\n",
      "Elena Sosa\t(504) 478-1208\n",
      "Taniyah Lucas\t(949) 304-4647\n",
      "Maritza Ramos\t(295) 931-1193\n",
      "Maryjane Velazquez\t(409) 441-2612\n",
      "Oliver Cooper\t(917) 965-9749\n",
      "Max Bridges\t(665) 245-0683\n",
      "Craig Sutton\t(783) 281-6115\n",
      "Emilie Good\t(608) 628-4088\n",
      "Alexis Rowe\t(357) 540-2991\n",
      "Maxwell Rose\t(366) 809-5605\n",
      "Davin Carroll\t(508) 291-1622\n",
      "Riya Foster\t(461) 532-0795\n",
      "Kymani Pena\t(366) 683-3252\n",
      "Josie Lloyd\t(676) 509-5720\n",
      "Amy Fowler\t(630) 821-5787\n",
      "Zion Strickland\t(443) 372-0040\n",
      "Jermaine Roy\t(576) 876-2490\n",
      "Sasha Duncan\t(379) 596-5662\n",
      "Guillermo Pacheco\t(922) 634-5795\n",
      "Mohammad Tapia\t(969) 831-7093\n",
      "Samir Mcdonald\t(546) 420-0881\n",
      "Sidney Mcdaniel\t(783) 705-9254\n",
      "Cameron Terry\t(540) 878-9323\n",
      "Kyla Waters\t(319) 523-8400\n",
      "Paloma Tyler\t(709) 788-9820\n",
      "Carolyn Peck\t(878) 309-5141\n",
      "Aliana Murillo\t(681) 897-9813\n",
      "Harold Stark\t(995) 575-6794\n",
      "Tomas Acevedo\t(526) 889-3684\n",
      "Jayla Whitney\t(790) 295\n"
     ]
    }
   ],
   "source": [
    "with open('data/phone.txt', 'rb') as phone_file:\n",
    "    phone = phone_file.read().decode('utf-8')\n",
    "\n",
    "print(phone[0:1000])"
   ]
  },
  {
   "cell_type": "code",
   "execution_count": null,
   "metadata": {},
   "outputs": [],
   "source": []
  }
 ],
 "metadata": {
  "kernelspec": {
   "display_name": "Python 3 (ipykernel)",
   "language": "python",
   "name": "python3"
  },
  "language_info": {
   "codemirror_mode": {
    "name": "ipython",
    "version": 3
   },
   "file_extension": ".py",
   "mimetype": "text/x-python",
   "name": "python",
   "nbconvert_exporter": "python",
   "pygments_lexer": "ipython3",
   "version": "3.9.11"
  },
  "toc": {
   "base_numbering": 1,
   "nav_menu": {},
   "number_sections": true,
   "sideBar": true,
   "skip_h1_title": false,
   "title_cell": "Table of Contents",
   "title_sidebar": "Contents",
   "toc_cell": false,
   "toc_position": {},
   "toc_section_display": true,
   "toc_window_display": false
  },
  "vscode": {
   "interpreter": {
    "hash": "014f4a4a5af8f0104b12c029e500f4146d6d785e8cf714d2a35b7a9514230cd3"
   }
  }
 },
 "nbformat": 4,
 "nbformat_minor": 2
}
